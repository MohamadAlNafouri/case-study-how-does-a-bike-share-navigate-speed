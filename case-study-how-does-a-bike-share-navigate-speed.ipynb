{
 "cells": [
  {
   "cell_type": "markdown",
   "id": "ce96ceff",
   "metadata": {
    "papermill": {
     "duration": 0.013841,
     "end_time": "2022-09-02T22:39:01.721886",
     "exception": false,
     "start_time": "2022-09-02T22:39:01.708045",
     "status": "completed"
    },
    "tags": []
   },
   "source": [
    "# # **Case Study 1: How Does a Bike-Share Navigate Speedy Success?**\n",
    "\n",
    "Author: Masaya Sugimoto\n",
    "\n",
    "Date: 06/18/2021\n",
    "\n",
    "In this case study, I am going to follow \"The APPASA process\" (Ask - Prepare - Process - Analyze - Share - Act) to complete the assignment. "
   ]
  },
  {
   "cell_type": "markdown",
   "id": "a3986aeb",
   "metadata": {
    "papermill": {
     "duration": 0.012731,
     "end_time": "2022-09-02T22:39:01.746854",
     "exception": false,
     "start_time": "2022-09-02T22:39:01.734123",
     "status": "completed"
    },
    "tags": []
   },
   "source": [
    "# Background"
   ]
  },
  {
   "cell_type": "markdown",
   "id": "92246b5e",
   "metadata": {
    "papermill": {
     "duration": 0.011941,
     "end_time": "2022-09-02T22:39:01.771621",
     "exception": false,
     "start_time": "2022-09-02T22:39:01.759680",
     "status": "completed"
    },
    "tags": []
   },
   "source": [
    "**Scenario**\n",
    "\n",
    "I am a junior data analyst working in the marketing analyst team at Cyclistic, a bike-share company in Chicago. The director of marketing believes the company’s future success depends on maximizing the number of annual memberships. Therefore, my team wants to understand how casual riders and annual members use Cyclistic bikes differently. From these insights, my team will design a new marketing strategy to convert casual riders into annual members. \n",
    "\n",
    "**About the company**\n",
    "\n",
    "In 2016, Cyclistic launched a successful bike-share o\u0000ering. Since then, the program has grown to a fleet of 5,824 bicycles that are geotracked and locked into a network of 692 stations across Chicago. The bikes can be unlocked from one station and returned to any other station in the system anytime.\n",
    "Until now, Cyclistic’s marketing strategy relied on building general awareness and appealing to broad consumer segments. One approach that helped make these things possible was the flexibility of its pricing plans: single-ride passes, full-day passes, and annual memberships. Customers who purchase single-ride or full-day passes are referred to as casual riders. Customers who purchase annual memberships are Cyclistic members.\n",
    "Cyclistic’s finance analysts have concluded that annual members are much more profitable than casual riders. Although the pricing flexibility helps Cyclistic attract more customers, The director of marketing believes that maximizing the number of annual members will be key to future growth. Rather than creating a marketing campaign that targets all-new customers, she believes there is a very good chance to convert casual riders into members. She notes that casual riders are already aware of the Cyclistic program and have chosen Cyclistic for their mobility needs.\n"
   ]
  },
  {
   "cell_type": "markdown",
   "id": "4a10b5ba",
   "metadata": {
    "papermill": {
     "duration": 0.013114,
     "end_time": "2022-09-02T22:39:01.797016",
     "exception": false,
     "start_time": "2022-09-02T22:39:01.783902",
     "status": "completed"
    },
    "tags": []
   },
   "source": [
    "**The goal of this case study**\n",
    "\n",
    "Three questions will guide the future marketing program:\n",
    "1. How do annual members and casual riders use Cyclistic bikes differently?\n",
    "2. Why would casual riders buy Cyclistic annual memberships?\n",
    "3. How can Cyclistic use digital media to influence casual riders to become members?\n",
    "\n",
    "The director of marketing has assigned me the first question to answer: How do annual members and casual riders use Cyclistic bikes differently? \n",
    "\n",
    "In this assignment, I will produce a report with the following deliverables:\n",
    "1. A clear statement of the business task\n",
    "2. A description of all data sources used\n",
    "3. Documentation of any cleaning or manipulation of data\n",
    "4. A summary of my analysis\n",
    "5. Supporting visualizations and key findings"
   ]
  },
  {
   "cell_type": "markdown",
   "id": "fd6cf512",
   "metadata": {
    "papermill": {
     "duration": 0.012324,
     "end_time": "2022-09-02T22:39:01.821112",
     "exception": false,
     "start_time": "2022-09-02T22:39:01.808788",
     "status": "completed"
    },
    "tags": []
   },
   "source": [
    "# **Ask**"
   ]
  },
  {
   "cell_type": "markdown",
   "id": "ffab4c3a",
   "metadata": {
    "papermill": {
     "duration": 0.012077,
     "end_time": "2022-09-02T22:39:01.845774",
     "exception": false,
     "start_time": "2022-09-02T22:39:01.833697",
     "status": "completed"
    },
    "tags": []
   },
   "source": [
    "1. Business Task \n",
    "In order to maximize the number of annual membership, I, data analyst, will find trend and patterns among casual riders and membership riders, and identify potential riders who can get benefit from annual membership. I do not need to raise awareness of annual membership among casual riders as they are already aware of the program. \n",
    "\n",
    "2. Stakeholders\n",
    "- The director of marketing\n",
    "- The marketing analysis team\n",
    "- Cyclistic's Executive team\n",
    "\n",
    "3. Stakeholder's expectation\n",
    "Design marketing strategies aimed at converting casual riders into annual members. In order to do that, however, the marketing analyst team needs to better understand how annual members and casual riders differ, why casual riders would buy a membership, and how digital media could affect their marketing tactics. The marketing team is interested in analyzing the Cyclistic historical bike trip data to identify trends.\n"
   ]
  },
  {
   "cell_type": "markdown",
   "id": "9e9a8ff4",
   "metadata": {
    "papermill": {
     "duration": 0.012293,
     "end_time": "2022-09-02T22:39:01.870173",
     "exception": false,
     "start_time": "2022-09-02T22:39:01.857880",
     "status": "completed"
    },
    "tags": []
   },
   "source": [
    "# **Prepare**"
   ]
  },
  {
   "cell_type": "markdown",
   "id": "a1b4cc88",
   "metadata": {
    "papermill": {
     "duration": 0.011845,
     "end_time": "2022-09-02T22:39:01.894066",
     "exception": false,
     "start_time": "2022-09-02T22:39:01.882221",
     "status": "completed"
    },
    "tags": []
   },
   "source": [
    "1. DATA TYPE check\n",
    "2. ROOOC Check \n",
    "*     Sampling bias\n",
    "*     Observer bias\n",
    "*     Interpretation bias\n",
    "*     Confirmation bias"
   ]
  },
  {
   "cell_type": "markdown",
   "id": "c37174c4",
   "metadata": {
    "papermill": {
     "duration": 0.011144,
     "end_time": "2022-09-02T22:39:01.916813",
     "exception": false,
     "start_time": "2022-09-02T22:39:01.905669",
     "status": "completed"
    },
    "tags": []
   },
   "source": [
    "About the data set:\n",
    "\n",
    "Since Cyclistic is a fictional company, I will use Divvy’s, a bike-share program based in Chicago, data from May 2020 – April 2021 to complete this case study. To download the data, please use [this link](http://divvy-tripdata.s3.amazonaws.com/index.html). This data was made public by Motivate International Inc, under [this license](http://www.divvybikes.com/data-license-agreement). Due to data privacy issues, personal information has been removed or encrypted."
   ]
  },
  {
   "cell_type": "code",
   "execution_count": null,
   "id": "30e73fa9",
   "metadata": {
    "execution": {
     "iopub.execute_input": "2022-09-02T22:39:01.944468Z",
     "iopub.status.busy": "2022-09-02T22:39:01.941612Z",
     "iopub.status.idle": "2022-09-02T22:39:03.386213Z",
     "shell.execute_reply": "2022-09-02T22:39:03.384325Z"
    },
    "papermill": {
     "duration": 1.4606,
     "end_time": "2022-09-02T22:39:03.388720",
     "exception": false,
     "start_time": "2022-09-02T22:39:01.928120",
     "status": "completed"
    },
    "tags": [],
    "vscode": {
     "languageId": "r"
    }
   },
   "outputs": [
    {
     "name": "stderr",
     "output_type": "stream",
     "text": [
      "── \u001b[1mAttaching packages\u001b[22m ─────────────────────────────────────── tidyverse 1.3.1 ──\n",
      "\n",
      "\u001b[32m✔\u001b[39m \u001b[34mggplot2\u001b[39m 3.3.6     \u001b[32m✔\u001b[39m \u001b[34mpurrr  \u001b[39m 0.3.4\n",
      "\u001b[32m✔\u001b[39m \u001b[34mtibble \u001b[39m 3.1.7     \u001b[32m✔\u001b[39m \u001b[34mdplyr  \u001b[39m 1.0.9\n",
      "\u001b[32m✔\u001b[39m \u001b[34mtidyr  \u001b[39m 1.2.0     \u001b[32m✔\u001b[39m \u001b[34mstringr\u001b[39m 1.4.0\n",
      "\u001b[32m✔\u001b[39m \u001b[34mreadr  \u001b[39m 2.1.2     \u001b[32m✔\u001b[39m \u001b[34mforcats\u001b[39m 0.5.1\n",
      "\n",
      "── \u001b[1mConflicts\u001b[22m ────────────────────────────────────────── tidyverse_conflicts() ──\n",
      "\u001b[31m✖\u001b[39m \u001b[34mdplyr\u001b[39m::\u001b[32mfilter()\u001b[39m masks \u001b[34mstats\u001b[39m::filter()\n",
      "\u001b[31m✖\u001b[39m \u001b[34mdplyr\u001b[39m::\u001b[32mlag()\u001b[39m    masks \u001b[34mstats\u001b[39m::lag()\n",
      "\n",
      "\n",
      "Attaching package: ‘lubridate’\n",
      "\n",
      "\n",
      "The following objects are masked from ‘package:base’:\n",
      "\n",
      "    date, intersect, setdiff, union\n",
      "\n",
      "\n"
     ]
    }
   ],
   "source": [
    "library(tidyverse)  #helps wrangle data\n",
    "library(lubridate)  #helps wrangle date attributes\n",
    "library(ggplot2)  #helps visualize data\n",
    "library(dplyr) #helps clean data\n",
    "library(tidyr) #helps clean data"
   ]
  },
  {
   "cell_type": "code",
   "execution_count": 2,
   "id": "98791e66",
   "metadata": {
    "execution": {
     "iopub.execute_input": "2022-09-02T22:39:03.444443Z",
     "iopub.status.busy": "2022-09-02T22:39:03.413964Z",
     "iopub.status.idle": "2022-09-02T22:39:03.660692Z",
     "shell.execute_reply": "2022-09-02T22:39:03.658909Z"
    },
    "papermill": {
     "duration": 0.262626,
     "end_time": "2022-09-02T22:39:03.663214",
     "exception": false,
     "start_time": "2022-09-02T22:39:03.400588",
     "status": "completed"
    },
    "tags": [],
    "vscode": {
     "languageId": "r"
    }
   },
   "outputs": [],
   "source": [
    "library(geosphere)"
   ]
  },
  {
   "cell_type": "code",
   "execution_count": 3,
   "id": "04820804",
   "metadata": {
    "execution": {
     "iopub.execute_input": "2022-09-02T22:39:03.690752Z",
     "iopub.status.busy": "2022-09-02T22:39:03.688799Z",
     "iopub.status.idle": "2022-09-02T22:40:17.086064Z",
     "shell.execute_reply": "2022-09-02T22:40:17.084103Z"
    },
    "papermill": {
     "duration": 73.414086,
     "end_time": "2022-09-02T22:40:17.089122",
     "exception": false,
     "start_time": "2022-09-02T22:39:03.675036",
     "status": "completed"
    },
    "tags": [],
    "vscode": {
     "languageId": "r"
    }
   },
   "outputs": [],
   "source": [
    "# Read the trip data from 202005 - 202104 (12 months)\n",
    "tripdata_2020_05 <- read.csv(\"../input/tripsdata-202005202104/202005-divvy-tripdata.csv\")\n",
    "tripdata_2020_06 <- read.csv(\"../input/tripsdata-202005202104/202006-divvy-tripdata.csv\")\n",
    "tripdata_2020_07 <- read.csv(\"../input/tripsdata-202005202104/202007-divvy-tripdata.csv\")\n",
    "tripdata_2020_08 <- read.csv(\"../input/tripsdata-202005202104/202008-divvy-tripdata.csv\")\n",
    "tripdata_2020_09 <- read.csv(\"../input/tripsdata-202005202104/202009-divvy-tripdata.csv\")\n",
    "tripdata_2020_10 <- read.csv(\"../input/tripsdata-202005202104/202010-divvy-tripdata.csv\")\n",
    "tripdata_2020_11 <- read.csv(\"../input/tripsdata-202005202104/202011-divvy-tripdata.csv\")\n",
    "tripdata_2020_12 <- read.csv(\"../input/tripsdata-202005202104/202012-divvy-tripdata.csv\")\n",
    "tripdata_2021_01 <- read.csv(\"../input/tripsdata-202005202104/202101-divvy-tripdata.csv\")\n",
    "tripdata_2021_02 <- read.csv(\"../input/tripsdata-202005202104/202102-divvy-tripdata.csv\")\n",
    "tripdata_2021_03 <- read.csv(\"../input/tripsdata-202005202104/202103-divvy-tripdata.csv\")\n",
    "tripdata_2021_04 <- read.csv(\"../input/tripsdata-202005202104/202104-divvy-tripdata.csv\")"
   ]
  },
  {
   "cell_type": "code",
   "execution_count": 4,
   "id": "f5bc20d4",
   "metadata": {
    "execution": {
     "iopub.execute_input": "2022-09-02T22:40:17.120139Z",
     "iopub.status.busy": "2022-09-02T22:40:17.118465Z",
     "iopub.status.idle": "2022-09-02T22:40:17.205396Z",
     "shell.execute_reply": "2022-09-02T22:40:17.203396Z"
    },
    "papermill": {
     "duration": 0.104012,
     "end_time": "2022-09-02T22:40:17.207930",
     "exception": false,
     "start_time": "2022-09-02T22:40:17.103918",
     "status": "completed"
    },
    "tags": [],
    "vscode": {
     "languageId": "r"
    }
   },
   "outputs": [
    {
     "data": {
      "text/html": [
       "<style>\n",
       ".list-inline {list-style: none; margin:0; padding: 0}\n",
       ".list-inline>li {display: inline-block}\n",
       ".list-inline>li:not(:last-child)::after {content: \"\\00b7\"; padding: 0 .5ex}\n",
       "</style>\n",
       "<ol class=list-inline><li>'ride_id'</li><li>'rideable_type'</li><li>'started_at'</li><li>'ended_at'</li><li>'start_station_name'</li><li>'start_station_id'</li><li>'end_station_name'</li><li>'end_station_id'</li><li>'start_lat'</li><li>'start_lng'</li><li>'end_lat'</li><li>'end_lng'</li><li>'member_casual'</li></ol>\n"
      ],
      "text/latex": [
       "\\begin{enumerate*}\n",
       "\\item 'ride\\_id'\n",
       "\\item 'rideable\\_type'\n",
       "\\item 'started\\_at'\n",
       "\\item 'ended\\_at'\n",
       "\\item 'start\\_station\\_name'\n",
       "\\item 'start\\_station\\_id'\n",
       "\\item 'end\\_station\\_name'\n",
       "\\item 'end\\_station\\_id'\n",
       "\\item 'start\\_lat'\n",
       "\\item 'start\\_lng'\n",
       "\\item 'end\\_lat'\n",
       "\\item 'end\\_lng'\n",
       "\\item 'member\\_casual'\n",
       "\\end{enumerate*}\n"
      ],
      "text/markdown": [
       "1. 'ride_id'\n",
       "2. 'rideable_type'\n",
       "3. 'started_at'\n",
       "4. 'ended_at'\n",
       "5. 'start_station_name'\n",
       "6. 'start_station_id'\n",
       "7. 'end_station_name'\n",
       "8. 'end_station_id'\n",
       "9. 'start_lat'\n",
       "10. 'start_lng'\n",
       "11. 'end_lat'\n",
       "12. 'end_lng'\n",
       "13. 'member_casual'\n",
       "\n",
       "\n"
      ],
      "text/plain": [
       " [1] \"ride_id\"            \"rideable_type\"      \"started_at\"        \n",
       " [4] \"ended_at\"           \"start_station_name\" \"start_station_id\"  \n",
       " [7] \"end_station_name\"   \"end_station_id\"     \"start_lat\"         \n",
       "[10] \"start_lng\"          \"end_lat\"            \"end_lng\"           \n",
       "[13] \"member_casual\"     "
      ]
     },
     "metadata": {},
     "output_type": "display_data"
    },
    {
     "data": {
      "text/html": [
       "<style>\n",
       ".list-inline {list-style: none; margin:0; padding: 0}\n",
       ".list-inline>li {display: inline-block}\n",
       ".list-inline>li:not(:last-child)::after {content: \"\\00b7\"; padding: 0 .5ex}\n",
       "</style>\n",
       "<ol class=list-inline><li>'ride_id'</li><li>'rideable_type'</li><li>'started_at'</li><li>'ended_at'</li><li>'start_station_name'</li><li>'start_station_id'</li><li>'end_station_name'</li><li>'end_station_id'</li><li>'start_lat'</li><li>'start_lng'</li><li>'end_lat'</li><li>'end_lng'</li><li>'member_casual'</li></ol>\n"
      ],
      "text/latex": [
       "\\begin{enumerate*}\n",
       "\\item 'ride\\_id'\n",
       "\\item 'rideable\\_type'\n",
       "\\item 'started\\_at'\n",
       "\\item 'ended\\_at'\n",
       "\\item 'start\\_station\\_name'\n",
       "\\item 'start\\_station\\_id'\n",
       "\\item 'end\\_station\\_name'\n",
       "\\item 'end\\_station\\_id'\n",
       "\\item 'start\\_lat'\n",
       "\\item 'start\\_lng'\n",
       "\\item 'end\\_lat'\n",
       "\\item 'end\\_lng'\n",
       "\\item 'member\\_casual'\n",
       "\\end{enumerate*}\n"
      ],
      "text/markdown": [
       "1. 'ride_id'\n",
       "2. 'rideable_type'\n",
       "3. 'started_at'\n",
       "4. 'ended_at'\n",
       "5. 'start_station_name'\n",
       "6. 'start_station_id'\n",
       "7. 'end_station_name'\n",
       "8. 'end_station_id'\n",
       "9. 'start_lat'\n",
       "10. 'start_lng'\n",
       "11. 'end_lat'\n",
       "12. 'end_lng'\n",
       "13. 'member_casual'\n",
       "\n",
       "\n"
      ],
      "text/plain": [
       " [1] \"ride_id\"            \"rideable_type\"      \"started_at\"        \n",
       " [4] \"ended_at\"           \"start_station_name\" \"start_station_id\"  \n",
       " [7] \"end_station_name\"   \"end_station_id\"     \"start_lat\"         \n",
       "[10] \"start_lng\"          \"end_lat\"            \"end_lng\"           \n",
       "[13] \"member_casual\"     "
      ]
     },
     "metadata": {},
     "output_type": "display_data"
    },
    {
     "data": {
      "text/html": [
       "<style>\n",
       ".list-inline {list-style: none; margin:0; padding: 0}\n",
       ".list-inline>li {display: inline-block}\n",
       ".list-inline>li:not(:last-child)::after {content: \"\\00b7\"; padding: 0 .5ex}\n",
       "</style>\n",
       "<ol class=list-inline><li>'ride_id'</li><li>'rideable_type'</li><li>'started_at'</li><li>'ended_at'</li><li>'start_station_name'</li><li>'start_station_id'</li><li>'end_station_name'</li><li>'end_station_id'</li><li>'start_lat'</li><li>'start_lng'</li><li>'end_lat'</li><li>'end_lng'</li><li>'member_casual'</li></ol>\n"
      ],
      "text/latex": [
       "\\begin{enumerate*}\n",
       "\\item 'ride\\_id'\n",
       "\\item 'rideable\\_type'\n",
       "\\item 'started\\_at'\n",
       "\\item 'ended\\_at'\n",
       "\\item 'start\\_station\\_name'\n",
       "\\item 'start\\_station\\_id'\n",
       "\\item 'end\\_station\\_name'\n",
       "\\item 'end\\_station\\_id'\n",
       "\\item 'start\\_lat'\n",
       "\\item 'start\\_lng'\n",
       "\\item 'end\\_lat'\n",
       "\\item 'end\\_lng'\n",
       "\\item 'member\\_casual'\n",
       "\\end{enumerate*}\n"
      ],
      "text/markdown": [
       "1. 'ride_id'\n",
       "2. 'rideable_type'\n",
       "3. 'started_at'\n",
       "4. 'ended_at'\n",
       "5. 'start_station_name'\n",
       "6. 'start_station_id'\n",
       "7. 'end_station_name'\n",
       "8. 'end_station_id'\n",
       "9. 'start_lat'\n",
       "10. 'start_lng'\n",
       "11. 'end_lat'\n",
       "12. 'end_lng'\n",
       "13. 'member_casual'\n",
       "\n",
       "\n"
      ],
      "text/plain": [
       " [1] \"ride_id\"            \"rideable_type\"      \"started_at\"        \n",
       " [4] \"ended_at\"           \"start_station_name\" \"start_station_id\"  \n",
       " [7] \"end_station_name\"   \"end_station_id\"     \"start_lat\"         \n",
       "[10] \"start_lng\"          \"end_lat\"            \"end_lng\"           \n",
       "[13] \"member_casual\"     "
      ]
     },
     "metadata": {},
     "output_type": "display_data"
    },
    {
     "data": {
      "text/html": [
       "<style>\n",
       ".list-inline {list-style: none; margin:0; padding: 0}\n",
       ".list-inline>li {display: inline-block}\n",
       ".list-inline>li:not(:last-child)::after {content: \"\\00b7\"; padding: 0 .5ex}\n",
       "</style>\n",
       "<ol class=list-inline><li>'ride_id'</li><li>'rideable_type'</li><li>'started_at'</li><li>'ended_at'</li><li>'start_station_name'</li><li>'start_station_id'</li><li>'end_station_name'</li><li>'end_station_id'</li><li>'start_lat'</li><li>'start_lng'</li><li>'end_lat'</li><li>'end_lng'</li><li>'member_casual'</li></ol>\n"
      ],
      "text/latex": [
       "\\begin{enumerate*}\n",
       "\\item 'ride\\_id'\n",
       "\\item 'rideable\\_type'\n",
       "\\item 'started\\_at'\n",
       "\\item 'ended\\_at'\n",
       "\\item 'start\\_station\\_name'\n",
       "\\item 'start\\_station\\_id'\n",
       "\\item 'end\\_station\\_name'\n",
       "\\item 'end\\_station\\_id'\n",
       "\\item 'start\\_lat'\n",
       "\\item 'start\\_lng'\n",
       "\\item 'end\\_lat'\n",
       "\\item 'end\\_lng'\n",
       "\\item 'member\\_casual'\n",
       "\\end{enumerate*}\n"
      ],
      "text/markdown": [
       "1. 'ride_id'\n",
       "2. 'rideable_type'\n",
       "3. 'started_at'\n",
       "4. 'ended_at'\n",
       "5. 'start_station_name'\n",
       "6. 'start_station_id'\n",
       "7. 'end_station_name'\n",
       "8. 'end_station_id'\n",
       "9. 'start_lat'\n",
       "10. 'start_lng'\n",
       "11. 'end_lat'\n",
       "12. 'end_lng'\n",
       "13. 'member_casual'\n",
       "\n",
       "\n"
      ],
      "text/plain": [
       " [1] \"ride_id\"            \"rideable_type\"      \"started_at\"        \n",
       " [4] \"ended_at\"           \"start_station_name\" \"start_station_id\"  \n",
       " [7] \"end_station_name\"   \"end_station_id\"     \"start_lat\"         \n",
       "[10] \"start_lng\"          \"end_lat\"            \"end_lng\"           \n",
       "[13] \"member_casual\"     "
      ]
     },
     "metadata": {},
     "output_type": "display_data"
    },
    {
     "data": {
      "text/html": [
       "<style>\n",
       ".list-inline {list-style: none; margin:0; padding: 0}\n",
       ".list-inline>li {display: inline-block}\n",
       ".list-inline>li:not(:last-child)::after {content: \"\\00b7\"; padding: 0 .5ex}\n",
       "</style>\n",
       "<ol class=list-inline><li>'ride_id'</li><li>'rideable_type'</li><li>'started_at'</li><li>'ended_at'</li><li>'start_station_name'</li><li>'start_station_id'</li><li>'end_station_name'</li><li>'end_station_id'</li><li>'start_lat'</li><li>'start_lng'</li><li>'end_lat'</li><li>'end_lng'</li><li>'member_casual'</li></ol>\n"
      ],
      "text/latex": [
       "\\begin{enumerate*}\n",
       "\\item 'ride\\_id'\n",
       "\\item 'rideable\\_type'\n",
       "\\item 'started\\_at'\n",
       "\\item 'ended\\_at'\n",
       "\\item 'start\\_station\\_name'\n",
       "\\item 'start\\_station\\_id'\n",
       "\\item 'end\\_station\\_name'\n",
       "\\item 'end\\_station\\_id'\n",
       "\\item 'start\\_lat'\n",
       "\\item 'start\\_lng'\n",
       "\\item 'end\\_lat'\n",
       "\\item 'end\\_lng'\n",
       "\\item 'member\\_casual'\n",
       "\\end{enumerate*}\n"
      ],
      "text/markdown": [
       "1. 'ride_id'\n",
       "2. 'rideable_type'\n",
       "3. 'started_at'\n",
       "4. 'ended_at'\n",
       "5. 'start_station_name'\n",
       "6. 'start_station_id'\n",
       "7. 'end_station_name'\n",
       "8. 'end_station_id'\n",
       "9. 'start_lat'\n",
       "10. 'start_lng'\n",
       "11. 'end_lat'\n",
       "12. 'end_lng'\n",
       "13. 'member_casual'\n",
       "\n",
       "\n"
      ],
      "text/plain": [
       " [1] \"ride_id\"            \"rideable_type\"      \"started_at\"        \n",
       " [4] \"ended_at\"           \"start_station_name\" \"start_station_id\"  \n",
       " [7] \"end_station_name\"   \"end_station_id\"     \"start_lat\"         \n",
       "[10] \"start_lng\"          \"end_lat\"            \"end_lng\"           \n",
       "[13] \"member_casual\"     "
      ]
     },
     "metadata": {},
     "output_type": "display_data"
    },
    {
     "data": {
      "text/html": [
       "<style>\n",
       ".list-inline {list-style: none; margin:0; padding: 0}\n",
       ".list-inline>li {display: inline-block}\n",
       ".list-inline>li:not(:last-child)::after {content: \"\\00b7\"; padding: 0 .5ex}\n",
       "</style>\n",
       "<ol class=list-inline><li>'ride_id'</li><li>'rideable_type'</li><li>'started_at'</li><li>'ended_at'</li><li>'start_station_name'</li><li>'start_station_id'</li><li>'end_station_name'</li><li>'end_station_id'</li><li>'start_lat'</li><li>'start_lng'</li><li>'end_lat'</li><li>'end_lng'</li><li>'member_casual'</li></ol>\n"
      ],
      "text/latex": [
       "\\begin{enumerate*}\n",
       "\\item 'ride\\_id'\n",
       "\\item 'rideable\\_type'\n",
       "\\item 'started\\_at'\n",
       "\\item 'ended\\_at'\n",
       "\\item 'start\\_station\\_name'\n",
       "\\item 'start\\_station\\_id'\n",
       "\\item 'end\\_station\\_name'\n",
       "\\item 'end\\_station\\_id'\n",
       "\\item 'start\\_lat'\n",
       "\\item 'start\\_lng'\n",
       "\\item 'end\\_lat'\n",
       "\\item 'end\\_lng'\n",
       "\\item 'member\\_casual'\n",
       "\\end{enumerate*}\n"
      ],
      "text/markdown": [
       "1. 'ride_id'\n",
       "2. 'rideable_type'\n",
       "3. 'started_at'\n",
       "4. 'ended_at'\n",
       "5. 'start_station_name'\n",
       "6. 'start_station_id'\n",
       "7. 'end_station_name'\n",
       "8. 'end_station_id'\n",
       "9. 'start_lat'\n",
       "10. 'start_lng'\n",
       "11. 'end_lat'\n",
       "12. 'end_lng'\n",
       "13. 'member_casual'\n",
       "\n",
       "\n"
      ],
      "text/plain": [
       " [1] \"ride_id\"            \"rideable_type\"      \"started_at\"        \n",
       " [4] \"ended_at\"           \"start_station_name\" \"start_station_id\"  \n",
       " [7] \"end_station_name\"   \"end_station_id\"     \"start_lat\"         \n",
       "[10] \"start_lng\"          \"end_lat\"            \"end_lng\"           \n",
       "[13] \"member_casual\"     "
      ]
     },
     "metadata": {},
     "output_type": "display_data"
    },
    {
     "data": {
      "text/html": [
       "<style>\n",
       ".list-inline {list-style: none; margin:0; padding: 0}\n",
       ".list-inline>li {display: inline-block}\n",
       ".list-inline>li:not(:last-child)::after {content: \"\\00b7\"; padding: 0 .5ex}\n",
       "</style>\n",
       "<ol class=list-inline><li>'ride_id'</li><li>'rideable_type'</li><li>'started_at'</li><li>'ended_at'</li><li>'start_station_name'</li><li>'start_station_id'</li><li>'end_station_name'</li><li>'end_station_id'</li><li>'start_lat'</li><li>'start_lng'</li><li>'end_lat'</li><li>'end_lng'</li><li>'member_casual'</li></ol>\n"
      ],
      "text/latex": [
       "\\begin{enumerate*}\n",
       "\\item 'ride\\_id'\n",
       "\\item 'rideable\\_type'\n",
       "\\item 'started\\_at'\n",
       "\\item 'ended\\_at'\n",
       "\\item 'start\\_station\\_name'\n",
       "\\item 'start\\_station\\_id'\n",
       "\\item 'end\\_station\\_name'\n",
       "\\item 'end\\_station\\_id'\n",
       "\\item 'start\\_lat'\n",
       "\\item 'start\\_lng'\n",
       "\\item 'end\\_lat'\n",
       "\\item 'end\\_lng'\n",
       "\\item 'member\\_casual'\n",
       "\\end{enumerate*}\n"
      ],
      "text/markdown": [
       "1. 'ride_id'\n",
       "2. 'rideable_type'\n",
       "3. 'started_at'\n",
       "4. 'ended_at'\n",
       "5. 'start_station_name'\n",
       "6. 'start_station_id'\n",
       "7. 'end_station_name'\n",
       "8. 'end_station_id'\n",
       "9. 'start_lat'\n",
       "10. 'start_lng'\n",
       "11. 'end_lat'\n",
       "12. 'end_lng'\n",
       "13. 'member_casual'\n",
       "\n",
       "\n"
      ],
      "text/plain": [
       " [1] \"ride_id\"            \"rideable_type\"      \"started_at\"        \n",
       " [4] \"ended_at\"           \"start_station_name\" \"start_station_id\"  \n",
       " [7] \"end_station_name\"   \"end_station_id\"     \"start_lat\"         \n",
       "[10] \"start_lng\"          \"end_lat\"            \"end_lng\"           \n",
       "[13] \"member_casual\"     "
      ]
     },
     "metadata": {},
     "output_type": "display_data"
    },
    {
     "data": {
      "text/html": [
       "<style>\n",
       ".list-inline {list-style: none; margin:0; padding: 0}\n",
       ".list-inline>li {display: inline-block}\n",
       ".list-inline>li:not(:last-child)::after {content: \"\\00b7\"; padding: 0 .5ex}\n",
       "</style>\n",
       "<ol class=list-inline><li>'ride_id'</li><li>'rideable_type'</li><li>'started_at'</li><li>'ended_at'</li><li>'start_station_name'</li><li>'start_station_id'</li><li>'end_station_name'</li><li>'end_station_id'</li><li>'start_lat'</li><li>'start_lng'</li><li>'end_lat'</li><li>'end_lng'</li><li>'member_casual'</li></ol>\n"
      ],
      "text/latex": [
       "\\begin{enumerate*}\n",
       "\\item 'ride\\_id'\n",
       "\\item 'rideable\\_type'\n",
       "\\item 'started\\_at'\n",
       "\\item 'ended\\_at'\n",
       "\\item 'start\\_station\\_name'\n",
       "\\item 'start\\_station\\_id'\n",
       "\\item 'end\\_station\\_name'\n",
       "\\item 'end\\_station\\_id'\n",
       "\\item 'start\\_lat'\n",
       "\\item 'start\\_lng'\n",
       "\\item 'end\\_lat'\n",
       "\\item 'end\\_lng'\n",
       "\\item 'member\\_casual'\n",
       "\\end{enumerate*}\n"
      ],
      "text/markdown": [
       "1. 'ride_id'\n",
       "2. 'rideable_type'\n",
       "3. 'started_at'\n",
       "4. 'ended_at'\n",
       "5. 'start_station_name'\n",
       "6. 'start_station_id'\n",
       "7. 'end_station_name'\n",
       "8. 'end_station_id'\n",
       "9. 'start_lat'\n",
       "10. 'start_lng'\n",
       "11. 'end_lat'\n",
       "12. 'end_lng'\n",
       "13. 'member_casual'\n",
       "\n",
       "\n"
      ],
      "text/plain": [
       " [1] \"ride_id\"            \"rideable_type\"      \"started_at\"        \n",
       " [4] \"ended_at\"           \"start_station_name\" \"start_station_id\"  \n",
       " [7] \"end_station_name\"   \"end_station_id\"     \"start_lat\"         \n",
       "[10] \"start_lng\"          \"end_lat\"            \"end_lng\"           \n",
       "[13] \"member_casual\"     "
      ]
     },
     "metadata": {},
     "output_type": "display_data"
    },
    {
     "data": {
      "text/html": [
       "<style>\n",
       ".list-inline {list-style: none; margin:0; padding: 0}\n",
       ".list-inline>li {display: inline-block}\n",
       ".list-inline>li:not(:last-child)::after {content: \"\\00b7\"; padding: 0 .5ex}\n",
       "</style>\n",
       "<ol class=list-inline><li>'ride_id'</li><li>'rideable_type'</li><li>'started_at'</li><li>'ended_at'</li><li>'start_station_name'</li><li>'start_station_id'</li><li>'end_station_name'</li><li>'end_station_id'</li><li>'start_lat'</li><li>'start_lng'</li><li>'end_lat'</li><li>'end_lng'</li><li>'member_casual'</li></ol>\n"
      ],
      "text/latex": [
       "\\begin{enumerate*}\n",
       "\\item 'ride\\_id'\n",
       "\\item 'rideable\\_type'\n",
       "\\item 'started\\_at'\n",
       "\\item 'ended\\_at'\n",
       "\\item 'start\\_station\\_name'\n",
       "\\item 'start\\_station\\_id'\n",
       "\\item 'end\\_station\\_name'\n",
       "\\item 'end\\_station\\_id'\n",
       "\\item 'start\\_lat'\n",
       "\\item 'start\\_lng'\n",
       "\\item 'end\\_lat'\n",
       "\\item 'end\\_lng'\n",
       "\\item 'member\\_casual'\n",
       "\\end{enumerate*}\n"
      ],
      "text/markdown": [
       "1. 'ride_id'\n",
       "2. 'rideable_type'\n",
       "3. 'started_at'\n",
       "4. 'ended_at'\n",
       "5. 'start_station_name'\n",
       "6. 'start_station_id'\n",
       "7. 'end_station_name'\n",
       "8. 'end_station_id'\n",
       "9. 'start_lat'\n",
       "10. 'start_lng'\n",
       "11. 'end_lat'\n",
       "12. 'end_lng'\n",
       "13. 'member_casual'\n",
       "\n",
       "\n"
      ],
      "text/plain": [
       " [1] \"ride_id\"            \"rideable_type\"      \"started_at\"        \n",
       " [4] \"ended_at\"           \"start_station_name\" \"start_station_id\"  \n",
       " [7] \"end_station_name\"   \"end_station_id\"     \"start_lat\"         \n",
       "[10] \"start_lng\"          \"end_lat\"            \"end_lng\"           \n",
       "[13] \"member_casual\"     "
      ]
     },
     "metadata": {},
     "output_type": "display_data"
    },
    {
     "data": {
      "text/html": [
       "<style>\n",
       ".list-inline {list-style: none; margin:0; padding: 0}\n",
       ".list-inline>li {display: inline-block}\n",
       ".list-inline>li:not(:last-child)::after {content: \"\\00b7\"; padding: 0 .5ex}\n",
       "</style>\n",
       "<ol class=list-inline><li>'ride_id'</li><li>'rideable_type'</li><li>'started_at'</li><li>'ended_at'</li><li>'start_station_name'</li><li>'start_station_id'</li><li>'end_station_name'</li><li>'end_station_id'</li><li>'start_lat'</li><li>'start_lng'</li><li>'end_lat'</li><li>'end_lng'</li><li>'member_casual'</li></ol>\n"
      ],
      "text/latex": [
       "\\begin{enumerate*}\n",
       "\\item 'ride\\_id'\n",
       "\\item 'rideable\\_type'\n",
       "\\item 'started\\_at'\n",
       "\\item 'ended\\_at'\n",
       "\\item 'start\\_station\\_name'\n",
       "\\item 'start\\_station\\_id'\n",
       "\\item 'end\\_station\\_name'\n",
       "\\item 'end\\_station\\_id'\n",
       "\\item 'start\\_lat'\n",
       "\\item 'start\\_lng'\n",
       "\\item 'end\\_lat'\n",
       "\\item 'end\\_lng'\n",
       "\\item 'member\\_casual'\n",
       "\\end{enumerate*}\n"
      ],
      "text/markdown": [
       "1. 'ride_id'\n",
       "2. 'rideable_type'\n",
       "3. 'started_at'\n",
       "4. 'ended_at'\n",
       "5. 'start_station_name'\n",
       "6. 'start_station_id'\n",
       "7. 'end_station_name'\n",
       "8. 'end_station_id'\n",
       "9. 'start_lat'\n",
       "10. 'start_lng'\n",
       "11. 'end_lat'\n",
       "12. 'end_lng'\n",
       "13. 'member_casual'\n",
       "\n",
       "\n"
      ],
      "text/plain": [
       " [1] \"ride_id\"            \"rideable_type\"      \"started_at\"        \n",
       " [4] \"ended_at\"           \"start_station_name\" \"start_station_id\"  \n",
       " [7] \"end_station_name\"   \"end_station_id\"     \"start_lat\"         \n",
       "[10] \"start_lng\"          \"end_lat\"            \"end_lng\"           \n",
       "[13] \"member_casual\"     "
      ]
     },
     "metadata": {},
     "output_type": "display_data"
    },
    {
     "data": {
      "text/html": [
       "<style>\n",
       ".list-inline {list-style: none; margin:0; padding: 0}\n",
       ".list-inline>li {display: inline-block}\n",
       ".list-inline>li:not(:last-child)::after {content: \"\\00b7\"; padding: 0 .5ex}\n",
       "</style>\n",
       "<ol class=list-inline><li>'ride_id'</li><li>'rideable_type'</li><li>'started_at'</li><li>'ended_at'</li><li>'start_station_name'</li><li>'start_station_id'</li><li>'end_station_name'</li><li>'end_station_id'</li><li>'start_lat'</li><li>'start_lng'</li><li>'end_lat'</li><li>'end_lng'</li><li>'member_casual'</li></ol>\n"
      ],
      "text/latex": [
       "\\begin{enumerate*}\n",
       "\\item 'ride\\_id'\n",
       "\\item 'rideable\\_type'\n",
       "\\item 'started\\_at'\n",
       "\\item 'ended\\_at'\n",
       "\\item 'start\\_station\\_name'\n",
       "\\item 'start\\_station\\_id'\n",
       "\\item 'end\\_station\\_name'\n",
       "\\item 'end\\_station\\_id'\n",
       "\\item 'start\\_lat'\n",
       "\\item 'start\\_lng'\n",
       "\\item 'end\\_lat'\n",
       "\\item 'end\\_lng'\n",
       "\\item 'member\\_casual'\n",
       "\\end{enumerate*}\n"
      ],
      "text/markdown": [
       "1. 'ride_id'\n",
       "2. 'rideable_type'\n",
       "3. 'started_at'\n",
       "4. 'ended_at'\n",
       "5. 'start_station_name'\n",
       "6. 'start_station_id'\n",
       "7. 'end_station_name'\n",
       "8. 'end_station_id'\n",
       "9. 'start_lat'\n",
       "10. 'start_lng'\n",
       "11. 'end_lat'\n",
       "12. 'end_lng'\n",
       "13. 'member_casual'\n",
       "\n",
       "\n"
      ],
      "text/plain": [
       " [1] \"ride_id\"            \"rideable_type\"      \"started_at\"        \n",
       " [4] \"ended_at\"           \"start_station_name\" \"start_station_id\"  \n",
       " [7] \"end_station_name\"   \"end_station_id\"     \"start_lat\"         \n",
       "[10] \"start_lng\"          \"end_lat\"            \"end_lng\"           \n",
       "[13] \"member_casual\"     "
      ]
     },
     "metadata": {},
     "output_type": "display_data"
    },
    {
     "data": {
      "text/html": [
       "<style>\n",
       ".list-inline {list-style: none; margin:0; padding: 0}\n",
       ".list-inline>li {display: inline-block}\n",
       ".list-inline>li:not(:last-child)::after {content: \"\\00b7\"; padding: 0 .5ex}\n",
       "</style>\n",
       "<ol class=list-inline><li>'ride_id'</li><li>'rideable_type'</li><li>'started_at'</li><li>'ended_at'</li><li>'start_station_name'</li><li>'start_station_id'</li><li>'end_station_name'</li><li>'end_station_id'</li><li>'start_lat'</li><li>'start_lng'</li><li>'end_lat'</li><li>'end_lng'</li><li>'member_casual'</li></ol>\n"
      ],
      "text/latex": [
       "\\begin{enumerate*}\n",
       "\\item 'ride\\_id'\n",
       "\\item 'rideable\\_type'\n",
       "\\item 'started\\_at'\n",
       "\\item 'ended\\_at'\n",
       "\\item 'start\\_station\\_name'\n",
       "\\item 'start\\_station\\_id'\n",
       "\\item 'end\\_station\\_name'\n",
       "\\item 'end\\_station\\_id'\n",
       "\\item 'start\\_lat'\n",
       "\\item 'start\\_lng'\n",
       "\\item 'end\\_lat'\n",
       "\\item 'end\\_lng'\n",
       "\\item 'member\\_casual'\n",
       "\\end{enumerate*}\n"
      ],
      "text/markdown": [
       "1. 'ride_id'\n",
       "2. 'rideable_type'\n",
       "3. 'started_at'\n",
       "4. 'ended_at'\n",
       "5. 'start_station_name'\n",
       "6. 'start_station_id'\n",
       "7. 'end_station_name'\n",
       "8. 'end_station_id'\n",
       "9. 'start_lat'\n",
       "10. 'start_lng'\n",
       "11. 'end_lat'\n",
       "12. 'end_lng'\n",
       "13. 'member_casual'\n",
       "\n",
       "\n"
      ],
      "text/plain": [
       " [1] \"ride_id\"            \"rideable_type\"      \"started_at\"        \n",
       " [4] \"ended_at\"           \"start_station_name\" \"start_station_id\"  \n",
       " [7] \"end_station_name\"   \"end_station_id\"     \"start_lat\"         \n",
       "[10] \"start_lng\"          \"end_lat\"            \"end_lng\"           \n",
       "[13] \"member_casual\"     "
      ]
     },
     "metadata": {},
     "output_type": "display_data"
    }
   ],
   "source": []
  },
  {
   "cell_type": "code",
   "execution_count": null,
   "id": "6f879411",
   "metadata": {
    "vscode": {
     "languageId": "r"
    }
   },
   "outputs": [],
   "source": []
  },
  {
   "cell_type": "code",
   "execution_count": null,
   "id": "6e653991",
   "metadata": {
    "vscode": {
     "languageId": "r"
    }
   },
   "outputs": [],
   "source": [
    "#DATA CHECK \n",
    "colnames(tripdata_2020_05)\n",
    "colnames(tripdata_2020_06)\n",
    "colnames(tripdata_2020_07)\n",
    "colnames(tripdata_2020_08)\n",
    "colnames(tripdata_2020_09)\n",
    "colnames(tripdata_2020_10)\n",
    "colnames(tripdata_2020_11)\n",
    "colnames(tripdata_2020_12)\n",
    "colnames(tripdata_2021_01)\n",
    "colnames(tripdata_2021_02)\n",
    "colnames(tripdata_2021_03)\n",
    "colnames(tripdata_2021_04)\n",
    "# Confirmed none of column name should be changed"
   ]
  },
  {
   "cell_type": "markdown",
   "id": "75c02333",
   "metadata": {
    "papermill": {
     "duration": 0.014335,
     "end_time": "2022-09-02T22:40:17.236235",
     "exception": false,
     "start_time": "2022-09-02T22:40:17.221900",
     "status": "completed"
    },
    "tags": []
   },
   "source": []
  },
  {
   "cell_type": "code",
   "execution_count": 5,
   "id": "c166ea88",
   "metadata": {
    "execution": {
     "iopub.execute_input": "2022-09-02T22:40:17.267715Z",
     "iopub.status.busy": "2022-09-02T22:40:17.265792Z",
     "iopub.status.idle": "2022-09-02T22:40:18.723509Z",
     "shell.execute_reply": "2022-09-02T22:40:18.720334Z"
    },
    "papermill": {
     "duration": 1.476848,
     "end_time": "2022-09-02T22:40:18.726849",
     "exception": false,
     "start_time": "2022-09-02T22:40:17.250001",
     "status": "completed"
    },
    "tags": [],
    "vscode": {
     "languageId": "r"
    }
   },
   "outputs": [
    {
     "name": "stdout",
     "output_type": "stream",
     "text": [
      "'data.frame':\t200274 obs. of  13 variables:\n",
      " $ ride_id           : chr  \"02668AD35674B983\" \"7A50CCAF1EDDB28F\" \"2FFCDFDB91FE9A52\" \"58991CF1DB75BA84\" ...\n",
      " $ rideable_type     : chr  \"docked_bike\" \"docked_bike\" \"docked_bike\" \"docked_bike\" ...\n",
      " $ started_at        : chr  \"2020-05-27 10:03:52\" \"2020-05-25 10:47:11\" \"2020-05-02 14:11:03\" \"2020-05-02 16:25:36\" ...\n",
      " $ ended_at          : chr  \"2020-05-27 10:16:49\" \"2020-05-25 11:05:40\" \"2020-05-02 15:48:21\" \"2020-05-02 16:39:28\" ...\n",
      " $ start_station_name: chr  \"Franklin St & Jackson Blvd\" \"Clark St & Wrightwood Ave\" \"Kedzie Ave & Milwaukee Ave\" \"Clarendon Ave & Leland Ave\" ...\n",
      " $ start_station_id  : int  36 340 260 251 261 206 261 180 331 219 ...\n",
      " $ end_station_name  : chr  \"Wabash Ave & Grand Ave\" \"Clark St & Leland Ave\" \"Kedzie Ave & Milwaukee Ave\" \"Lake Shore Dr & Wellington Ave\" ...\n",
      " $ end_station_id    : int  199 326 260 157 206 22 261 180 300 305 ...\n",
      " $ start_lat         : num  41.9 41.9 41.9 42 41.9 ...\n",
      " $ start_lng         : num  -87.6 -87.6 -87.7 -87.7 -87.7 ...\n",
      " $ end_lat           : num  41.9 42 41.9 41.9 41.8 ...\n",
      " $ end_lng           : num  -87.6 -87.7 -87.7 -87.6 -87.6 ...\n",
      " $ member_casual     : chr  \"member\" \"casual\" \"casual\" \"casual\" ...\n",
      "'data.frame':\t343005 obs. of  13 variables:\n",
      " $ ride_id           : chr  \"8CD5DE2C2B6C4CFC\" \"9A191EB2C751D85D\" \"F37D14B0B5659BCF\" \"C41237B506E85FA1\" ...\n",
      " $ rideable_type     : chr  \"docked_bike\" \"docked_bike\" \"docked_bike\" \"docked_bike\" ...\n",
      " $ started_at        : chr  \"2020-06-13 23:24:48\" \"2020-06-26 07:26:10\" \"2020-06-23 17:12:41\" \"2020-06-20 01:09:35\" ...\n",
      " $ ended_at          : chr  \"2020-06-13 23:36:55\" \"2020-06-26 07:31:58\" \"2020-06-23 17:21:14\" \"2020-06-20 01:28:24\" ...\n",
      " $ start_station_name: chr  \"Wilton Ave & Belmont Ave\" \"Federal St & Polk St\" \"Daley Center Plaza\" \"Broadway & Cornelia Ave\" ...\n",
      " $ start_station_id  : int  117 41 81 303 327 327 41 115 338 84 ...\n",
      " $ end_station_name  : chr  \"Damen Ave & Clybourn Ave\" \"Daley Center Plaza\" \"State St & Harrison St\" \"Broadway & Berwyn Ave\" ...\n",
      " $ end_station_id    : int  163 81 5 294 117 117 81 303 164 53 ...\n",
      " $ start_lat         : num  41.9 41.9 41.9 41.9 41.9 ...\n",
      " $ start_lng         : num  -87.7 -87.6 -87.6 -87.6 -87.7 ...\n",
      " $ end_lat           : num  41.9 41.9 41.9 42 41.9 ...\n",
      " $ end_lng           : num  -87.7 -87.6 -87.6 -87.7 -87.7 ...\n",
      " $ member_casual     : chr  \"casual\" \"member\" \"member\" \"casual\" ...\n",
      "'data.frame':\t551480 obs. of  13 variables:\n",
      " $ ride_id           : chr  \"762198876D69004D\" \"BEC9C9FBA0D4CF1B\" \"D2FD8EA432C77EC1\" \"54AE594E20B35881\" ...\n",
      " $ rideable_type     : chr  \"docked_bike\" \"docked_bike\" \"docked_bike\" \"docked_bike\" ...\n",
      " $ started_at        : chr  \"2020-07-09 15:22:02\" \"2020-07-24 23:56:30\" \"2020-07-08 19:49:07\" \"2020-07-17 19:06:42\" ...\n",
      " $ ended_at          : chr  \"2020-07-09 15:25:52\" \"2020-07-25 00:20:17\" \"2020-07-08 19:56:22\" \"2020-07-17 19:27:38\" ...\n",
      " $ start_station_name: chr  \"Ritchie Ct & Banks St\" \"Halsted St & Roscoe St\" \"Lake Shore Dr & Diversey Pkwy\" \"LaSalle St & Illinois St\" ...\n",
      " $ start_station_id  : int  180 299 329 181 268 635 113 211 176 31 ...\n",
      " $ end_station_name  : chr  \"Wells St & Evergreen Ave\" \"Broadway & Ridge Ave\" \"Clark St & Wellington Ave\" \"Clark St & Armitage Ave\" ...\n",
      " $ end_station_id    : int  291 461 156 94 301 289 140 31 191 142 ...\n",
      " $ start_lat         : num  41.9 41.9 41.9 41.9 41.9 ...\n",
      " $ start_lng         : num  -87.6 -87.6 -87.6 -87.6 -87.6 ...\n",
      " $ end_lat           : num  41.9 42 41.9 41.9 41.9 ...\n",
      " $ end_lng           : num  -87.6 -87.7 -87.6 -87.6 -87.6 ...\n",
      " $ member_casual     : chr  \"member\" \"member\" \"casual\" \"casual\" ...\n",
      "'data.frame':\t622361 obs. of  13 variables:\n",
      " $ ride_id           : chr  \"322BD23D287743ED\" \"2A3AEF1AB9054D8B\" \"67DC1D133E8B5816\" \"C79FBBD412E578A7\" ...\n",
      " $ rideable_type     : chr  \"docked_bike\" \"electric_bike\" \"electric_bike\" \"electric_bike\" ...\n",
      " $ started_at        : chr  \"2020-08-20 18:08:14\" \"2020-08-27 18:46:04\" \"2020-08-26 19:44:14\" \"2020-08-27 12:05:41\" ...\n",
      " $ ended_at          : chr  \"2020-08-20 18:17:51\" \"2020-08-27 19:54:51\" \"2020-08-26 21:53:07\" \"2020-08-27 12:53:45\" ...\n",
      " $ start_station_name: chr  \"Lake Shore Dr & Diversey Pkwy\" \"Michigan Ave & 14th St\" \"Columbus Dr & Randolph St\" \"Daley Center Plaza\" ...\n",
      " $ start_station_id  : int  329 168 195 81 658 658 196 67 153 177 ...\n",
      " $ end_station_name  : chr  \"Clark St & Lincoln Ave\" \"Michigan Ave & 14th St\" \"State St & Randolph St\" \"State St & Kinzie St\" ...\n",
      " $ end_station_id    : int  141 168 44 47 658 658 49 229 225 305 ...\n",
      " $ start_lat         : num  41.9 41.9 41.9 41.9 41.9 ...\n",
      " $ start_lng         : num  -87.6 -87.6 -87.6 -87.6 -87.7 ...\n",
      " $ end_lat           : num  41.9 41.9 41.9 41.9 41.9 ...\n",
      " $ end_lng           : num  -87.6 -87.6 -87.6 -87.6 -87.7 ...\n",
      " $ member_casual     : chr  \"member\" \"casual\" \"casual\" \"casual\" ...\n",
      "'data.frame':\t532958 obs. of  13 variables:\n",
      " $ ride_id           : chr  \"2B22BD5F95FB2629\" \"A7FB70B4AFC6CAF2\" \"86057FA01BAC778E\" \"57F6DC9A153DB98C\" ...\n",
      " $ rideable_type     : chr  \"electric_bike\" \"electric_bike\" \"electric_bike\" \"electric_bike\" ...\n",
      " $ started_at        : chr  \"2020-09-17 14:27:11\" \"2020-09-17 15:07:31\" \"2020-09-17 15:09:04\" \"2020-09-17 18:10:46\" ...\n",
      " $ ended_at          : chr  \"2020-09-17 14:44:24\" \"2020-09-17 15:07:45\" \"2020-09-17 15:09:35\" \"2020-09-17 18:35:49\" ...\n",
      " $ start_station_name: chr  \"Michigan Ave & Lake St\" \"W Oakdale Ave & N Broadway\" \"W Oakdale Ave & N Broadway\" \"Ashland Ave & Belle Plaine Ave\" ...\n",
      " $ start_station_id  : int  52 NA NA 246 24 94 291 NA NA NA ...\n",
      " $ end_station_name  : chr  \"Green St & Randolph St\" \"W Oakdale Ave & N Broadway\" \"W Oakdale Ave & N Broadway\" \"Montrose Harbor\" ...\n",
      " $ end_station_id    : int  112 NA NA 249 24 NA 256 NA NA NA ...\n",
      " $ start_lat         : num  41.9 41.9 41.9 42 41.9 ...\n",
      " $ start_lng         : num  -87.6 -87.6 -87.6 -87.7 -87.6 ...\n",
      " $ end_lat           : num  41.9 41.9 41.9 42 41.9 ...\n",
      " $ end_lng           : num  -87.6 -87.6 -87.6 -87.6 -87.6 ...\n",
      " $ member_casual     : chr  \"casual\" \"casual\" \"casual\" \"casual\" ...\n",
      "'data.frame':\t388653 obs. of  13 variables:\n",
      " $ ride_id           : chr  \"ACB6B40CF5B9044C\" \"DF450C72FD109C01\" \"B6396B54A15AC0DF\" \"44A4AEE261B9E854\" ...\n",
      " $ rideable_type     : chr  \"electric_bike\" \"electric_bike\" \"electric_bike\" \"electric_bike\" ...\n",
      " $ started_at        : chr  \"2020-10-31 19:39:43\" \"2020-10-31 23:50:08\" \"2020-10-31 23:00:01\" \"2020-10-31 22:16:43\" ...\n",
      " $ ended_at          : chr  \"2020-10-31 19:57:12\" \"2020-11-01 00:04:16\" \"2020-10-31 23:08:22\" \"2020-10-31 22:19:35\" ...\n",
      " $ start_station_name: chr  \"Lakeview Ave & Fullerton Pkwy\" \"Southport Ave & Waveland Ave\" \"Stony Island Ave & 67th St\" \"Clark St & Grace St\" ...\n",
      " $ start_station_id  : int  313 227 102 165 190 359 313 125 NA 174 ...\n",
      " $ end_station_name  : chr  \"Rush St & Hubbard St\" \"Kedzie Ave & Milwaukee Ave\" \"University Ave & 57th St\" \"Broadway & Sheridan Rd\" ...\n",
      " $ end_station_id    : int  125 260 423 256 185 53 125 313 199 635 ...\n",
      " $ start_lat         : num  41.9 41.9 41.8 42 41.9 ...\n",
      " $ start_lng         : num  -87.6 -87.7 -87.6 -87.7 -87.7 ...\n",
      " $ end_lat           : num  41.9 41.9 41.8 42 41.9 ...\n",
      " $ end_lng           : num  -87.6 -87.7 -87.6 -87.7 -87.7 ...\n",
      " $ member_casual     : chr  \"casual\" \"casual\" \"casual\" \"casual\" ...\n",
      "'data.frame':\t259716 obs. of  13 variables:\n",
      " $ ride_id           : chr  \"BD0A6FF6FFF9B921\" \"96A7A7A4BDE4F82D\" \"C61526D06582BDC5\" \"E533E89C32080B9E\" ...\n",
      " $ rideable_type     : chr  \"electric_bike\" \"electric_bike\" \"electric_bike\" \"electric_bike\" ...\n",
      " $ started_at        : chr  \"2020-11-01 13:36:00\" \"2020-11-01 10:03:26\" \"2020-11-01 00:34:05\" \"2020-11-01 00:45:16\" ...\n",
      " $ ended_at          : chr  \"2020-11-01 13:45:40\" \"2020-11-01 10:14:45\" \"2020-11-01 01:03:06\" \"2020-11-01 00:54:31\" ...\n",
      " $ start_station_name: chr  \"Dearborn St & Erie St\" \"Franklin St & Illinois St\" \"Lake Shore Dr & Monroe St\" \"Leavitt St & Chicago Ave\" ...\n",
      " $ start_station_id  : int  110 672 76 659 2 72 76 NA 58 394 ...\n",
      " $ end_station_name  : chr  \"St. Clair St & Erie St\" \"Noble St & Milwaukee Ave\" \"Federal St & Polk St\" \"Stave St & Armitage Ave\" ...\n",
      " $ end_station_id    : int  211 29 41 185 2 76 72 NA 288 273 ...\n",
      " $ start_lat         : num  41.9 41.9 41.9 41.9 41.9 ...\n",
      " $ start_lng         : num  -87.6 -87.6 -87.6 -87.7 -87.6 ...\n",
      " $ end_lat           : num  41.9 41.9 41.9 41.9 41.9 ...\n",
      " $ end_lng           : num  -87.6 -87.7 -87.6 -87.7 -87.6 ...\n",
      " $ member_casual     : chr  \"casual\" \"casual\" \"casual\" \"casual\" ...\n",
      "'data.frame':\t131573 obs. of  13 variables:\n",
      " $ ride_id           : chr  \"70B6A9A437D4C30D\" \"158A465D4E74C54A\" \"5262016E0F1F2F9A\" \"BE119628E44F871E\" ...\n",
      " $ rideable_type     : chr  \"classic_bike\" \"electric_bike\" \"electric_bike\" \"electric_bike\" ...\n",
      " $ started_at        : chr  \"2020-12-27 12:44:29\" \"2020-12-18 17:37:15\" \"2020-12-15 15:04:33\" \"2020-12-15 15:54:18\" ...\n",
      " $ ended_at          : chr  \"2020-12-27 12:55:06\" \"2020-12-18 17:44:19\" \"2020-12-15 15:11:28\" \"2020-12-15 16:00:11\" ...\n",
      " $ start_station_name: chr  \"Aberdeen St & Jackson Blvd\" \"\" \"\" \"\" ...\n",
      " $ start_station_id  : chr  \"13157\" \"\" \"\" \"\" ...\n",
      " $ end_station_name  : chr  \"Desplaines St & Kinzie St\" \"\" \"\" \"\" ...\n",
      " $ end_station_id    : chr  \"TA1306000003\" \"\" \"\" \"\" ...\n",
      " $ start_lat         : num  41.9 41.9 41.9 41.9 41.8 ...\n",
      " $ start_lng         : num  -87.7 -87.7 -87.7 -87.7 -87.6 ...\n",
      " $ end_lat           : num  41.9 41.9 41.9 41.9 41.8 ...\n",
      " $ end_lng           : num  -87.6 -87.7 -87.7 -87.7 -87.6 ...\n",
      " $ member_casual     : chr  \"member\" \"member\" \"member\" \"member\" ...\n",
      "'data.frame':\t96834 obs. of  13 variables:\n",
      " $ ride_id           : chr  \"E19E6F1B8D4C42ED\" \"DC88F20C2C55F27F\" \"EC45C94683FE3F27\" \"4FA453A75AE377DB\" ...\n",
      " $ rideable_type     : chr  \"electric_bike\" \"electric_bike\" \"electric_bike\" \"electric_bike\" ...\n",
      " $ started_at        : chr  \"2021-01-23 16:14:19\" \"2021-01-27 18:43:08\" \"2021-01-21 22:35:54\" \"2021-01-07 13:31:13\" ...\n",
      " $ ended_at          : chr  \"2021-01-23 16:24:44\" \"2021-01-27 18:47:12\" \"2021-01-21 22:37:14\" \"2021-01-07 13:42:55\" ...\n",
      " $ start_station_name: chr  \"California Ave & Cortez St\" \"California Ave & Cortez St\" \"California Ave & Cortez St\" \"California Ave & Cortez St\" ...\n",
      " $ start_station_id  : chr  \"17660\" \"17660\" \"17660\" \"17660\" ...\n",
      " $ end_station_name  : chr  \"\" \"\" \"\" \"\" ...\n",
      " $ end_station_id    : chr  \"\" \"\" \"\" \"\" ...\n",
      " $ start_lat         : num  41.9 41.9 41.9 41.9 41.9 ...\n",
      " $ start_lng         : num  -87.7 -87.7 -87.7 -87.7 -87.7 ...\n",
      " $ end_lat           : num  41.9 41.9 41.9 41.9 41.9 ...\n",
      " $ end_lng           : num  -87.7 -87.7 -87.7 -87.7 -87.7 ...\n",
      " $ member_casual     : chr  \"member\" \"member\" \"member\" \"member\" ...\n",
      "'data.frame':\t49622 obs. of  13 variables:\n",
      " $ ride_id           : chr  \"89E7AA6C29227EFF\" \"0FEFDE2603568365\" \"E6159D746B2DBB91\" \"B32D3199F1C2E75B\" ...\n",
      " $ rideable_type     : chr  \"classic_bike\" \"classic_bike\" \"electric_bike\" \"classic_bike\" ...\n",
      " $ started_at        : chr  \"2021-02-12 16:14:56\" \"2021-02-14 17:52:38\" \"2021-02-09 19:10:18\" \"2021-02-02 17:49:41\" ...\n",
      " $ ended_at          : chr  \"2021-02-12 16:21:43\" \"2021-02-14 18:12:09\" \"2021-02-09 19:19:10\" \"2021-02-02 17:54:06\" ...\n",
      " $ start_station_name: chr  \"Glenwood Ave & Touhy Ave\" \"Glenwood Ave & Touhy Ave\" \"Clark St & Lake St\" \"Wood St & Chicago Ave\" ...\n",
      " $ start_station_id  : chr  \"525\" \"525\" \"KA1503000012\" \"637\" ...\n",
      " $ end_station_name  : chr  \"Sheridan Rd & Columbia Ave\" \"Bosworth Ave & Howard St\" \"State St & Randolph St\" \"Honore St & Division St\" ...\n",
      " $ end_station_id    : chr  \"660\" \"16806\" \"TA1305000029\" \"TA1305000034\" ...\n",
      " $ start_lat         : num  42 42 41.9 41.9 41.8 ...\n",
      " $ start_lng         : num  -87.7 -87.7 -87.6 -87.7 -87.6 ...\n",
      " $ end_lat           : num  42 42 41.9 41.9 41.8 ...\n",
      " $ end_lng           : num  -87.7 -87.7 -87.6 -87.7 -87.6 ...\n",
      " $ member_casual     : chr  \"member\" \"casual\" \"member\" \"member\" ...\n",
      "'data.frame':\t228496 obs. of  13 variables:\n",
      " $ ride_id           : chr  \"CFA86D4455AA1030\" \"30D9DC61227D1AF3\" \"846D87A15682A284\" \"994D05AA75A168F2\" ...\n",
      " $ rideable_type     : chr  \"classic_bike\" \"classic_bike\" \"classic_bike\" \"classic_bike\" ...\n",
      " $ started_at        : chr  \"2021-03-16 08:32:30\" \"2021-03-28 01:26:28\" \"2021-03-11 21:17:29\" \"2021-03-11 13:26:42\" ...\n",
      " $ ended_at          : chr  \"2021-03-16 08:36:34\" \"2021-03-28 01:36:55\" \"2021-03-11 21:33:53\" \"2021-03-11 13:55:41\" ...\n",
      " $ start_station_name: chr  \"Humboldt Blvd & Armitage Ave\" \"Humboldt Blvd & Armitage Ave\" \"Shields Ave & 28th Pl\" \"Winthrop Ave & Lawrence Ave\" ...\n",
      " $ start_station_id  : chr  \"15651\" \"15651\" \"15443\" \"TA1308000021\" ...\n",
      " $ end_station_name  : chr  \"Stave St & Armitage Ave\" \"Central Park Ave & Bloomingdale Ave\" \"Halsted St & 35th St\" \"Broadway & Sheridan Rd\" ...\n",
      " $ end_station_id    : chr  \"13266\" \"18017\" \"TA1308000043\" \"13323\" ...\n",
      " $ start_lat         : num  41.9 41.9 41.8 42 42 ...\n",
      " $ start_lng         : num  -87.7 -87.7 -87.6 -87.7 -87.7 ...\n",
      " $ end_lat           : num  41.9 41.9 41.8 42 42.1 ...\n",
      " $ end_lng           : num  -87.7 -87.7 -87.6 -87.6 -87.7 ...\n",
      " $ member_casual     : chr  \"casual\" \"casual\" \"casual\" \"casual\" ...\n",
      "'data.frame':\t337230 obs. of  13 variables:\n",
      " $ ride_id           : chr  \"6C992BD37A98A63F\" \"1E0145613A209000\" \"E498E15508A80BAD\" \"1887262AD101C604\" ...\n",
      " $ rideable_type     : chr  \"classic_bike\" \"docked_bike\" \"docked_bike\" \"classic_bike\" ...\n",
      " $ started_at        : chr  \"2021-04-12 18:25:36\" \"2021-04-27 17:27:11\" \"2021-04-03 12:42:45\" \"2021-04-17 09:17:42\" ...\n",
      " $ ended_at          : chr  \"2021-04-12 18:56:55\" \"2021-04-27 18:31:29\" \"2021-04-07 11:40:24\" \"2021-04-17 09:42:48\" ...\n",
      " $ start_station_name: chr  \"State St & Pearson St\" \"Dorchester Ave & 49th St\" \"Loomis Blvd & 84th St\" \"Honore St & Division St\" ...\n",
      " $ start_station_id  : chr  \"TA1307000061\" \"KA1503000069\" \"20121\" \"TA1305000034\" ...\n",
      " $ end_station_name  : chr  \"Southport Ave & Waveland Ave\" \"Dorchester Ave & 49th St\" \"Loomis Blvd & 84th St\" \"Southport Ave & Waveland Ave\" ...\n",
      " $ end_station_id    : chr  \"13235\" \"KA1503000069\" \"20121\" \"13235\" ...\n",
      " $ start_lat         : num  41.9 41.8 41.7 41.9 41.7 ...\n",
      " $ start_lng         : num  -87.6 -87.6 -87.7 -87.7 -87.7 ...\n",
      " $ end_lat           : num  41.9 41.8 41.7 41.9 41.7 ...\n",
      " $ end_lng           : num  -87.7 -87.6 -87.7 -87.7 -87.7 ...\n",
      " $ member_casual     : chr  \"member\" \"casual\" \"casual\" \"member\" ...\n"
     ]
    }
   ],
   "source": [
    "#DATA CHECK \n",
    "str(tripdata_2020_05)\n",
    "str(tripdata_2020_06)\n",
    "str(tripdata_2020_07)\n",
    "str(tripdata_2020_08)\n",
    "str(tripdata_2020_09)\n",
    "str(tripdata_2020_10)\n",
    "str(tripdata_2020_11)\n",
    "str(tripdata_2020_12)\n",
    "str(tripdata_2021_01)\n",
    "str(tripdata_2021_02)\n",
    "str(tripdata_2021_03)\n",
    "str(tripdata_2021_04)\n",
    "# Confirmed "
   ]
  },
  {
   "cell_type": "code",
   "execution_count": 6,
   "id": "8af75cdf",
   "metadata": {
    "execution": {
     "iopub.execute_input": "2022-09-02T22:40:18.761914Z",
     "iopub.status.busy": "2022-09-02T22:40:18.759732Z",
     "iopub.status.idle": "2022-09-02T22:40:18.816224Z",
     "shell.execute_reply": "2022-09-02T22:40:18.814105Z"
    },
    "papermill": {
     "duration": 0.076664,
     "end_time": "2022-09-02T22:40:18.818791",
     "exception": false,
     "start_time": "2022-09-02T22:40:18.742127",
     "status": "completed"
    },
    "tags": [],
    "vscode": {
     "languageId": "r"
    }
   },
   "outputs": [],
   "source": [
    "#Covert some data types (from Double to Character) to merge\n",
    "tripdata_2020_05 <-  mutate(tripdata_2020_05, start_station_id = as.character(start_station_id), end_station_id = as.character(end_station_id))\n",
    "tripdata_2020_06 <-  mutate(tripdata_2020_06, start_station_id = as.character(start_station_id), end_station_id = as.character(end_station_id))\n",
    "tripdata_2020_07 <-  mutate(tripdata_2020_07, start_station_id = as.character(start_station_id), end_station_id = as.character(end_station_id))\n",
    "tripdata_2020_08 <-  mutate(tripdata_2020_08, start_station_id = as.character(start_station_id), end_station_id = as.character(end_station_id))\n",
    "tripdata_2020_09 <-  mutate(tripdata_2020_09, start_station_id = as.character(start_station_id), end_station_id = as.character(end_station_id))\n",
    "tripdata_2020_10 <-  mutate(tripdata_2020_10, start_station_id = as.character(start_station_id), end_station_id = as.character(end_station_id))\n",
    "tripdata_2020_11 <-  mutate(tripdata_2020_11, start_station_id = as.character(start_station_id), end_station_id = as.character(end_station_id))\n"
   ]
  },
  {
   "cell_type": "code",
   "execution_count": 7,
   "id": "545a611c",
   "metadata": {
    "execution": {
     "iopub.execute_input": "2022-09-02T22:40:18.851767Z",
     "iopub.status.busy": "2022-09-02T22:40:18.849642Z",
     "iopub.status.idle": "2022-09-02T22:40:28.789731Z",
     "shell.execute_reply": "2022-09-02T22:40:28.787770Z"
    },
    "papermill": {
     "duration": 9.95878,
     "end_time": "2022-09-02T22:40:28.792116",
     "exception": false,
     "start_time": "2022-09-02T22:40:18.833336",
     "status": "completed"
    },
    "tags": [],
    "vscode": {
     "languageId": "r"
    }
   },
   "outputs": [],
   "source": [
    "#Combine all the data sets\n",
    "all_trips <- bind_rows(tripdata_2020_05, tripdata_2020_06, tripdata_2020_07, tripdata_2020_08, tripdata_2020_09, tripdata_2020_10, tripdata_2020_11, tripdata_2020_12, tripdata_2021_01, tripdata_2021_02, tripdata_2021_03, tripdata_2021_04)\n"
   ]
  },
  {
   "cell_type": "markdown",
   "id": "7e3dd450",
   "metadata": {
    "papermill": {
     "duration": 0.015077,
     "end_time": "2022-09-02T22:40:28.822322",
     "exception": false,
     "start_time": "2022-09-02T22:40:28.807245",
     "status": "completed"
    },
    "tags": []
   },
   "source": [
    "# **Process**\n",
    "Data Cleaning before conducting analysis"
   ]
  },
  {
   "cell_type": "markdown",
   "id": "8d35d6fd",
   "metadata": {
    "papermill": {
     "duration": 0.015402,
     "end_time": "2022-09-02T22:40:28.852224",
     "exception": false,
     "start_time": "2022-09-02T22:40:28.836822",
     "status": "completed"
    },
    "tags": []
   },
   "source": [
    "Due to the large data set, I will use R for data cleaning and data analysis. "
   ]
  },
  {
   "cell_type": "code",
   "execution_count": 8,
   "id": "02c71144",
   "metadata": {
    "execution": {
     "iopub.execute_input": "2022-09-02T22:40:28.884826Z",
     "iopub.status.busy": "2022-09-02T22:40:28.883180Z",
     "iopub.status.idle": "2022-09-02T22:40:28.899800Z",
     "shell.execute_reply": "2022-09-02T22:40:28.898016Z"
    },
    "papermill": {
     "duration": 0.035327,
     "end_time": "2022-09-02T22:40:28.902162",
     "exception": false,
     "start_time": "2022-09-02T22:40:28.866835",
     "status": "completed"
    },
    "tags": [],
    "vscode": {
     "languageId": "r"
    }
   },
   "outputs": [
    {
     "data": {
      "text/html": [
       "<style>\n",
       ".list-inline {list-style: none; margin:0; padding: 0}\n",
       ".list-inline>li {display: inline-block}\n",
       ".list-inline>li:not(:last-child)::after {content: \"\\00b7\"; padding: 0 .5ex}\n",
       "</style>\n",
       "<ol class=list-inline><li>'ride_id'</li><li>'rideable_type'</li><li>'started_at'</li><li>'ended_at'</li><li>'start_station_name'</li><li>'start_station_id'</li><li>'end_station_name'</li><li>'end_station_id'</li><li>'start_lat'</li><li>'start_lng'</li><li>'end_lat'</li><li>'end_lng'</li><li>'member_casual'</li></ol>\n"
      ],
      "text/latex": [
       "\\begin{enumerate*}\n",
       "\\item 'ride\\_id'\n",
       "\\item 'rideable\\_type'\n",
       "\\item 'started\\_at'\n",
       "\\item 'ended\\_at'\n",
       "\\item 'start\\_station\\_name'\n",
       "\\item 'start\\_station\\_id'\n",
       "\\item 'end\\_station\\_name'\n",
       "\\item 'end\\_station\\_id'\n",
       "\\item 'start\\_lat'\n",
       "\\item 'start\\_lng'\n",
       "\\item 'end\\_lat'\n",
       "\\item 'end\\_lng'\n",
       "\\item 'member\\_casual'\n",
       "\\end{enumerate*}\n"
      ],
      "text/markdown": [
       "1. 'ride_id'\n",
       "2. 'rideable_type'\n",
       "3. 'started_at'\n",
       "4. 'ended_at'\n",
       "5. 'start_station_name'\n",
       "6. 'start_station_id'\n",
       "7. 'end_station_name'\n",
       "8. 'end_station_id'\n",
       "9. 'start_lat'\n",
       "10. 'start_lng'\n",
       "11. 'end_lat'\n",
       "12. 'end_lng'\n",
       "13. 'member_casual'\n",
       "\n",
       "\n"
      ],
      "text/plain": [
       " [1] \"ride_id\"            \"rideable_type\"      \"started_at\"        \n",
       " [4] \"ended_at\"           \"start_station_name\" \"start_station_id\"  \n",
       " [7] \"end_station_name\"   \"end_station_id\"     \"start_lat\"         \n",
       "[10] \"start_lng\"          \"end_lat\"            \"end_lng\"           \n",
       "[13] \"member_casual\"     "
      ]
     },
     "metadata": {},
     "output_type": "display_data"
    }
   ],
   "source": [
    "colnames(all_trips)  #List of column names"
   ]
  },
  {
   "cell_type": "code",
   "execution_count": 9,
   "id": "557b0eb9",
   "metadata": {
    "execution": {
     "iopub.execute_input": "2022-09-02T22:40:28.935442Z",
     "iopub.status.busy": "2022-09-02T22:40:28.933908Z",
     "iopub.status.idle": "2022-09-02T22:40:28.950162Z",
     "shell.execute_reply": "2022-09-02T22:40:28.948465Z"
    },
    "papermill": {
     "duration": 0.035494,
     "end_time": "2022-09-02T22:40:28.952537",
     "exception": false,
     "start_time": "2022-09-02T22:40:28.917043",
     "status": "completed"
    },
    "tags": [],
    "vscode": {
     "languageId": "r"
    }
   },
   "outputs": [
    {
     "data": {
      "text/html": [
       "3742202"
      ],
      "text/latex": [
       "3742202"
      ],
      "text/markdown": [
       "3742202"
      ],
      "text/plain": [
       "[1] 3742202"
      ]
     },
     "metadata": {},
     "output_type": "display_data"
    }
   ],
   "source": [
    "nrow(all_trips)  #How many rows are in data frame?"
   ]
  },
  {
   "cell_type": "code",
   "execution_count": 10,
   "id": "d11ded4f",
   "metadata": {
    "execution": {
     "iopub.execute_input": "2022-09-02T22:40:28.986377Z",
     "iopub.status.busy": "2022-09-02T22:40:28.984884Z",
     "iopub.status.idle": "2022-09-02T22:40:29.001276Z",
     "shell.execute_reply": "2022-09-02T22:40:28.999293Z"
    },
    "papermill": {
     "duration": 0.035849,
     "end_time": "2022-09-02T22:40:29.003755",
     "exception": false,
     "start_time": "2022-09-02T22:40:28.967906",
     "status": "completed"
    },
    "tags": [],
    "vscode": {
     "languageId": "r"
    }
   },
   "outputs": [
    {
     "data": {
      "text/html": [
       "<style>\n",
       ".list-inline {list-style: none; margin:0; padding: 0}\n",
       ".list-inline>li {display: inline-block}\n",
       ".list-inline>li:not(:last-child)::after {content: \"\\00b7\"; padding: 0 .5ex}\n",
       "</style>\n",
       "<ol class=list-inline><li>3742202</li><li>13</li></ol>\n"
      ],
      "text/latex": [
       "\\begin{enumerate*}\n",
       "\\item 3742202\n",
       "\\item 13\n",
       "\\end{enumerate*}\n"
      ],
      "text/markdown": [
       "1. 3742202\n",
       "2. 13\n",
       "\n",
       "\n"
      ],
      "text/plain": [
       "[1] 3742202      13"
      ]
     },
     "metadata": {},
     "output_type": "display_data"
    }
   ],
   "source": [
    "dim(all_trips)  #Dimensions of the data frame? "
   ]
  },
  {
   "cell_type": "code",
   "execution_count": 11,
   "id": "a3353cd5",
   "metadata": {
    "execution": {
     "iopub.execute_input": "2022-09-02T22:40:29.037934Z",
     "iopub.status.busy": "2022-09-02T22:40:29.036377Z",
     "iopub.status.idle": "2022-09-02T22:40:29.069793Z",
     "shell.execute_reply": "2022-09-02T22:40:29.067471Z"
    },
    "papermill": {
     "duration": 0.054102,
     "end_time": "2022-09-02T22:40:29.072927",
     "exception": false,
     "start_time": "2022-09-02T22:40:29.018825",
     "status": "completed"
    },
    "tags": [],
    "vscode": {
     "languageId": "r"
    }
   },
   "outputs": [
    {
     "data": {
      "text/html": [
       "<table class=\"dataframe\">\n",
       "<caption>A data.frame: 6 × 13</caption>\n",
       "<thead>\n",
       "\t<tr><th></th><th scope=col>ride_id</th><th scope=col>rideable_type</th><th scope=col>started_at</th><th scope=col>ended_at</th><th scope=col>start_station_name</th><th scope=col>start_station_id</th><th scope=col>end_station_name</th><th scope=col>end_station_id</th><th scope=col>start_lat</th><th scope=col>start_lng</th><th scope=col>end_lat</th><th scope=col>end_lng</th><th scope=col>member_casual</th></tr>\n",
       "\t<tr><th></th><th scope=col>&lt;chr&gt;</th><th scope=col>&lt;chr&gt;</th><th scope=col>&lt;chr&gt;</th><th scope=col>&lt;chr&gt;</th><th scope=col>&lt;chr&gt;</th><th scope=col>&lt;chr&gt;</th><th scope=col>&lt;chr&gt;</th><th scope=col>&lt;chr&gt;</th><th scope=col>&lt;dbl&gt;</th><th scope=col>&lt;dbl&gt;</th><th scope=col>&lt;dbl&gt;</th><th scope=col>&lt;dbl&gt;</th><th scope=col>&lt;chr&gt;</th></tr>\n",
       "</thead>\n",
       "<tbody>\n",
       "\t<tr><th scope=row>1</th><td>02668AD35674B983</td><td>docked_bike</td><td>2020-05-27 10:03:52</td><td>2020-05-27 10:16:49</td><td>Franklin St &amp; Jackson Blvd</td><td>36 </td><td><span style=white-space:pre-wrap>Wabash Ave &amp; Grand Ave        </span></td><td>199</td><td>41.8777</td><td>-87.6353</td><td>41.8915</td><td>-87.6268</td><td>member</td></tr>\n",
       "\t<tr><th scope=row>2</th><td>7A50CCAF1EDDB28F</td><td>docked_bike</td><td>2020-05-25 10:47:11</td><td>2020-05-25 11:05:40</td><td>Clark St &amp; Wrightwood Ave </td><td>340</td><td><span style=white-space:pre-wrap>Clark St &amp; Leland Ave         </span></td><td>326</td><td>41.9295</td><td>-87.6431</td><td>41.9671</td><td>-87.6674</td><td>casual</td></tr>\n",
       "\t<tr><th scope=row>3</th><td>2FFCDFDB91FE9A52</td><td>docked_bike</td><td>2020-05-02 14:11:03</td><td>2020-05-02 15:48:21</td><td>Kedzie Ave &amp; Milwaukee Ave</td><td>260</td><td><span style=white-space:pre-wrap>Kedzie Ave &amp; Milwaukee Ave    </span></td><td>260</td><td>41.9296</td><td>-87.7079</td><td>41.9296</td><td>-87.7079</td><td>casual</td></tr>\n",
       "\t<tr><th scope=row>4</th><td>58991CF1DB75BA84</td><td>docked_bike</td><td>2020-05-02 16:25:36</td><td>2020-05-02 16:39:28</td><td>Clarendon Ave &amp; Leland Ave</td><td>251</td><td>Lake Shore Dr &amp; Wellington Ave</td><td>157</td><td>41.9680</td><td>-87.6500</td><td>41.9367</td><td>-87.6368</td><td>casual</td></tr>\n",
       "\t<tr><th scope=row>5</th><td>A79651EFECC268CD</td><td>docked_bike</td><td>2020-05-29 12:49:54</td><td>2020-05-29 13:27:11</td><td><span style=white-space:pre-wrap>Hermitage Ave &amp; Polk St   </span></td><td>261</td><td><span style=white-space:pre-wrap>Halsted St &amp; Archer Ave       </span></td><td>206</td><td>41.8715</td><td>-87.6699</td><td>41.8472</td><td>-87.6468</td><td>member</td></tr>\n",
       "\t<tr><th scope=row>6</th><td>1466C5B39F68F746</td><td>docked_bike</td><td>2020-05-29 13:27:24</td><td>2020-05-29 14:14:45</td><td><span style=white-space:pre-wrap>Halsted St &amp; Archer Ave   </span></td><td>206</td><td><span style=white-space:pre-wrap>May St &amp; Taylor St            </span></td><td>22 </td><td>41.8472</td><td>-87.6468</td><td>41.8695</td><td>-87.6555</td><td>member</td></tr>\n",
       "</tbody>\n",
       "</table>\n"
      ],
      "text/latex": [
       "A data.frame: 6 × 13\n",
       "\\begin{tabular}{r|lllllllllllll}\n",
       "  & ride\\_id & rideable\\_type & started\\_at & ended\\_at & start\\_station\\_name & start\\_station\\_id & end\\_station\\_name & end\\_station\\_id & start\\_lat & start\\_lng & end\\_lat & end\\_lng & member\\_casual\\\\\n",
       "  & <chr> & <chr> & <chr> & <chr> & <chr> & <chr> & <chr> & <chr> & <dbl> & <dbl> & <dbl> & <dbl> & <chr>\\\\\n",
       "\\hline\n",
       "\t1 & 02668AD35674B983 & docked\\_bike & 2020-05-27 10:03:52 & 2020-05-27 10:16:49 & Franklin St \\& Jackson Blvd & 36  & Wabash Ave \\& Grand Ave         & 199 & 41.8777 & -87.6353 & 41.8915 & -87.6268 & member\\\\\n",
       "\t2 & 7A50CCAF1EDDB28F & docked\\_bike & 2020-05-25 10:47:11 & 2020-05-25 11:05:40 & Clark St \\& Wrightwood Ave  & 340 & Clark St \\& Leland Ave          & 326 & 41.9295 & -87.6431 & 41.9671 & -87.6674 & casual\\\\\n",
       "\t3 & 2FFCDFDB91FE9A52 & docked\\_bike & 2020-05-02 14:11:03 & 2020-05-02 15:48:21 & Kedzie Ave \\& Milwaukee Ave & 260 & Kedzie Ave \\& Milwaukee Ave     & 260 & 41.9296 & -87.7079 & 41.9296 & -87.7079 & casual\\\\\n",
       "\t4 & 58991CF1DB75BA84 & docked\\_bike & 2020-05-02 16:25:36 & 2020-05-02 16:39:28 & Clarendon Ave \\& Leland Ave & 251 & Lake Shore Dr \\& Wellington Ave & 157 & 41.9680 & -87.6500 & 41.9367 & -87.6368 & casual\\\\\n",
       "\t5 & A79651EFECC268CD & docked\\_bike & 2020-05-29 12:49:54 & 2020-05-29 13:27:11 & Hermitage Ave \\& Polk St    & 261 & Halsted St \\& Archer Ave        & 206 & 41.8715 & -87.6699 & 41.8472 & -87.6468 & member\\\\\n",
       "\t6 & 1466C5B39F68F746 & docked\\_bike & 2020-05-29 13:27:24 & 2020-05-29 14:14:45 & Halsted St \\& Archer Ave    & 206 & May St \\& Taylor St             & 22  & 41.8472 & -87.6468 & 41.8695 & -87.6555 & member\\\\\n",
       "\\end{tabular}\n"
      ],
      "text/markdown": [
       "\n",
       "A data.frame: 6 × 13\n",
       "\n",
       "| <!--/--> | ride_id &lt;chr&gt; | rideable_type &lt;chr&gt; | started_at &lt;chr&gt; | ended_at &lt;chr&gt; | start_station_name &lt;chr&gt; | start_station_id &lt;chr&gt; | end_station_name &lt;chr&gt; | end_station_id &lt;chr&gt; | start_lat &lt;dbl&gt; | start_lng &lt;dbl&gt; | end_lat &lt;dbl&gt; | end_lng &lt;dbl&gt; | member_casual &lt;chr&gt; |\n",
       "|---|---|---|---|---|---|---|---|---|---|---|---|---|---|\n",
       "| 1 | 02668AD35674B983 | docked_bike | 2020-05-27 10:03:52 | 2020-05-27 10:16:49 | Franklin St &amp; Jackson Blvd | 36  | Wabash Ave &amp; Grand Ave         | 199 | 41.8777 | -87.6353 | 41.8915 | -87.6268 | member |\n",
       "| 2 | 7A50CCAF1EDDB28F | docked_bike | 2020-05-25 10:47:11 | 2020-05-25 11:05:40 | Clark St &amp; Wrightwood Ave  | 340 | Clark St &amp; Leland Ave          | 326 | 41.9295 | -87.6431 | 41.9671 | -87.6674 | casual |\n",
       "| 3 | 2FFCDFDB91FE9A52 | docked_bike | 2020-05-02 14:11:03 | 2020-05-02 15:48:21 | Kedzie Ave &amp; Milwaukee Ave | 260 | Kedzie Ave &amp; Milwaukee Ave     | 260 | 41.9296 | -87.7079 | 41.9296 | -87.7079 | casual |\n",
       "| 4 | 58991CF1DB75BA84 | docked_bike | 2020-05-02 16:25:36 | 2020-05-02 16:39:28 | Clarendon Ave &amp; Leland Ave | 251 | Lake Shore Dr &amp; Wellington Ave | 157 | 41.9680 | -87.6500 | 41.9367 | -87.6368 | casual |\n",
       "| 5 | A79651EFECC268CD | docked_bike | 2020-05-29 12:49:54 | 2020-05-29 13:27:11 | Hermitage Ave &amp; Polk St    | 261 | Halsted St &amp; Archer Ave        | 206 | 41.8715 | -87.6699 | 41.8472 | -87.6468 | member |\n",
       "| 6 | 1466C5B39F68F746 | docked_bike | 2020-05-29 13:27:24 | 2020-05-29 14:14:45 | Halsted St &amp; Archer Ave    | 206 | May St &amp; Taylor St             | 22  | 41.8472 | -87.6468 | 41.8695 | -87.6555 | member |\n",
       "\n"
      ],
      "text/plain": [
       "  ride_id          rideable_type started_at          ended_at           \n",
       "1 02668AD35674B983 docked_bike   2020-05-27 10:03:52 2020-05-27 10:16:49\n",
       "2 7A50CCAF1EDDB28F docked_bike   2020-05-25 10:47:11 2020-05-25 11:05:40\n",
       "3 2FFCDFDB91FE9A52 docked_bike   2020-05-02 14:11:03 2020-05-02 15:48:21\n",
       "4 58991CF1DB75BA84 docked_bike   2020-05-02 16:25:36 2020-05-02 16:39:28\n",
       "5 A79651EFECC268CD docked_bike   2020-05-29 12:49:54 2020-05-29 13:27:11\n",
       "6 1466C5B39F68F746 docked_bike   2020-05-29 13:27:24 2020-05-29 14:14:45\n",
       "  start_station_name         start_station_id end_station_name              \n",
       "1 Franklin St & Jackson Blvd 36               Wabash Ave & Grand Ave        \n",
       "2 Clark St & Wrightwood Ave  340              Clark St & Leland Ave         \n",
       "3 Kedzie Ave & Milwaukee Ave 260              Kedzie Ave & Milwaukee Ave    \n",
       "4 Clarendon Ave & Leland Ave 251              Lake Shore Dr & Wellington Ave\n",
       "5 Hermitage Ave & Polk St    261              Halsted St & Archer Ave       \n",
       "6 Halsted St & Archer Ave    206              May St & Taylor St            \n",
       "  end_station_id start_lat start_lng end_lat end_lng  member_casual\n",
       "1 199            41.8777   -87.6353  41.8915 -87.6268 member       \n",
       "2 326            41.9295   -87.6431  41.9671 -87.6674 casual       \n",
       "3 260            41.9296   -87.7079  41.9296 -87.7079 casual       \n",
       "4 157            41.9680   -87.6500  41.9367 -87.6368 casual       \n",
       "5 206            41.8715   -87.6699  41.8472 -87.6468 member       \n",
       "6 22             41.8472   -87.6468  41.8695 -87.6555 member       "
      ]
     },
     "metadata": {},
     "output_type": "display_data"
    }
   ],
   "source": [
    "head(all_trips)  #See the first 6 rows of data frame.  "
   ]
  },
  {
   "cell_type": "code",
   "execution_count": 12,
   "id": "8362278e",
   "metadata": {
    "execution": {
     "iopub.execute_input": "2022-09-02T22:40:29.107433Z",
     "iopub.status.busy": "2022-09-02T22:40:29.105870Z",
     "iopub.status.idle": "2022-09-02T22:40:29.143226Z",
     "shell.execute_reply": "2022-09-02T22:40:29.140128Z"
    },
    "papermill": {
     "duration": 0.057519,
     "end_time": "2022-09-02T22:40:29.146102",
     "exception": false,
     "start_time": "2022-09-02T22:40:29.088583",
     "status": "completed"
    },
    "tags": [],
    "vscode": {
     "languageId": "r"
    }
   },
   "outputs": [
    {
     "name": "stdout",
     "output_type": "stream",
     "text": [
      "'data.frame':\t3742202 obs. of  13 variables:\n",
      " $ ride_id           : chr  \"02668AD35674B983\" \"7A50CCAF1EDDB28F\" \"2FFCDFDB91FE9A52\" \"58991CF1DB75BA84\" ...\n",
      " $ rideable_type     : chr  \"docked_bike\" \"docked_bike\" \"docked_bike\" \"docked_bike\" ...\n",
      " $ started_at        : chr  \"2020-05-27 10:03:52\" \"2020-05-25 10:47:11\" \"2020-05-02 14:11:03\" \"2020-05-02 16:25:36\" ...\n",
      " $ ended_at          : chr  \"2020-05-27 10:16:49\" \"2020-05-25 11:05:40\" \"2020-05-02 15:48:21\" \"2020-05-02 16:39:28\" ...\n",
      " $ start_station_name: chr  \"Franklin St & Jackson Blvd\" \"Clark St & Wrightwood Ave\" \"Kedzie Ave & Milwaukee Ave\" \"Clarendon Ave & Leland Ave\" ...\n",
      " $ start_station_id  : chr  \"36\" \"340\" \"260\" \"251\" ...\n",
      " $ end_station_name  : chr  \"Wabash Ave & Grand Ave\" \"Clark St & Leland Ave\" \"Kedzie Ave & Milwaukee Ave\" \"Lake Shore Dr & Wellington Ave\" ...\n",
      " $ end_station_id    : chr  \"199\" \"326\" \"260\" \"157\" ...\n",
      " $ start_lat         : num  41.9 41.9 41.9 42 41.9 ...\n",
      " $ start_lng         : num  -87.6 -87.6 -87.7 -87.7 -87.7 ...\n",
      " $ end_lat           : num  41.9 42 41.9 41.9 41.8 ...\n",
      " $ end_lng           : num  -87.6 -87.7 -87.7 -87.6 -87.6 ...\n",
      " $ member_casual     : chr  \"member\" \"casual\" \"casual\" \"casual\" ...\n"
     ]
    }
   ],
   "source": [
    "str(all_trips)  #See list of columns and data types (numeric, character, etc)\n",
    "# You can also confirm each columns' data type here"
   ]
  },
  {
   "cell_type": "code",
   "execution_count": 13,
   "id": "aad2c1d1",
   "metadata": {
    "execution": {
     "iopub.execute_input": "2022-09-02T22:40:29.180722Z",
     "iopub.status.busy": "2022-09-02T22:40:29.179138Z",
     "iopub.status.idle": "2022-09-02T22:40:35.495622Z",
     "shell.execute_reply": "2022-09-02T22:40:35.493915Z"
    },
    "papermill": {
     "duration": 6.336746,
     "end_time": "2022-09-02T22:40:35.498243",
     "exception": false,
     "start_time": "2022-09-02T22:40:29.161497",
     "status": "completed"
    },
    "tags": [],
    "vscode": {
     "languageId": "r"
    }
   },
   "outputs": [
    {
     "data": {
      "text/plain": [
       "   ride_id          rideable_type       started_at          ended_at        \n",
       " Length:3742202     Length:3742202     Length:3742202     Length:3742202    \n",
       " Class :character   Class :character   Class :character   Class :character  \n",
       " Mode  :character   Mode  :character   Mode  :character   Mode  :character  \n",
       "                                                                            \n",
       "                                                                            \n",
       "                                                                            \n",
       "                                                                            \n",
       " start_station_name start_station_id   end_station_name   end_station_id    \n",
       " Length:3742202     Length:3742202     Length:3742202     Length:3742202    \n",
       " Class :character   Class :character   Class :character   Class :character  \n",
       " Mode  :character   Mode  :character   Mode  :character   Mode  :character  \n",
       "                                                                            \n",
       "                                                                            \n",
       "                                                                            \n",
       "                                                                            \n",
       "   start_lat       start_lng         end_lat         end_lng      \n",
       " Min.   :41.64   Min.   :-87.87   Min.   :41.54   Min.   :-88.07  \n",
       " 1st Qu.:41.88   1st Qu.:-87.66   1st Qu.:41.88   1st Qu.:-87.66  \n",
       " Median :41.90   Median :-87.64   Median :41.90   Median :-87.64  \n",
       " Mean   :41.90   Mean   :-87.64   Mean   :41.90   Mean   :-87.64  \n",
       " 3rd Qu.:41.93   3rd Qu.:-87.63   3rd Qu.:41.93   3rd Qu.:-87.63  \n",
       " Max.   :42.08   Max.   :-87.52   Max.   :42.16   Max.   :-87.44  \n",
       "                                  NA's   :4906    NA's   :4906    \n",
       " member_casual     \n",
       " Length:3742202    \n",
       " Class :character  \n",
       " Mode  :character  \n",
       "                   \n",
       "                   \n",
       "                   \n",
       "                   "
      ]
     },
     "metadata": {},
     "output_type": "display_data"
    }
   ],
   "source": [
    "summary(all_trips)  #Statistical summary of data. Mainly for numerics\n",
    "#Confirmed there are 5006 NA columns in end_lat and end_lat"
   ]
  },
  {
   "cell_type": "code",
   "execution_count": 14,
   "id": "23144ed8",
   "metadata": {
    "execution": {
     "iopub.execute_input": "2022-09-02T22:40:35.534059Z",
     "iopub.status.busy": "2022-09-02T22:40:35.532576Z",
     "iopub.status.idle": "2022-09-02T22:40:50.847958Z",
     "shell.execute_reply": "2022-09-02T22:40:50.845946Z"
    },
    "papermill": {
     "duration": 15.336846,
     "end_time": "2022-09-02T22:40:50.851013",
     "exception": false,
     "start_time": "2022-09-02T22:40:35.514167",
     "status": "completed"
    },
    "tags": [],
    "vscode": {
     "languageId": "r"
    }
   },
   "outputs": [],
   "source": [
    "# Add columns that list the date, month, day, and year of each ride as we might need to aggregate ride data for each month, day, or year.\n",
    "all_trips$date <- as.Date(all_trips$started_at) #The default format is yyyy-mm-dd\n",
    "all_trips$month <- format(as.Date(all_trips$date), \"%m\")\n",
    "all_trips$day <- format(as.Date(all_trips$date), \"%d\")\n",
    "all_trips$year <- format(as.Date(all_trips$date), \"%Y\")\n",
    "all_trips$day_of_week <- format(as.Date(all_trips$date), \"%A\")"
   ]
  },
  {
   "cell_type": "code",
   "execution_count": 15,
   "id": "016f9515",
   "metadata": {
    "execution": {
     "iopub.execute_input": "2022-09-02T22:40:50.887941Z",
     "iopub.status.busy": "2022-09-02T22:40:50.886233Z",
     "iopub.status.idle": "2022-09-02T22:40:50.905922Z",
     "shell.execute_reply": "2022-09-02T22:40:50.903987Z"
    },
    "papermill": {
     "duration": 0.040265,
     "end_time": "2022-09-02T22:40:50.908525",
     "exception": false,
     "start_time": "2022-09-02T22:40:50.868260",
     "status": "completed"
    },
    "tags": [],
    "vscode": {
     "languageId": "r"
    }
   },
   "outputs": [
    {
     "data": {
      "text/html": [
       "<style>\n",
       ".list-inline {list-style: none; margin:0; padding: 0}\n",
       ".list-inline>li {display: inline-block}\n",
       ".list-inline>li:not(:last-child)::after {content: \"\\00b7\"; padding: 0 .5ex}\n",
       "</style>\n",
       "<ol class=list-inline><li>'ride_id'</li><li>'rideable_type'</li><li>'started_at'</li><li>'ended_at'</li><li>'start_station_name'</li><li>'start_station_id'</li><li>'end_station_name'</li><li>'end_station_id'</li><li>'start_lat'</li><li>'start_lng'</li><li>'end_lat'</li><li>'end_lng'</li><li>'member_casual'</li><li>'date'</li><li>'month'</li><li>'day'</li><li>'year'</li><li>'day_of_week'</li></ol>\n"
      ],
      "text/latex": [
       "\\begin{enumerate*}\n",
       "\\item 'ride\\_id'\n",
       "\\item 'rideable\\_type'\n",
       "\\item 'started\\_at'\n",
       "\\item 'ended\\_at'\n",
       "\\item 'start\\_station\\_name'\n",
       "\\item 'start\\_station\\_id'\n",
       "\\item 'end\\_station\\_name'\n",
       "\\item 'end\\_station\\_id'\n",
       "\\item 'start\\_lat'\n",
       "\\item 'start\\_lng'\n",
       "\\item 'end\\_lat'\n",
       "\\item 'end\\_lng'\n",
       "\\item 'member\\_casual'\n",
       "\\item 'date'\n",
       "\\item 'month'\n",
       "\\item 'day'\n",
       "\\item 'year'\n",
       "\\item 'day\\_of\\_week'\n",
       "\\end{enumerate*}\n"
      ],
      "text/markdown": [
       "1. 'ride_id'\n",
       "2. 'rideable_type'\n",
       "3. 'started_at'\n",
       "4. 'ended_at'\n",
       "5. 'start_station_name'\n",
       "6. 'start_station_id'\n",
       "7. 'end_station_name'\n",
       "8. 'end_station_id'\n",
       "9. 'start_lat'\n",
       "10. 'start_lng'\n",
       "11. 'end_lat'\n",
       "12. 'end_lng'\n",
       "13. 'member_casual'\n",
       "14. 'date'\n",
       "15. 'month'\n",
       "16. 'day'\n",
       "17. 'year'\n",
       "18. 'day_of_week'\n",
       "\n",
       "\n"
      ],
      "text/plain": [
       " [1] \"ride_id\"            \"rideable_type\"      \"started_at\"        \n",
       " [4] \"ended_at\"           \"start_station_name\" \"start_station_id\"  \n",
       " [7] \"end_station_name\"   \"end_station_id\"     \"start_lat\"         \n",
       "[10] \"start_lng\"          \"end_lat\"            \"end_lng\"           \n",
       "[13] \"member_casual\"      \"date\"               \"month\"             \n",
       "[16] \"day\"                \"year\"               \"day_of_week\"       "
      ]
     },
     "metadata": {},
     "output_type": "display_data"
    }
   ],
   "source": [
    "#Confirmed additional columns have been added\n",
    "colnames(all_trips)"
   ]
  },
  {
   "cell_type": "code",
   "execution_count": 16,
   "id": "7bbc6e21",
   "metadata": {
    "execution": {
     "iopub.execute_input": "2022-09-02T22:40:50.945201Z",
     "iopub.status.busy": "2022-09-02T22:40:50.943444Z",
     "iopub.status.idle": "2022-09-02T22:41:12.456080Z",
     "shell.execute_reply": "2022-09-02T22:41:12.453875Z"
    },
    "papermill": {
     "duration": 21.534788,
     "end_time": "2022-09-02T22:41:12.459853",
     "exception": false,
     "start_time": "2022-09-02T22:40:50.925065",
     "status": "completed"
    },
    "tags": [],
    "vscode": {
     "languageId": "r"
    }
   },
   "outputs": [],
   "source": [
    "# Add a \"ride_length\" calculation to all_trips (in seconds) so that I can compare ride length for each ride\n",
    "# https://stat.ethz.ch/R-manual/R-devel/library/base/html/difftime.html\n",
    "all_trips$ride_length <- difftime(all_trips$ended_at,all_trips$started_at)\n"
   ]
  },
  {
   "cell_type": "code",
   "execution_count": 17,
   "id": "96ca3b74",
   "metadata": {
    "execution": {
     "iopub.execute_input": "2022-09-02T22:41:12.506425Z",
     "iopub.status.busy": "2022-09-02T22:41:12.504669Z",
     "iopub.status.idle": "2022-09-02T22:41:17.078861Z",
     "shell.execute_reply": "2022-09-02T22:41:17.077039Z"
    },
    "papermill": {
     "duration": 4.604645,
     "end_time": "2022-09-02T22:41:17.081474",
     "exception": false,
     "start_time": "2022-09-02T22:41:12.476829",
     "status": "completed"
    },
    "tags": [],
    "vscode": {
     "languageId": "r"
    }
   },
   "outputs": [
    {
     "data": {
      "text/html": [
       "TRUE"
      ],
      "text/latex": [
       "TRUE"
      ],
      "text/markdown": [
       "TRUE"
      ],
      "text/plain": [
       "[1] TRUE"
      ]
     },
     "metadata": {},
     "output_type": "display_data"
    }
   ],
   "source": [
    "# Convert \"ride_length\" from Double to numeric so we can run calculations on the data\n",
    "all_trips$ride_length <- as.numeric(as.character(all_trips$ride_length))\n",
    "is.numeric(all_trips$ride_length)"
   ]
  },
  {
   "cell_type": "markdown",
   "id": "c0dcec1a",
   "metadata": {
    "papermill": {
     "duration": 0.016123,
     "end_time": "2022-09-02T22:41:17.114363",
     "exception": false,
     "start_time": "2022-09-02T22:41:17.098240",
     "status": "completed"
    },
    "tags": []
   },
   "source": [
    "**Remove bad data**\n",
    "\n",
    "1. Remove ride length is less than 0 second and is > 1440 minutes as ride length shouldn't be either negative or more than one day"
   ]
  },
  {
   "cell_type": "code",
   "execution_count": 18,
   "id": "161ecc8d",
   "metadata": {
    "execution": {
     "iopub.execute_input": "2022-09-02T22:41:17.150157Z",
     "iopub.status.busy": "2022-09-02T22:41:17.148489Z",
     "iopub.status.idle": "2022-09-02T22:41:20.149665Z",
     "shell.execute_reply": "2022-09-02T22:41:20.147738Z"
    },
    "papermill": {
     "duration": 3.022174,
     "end_time": "2022-09-02T22:41:20.152423",
     "exception": false,
     "start_time": "2022-09-02T22:41:17.130249",
     "status": "completed"
    },
    "tags": [],
    "vscode": {
     "languageId": "r"
    }
   },
   "outputs": [],
   "source": [
    "# Remove \"bad\" data\n",
    "# The dataframe includes a few hundred entries when bikes were taken out of docks and checked for quality by Divvy or ride_length was negative\n",
    "#Create a new data frame without records that have ride length <= zero minute OR > 1440 minutes\n",
    "all_trips_v2 <- all_trips[!(all_trips$ride_length <= 0 | all_trips$ride_length > 1440),]"
   ]
  },
  {
   "cell_type": "code",
   "execution_count": 19,
   "id": "6417b47d",
   "metadata": {
    "execution": {
     "iopub.execute_input": "2022-09-02T22:41:20.188599Z",
     "iopub.status.busy": "2022-09-02T22:41:20.187092Z",
     "iopub.status.idle": "2022-09-02T22:41:25.354170Z",
     "shell.execute_reply": "2022-09-02T22:41:25.352372Z"
    },
    "papermill": {
     "duration": 5.188683,
     "end_time": "2022-09-02T22:41:25.357638",
     "exception": false,
     "start_time": "2022-09-02T22:41:20.168955",
     "status": "completed"
    },
    "tags": [],
    "vscode": {
     "languageId": "r"
    }
   },
   "outputs": [
    {
     "data": {
      "text/html": [
       "<style>\n",
       ".list-inline {list-style: none; margin:0; padding: 0}\n",
       ".list-inline>li {display: inline-block}\n",
       ".list-inline>li:not(:last-child)::after {content: \"\\00b7\"; padding: 0 .5ex}\n",
       "</style>\n",
       "<ol class=list-inline><li>2664700</li><li>19</li></ol>\n"
      ],
      "text/latex": [
       "\\begin{enumerate*}\n",
       "\\item 2664700\n",
       "\\item 19\n",
       "\\end{enumerate*}\n"
      ],
      "text/markdown": [
       "1. 2664700\n",
       "2. 19\n",
       "\n",
       "\n"
      ],
      "text/plain": [
       "[1] 2664700      19"
      ]
     },
     "metadata": {},
     "output_type": "display_data"
    },
    {
     "data": {
      "text/html": [
       "<table class=\"dataframe\">\n",
       "<caption>A data.frame: 2664700 × 19</caption>\n",
       "<thead>\n",
       "\t<tr><th></th><th scope=col>ride_id</th><th scope=col>rideable_type</th><th scope=col>started_at</th><th scope=col>ended_at</th><th scope=col>start_station_name</th><th scope=col>start_station_id</th><th scope=col>end_station_name</th><th scope=col>end_station_id</th><th scope=col>start_lat</th><th scope=col>start_lng</th><th scope=col>end_lat</th><th scope=col>end_lng</th><th scope=col>member_casual</th><th scope=col>date</th><th scope=col>month</th><th scope=col>day</th><th scope=col>year</th><th scope=col>day_of_week</th><th scope=col>ride_length</th></tr>\n",
       "\t<tr><th></th><th scope=col>&lt;chr&gt;</th><th scope=col>&lt;chr&gt;</th><th scope=col>&lt;chr&gt;</th><th scope=col>&lt;chr&gt;</th><th scope=col>&lt;chr&gt;</th><th scope=col>&lt;chr&gt;</th><th scope=col>&lt;chr&gt;</th><th scope=col>&lt;chr&gt;</th><th scope=col>&lt;dbl&gt;</th><th scope=col>&lt;dbl&gt;</th><th scope=col>&lt;dbl&gt;</th><th scope=col>&lt;dbl&gt;</th><th scope=col>&lt;chr&gt;</th><th scope=col>&lt;date&gt;</th><th scope=col>&lt;chr&gt;</th><th scope=col>&lt;chr&gt;</th><th scope=col>&lt;chr&gt;</th><th scope=col>&lt;chr&gt;</th><th scope=col>&lt;dbl&gt;</th></tr>\n",
       "</thead>\n",
       "<tbody>\n",
       "\t<tr><th scope=row>1</th><td>02668AD35674B983</td><td>docked_bike</td><td>2020-05-27 10:03:52</td><td>2020-05-27 10:16:49</td><td><span style=white-space:pre-wrap>Franklin St &amp; Jackson Blvd    </span></td><td>36 </td><td><span style=white-space:pre-wrap>Wabash Ave &amp; Grand Ave              </span></td><td>199</td><td>41.8777</td><td>-87.6353</td><td>41.8915</td><td>-87.6268</td><td>member</td><td>2020-05-27</td><td>05</td><td>27</td><td>2020</td><td>Wednesday</td><td> 777</td></tr>\n",
       "\t<tr><th scope=row>2</th><td>7A50CCAF1EDDB28F</td><td>docked_bike</td><td>2020-05-25 10:47:11</td><td>2020-05-25 11:05:40</td><td><span style=white-space:pre-wrap>Clark St &amp; Wrightwood Ave     </span></td><td>340</td><td><span style=white-space:pre-wrap>Clark St &amp; Leland Ave               </span></td><td>326</td><td>41.9295</td><td>-87.6431</td><td>41.9671</td><td>-87.6674</td><td>casual</td><td>2020-05-25</td><td>05</td><td>25</td><td>2020</td><td><span style=white-space:pre-wrap>Monday   </span></td><td>1109</td></tr>\n",
       "\t<tr><th scope=row>4</th><td>58991CF1DB75BA84</td><td>docked_bike</td><td>2020-05-02 16:25:36</td><td>2020-05-02 16:39:28</td><td><span style=white-space:pre-wrap>Clarendon Ave &amp; Leland Ave    </span></td><td>251</td><td><span style=white-space:pre-wrap>Lake Shore Dr &amp; Wellington Ave      </span></td><td>157</td><td>41.9680</td><td>-87.6500</td><td>41.9367</td><td>-87.6368</td><td>casual</td><td>2020-05-02</td><td>05</td><td>02</td><td>2020</td><td>Saturday </td><td> 832</td></tr>\n",
       "\t<tr><th scope=row>9</th><td>23AFBD962F9C8F14</td><td>docked_bike</td><td>2020-05-30 17:00:58</td><td>2020-05-30 17:19:52</td><td><span style=white-space:pre-wrap>Halsted St &amp; Clybourn Ave     </span></td><td>331</td><td><span style=white-space:pre-wrap>Broadway &amp; Barry Ave                </span></td><td>300</td><td>41.9097</td><td>-87.6481</td><td>41.9377</td><td>-87.6441</td><td>casual</td><td>2020-05-30</td><td>05</td><td>30</td><td>2020</td><td>Saturday </td><td>1134</td></tr>\n",
       "\t<tr><th scope=row>11</th><td>DF3BE94DF2CB082E</td><td>docked_bike</td><td>2020-05-28 14:29:23</td><td>2020-05-28 14:43:46</td><td><span style=white-space:pre-wrap>Fairbanks Ct &amp; Grand Ave      </span></td><td>24 </td><td>Mies van der Rohe Way &amp; Chestnut St </td><td>145</td><td>41.8918</td><td>-87.6206</td><td>41.8986</td><td>-87.6219</td><td>casual</td><td>2020-05-28</td><td>05</td><td>28</td><td>2020</td><td>Thursday </td><td> 863</td></tr>\n",
       "\t<tr><th scope=row>12</th><td>6AA701EBA46EAF9A</td><td>docked_bike</td><td>2020-05-24 08:39:50</td><td>2020-05-24 08:58:22</td><td><span style=white-space:pre-wrap>Canal St &amp; Adams St           </span></td><td>192</td><td><span style=white-space:pre-wrap>Indiana Ave &amp; Roosevelt Rd          </span></td><td>255</td><td>41.8793</td><td>-87.6399</td><td>41.8679</td><td>-87.6230</td><td>member</td><td>2020-05-24</td><td>05</td><td>24</td><td>2020</td><td><span style=white-space:pre-wrap>Sunday   </span></td><td>1112</td></tr>\n",
       "\t<tr><th scope=row>16</th><td>9D3F29466533D0A9</td><td>docked_bike</td><td>2020-05-02 20:48:54</td><td>2020-05-02 21:06:30</td><td>Sheffield Ave &amp; Fullerton Ave </td><td>67 </td><td>Orleans St &amp; Chestnut St (NEXT Apts)</td><td>620</td><td>41.9256</td><td>-87.6537</td><td>41.8982</td><td>-87.6375</td><td>casual</td><td>2020-05-02</td><td>05</td><td>02</td><td>2020</td><td>Saturday </td><td>1056</td></tr>\n",
       "\t<tr><th scope=row>18</th><td>CDAEA6AC2DEDF077</td><td>docked_bike</td><td>2020-05-25 16:23:49</td><td>2020-05-25 16:46:57</td><td><span style=white-space:pre-wrap>Western Ave &amp; Division St     </span></td><td>305</td><td><span style=white-space:pre-wrap>McClurg Ct &amp; Illinois St            </span></td><td>26 </td><td>41.9029</td><td>-87.6873</td><td>41.8904</td><td>-87.6175</td><td>member</td><td>2020-05-25</td><td>05</td><td>25</td><td>2020</td><td><span style=white-space:pre-wrap>Monday   </span></td><td>1388</td></tr>\n",
       "\t<tr><th scope=row>21</th><td>73FB492713920CD8</td><td>docked_bike</td><td>2020-05-10 00:11:22</td><td>2020-05-10 00:19:48</td><td><span style=white-space:pre-wrap>Michigan Ave &amp; 18th St        </span></td><td>273</td><td><span style=white-space:pre-wrap>Wabash Ave &amp; 9th St                 </span></td><td>321</td><td>41.8578</td><td>-87.6246</td><td>41.8708</td><td>-87.6257</td><td>casual</td><td>2020-05-10</td><td>05</td><td>10</td><td>2020</td><td><span style=white-space:pre-wrap>Sunday   </span></td><td> 506</td></tr>\n",
       "\t<tr><th scope=row>29</th><td>CFD32C903045E9B9</td><td>docked_bike</td><td>2020-05-30 13:56:57</td><td>2020-05-30 14:08:34</td><td>Lincoln Ave &amp; Belle Plaine Ave</td><td>298</td><td><span style=white-space:pre-wrap>Washtenaw Ave &amp; Lawrence Ave        </span></td><td>475</td><td>41.9560</td><td>-87.6803</td><td>41.9690</td><td>-87.6960</td><td>casual</td><td>2020-05-30</td><td>05</td><td>30</td><td>2020</td><td>Saturday </td><td> 697</td></tr>\n",
       "\t<tr><th scope=row>30</th><td>15E9545916C0A70D</td><td>docked_bike</td><td>2020-05-01 15:32:53</td><td>2020-05-01 15:45:12</td><td><span style=white-space:pre-wrap>Lincolnwood Dr &amp; Central St   </span></td><td>663</td><td><span style=white-space:pre-wrap>Central St &amp; Girard Ave             </span></td><td>602</td><td>42.0649</td><td>-87.7153</td><td>42.0643</td><td>-87.6862</td><td>member</td><td>2020-05-01</td><td>05</td><td>01</td><td>2020</td><td><span style=white-space:pre-wrap>Friday   </span></td><td> 739</td></tr>\n",
       "\t<tr><th scope=row>32</th><td>D96371F35A485696</td><td>docked_bike</td><td>2020-05-01 15:47:39</td><td>2020-05-01 16:02:52</td><td><span style=white-space:pre-wrap>Central St &amp; Girard Ave       </span></td><td>602</td><td><span style=white-space:pre-wrap>Chicago Ave &amp; Sheridan Rd           </span></td><td>603</td><td>42.0643</td><td>-87.6862</td><td>42.0505</td><td>-87.6778</td><td>member</td><td>2020-05-01</td><td>05</td><td>01</td><td>2020</td><td><span style=white-space:pre-wrap>Friday   </span></td><td> 913</td></tr>\n",
       "\t<tr><th scope=row>34</th><td>4862102063FCE165</td><td>docked_bike</td><td>2020-05-20 18:19:20</td><td>2020-05-20 18:43:08</td><td>Sheffield Ave &amp; Wellington Ave</td><td>115</td><td><span style=white-space:pre-wrap>Damen Ave &amp; Pierce Ave              </span></td><td>69 </td><td>41.9363</td><td>-87.6527</td><td>41.9094</td><td>-87.6777</td><td>member</td><td>2020-05-20</td><td>05</td><td>20</td><td>2020</td><td>Wednesday</td><td>1428</td></tr>\n",
       "\t<tr><th scope=row>35</th><td>B803FBA7A77D41A3</td><td>docked_bike</td><td>2020-05-27 20:34:20</td><td>2020-05-27 20:57:23</td><td><span style=white-space:pre-wrap>Damen Ave &amp; Pierce Ave        </span></td><td>69 </td><td><span style=white-space:pre-wrap>Sheffield Ave &amp; Wellington Ave      </span></td><td>115</td><td>41.9094</td><td>-87.6777</td><td>41.9363</td><td>-87.6527</td><td>member</td><td>2020-05-27</td><td>05</td><td>27</td><td>2020</td><td>Wednesday</td><td>1383</td></tr>\n",
       "\t<tr><th scope=row>36</th><td>A80F390E173B72EA</td><td>docked_bike</td><td>2020-05-20 20:18:29</td><td>2020-05-20 20:19:20</td><td><span style=white-space:pre-wrap>Damen Ave &amp; Pierce Ave        </span></td><td>69 </td><td><span style=white-space:pre-wrap>Damen Ave &amp; Pierce Ave              </span></td><td>69 </td><td>41.9094</td><td>-87.6777</td><td>41.9094</td><td>-87.6777</td><td>member</td><td>2020-05-20</td><td>05</td><td>20</td><td>2020</td><td>Wednesday</td><td><span style=white-space:pre-wrap>  51</span></td></tr>\n",
       "\t<tr><th scope=row>37</th><td>4267A0BB80680713</td><td>docked_bike</td><td>2020-05-28 19:02:53</td><td>2020-05-28 19:08:40</td><td>Sheffield Ave &amp; Wellington Ave</td><td>115</td><td><span style=white-space:pre-wrap>Ashland Ave &amp; Wellington Ave        </span></td><td>250</td><td>41.9363</td><td>-87.6527</td><td>41.9361</td><td>-87.6698</td><td>member</td><td>2020-05-28</td><td>05</td><td>28</td><td>2020</td><td>Thursday </td><td> 347</td></tr>\n",
       "\t<tr><th scope=row>38</th><td>1B8CF206CF4A3731</td><td>docked_bike</td><td>2020-05-02 18:09:27</td><td>2020-05-02 18:18:11</td><td><span style=white-space:pre-wrap>Morgan St &amp; 18th St           </span></td><td>14 </td><td><span style=white-space:pre-wrap>Emerald Ave &amp; 31st St               </span></td><td>339</td><td>41.8581</td><td>-87.6511</td><td>41.8382</td><td>-87.6451</td><td>member</td><td>2020-05-02</td><td>05</td><td>02</td><td>2020</td><td>Saturday </td><td> 524</td></tr>\n",
       "\t<tr><th scope=row>39</th><td>578742018FA77B2A</td><td>docked_bike</td><td>2020-05-08 20:03:15</td><td>2020-05-08 20:12:56</td><td><span style=white-space:pre-wrap>Morgan St &amp; 18th St           </span></td><td>14 </td><td><span style=white-space:pre-wrap>Emerald Ave &amp; 31st St               </span></td><td>339</td><td>41.8581</td><td>-87.6511</td><td>41.8382</td><td>-87.6451</td><td>member</td><td>2020-05-08</td><td>05</td><td>08</td><td>2020</td><td><span style=white-space:pre-wrap>Friday   </span></td><td> 581</td></tr>\n",
       "\t<tr><th scope=row>40</th><td>9E5E4A56B7191D32</td><td>docked_bike</td><td>2020-05-08 17:56:56</td><td>2020-05-08 18:02:21</td><td><span style=white-space:pre-wrap>May St &amp; Taylor St            </span></td><td>22 </td><td><span style=white-space:pre-wrap>Racine Ave &amp; 18th St                </span></td><td>15 </td><td>41.8695</td><td>-87.6555</td><td>41.8582</td><td>-87.6565</td><td>member</td><td>2020-05-08</td><td>05</td><td>08</td><td>2020</td><td><span style=white-space:pre-wrap>Friday   </span></td><td> 325</td></tr>\n",
       "\t<tr><th scope=row>41</th><td>697B81BD60E138A2</td><td>docked_bike</td><td>2020-05-08 17:47:45</td><td>2020-05-08 17:53:48</td><td><span style=white-space:pre-wrap>Racine Ave &amp; 18th St          </span></td><td>15 </td><td><span style=white-space:pre-wrap>May St &amp; Taylor St                  </span></td><td>22 </td><td>41.8582</td><td>-87.6565</td><td>41.8695</td><td>-87.6555</td><td>member</td><td>2020-05-08</td><td>05</td><td>08</td><td>2020</td><td><span style=white-space:pre-wrap>Friday   </span></td><td> 363</td></tr>\n",
       "\t<tr><th scope=row>42</th><td>D494B0B04EEC3D77</td><td>docked_bike</td><td>2020-05-03 13:44:59</td><td>2020-05-03 13:50:44</td><td>Throop (Loomis) St &amp; Taylor St</td><td>19 </td><td><span style=white-space:pre-wrap>Racine Ave &amp; 18th St                </span></td><td>15 </td><td>41.8690</td><td>-87.6591</td><td>41.8582</td><td>-87.6565</td><td>member</td><td>2020-05-03</td><td>05</td><td>03</td><td>2020</td><td><span style=white-space:pre-wrap>Sunday   </span></td><td> 345</td></tr>\n",
       "\t<tr><th scope=row>43</th><td>0A082D5DB3C57404</td><td>docked_bike</td><td>2020-05-01 17:55:45</td><td>2020-05-01 18:04:57</td><td><span style=white-space:pre-wrap>Morgan St &amp; 18th St           </span></td><td>14 </td><td><span style=white-space:pre-wrap>Emerald Ave &amp; 31st St               </span></td><td>339</td><td>41.8581</td><td>-87.6511</td><td>41.8382</td><td>-87.6451</td><td>member</td><td>2020-05-01</td><td>05</td><td>01</td><td>2020</td><td><span style=white-space:pre-wrap>Friday   </span></td><td> 552</td></tr>\n",
       "\t<tr><th scope=row>44</th><td>985344F66F90A1D3</td><td>docked_bike</td><td>2020-05-02 06:46:40</td><td>2020-05-02 06:55:12</td><td><span style=white-space:pre-wrap>Morgan St &amp; 18th St           </span></td><td>14 </td><td><span style=white-space:pre-wrap>Emerald Ave &amp; 31st St               </span></td><td>339</td><td>41.8581</td><td>-87.6511</td><td>41.8382</td><td>-87.6451</td><td>member</td><td>2020-05-02</td><td>05</td><td>02</td><td>2020</td><td>Saturday </td><td> 512</td></tr>\n",
       "\t<tr><th scope=row>46</th><td>453FCC9C56899771</td><td>docked_bike</td><td>2020-05-03 11:37:01</td><td>2020-05-03 11:58:34</td><td>Lake Shore Dr &amp; Wellington Ave</td><td>157</td><td><span style=white-space:pre-wrap>Rush St &amp; Cedar St                  </span></td><td>172</td><td>41.9367</td><td>-87.6368</td><td>41.9023</td><td>-87.6277</td><td>member</td><td>2020-05-03</td><td>05</td><td>03</td><td>2020</td><td><span style=white-space:pre-wrap>Sunday   </span></td><td>1293</td></tr>\n",
       "\t<tr><th scope=row>47</th><td>28F3C48900B69E85</td><td>docked_bike</td><td>2020-05-16 19:29:06</td><td>2020-05-16 19:31:03</td><td><span style=white-space:pre-wrap>LaSalle St &amp; Illinois St      </span></td><td>181</td><td><span style=white-space:pre-wrap>Dearborn St &amp; Erie St               </span></td><td>110</td><td>41.8908</td><td>-87.6317</td><td>41.8940</td><td>-87.6293</td><td>member</td><td>2020-05-16</td><td>05</td><td>16</td><td>2020</td><td>Saturday </td><td> 117</td></tr>\n",
       "\t<tr><th scope=row>48</th><td>75C885AC4407F508</td><td>docked_bike</td><td>2020-05-10 14:44:33</td><td>2020-05-10 14:56:02</td><td>Sheffield Ave &amp; Wellington Ave</td><td>115</td><td><span style=white-space:pre-wrap>Sheffield Ave &amp; Wellington Ave      </span></td><td>115</td><td>41.9363</td><td>-87.6527</td><td>41.9363</td><td>-87.6527</td><td>member</td><td>2020-05-10</td><td>05</td><td>10</td><td>2020</td><td><span style=white-space:pre-wrap>Sunday   </span></td><td> 689</td></tr>\n",
       "\t<tr><th scope=row>49</th><td>54C18CE7236AF98F</td><td>docked_bike</td><td>2020-05-28 14:28:59</td><td>2020-05-28 14:31:54</td><td><span style=white-space:pre-wrap>LaSalle St &amp; Illinois St      </span></td><td>181</td><td><span style=white-space:pre-wrap>Dearborn St &amp; Erie St               </span></td><td>110</td><td>41.8908</td><td>-87.6317</td><td>41.8940</td><td>-87.6293</td><td>member</td><td>2020-05-28</td><td>05</td><td>28</td><td>2020</td><td>Thursday </td><td> 175</td></tr>\n",
       "\t<tr><th scope=row>50</th><td>A6C7E13D585593BE</td><td>docked_bike</td><td>2020-05-03 14:02:59</td><td>2020-05-03 14:08:28</td><td><span style=white-space:pre-wrap>Dearborn Pkwy &amp; Delaware Pl   </span></td><td>140</td><td><span style=white-space:pre-wrap>LaSalle St &amp; Illinois St            </span></td><td>181</td><td>41.8990</td><td>-87.6299</td><td>41.8908</td><td>-87.6317</td><td>member</td><td>2020-05-03</td><td>05</td><td>03</td><td>2020</td><td><span style=white-space:pre-wrap>Sunday   </span></td><td> 329</td></tr>\n",
       "\t<tr><th scope=row>51</th><td>E9966544A04F4055</td><td>docked_bike</td><td>2020-05-27 18:57:30</td><td>2020-05-27 19:14:47</td><td>Sheffield Ave &amp; Wellington Ave</td><td>115</td><td><span style=white-space:pre-wrap>Damen Ave &amp; Pierce Ave              </span></td><td>69 </td><td>41.9363</td><td>-87.6527</td><td>41.9094</td><td>-87.6777</td><td>member</td><td>2020-05-27</td><td>05</td><td>27</td><td>2020</td><td>Wednesday</td><td>1037</td></tr>\n",
       "\t<tr><th scope=row>52</th><td>BD2AE7EDEEC0C1D7</td><td>docked_bike</td><td>2020-05-04 12:35:01</td><td>2020-05-04 12:37:01</td><td><span style=white-space:pre-wrap>LaSalle St &amp; Illinois St      </span></td><td>181</td><td><span style=white-space:pre-wrap>Dearborn St &amp; Erie St               </span></td><td>110</td><td>41.8908</td><td>-87.6317</td><td>41.8940</td><td>-87.6293</td><td>member</td><td>2020-05-04</td><td>05</td><td>04</td><td>2020</td><td><span style=white-space:pre-wrap>Monday   </span></td><td> 120</td></tr>\n",
       "\t<tr><th scope=row>⋮</th><td>⋮</td><td>⋮</td><td>⋮</td><td>⋮</td><td>⋮</td><td>⋮</td><td>⋮</td><td>⋮</td><td>⋮</td><td>⋮</td><td>⋮</td><td>⋮</td><td>⋮</td><td>⋮</td><td>⋮</td><td>⋮</td><td>⋮</td><td>⋮</td><td>⋮</td></tr>\n",
       "\t<tr><th scope=row>3742151</th><td>90B9B230F90A3F0F</td><td>classic_bike </td><td>2021-04-03 14:50:12</td><td>2021-04-03 15:00:12</td><td><span style=white-space:pre-wrap>McClurg Ct &amp; Erie St               </span></td><td>KA1503000041</td><td><span style=white-space:pre-wrap>Streeter Dr &amp; Grand Ave     </span></td><td>13022</td><td>41.89450</td><td>-87.61785</td><td>41.89228</td><td>-87.61204</td><td>casual</td><td>2021-04-03</td><td>04</td><td>03</td><td>2021</td><td>Saturday </td><td> 600</td></tr>\n",
       "\t<tr><th scope=row>3742152</th><td>7B6981560E0F5D78</td><td>electric_bike</td><td>2021-04-04 17:09:40</td><td>2021-04-04 17:22:16</td><td><span style=white-space:pre-wrap>Kedzie Ave &amp; Palmer Ct             </span></td><td><span style=white-space:pre-wrap>13292       </span></td><td>Milwaukee Ave &amp; Wabansia Ave</td><td>13243</td><td>41.92153</td><td>-87.70734</td><td>41.91264</td><td>-87.68144</td><td>casual</td><td>2021-04-04</td><td>04</td><td>04</td><td>2021</td><td><span style=white-space:pre-wrap>Sunday   </span></td><td> 756</td></tr>\n",
       "\t<tr><th scope=row>3742154</th><td>DE21332FE11242C0</td><td>classic_bike </td><td>2021-04-10 08:01:23</td><td>2021-04-10 08:10:22</td><td><span style=white-space:pre-wrap>McClurg Ct &amp; Erie St               </span></td><td>KA1503000041</td><td><span style=white-space:pre-wrap>Franklin St &amp; Chicago Ave   </span></td><td>13017</td><td>41.89450</td><td>-87.61785</td><td>41.89675</td><td>-87.63567</td><td>casual</td><td>2021-04-10</td><td>04</td><td>10</td><td>2021</td><td>Saturday </td><td> 539</td></tr>\n",
       "\t<tr><th scope=row>3742157</th><td>100EB567A4DA859F</td><td>classic_bike </td><td>2021-04-21 06:47:10</td><td>2021-04-21 06:53:07</td><td>Mies van der Rohe Way &amp; Chestnut St</td><td><span style=white-space:pre-wrap>15529       </span></td><td><span style=white-space:pre-wrap>Franklin St &amp; Chicago Ave   </span></td><td>13017</td><td>41.89859</td><td>-87.62192</td><td>41.89675</td><td>-87.63567</td><td>member</td><td>2021-04-21</td><td>04</td><td>21</td><td>2021</td><td>Wednesday</td><td> 357</td></tr>\n",
       "\t<tr><th scope=row>3742159</th><td>3CE8708D3CE3324C</td><td>classic_bike </td><td>2021-04-06 17:23:52</td><td>2021-04-06 17:29:15</td><td><span style=white-space:pre-wrap>McClurg Ct &amp; Erie St               </span></td><td>KA1503000041</td><td><span style=white-space:pre-wrap>Streeter Dr &amp; Grand Ave     </span></td><td>13022</td><td>41.89450</td><td>-87.61785</td><td>41.89228</td><td>-87.61204</td><td>member</td><td>2021-04-06</td><td>04</td><td>06</td><td>2021</td><td><span style=white-space:pre-wrap>Tuesday  </span></td><td> 323</td></tr>\n",
       "\t<tr><th scope=row>3742160</th><td>4798863804F83C4D</td><td>classic_bike </td><td>2021-04-26 08:03:29</td><td>2021-04-26 08:10:25</td><td>Mies van der Rohe Way &amp; Chestnut St</td><td><span style=white-space:pre-wrap>15529       </span></td><td><span style=white-space:pre-wrap>Franklin St &amp; Chicago Ave   </span></td><td>13017</td><td>41.89859</td><td>-87.62192</td><td>41.89675</td><td>-87.63567</td><td>member</td><td>2021-04-26</td><td>04</td><td>26</td><td>2021</td><td><span style=white-space:pre-wrap>Monday   </span></td><td> 416</td></tr>\n",
       "\t<tr><th scope=row>3742164</th><td>DE89853ACA56DC58</td><td>classic_bike </td><td>2021-04-17 07:01:27</td><td>2021-04-17 07:05:59</td><td>Mies van der Rohe Way &amp; Chestnut St</td><td><span style=white-space:pre-wrap>15529       </span></td><td><span style=white-space:pre-wrap>Franklin St &amp; Chicago Ave   </span></td><td>13017</td><td>41.89859</td><td>-87.62192</td><td>41.89675</td><td>-87.63567</td><td>member</td><td>2021-04-17</td><td>04</td><td>17</td><td>2021</td><td>Saturday </td><td> 272</td></tr>\n",
       "\t<tr><th scope=row>3742165</th><td>3C2574F0015DD790</td><td>classic_bike </td><td>2021-04-03 19:20:59</td><td>2021-04-03 19:43:15</td><td><span style=white-space:pre-wrap>Canal St &amp; Harrison St             </span></td><td><span style=white-space:pre-wrap>13326       </span></td><td>Milwaukee Ave &amp; Wabansia Ave</td><td>13243</td><td>41.87425</td><td>-87.63957</td><td>41.91262</td><td>-87.68139</td><td>casual</td><td>2021-04-03</td><td>04</td><td>03</td><td>2021</td><td>Saturday </td><td>1336</td></tr>\n",
       "\t<tr><th scope=row>3742166</th><td>52FA297D1E84EF10</td><td>classic_bike </td><td>2021-04-23 11:03:35</td><td>2021-04-23 11:10:57</td><td><span style=white-space:pre-wrap>McClurg Ct &amp; Erie St               </span></td><td>KA1503000041</td><td><span style=white-space:pre-wrap>Streeter Dr &amp; Grand Ave     </span></td><td>13022</td><td>41.89450</td><td>-87.61785</td><td>41.89228</td><td>-87.61204</td><td>casual</td><td>2021-04-23</td><td>04</td><td>23</td><td>2021</td><td><span style=white-space:pre-wrap>Friday   </span></td><td> 442</td></tr>\n",
       "\t<tr><th scope=row>3742168</th><td>51DA3C644DD4EE46</td><td>classic_bike </td><td>2021-04-27 18:40:31</td><td>2021-04-27 18:50:46</td><td>Mies van der Rohe Way &amp; Chestnut St</td><td><span style=white-space:pre-wrap>15529       </span></td><td><span style=white-space:pre-wrap>Streeter Dr &amp; Grand Ave     </span></td><td>13022</td><td>41.89859</td><td>-87.62192</td><td>41.89228</td><td>-87.61204</td><td>casual</td><td>2021-04-27</td><td>04</td><td>27</td><td>2021</td><td><span style=white-space:pre-wrap>Tuesday  </span></td><td> 615</td></tr>\n",
       "\t<tr><th scope=row>3742172</th><td>AE2140982CE74E3D</td><td>classic_bike </td><td>2021-04-16 10:32:08</td><td>2021-04-16 10:40:23</td><td><span style=white-space:pre-wrap>Kedzie Ave &amp; Palmer Ct             </span></td><td><span style=white-space:pre-wrap>13292       </span></td><td>Milwaukee Ave &amp; Wabansia Ave</td><td>13243</td><td>41.92153</td><td>-87.70732</td><td>41.91262</td><td>-87.68139</td><td>member</td><td>2021-04-16</td><td>04</td><td>16</td><td>2021</td><td><span style=white-space:pre-wrap>Friday   </span></td><td> 495</td></tr>\n",
       "\t<tr><th scope=row>3742173</th><td>52DB1F82E1EB416D</td><td>classic_bike </td><td>2021-04-27 17:31:52</td><td>2021-04-27 17:35:32</td><td><span style=white-space:pre-wrap>McClurg Ct &amp; Erie St               </span></td><td>KA1503000041</td><td><span style=white-space:pre-wrap>Streeter Dr &amp; Grand Ave     </span></td><td>13022</td><td>41.89450</td><td>-87.61785</td><td>41.89228</td><td>-87.61204</td><td>member</td><td>2021-04-27</td><td>04</td><td>27</td><td>2021</td><td><span style=white-space:pre-wrap>Tuesday  </span></td><td> 220</td></tr>\n",
       "\t<tr><th scope=row>3742174</th><td>32D8D5039D8F1B7F</td><td>classic_bike </td><td>2021-04-27 18:40:30</td><td>2021-04-27 18:51:02</td><td>Mies van der Rohe Way &amp; Chestnut St</td><td><span style=white-space:pre-wrap>15529       </span></td><td><span style=white-space:pre-wrap>Streeter Dr &amp; Grand Ave     </span></td><td>13022</td><td>41.89859</td><td>-87.62192</td><td>41.89228</td><td>-87.61204</td><td>casual</td><td>2021-04-27</td><td>04</td><td>27</td><td>2021</td><td><span style=white-space:pre-wrap>Tuesday  </span></td><td> 632</td></tr>\n",
       "\t<tr><th scope=row>3742180</th><td>EDA860C3F01EAE26</td><td>classic_bike </td><td>2021-04-25 09:39:42</td><td>2021-04-25 09:45:17</td><td>Mies van der Rohe Way &amp; Chestnut St</td><td><span style=white-space:pre-wrap>15529       </span></td><td><span style=white-space:pre-wrap>Franklin St &amp; Chicago Ave   </span></td><td>13017</td><td>41.89859</td><td>-87.62192</td><td>41.89675</td><td>-87.63567</td><td>member</td><td>2021-04-25</td><td>04</td><td>25</td><td>2021</td><td><span style=white-space:pre-wrap>Sunday   </span></td><td> 335</td></tr>\n",
       "\t<tr><th scope=row>3742181</th><td>40EA4B911FE5D163</td><td>classic_bike </td><td>2021-04-05 05:39:50</td><td>2021-04-05 05:46:02</td><td>Mies van der Rohe Way &amp; Chestnut St</td><td><span style=white-space:pre-wrap>15529       </span></td><td><span style=white-space:pre-wrap>Franklin St &amp; Chicago Ave   </span></td><td>13017</td><td>41.89859</td><td>-87.62192</td><td>41.89675</td><td>-87.63567</td><td>member</td><td>2021-04-05</td><td>04</td><td>05</td><td>2021</td><td><span style=white-space:pre-wrap>Monday   </span></td><td> 372</td></tr>\n",
       "\t<tr><th scope=row>3742182</th><td>A0E4CA8CD7D1E38F</td><td>classic_bike </td><td>2021-04-26 12:42:37</td><td>2021-04-26 12:53:40</td><td><span style=white-space:pre-wrap>Kedzie Ave &amp; Palmer Ct             </span></td><td><span style=white-space:pre-wrap>13292       </span></td><td>Milwaukee Ave &amp; Wabansia Ave</td><td>13243</td><td>41.92153</td><td>-87.70732</td><td>41.91262</td><td>-87.68139</td><td>member</td><td>2021-04-26</td><td>04</td><td>26</td><td>2021</td><td><span style=white-space:pre-wrap>Monday   </span></td><td> 663</td></tr>\n",
       "\t<tr><th scope=row>3742183</th><td>4523935C75DDF947</td><td>classic_bike </td><td>2021-04-07 18:00:02</td><td>2021-04-07 18:20:36</td><td><span style=white-space:pre-wrap>McClurg Ct &amp; Erie St               </span></td><td>KA1503000041</td><td><span style=white-space:pre-wrap>Franklin St &amp; Chicago Ave   </span></td><td>13017</td><td>41.89450</td><td>-87.61785</td><td>41.89675</td><td>-87.63567</td><td>member</td><td>2021-04-07</td><td>04</td><td>07</td><td>2021</td><td>Wednesday</td><td>1234</td></tr>\n",
       "\t<tr><th scope=row>3742184</th><td>39574A2BA8CE532F</td><td>classic_bike </td><td>2021-04-24 17:26:22</td><td>2021-04-24 17:35:29</td><td><span style=white-space:pre-wrap>McClurg Ct &amp; Erie St               </span></td><td>KA1503000041</td><td><span style=white-space:pre-wrap>Franklin St &amp; Chicago Ave   </span></td><td>13017</td><td>41.89450</td><td>-87.61785</td><td>41.89675</td><td>-87.63567</td><td>member</td><td>2021-04-24</td><td>04</td><td>24</td><td>2021</td><td>Saturday </td><td> 547</td></tr>\n",
       "\t<tr><th scope=row>3742185</th><td>C31D60B5E01BFF7F</td><td>classic_bike </td><td>2021-04-05 17:20:11</td><td>2021-04-05 17:27:23</td><td><span style=white-space:pre-wrap>McClurg Ct &amp; Erie St               </span></td><td>KA1503000041</td><td><span style=white-space:pre-wrap>Franklin St &amp; Chicago Ave   </span></td><td>13017</td><td>41.89450</td><td>-87.61785</td><td>41.89675</td><td>-87.63567</td><td>member</td><td>2021-04-05</td><td>04</td><td>05</td><td>2021</td><td><span style=white-space:pre-wrap>Monday   </span></td><td> 432</td></tr>\n",
       "\t<tr><th scope=row>3742186</th><td>2E9CDE6E1E1572EC</td><td>classic_bike </td><td>2021-04-29 09:08:26</td><td>2021-04-29 09:12:05</td><td><span style=white-space:pre-wrap>McClurg Ct &amp; Erie St               </span></td><td>KA1503000041</td><td><span style=white-space:pre-wrap>Streeter Dr &amp; Grand Ave     </span></td><td>13022</td><td>41.89450</td><td>-87.61785</td><td>41.89228</td><td>-87.61204</td><td>member</td><td>2021-04-29</td><td>04</td><td>29</td><td>2021</td><td>Thursday </td><td> 219</td></tr>\n",
       "\t<tr><th scope=row>3742187</th><td>FA7F756FB241DE0E</td><td>classic_bike </td><td>2021-04-26 17:39:25</td><td>2021-04-26 17:57:58</td><td>Mies van der Rohe Way &amp; Chestnut St</td><td><span style=white-space:pre-wrap>15529       </span></td><td><span style=white-space:pre-wrap>Streeter Dr &amp; Grand Ave     </span></td><td>13022</td><td>41.89859</td><td>-87.62192</td><td>41.89228</td><td>-87.61204</td><td>member</td><td>2021-04-26</td><td>04</td><td>26</td><td>2021</td><td><span style=white-space:pre-wrap>Monday   </span></td><td>1113</td></tr>\n",
       "\t<tr><th scope=row>3742188</th><td>7D719C0F3E57A424</td><td>classic_bike </td><td>2021-04-24 17:26:12</td><td>2021-04-24 17:35:27</td><td><span style=white-space:pre-wrap>McClurg Ct &amp; Erie St               </span></td><td>KA1503000041</td><td><span style=white-space:pre-wrap>Franklin St &amp; Chicago Ave   </span></td><td>13017</td><td>41.89450</td><td>-87.61785</td><td>41.89675</td><td>-87.63567</td><td>member</td><td>2021-04-24</td><td>04</td><td>24</td><td>2021</td><td>Saturday </td><td> 555</td></tr>\n",
       "\t<tr><th scope=row>3742193</th><td>2114BC419A45B819</td><td>classic_bike </td><td>2021-04-26 14:17:20</td><td>2021-04-26 14:31:57</td><td><span style=white-space:pre-wrap>McClurg Ct &amp; Erie St               </span></td><td>KA1503000041</td><td><span style=white-space:pre-wrap>Streeter Dr &amp; Grand Ave     </span></td><td>13022</td><td>41.89450</td><td>-87.61785</td><td>41.89228</td><td>-87.61204</td><td>casual</td><td>2021-04-26</td><td>04</td><td>26</td><td>2021</td><td><span style=white-space:pre-wrap>Monday   </span></td><td> 877</td></tr>\n",
       "\t<tr><th scope=row>3742194</th><td>577225A6C793E626</td><td>classic_bike </td><td>2021-04-11 12:47:53</td><td>2021-04-11 12:52:32</td><td>Mies van der Rohe Way &amp; Chestnut St</td><td><span style=white-space:pre-wrap>15529       </span></td><td><span style=white-space:pre-wrap>Franklin St &amp; Chicago Ave   </span></td><td>13017</td><td>41.89859</td><td>-87.62192</td><td>41.89675</td><td>-87.63567</td><td>casual</td><td>2021-04-11</td><td>04</td><td>11</td><td>2021</td><td><span style=white-space:pre-wrap>Sunday   </span></td><td> 279</td></tr>\n",
       "\t<tr><th scope=row>3742195</th><td>8CA4B7844F3AC34C</td><td>classic_bike </td><td>2021-04-10 07:48:20</td><td>2021-04-10 07:53:29</td><td>Mies van der Rohe Way &amp; Chestnut St</td><td><span style=white-space:pre-wrap>15529       </span></td><td><span style=white-space:pre-wrap>Franklin St &amp; Chicago Ave   </span></td><td>13017</td><td>41.89859</td><td>-87.62192</td><td>41.89675</td><td>-87.63567</td><td>casual</td><td>2021-04-10</td><td>04</td><td>10</td><td>2021</td><td>Saturday </td><td> 309</td></tr>\n",
       "\t<tr><th scope=row>3742196</th><td>BA66A9F187C80966</td><td>classic_bike </td><td>2021-04-08 05:40:04</td><td>2021-04-08 05:46:01</td><td>Mies van der Rohe Way &amp; Chestnut St</td><td><span style=white-space:pre-wrap>15529       </span></td><td><span style=white-space:pre-wrap>Franklin St &amp; Chicago Ave   </span></td><td>13017</td><td>41.89859</td><td>-87.62192</td><td>41.89675</td><td>-87.63567</td><td>member</td><td>2021-04-08</td><td>04</td><td>08</td><td>2021</td><td>Thursday </td><td> 357</td></tr>\n",
       "\t<tr><th scope=row>3742197</th><td>6B0D434599FACBF4</td><td>classic_bike </td><td>2021-04-23 05:42:14</td><td>2021-04-23 05:48:27</td><td>Mies van der Rohe Way &amp; Chestnut St</td><td><span style=white-space:pre-wrap>15529       </span></td><td><span style=white-space:pre-wrap>Franklin St &amp; Chicago Ave   </span></td><td>13017</td><td>41.89859</td><td>-87.62192</td><td>41.89675</td><td>-87.63567</td><td>member</td><td>2021-04-23</td><td>04</td><td>23</td><td>2021</td><td><span style=white-space:pre-wrap>Friday   </span></td><td> 373</td></tr>\n",
       "\t<tr><th scope=row>3742198</th><td>461A6B0728E063DB</td><td>classic_bike </td><td>2021-04-09 17:09:03</td><td>2021-04-09 17:16:16</td><td>Mies van der Rohe Way &amp; Chestnut St</td><td><span style=white-space:pre-wrap>15529       </span></td><td><span style=white-space:pre-wrap>Franklin St &amp; Chicago Ave   </span></td><td>13017</td><td>41.89859</td><td>-87.62192</td><td>41.89675</td><td>-87.63567</td><td>member</td><td>2021-04-09</td><td>04</td><td>09</td><td>2021</td><td><span style=white-space:pre-wrap>Friday   </span></td><td> 433</td></tr>\n",
       "\t<tr><th scope=row>3742201</th><td>04DFB53077A17DA2</td><td>electric_bike</td><td>2021-04-18 11:40:37</td><td>2021-04-18 11:46:03</td><td>Mies van der Rohe Way &amp; Chestnut St</td><td><span style=white-space:pre-wrap>15529       </span></td><td><span style=white-space:pre-wrap>Franklin St &amp; Chicago Ave   </span></td><td>13017</td><td>41.89826</td><td>-87.62242</td><td>41.89494</td><td>-87.63044</td><td>member</td><td>2021-04-18</td><td>04</td><td>18</td><td>2021</td><td><span style=white-space:pre-wrap>Sunday   </span></td><td> 326</td></tr>\n",
       "\t<tr><th scope=row>3742202</th><td>DB6F78ABBECA378C</td><td>classic_bike </td><td>2021-04-23 19:22:16</td><td>2021-04-23 19:41:07</td><td><span style=white-space:pre-wrap>Kedzie Ave &amp; Palmer Ct             </span></td><td><span style=white-space:pre-wrap>13292       </span></td><td>Milwaukee Ave &amp; Wabansia Ave</td><td>13243</td><td>41.92153</td><td>-87.70732</td><td>41.91262</td><td>-87.68139</td><td>member</td><td>2021-04-23</td><td>04</td><td>23</td><td>2021</td><td><span style=white-space:pre-wrap>Friday   </span></td><td>1131</td></tr>\n",
       "</tbody>\n",
       "</table>\n"
      ],
      "text/latex": [
       "A data.frame: 2664700 × 19\n",
       "\\begin{tabular}{r|lllllllllllllllllll}\n",
       "  & ride\\_id & rideable\\_type & started\\_at & ended\\_at & start\\_station\\_name & start\\_station\\_id & end\\_station\\_name & end\\_station\\_id & start\\_lat & start\\_lng & end\\_lat & end\\_lng & member\\_casual & date & month & day & year & day\\_of\\_week & ride\\_length\\\\\n",
       "  & <chr> & <chr> & <chr> & <chr> & <chr> & <chr> & <chr> & <chr> & <dbl> & <dbl> & <dbl> & <dbl> & <chr> & <date> & <chr> & <chr> & <chr> & <chr> & <dbl>\\\\\n",
       "\\hline\n",
       "\t1 & 02668AD35674B983 & docked\\_bike & 2020-05-27 10:03:52 & 2020-05-27 10:16:49 & Franklin St \\& Jackson Blvd     & 36  & Wabash Ave \\& Grand Ave               & 199 & 41.8777 & -87.6353 & 41.8915 & -87.6268 & member & 2020-05-27 & 05 & 27 & 2020 & Wednesday &  777\\\\\n",
       "\t2 & 7A50CCAF1EDDB28F & docked\\_bike & 2020-05-25 10:47:11 & 2020-05-25 11:05:40 & Clark St \\& Wrightwood Ave      & 340 & Clark St \\& Leland Ave                & 326 & 41.9295 & -87.6431 & 41.9671 & -87.6674 & casual & 2020-05-25 & 05 & 25 & 2020 & Monday    & 1109\\\\\n",
       "\t4 & 58991CF1DB75BA84 & docked\\_bike & 2020-05-02 16:25:36 & 2020-05-02 16:39:28 & Clarendon Ave \\& Leland Ave     & 251 & Lake Shore Dr \\& Wellington Ave       & 157 & 41.9680 & -87.6500 & 41.9367 & -87.6368 & casual & 2020-05-02 & 05 & 02 & 2020 & Saturday  &  832\\\\\n",
       "\t9 & 23AFBD962F9C8F14 & docked\\_bike & 2020-05-30 17:00:58 & 2020-05-30 17:19:52 & Halsted St \\& Clybourn Ave      & 331 & Broadway \\& Barry Ave                 & 300 & 41.9097 & -87.6481 & 41.9377 & -87.6441 & casual & 2020-05-30 & 05 & 30 & 2020 & Saturday  & 1134\\\\\n",
       "\t11 & DF3BE94DF2CB082E & docked\\_bike & 2020-05-28 14:29:23 & 2020-05-28 14:43:46 & Fairbanks Ct \\& Grand Ave       & 24  & Mies van der Rohe Way \\& Chestnut St  & 145 & 41.8918 & -87.6206 & 41.8986 & -87.6219 & casual & 2020-05-28 & 05 & 28 & 2020 & Thursday  &  863\\\\\n",
       "\t12 & 6AA701EBA46EAF9A & docked\\_bike & 2020-05-24 08:39:50 & 2020-05-24 08:58:22 & Canal St \\& Adams St            & 192 & Indiana Ave \\& Roosevelt Rd           & 255 & 41.8793 & -87.6399 & 41.8679 & -87.6230 & member & 2020-05-24 & 05 & 24 & 2020 & Sunday    & 1112\\\\\n",
       "\t16 & 9D3F29466533D0A9 & docked\\_bike & 2020-05-02 20:48:54 & 2020-05-02 21:06:30 & Sheffield Ave \\& Fullerton Ave  & 67  & Orleans St \\& Chestnut St (NEXT Apts) & 620 & 41.9256 & -87.6537 & 41.8982 & -87.6375 & casual & 2020-05-02 & 05 & 02 & 2020 & Saturday  & 1056\\\\\n",
       "\t18 & CDAEA6AC2DEDF077 & docked\\_bike & 2020-05-25 16:23:49 & 2020-05-25 16:46:57 & Western Ave \\& Division St      & 305 & McClurg Ct \\& Illinois St             & 26  & 41.9029 & -87.6873 & 41.8904 & -87.6175 & member & 2020-05-25 & 05 & 25 & 2020 & Monday    & 1388\\\\\n",
       "\t21 & 73FB492713920CD8 & docked\\_bike & 2020-05-10 00:11:22 & 2020-05-10 00:19:48 & Michigan Ave \\& 18th St         & 273 & Wabash Ave \\& 9th St                  & 321 & 41.8578 & -87.6246 & 41.8708 & -87.6257 & casual & 2020-05-10 & 05 & 10 & 2020 & Sunday    &  506\\\\\n",
       "\t29 & CFD32C903045E9B9 & docked\\_bike & 2020-05-30 13:56:57 & 2020-05-30 14:08:34 & Lincoln Ave \\& Belle Plaine Ave & 298 & Washtenaw Ave \\& Lawrence Ave         & 475 & 41.9560 & -87.6803 & 41.9690 & -87.6960 & casual & 2020-05-30 & 05 & 30 & 2020 & Saturday  &  697\\\\\n",
       "\t30 & 15E9545916C0A70D & docked\\_bike & 2020-05-01 15:32:53 & 2020-05-01 15:45:12 & Lincolnwood Dr \\& Central St    & 663 & Central St \\& Girard Ave              & 602 & 42.0649 & -87.7153 & 42.0643 & -87.6862 & member & 2020-05-01 & 05 & 01 & 2020 & Friday    &  739\\\\\n",
       "\t32 & D96371F35A485696 & docked\\_bike & 2020-05-01 15:47:39 & 2020-05-01 16:02:52 & Central St \\& Girard Ave        & 602 & Chicago Ave \\& Sheridan Rd            & 603 & 42.0643 & -87.6862 & 42.0505 & -87.6778 & member & 2020-05-01 & 05 & 01 & 2020 & Friday    &  913\\\\\n",
       "\t34 & 4862102063FCE165 & docked\\_bike & 2020-05-20 18:19:20 & 2020-05-20 18:43:08 & Sheffield Ave \\& Wellington Ave & 115 & Damen Ave \\& Pierce Ave               & 69  & 41.9363 & -87.6527 & 41.9094 & -87.6777 & member & 2020-05-20 & 05 & 20 & 2020 & Wednesday & 1428\\\\\n",
       "\t35 & B803FBA7A77D41A3 & docked\\_bike & 2020-05-27 20:34:20 & 2020-05-27 20:57:23 & Damen Ave \\& Pierce Ave         & 69  & Sheffield Ave \\& Wellington Ave       & 115 & 41.9094 & -87.6777 & 41.9363 & -87.6527 & member & 2020-05-27 & 05 & 27 & 2020 & Wednesday & 1383\\\\\n",
       "\t36 & A80F390E173B72EA & docked\\_bike & 2020-05-20 20:18:29 & 2020-05-20 20:19:20 & Damen Ave \\& Pierce Ave         & 69  & Damen Ave \\& Pierce Ave               & 69  & 41.9094 & -87.6777 & 41.9094 & -87.6777 & member & 2020-05-20 & 05 & 20 & 2020 & Wednesday &   51\\\\\n",
       "\t37 & 4267A0BB80680713 & docked\\_bike & 2020-05-28 19:02:53 & 2020-05-28 19:08:40 & Sheffield Ave \\& Wellington Ave & 115 & Ashland Ave \\& Wellington Ave         & 250 & 41.9363 & -87.6527 & 41.9361 & -87.6698 & member & 2020-05-28 & 05 & 28 & 2020 & Thursday  &  347\\\\\n",
       "\t38 & 1B8CF206CF4A3731 & docked\\_bike & 2020-05-02 18:09:27 & 2020-05-02 18:18:11 & Morgan St \\& 18th St            & 14  & Emerald Ave \\& 31st St                & 339 & 41.8581 & -87.6511 & 41.8382 & -87.6451 & member & 2020-05-02 & 05 & 02 & 2020 & Saturday  &  524\\\\\n",
       "\t39 & 578742018FA77B2A & docked\\_bike & 2020-05-08 20:03:15 & 2020-05-08 20:12:56 & Morgan St \\& 18th St            & 14  & Emerald Ave \\& 31st St                & 339 & 41.8581 & -87.6511 & 41.8382 & -87.6451 & member & 2020-05-08 & 05 & 08 & 2020 & Friday    &  581\\\\\n",
       "\t40 & 9E5E4A56B7191D32 & docked\\_bike & 2020-05-08 17:56:56 & 2020-05-08 18:02:21 & May St \\& Taylor St             & 22  & Racine Ave \\& 18th St                 & 15  & 41.8695 & -87.6555 & 41.8582 & -87.6565 & member & 2020-05-08 & 05 & 08 & 2020 & Friday    &  325\\\\\n",
       "\t41 & 697B81BD60E138A2 & docked\\_bike & 2020-05-08 17:47:45 & 2020-05-08 17:53:48 & Racine Ave \\& 18th St           & 15  & May St \\& Taylor St                   & 22  & 41.8582 & -87.6565 & 41.8695 & -87.6555 & member & 2020-05-08 & 05 & 08 & 2020 & Friday    &  363\\\\\n",
       "\t42 & D494B0B04EEC3D77 & docked\\_bike & 2020-05-03 13:44:59 & 2020-05-03 13:50:44 & Throop (Loomis) St \\& Taylor St & 19  & Racine Ave \\& 18th St                 & 15  & 41.8690 & -87.6591 & 41.8582 & -87.6565 & member & 2020-05-03 & 05 & 03 & 2020 & Sunday    &  345\\\\\n",
       "\t43 & 0A082D5DB3C57404 & docked\\_bike & 2020-05-01 17:55:45 & 2020-05-01 18:04:57 & Morgan St \\& 18th St            & 14  & Emerald Ave \\& 31st St                & 339 & 41.8581 & -87.6511 & 41.8382 & -87.6451 & member & 2020-05-01 & 05 & 01 & 2020 & Friday    &  552\\\\\n",
       "\t44 & 985344F66F90A1D3 & docked\\_bike & 2020-05-02 06:46:40 & 2020-05-02 06:55:12 & Morgan St \\& 18th St            & 14  & Emerald Ave \\& 31st St                & 339 & 41.8581 & -87.6511 & 41.8382 & -87.6451 & member & 2020-05-02 & 05 & 02 & 2020 & Saturday  &  512\\\\\n",
       "\t46 & 453FCC9C56899771 & docked\\_bike & 2020-05-03 11:37:01 & 2020-05-03 11:58:34 & Lake Shore Dr \\& Wellington Ave & 157 & Rush St \\& Cedar St                   & 172 & 41.9367 & -87.6368 & 41.9023 & -87.6277 & member & 2020-05-03 & 05 & 03 & 2020 & Sunday    & 1293\\\\\n",
       "\t47 & 28F3C48900B69E85 & docked\\_bike & 2020-05-16 19:29:06 & 2020-05-16 19:31:03 & LaSalle St \\& Illinois St       & 181 & Dearborn St \\& Erie St                & 110 & 41.8908 & -87.6317 & 41.8940 & -87.6293 & member & 2020-05-16 & 05 & 16 & 2020 & Saturday  &  117\\\\\n",
       "\t48 & 75C885AC4407F508 & docked\\_bike & 2020-05-10 14:44:33 & 2020-05-10 14:56:02 & Sheffield Ave \\& Wellington Ave & 115 & Sheffield Ave \\& Wellington Ave       & 115 & 41.9363 & -87.6527 & 41.9363 & -87.6527 & member & 2020-05-10 & 05 & 10 & 2020 & Sunday    &  689\\\\\n",
       "\t49 & 54C18CE7236AF98F & docked\\_bike & 2020-05-28 14:28:59 & 2020-05-28 14:31:54 & LaSalle St \\& Illinois St       & 181 & Dearborn St \\& Erie St                & 110 & 41.8908 & -87.6317 & 41.8940 & -87.6293 & member & 2020-05-28 & 05 & 28 & 2020 & Thursday  &  175\\\\\n",
       "\t50 & A6C7E13D585593BE & docked\\_bike & 2020-05-03 14:02:59 & 2020-05-03 14:08:28 & Dearborn Pkwy \\& Delaware Pl    & 140 & LaSalle St \\& Illinois St             & 181 & 41.8990 & -87.6299 & 41.8908 & -87.6317 & member & 2020-05-03 & 05 & 03 & 2020 & Sunday    &  329\\\\\n",
       "\t51 & E9966544A04F4055 & docked\\_bike & 2020-05-27 18:57:30 & 2020-05-27 19:14:47 & Sheffield Ave \\& Wellington Ave & 115 & Damen Ave \\& Pierce Ave               & 69  & 41.9363 & -87.6527 & 41.9094 & -87.6777 & member & 2020-05-27 & 05 & 27 & 2020 & Wednesday & 1037\\\\\n",
       "\t52 & BD2AE7EDEEC0C1D7 & docked\\_bike & 2020-05-04 12:35:01 & 2020-05-04 12:37:01 & LaSalle St \\& Illinois St       & 181 & Dearborn St \\& Erie St                & 110 & 41.8908 & -87.6317 & 41.8940 & -87.6293 & member & 2020-05-04 & 05 & 04 & 2020 & Monday    &  120\\\\\n",
       "\t⋮ & ⋮ & ⋮ & ⋮ & ⋮ & ⋮ & ⋮ & ⋮ & ⋮ & ⋮ & ⋮ & ⋮ & ⋮ & ⋮ & ⋮ & ⋮ & ⋮ & ⋮ & ⋮ & ⋮\\\\\n",
       "\t3742151 & 90B9B230F90A3F0F & classic\\_bike  & 2021-04-03 14:50:12 & 2021-04-03 15:00:12 & McClurg Ct \\& Erie St                & KA1503000041 & Streeter Dr \\& Grand Ave      & 13022 & 41.89450 & -87.61785 & 41.89228 & -87.61204 & casual & 2021-04-03 & 04 & 03 & 2021 & Saturday  &  600\\\\\n",
       "\t3742152 & 7B6981560E0F5D78 & electric\\_bike & 2021-04-04 17:09:40 & 2021-04-04 17:22:16 & Kedzie Ave \\& Palmer Ct              & 13292        & Milwaukee Ave \\& Wabansia Ave & 13243 & 41.92153 & -87.70734 & 41.91264 & -87.68144 & casual & 2021-04-04 & 04 & 04 & 2021 & Sunday    &  756\\\\\n",
       "\t3742154 & DE21332FE11242C0 & classic\\_bike  & 2021-04-10 08:01:23 & 2021-04-10 08:10:22 & McClurg Ct \\& Erie St                & KA1503000041 & Franklin St \\& Chicago Ave    & 13017 & 41.89450 & -87.61785 & 41.89675 & -87.63567 & casual & 2021-04-10 & 04 & 10 & 2021 & Saturday  &  539\\\\\n",
       "\t3742157 & 100EB567A4DA859F & classic\\_bike  & 2021-04-21 06:47:10 & 2021-04-21 06:53:07 & Mies van der Rohe Way \\& Chestnut St & 15529        & Franklin St \\& Chicago Ave    & 13017 & 41.89859 & -87.62192 & 41.89675 & -87.63567 & member & 2021-04-21 & 04 & 21 & 2021 & Wednesday &  357\\\\\n",
       "\t3742159 & 3CE8708D3CE3324C & classic\\_bike  & 2021-04-06 17:23:52 & 2021-04-06 17:29:15 & McClurg Ct \\& Erie St                & KA1503000041 & Streeter Dr \\& Grand Ave      & 13022 & 41.89450 & -87.61785 & 41.89228 & -87.61204 & member & 2021-04-06 & 04 & 06 & 2021 & Tuesday   &  323\\\\\n",
       "\t3742160 & 4798863804F83C4D & classic\\_bike  & 2021-04-26 08:03:29 & 2021-04-26 08:10:25 & Mies van der Rohe Way \\& Chestnut St & 15529        & Franklin St \\& Chicago Ave    & 13017 & 41.89859 & -87.62192 & 41.89675 & -87.63567 & member & 2021-04-26 & 04 & 26 & 2021 & Monday    &  416\\\\\n",
       "\t3742164 & DE89853ACA56DC58 & classic\\_bike  & 2021-04-17 07:01:27 & 2021-04-17 07:05:59 & Mies van der Rohe Way \\& Chestnut St & 15529        & Franklin St \\& Chicago Ave    & 13017 & 41.89859 & -87.62192 & 41.89675 & -87.63567 & member & 2021-04-17 & 04 & 17 & 2021 & Saturday  &  272\\\\\n",
       "\t3742165 & 3C2574F0015DD790 & classic\\_bike  & 2021-04-03 19:20:59 & 2021-04-03 19:43:15 & Canal St \\& Harrison St              & 13326        & Milwaukee Ave \\& Wabansia Ave & 13243 & 41.87425 & -87.63957 & 41.91262 & -87.68139 & casual & 2021-04-03 & 04 & 03 & 2021 & Saturday  & 1336\\\\\n",
       "\t3742166 & 52FA297D1E84EF10 & classic\\_bike  & 2021-04-23 11:03:35 & 2021-04-23 11:10:57 & McClurg Ct \\& Erie St                & KA1503000041 & Streeter Dr \\& Grand Ave      & 13022 & 41.89450 & -87.61785 & 41.89228 & -87.61204 & casual & 2021-04-23 & 04 & 23 & 2021 & Friday    &  442\\\\\n",
       "\t3742168 & 51DA3C644DD4EE46 & classic\\_bike  & 2021-04-27 18:40:31 & 2021-04-27 18:50:46 & Mies van der Rohe Way \\& Chestnut St & 15529        & Streeter Dr \\& Grand Ave      & 13022 & 41.89859 & -87.62192 & 41.89228 & -87.61204 & casual & 2021-04-27 & 04 & 27 & 2021 & Tuesday   &  615\\\\\n",
       "\t3742172 & AE2140982CE74E3D & classic\\_bike  & 2021-04-16 10:32:08 & 2021-04-16 10:40:23 & Kedzie Ave \\& Palmer Ct              & 13292        & Milwaukee Ave \\& Wabansia Ave & 13243 & 41.92153 & -87.70732 & 41.91262 & -87.68139 & member & 2021-04-16 & 04 & 16 & 2021 & Friday    &  495\\\\\n",
       "\t3742173 & 52DB1F82E1EB416D & classic\\_bike  & 2021-04-27 17:31:52 & 2021-04-27 17:35:32 & McClurg Ct \\& Erie St                & KA1503000041 & Streeter Dr \\& Grand Ave      & 13022 & 41.89450 & -87.61785 & 41.89228 & -87.61204 & member & 2021-04-27 & 04 & 27 & 2021 & Tuesday   &  220\\\\\n",
       "\t3742174 & 32D8D5039D8F1B7F & classic\\_bike  & 2021-04-27 18:40:30 & 2021-04-27 18:51:02 & Mies van der Rohe Way \\& Chestnut St & 15529        & Streeter Dr \\& Grand Ave      & 13022 & 41.89859 & -87.62192 & 41.89228 & -87.61204 & casual & 2021-04-27 & 04 & 27 & 2021 & Tuesday   &  632\\\\\n",
       "\t3742180 & EDA860C3F01EAE26 & classic\\_bike  & 2021-04-25 09:39:42 & 2021-04-25 09:45:17 & Mies van der Rohe Way \\& Chestnut St & 15529        & Franklin St \\& Chicago Ave    & 13017 & 41.89859 & -87.62192 & 41.89675 & -87.63567 & member & 2021-04-25 & 04 & 25 & 2021 & Sunday    &  335\\\\\n",
       "\t3742181 & 40EA4B911FE5D163 & classic\\_bike  & 2021-04-05 05:39:50 & 2021-04-05 05:46:02 & Mies van der Rohe Way \\& Chestnut St & 15529        & Franklin St \\& Chicago Ave    & 13017 & 41.89859 & -87.62192 & 41.89675 & -87.63567 & member & 2021-04-05 & 04 & 05 & 2021 & Monday    &  372\\\\\n",
       "\t3742182 & A0E4CA8CD7D1E38F & classic\\_bike  & 2021-04-26 12:42:37 & 2021-04-26 12:53:40 & Kedzie Ave \\& Palmer Ct              & 13292        & Milwaukee Ave \\& Wabansia Ave & 13243 & 41.92153 & -87.70732 & 41.91262 & -87.68139 & member & 2021-04-26 & 04 & 26 & 2021 & Monday    &  663\\\\\n",
       "\t3742183 & 4523935C75DDF947 & classic\\_bike  & 2021-04-07 18:00:02 & 2021-04-07 18:20:36 & McClurg Ct \\& Erie St                & KA1503000041 & Franklin St \\& Chicago Ave    & 13017 & 41.89450 & -87.61785 & 41.89675 & -87.63567 & member & 2021-04-07 & 04 & 07 & 2021 & Wednesday & 1234\\\\\n",
       "\t3742184 & 39574A2BA8CE532F & classic\\_bike  & 2021-04-24 17:26:22 & 2021-04-24 17:35:29 & McClurg Ct \\& Erie St                & KA1503000041 & Franklin St \\& Chicago Ave    & 13017 & 41.89450 & -87.61785 & 41.89675 & -87.63567 & member & 2021-04-24 & 04 & 24 & 2021 & Saturday  &  547\\\\\n",
       "\t3742185 & C31D60B5E01BFF7F & classic\\_bike  & 2021-04-05 17:20:11 & 2021-04-05 17:27:23 & McClurg Ct \\& Erie St                & KA1503000041 & Franklin St \\& Chicago Ave    & 13017 & 41.89450 & -87.61785 & 41.89675 & -87.63567 & member & 2021-04-05 & 04 & 05 & 2021 & Monday    &  432\\\\\n",
       "\t3742186 & 2E9CDE6E1E1572EC & classic\\_bike  & 2021-04-29 09:08:26 & 2021-04-29 09:12:05 & McClurg Ct \\& Erie St                & KA1503000041 & Streeter Dr \\& Grand Ave      & 13022 & 41.89450 & -87.61785 & 41.89228 & -87.61204 & member & 2021-04-29 & 04 & 29 & 2021 & Thursday  &  219\\\\\n",
       "\t3742187 & FA7F756FB241DE0E & classic\\_bike  & 2021-04-26 17:39:25 & 2021-04-26 17:57:58 & Mies van der Rohe Way \\& Chestnut St & 15529        & Streeter Dr \\& Grand Ave      & 13022 & 41.89859 & -87.62192 & 41.89228 & -87.61204 & member & 2021-04-26 & 04 & 26 & 2021 & Monday    & 1113\\\\\n",
       "\t3742188 & 7D719C0F3E57A424 & classic\\_bike  & 2021-04-24 17:26:12 & 2021-04-24 17:35:27 & McClurg Ct \\& Erie St                & KA1503000041 & Franklin St \\& Chicago Ave    & 13017 & 41.89450 & -87.61785 & 41.89675 & -87.63567 & member & 2021-04-24 & 04 & 24 & 2021 & Saturday  &  555\\\\\n",
       "\t3742193 & 2114BC419A45B819 & classic\\_bike  & 2021-04-26 14:17:20 & 2021-04-26 14:31:57 & McClurg Ct \\& Erie St                & KA1503000041 & Streeter Dr \\& Grand Ave      & 13022 & 41.89450 & -87.61785 & 41.89228 & -87.61204 & casual & 2021-04-26 & 04 & 26 & 2021 & Monday    &  877\\\\\n",
       "\t3742194 & 577225A6C793E626 & classic\\_bike  & 2021-04-11 12:47:53 & 2021-04-11 12:52:32 & Mies van der Rohe Way \\& Chestnut St & 15529        & Franklin St \\& Chicago Ave    & 13017 & 41.89859 & -87.62192 & 41.89675 & -87.63567 & casual & 2021-04-11 & 04 & 11 & 2021 & Sunday    &  279\\\\\n",
       "\t3742195 & 8CA4B7844F3AC34C & classic\\_bike  & 2021-04-10 07:48:20 & 2021-04-10 07:53:29 & Mies van der Rohe Way \\& Chestnut St & 15529        & Franklin St \\& Chicago Ave    & 13017 & 41.89859 & -87.62192 & 41.89675 & -87.63567 & casual & 2021-04-10 & 04 & 10 & 2021 & Saturday  &  309\\\\\n",
       "\t3742196 & BA66A9F187C80966 & classic\\_bike  & 2021-04-08 05:40:04 & 2021-04-08 05:46:01 & Mies van der Rohe Way \\& Chestnut St & 15529        & Franklin St \\& Chicago Ave    & 13017 & 41.89859 & -87.62192 & 41.89675 & -87.63567 & member & 2021-04-08 & 04 & 08 & 2021 & Thursday  &  357\\\\\n",
       "\t3742197 & 6B0D434599FACBF4 & classic\\_bike  & 2021-04-23 05:42:14 & 2021-04-23 05:48:27 & Mies van der Rohe Way \\& Chestnut St & 15529        & Franklin St \\& Chicago Ave    & 13017 & 41.89859 & -87.62192 & 41.89675 & -87.63567 & member & 2021-04-23 & 04 & 23 & 2021 & Friday    &  373\\\\\n",
       "\t3742198 & 461A6B0728E063DB & classic\\_bike  & 2021-04-09 17:09:03 & 2021-04-09 17:16:16 & Mies van der Rohe Way \\& Chestnut St & 15529        & Franklin St \\& Chicago Ave    & 13017 & 41.89859 & -87.62192 & 41.89675 & -87.63567 & member & 2021-04-09 & 04 & 09 & 2021 & Friday    &  433\\\\\n",
       "\t3742201 & 04DFB53077A17DA2 & electric\\_bike & 2021-04-18 11:40:37 & 2021-04-18 11:46:03 & Mies van der Rohe Way \\& Chestnut St & 15529        & Franklin St \\& Chicago Ave    & 13017 & 41.89826 & -87.62242 & 41.89494 & -87.63044 & member & 2021-04-18 & 04 & 18 & 2021 & Sunday    &  326\\\\\n",
       "\t3742202 & DB6F78ABBECA378C & classic\\_bike  & 2021-04-23 19:22:16 & 2021-04-23 19:41:07 & Kedzie Ave \\& Palmer Ct              & 13292        & Milwaukee Ave \\& Wabansia Ave & 13243 & 41.92153 & -87.70732 & 41.91262 & -87.68139 & member & 2021-04-23 & 04 & 23 & 2021 & Friday    & 1131\\\\\n",
       "\\end{tabular}\n"
      ],
      "text/markdown": [
       "\n",
       "A data.frame: 2664700 × 19\n",
       "\n",
       "| <!--/--> | ride_id &lt;chr&gt; | rideable_type &lt;chr&gt; | started_at &lt;chr&gt; | ended_at &lt;chr&gt; | start_station_name &lt;chr&gt; | start_station_id &lt;chr&gt; | end_station_name &lt;chr&gt; | end_station_id &lt;chr&gt; | start_lat &lt;dbl&gt; | start_lng &lt;dbl&gt; | end_lat &lt;dbl&gt; | end_lng &lt;dbl&gt; | member_casual &lt;chr&gt; | date &lt;date&gt; | month &lt;chr&gt; | day &lt;chr&gt; | year &lt;chr&gt; | day_of_week &lt;chr&gt; | ride_length &lt;dbl&gt; |\n",
       "|---|---|---|---|---|---|---|---|---|---|---|---|---|---|---|---|---|---|---|---|\n",
       "| 1 | 02668AD35674B983 | docked_bike | 2020-05-27 10:03:52 | 2020-05-27 10:16:49 | Franklin St &amp; Jackson Blvd     | 36  | Wabash Ave &amp; Grand Ave               | 199 | 41.8777 | -87.6353 | 41.8915 | -87.6268 | member | 2020-05-27 | 05 | 27 | 2020 | Wednesday |  777 |\n",
       "| 2 | 7A50CCAF1EDDB28F | docked_bike | 2020-05-25 10:47:11 | 2020-05-25 11:05:40 | Clark St &amp; Wrightwood Ave      | 340 | Clark St &amp; Leland Ave                | 326 | 41.9295 | -87.6431 | 41.9671 | -87.6674 | casual | 2020-05-25 | 05 | 25 | 2020 | Monday    | 1109 |\n",
       "| 4 | 58991CF1DB75BA84 | docked_bike | 2020-05-02 16:25:36 | 2020-05-02 16:39:28 | Clarendon Ave &amp; Leland Ave     | 251 | Lake Shore Dr &amp; Wellington Ave       | 157 | 41.9680 | -87.6500 | 41.9367 | -87.6368 | casual | 2020-05-02 | 05 | 02 | 2020 | Saturday  |  832 |\n",
       "| 9 | 23AFBD962F9C8F14 | docked_bike | 2020-05-30 17:00:58 | 2020-05-30 17:19:52 | Halsted St &amp; Clybourn Ave      | 331 | Broadway &amp; Barry Ave                 | 300 | 41.9097 | -87.6481 | 41.9377 | -87.6441 | casual | 2020-05-30 | 05 | 30 | 2020 | Saturday  | 1134 |\n",
       "| 11 | DF3BE94DF2CB082E | docked_bike | 2020-05-28 14:29:23 | 2020-05-28 14:43:46 | Fairbanks Ct &amp; Grand Ave       | 24  | Mies van der Rohe Way &amp; Chestnut St  | 145 | 41.8918 | -87.6206 | 41.8986 | -87.6219 | casual | 2020-05-28 | 05 | 28 | 2020 | Thursday  |  863 |\n",
       "| 12 | 6AA701EBA46EAF9A | docked_bike | 2020-05-24 08:39:50 | 2020-05-24 08:58:22 | Canal St &amp; Adams St            | 192 | Indiana Ave &amp; Roosevelt Rd           | 255 | 41.8793 | -87.6399 | 41.8679 | -87.6230 | member | 2020-05-24 | 05 | 24 | 2020 | Sunday    | 1112 |\n",
       "| 16 | 9D3F29466533D0A9 | docked_bike | 2020-05-02 20:48:54 | 2020-05-02 21:06:30 | Sheffield Ave &amp; Fullerton Ave  | 67  | Orleans St &amp; Chestnut St (NEXT Apts) | 620 | 41.9256 | -87.6537 | 41.8982 | -87.6375 | casual | 2020-05-02 | 05 | 02 | 2020 | Saturday  | 1056 |\n",
       "| 18 | CDAEA6AC2DEDF077 | docked_bike | 2020-05-25 16:23:49 | 2020-05-25 16:46:57 | Western Ave &amp; Division St      | 305 | McClurg Ct &amp; Illinois St             | 26  | 41.9029 | -87.6873 | 41.8904 | -87.6175 | member | 2020-05-25 | 05 | 25 | 2020 | Monday    | 1388 |\n",
       "| 21 | 73FB492713920CD8 | docked_bike | 2020-05-10 00:11:22 | 2020-05-10 00:19:48 | Michigan Ave &amp; 18th St         | 273 | Wabash Ave &amp; 9th St                  | 321 | 41.8578 | -87.6246 | 41.8708 | -87.6257 | casual | 2020-05-10 | 05 | 10 | 2020 | Sunday    |  506 |\n",
       "| 29 | CFD32C903045E9B9 | docked_bike | 2020-05-30 13:56:57 | 2020-05-30 14:08:34 | Lincoln Ave &amp; Belle Plaine Ave | 298 | Washtenaw Ave &amp; Lawrence Ave         | 475 | 41.9560 | -87.6803 | 41.9690 | -87.6960 | casual | 2020-05-30 | 05 | 30 | 2020 | Saturday  |  697 |\n",
       "| 30 | 15E9545916C0A70D | docked_bike | 2020-05-01 15:32:53 | 2020-05-01 15:45:12 | Lincolnwood Dr &amp; Central St    | 663 | Central St &amp; Girard Ave              | 602 | 42.0649 | -87.7153 | 42.0643 | -87.6862 | member | 2020-05-01 | 05 | 01 | 2020 | Friday    |  739 |\n",
       "| 32 | D96371F35A485696 | docked_bike | 2020-05-01 15:47:39 | 2020-05-01 16:02:52 | Central St &amp; Girard Ave        | 602 | Chicago Ave &amp; Sheridan Rd            | 603 | 42.0643 | -87.6862 | 42.0505 | -87.6778 | member | 2020-05-01 | 05 | 01 | 2020 | Friday    |  913 |\n",
       "| 34 | 4862102063FCE165 | docked_bike | 2020-05-20 18:19:20 | 2020-05-20 18:43:08 | Sheffield Ave &amp; Wellington Ave | 115 | Damen Ave &amp; Pierce Ave               | 69  | 41.9363 | -87.6527 | 41.9094 | -87.6777 | member | 2020-05-20 | 05 | 20 | 2020 | Wednesday | 1428 |\n",
       "| 35 | B803FBA7A77D41A3 | docked_bike | 2020-05-27 20:34:20 | 2020-05-27 20:57:23 | Damen Ave &amp; Pierce Ave         | 69  | Sheffield Ave &amp; Wellington Ave       | 115 | 41.9094 | -87.6777 | 41.9363 | -87.6527 | member | 2020-05-27 | 05 | 27 | 2020 | Wednesday | 1383 |\n",
       "| 36 | A80F390E173B72EA | docked_bike | 2020-05-20 20:18:29 | 2020-05-20 20:19:20 | Damen Ave &amp; Pierce Ave         | 69  | Damen Ave &amp; Pierce Ave               | 69  | 41.9094 | -87.6777 | 41.9094 | -87.6777 | member | 2020-05-20 | 05 | 20 | 2020 | Wednesday |   51 |\n",
       "| 37 | 4267A0BB80680713 | docked_bike | 2020-05-28 19:02:53 | 2020-05-28 19:08:40 | Sheffield Ave &amp; Wellington Ave | 115 | Ashland Ave &amp; Wellington Ave         | 250 | 41.9363 | -87.6527 | 41.9361 | -87.6698 | member | 2020-05-28 | 05 | 28 | 2020 | Thursday  |  347 |\n",
       "| 38 | 1B8CF206CF4A3731 | docked_bike | 2020-05-02 18:09:27 | 2020-05-02 18:18:11 | Morgan St &amp; 18th St            | 14  | Emerald Ave &amp; 31st St                | 339 | 41.8581 | -87.6511 | 41.8382 | -87.6451 | member | 2020-05-02 | 05 | 02 | 2020 | Saturday  |  524 |\n",
       "| 39 | 578742018FA77B2A | docked_bike | 2020-05-08 20:03:15 | 2020-05-08 20:12:56 | Morgan St &amp; 18th St            | 14  | Emerald Ave &amp; 31st St                | 339 | 41.8581 | -87.6511 | 41.8382 | -87.6451 | member | 2020-05-08 | 05 | 08 | 2020 | Friday    |  581 |\n",
       "| 40 | 9E5E4A56B7191D32 | docked_bike | 2020-05-08 17:56:56 | 2020-05-08 18:02:21 | May St &amp; Taylor St             | 22  | Racine Ave &amp; 18th St                 | 15  | 41.8695 | -87.6555 | 41.8582 | -87.6565 | member | 2020-05-08 | 05 | 08 | 2020 | Friday    |  325 |\n",
       "| 41 | 697B81BD60E138A2 | docked_bike | 2020-05-08 17:47:45 | 2020-05-08 17:53:48 | Racine Ave &amp; 18th St           | 15  | May St &amp; Taylor St                   | 22  | 41.8582 | -87.6565 | 41.8695 | -87.6555 | member | 2020-05-08 | 05 | 08 | 2020 | Friday    |  363 |\n",
       "| 42 | D494B0B04EEC3D77 | docked_bike | 2020-05-03 13:44:59 | 2020-05-03 13:50:44 | Throop (Loomis) St &amp; Taylor St | 19  | Racine Ave &amp; 18th St                 | 15  | 41.8690 | -87.6591 | 41.8582 | -87.6565 | member | 2020-05-03 | 05 | 03 | 2020 | Sunday    |  345 |\n",
       "| 43 | 0A082D5DB3C57404 | docked_bike | 2020-05-01 17:55:45 | 2020-05-01 18:04:57 | Morgan St &amp; 18th St            | 14  | Emerald Ave &amp; 31st St                | 339 | 41.8581 | -87.6511 | 41.8382 | -87.6451 | member | 2020-05-01 | 05 | 01 | 2020 | Friday    |  552 |\n",
       "| 44 | 985344F66F90A1D3 | docked_bike | 2020-05-02 06:46:40 | 2020-05-02 06:55:12 | Morgan St &amp; 18th St            | 14  | Emerald Ave &amp; 31st St                | 339 | 41.8581 | -87.6511 | 41.8382 | -87.6451 | member | 2020-05-02 | 05 | 02 | 2020 | Saturday  |  512 |\n",
       "| 46 | 453FCC9C56899771 | docked_bike | 2020-05-03 11:37:01 | 2020-05-03 11:58:34 | Lake Shore Dr &amp; Wellington Ave | 157 | Rush St &amp; Cedar St                   | 172 | 41.9367 | -87.6368 | 41.9023 | -87.6277 | member | 2020-05-03 | 05 | 03 | 2020 | Sunday    | 1293 |\n",
       "| 47 | 28F3C48900B69E85 | docked_bike | 2020-05-16 19:29:06 | 2020-05-16 19:31:03 | LaSalle St &amp; Illinois St       | 181 | Dearborn St &amp; Erie St                | 110 | 41.8908 | -87.6317 | 41.8940 | -87.6293 | member | 2020-05-16 | 05 | 16 | 2020 | Saturday  |  117 |\n",
       "| 48 | 75C885AC4407F508 | docked_bike | 2020-05-10 14:44:33 | 2020-05-10 14:56:02 | Sheffield Ave &amp; Wellington Ave | 115 | Sheffield Ave &amp; Wellington Ave       | 115 | 41.9363 | -87.6527 | 41.9363 | -87.6527 | member | 2020-05-10 | 05 | 10 | 2020 | Sunday    |  689 |\n",
       "| 49 | 54C18CE7236AF98F | docked_bike | 2020-05-28 14:28:59 | 2020-05-28 14:31:54 | LaSalle St &amp; Illinois St       | 181 | Dearborn St &amp; Erie St                | 110 | 41.8908 | -87.6317 | 41.8940 | -87.6293 | member | 2020-05-28 | 05 | 28 | 2020 | Thursday  |  175 |\n",
       "| 50 | A6C7E13D585593BE | docked_bike | 2020-05-03 14:02:59 | 2020-05-03 14:08:28 | Dearborn Pkwy &amp; Delaware Pl    | 140 | LaSalle St &amp; Illinois St             | 181 | 41.8990 | -87.6299 | 41.8908 | -87.6317 | member | 2020-05-03 | 05 | 03 | 2020 | Sunday    |  329 |\n",
       "| 51 | E9966544A04F4055 | docked_bike | 2020-05-27 18:57:30 | 2020-05-27 19:14:47 | Sheffield Ave &amp; Wellington Ave | 115 | Damen Ave &amp; Pierce Ave               | 69  | 41.9363 | -87.6527 | 41.9094 | -87.6777 | member | 2020-05-27 | 05 | 27 | 2020 | Wednesday | 1037 |\n",
       "| 52 | BD2AE7EDEEC0C1D7 | docked_bike | 2020-05-04 12:35:01 | 2020-05-04 12:37:01 | LaSalle St &amp; Illinois St       | 181 | Dearborn St &amp; Erie St                | 110 | 41.8908 | -87.6317 | 41.8940 | -87.6293 | member | 2020-05-04 | 05 | 04 | 2020 | Monday    |  120 |\n",
       "| ⋮ | ⋮ | ⋮ | ⋮ | ⋮ | ⋮ | ⋮ | ⋮ | ⋮ | ⋮ | ⋮ | ⋮ | ⋮ | ⋮ | ⋮ | ⋮ | ⋮ | ⋮ | ⋮ | ⋮ |\n",
       "| 3742151 | 90B9B230F90A3F0F | classic_bike  | 2021-04-03 14:50:12 | 2021-04-03 15:00:12 | McClurg Ct &amp; Erie St                | KA1503000041 | Streeter Dr &amp; Grand Ave      | 13022 | 41.89450 | -87.61785 | 41.89228 | -87.61204 | casual | 2021-04-03 | 04 | 03 | 2021 | Saturday  |  600 |\n",
       "| 3742152 | 7B6981560E0F5D78 | electric_bike | 2021-04-04 17:09:40 | 2021-04-04 17:22:16 | Kedzie Ave &amp; Palmer Ct              | 13292        | Milwaukee Ave &amp; Wabansia Ave | 13243 | 41.92153 | -87.70734 | 41.91264 | -87.68144 | casual | 2021-04-04 | 04 | 04 | 2021 | Sunday    |  756 |\n",
       "| 3742154 | DE21332FE11242C0 | classic_bike  | 2021-04-10 08:01:23 | 2021-04-10 08:10:22 | McClurg Ct &amp; Erie St                | KA1503000041 | Franklin St &amp; Chicago Ave    | 13017 | 41.89450 | -87.61785 | 41.89675 | -87.63567 | casual | 2021-04-10 | 04 | 10 | 2021 | Saturday  |  539 |\n",
       "| 3742157 | 100EB567A4DA859F | classic_bike  | 2021-04-21 06:47:10 | 2021-04-21 06:53:07 | Mies van der Rohe Way &amp; Chestnut St | 15529        | Franklin St &amp; Chicago Ave    | 13017 | 41.89859 | -87.62192 | 41.89675 | -87.63567 | member | 2021-04-21 | 04 | 21 | 2021 | Wednesday |  357 |\n",
       "| 3742159 | 3CE8708D3CE3324C | classic_bike  | 2021-04-06 17:23:52 | 2021-04-06 17:29:15 | McClurg Ct &amp; Erie St                | KA1503000041 | Streeter Dr &amp; Grand Ave      | 13022 | 41.89450 | -87.61785 | 41.89228 | -87.61204 | member | 2021-04-06 | 04 | 06 | 2021 | Tuesday   |  323 |\n",
       "| 3742160 | 4798863804F83C4D | classic_bike  | 2021-04-26 08:03:29 | 2021-04-26 08:10:25 | Mies van der Rohe Way &amp; Chestnut St | 15529        | Franklin St &amp; Chicago Ave    | 13017 | 41.89859 | -87.62192 | 41.89675 | -87.63567 | member | 2021-04-26 | 04 | 26 | 2021 | Monday    |  416 |\n",
       "| 3742164 | DE89853ACA56DC58 | classic_bike  | 2021-04-17 07:01:27 | 2021-04-17 07:05:59 | Mies van der Rohe Way &amp; Chestnut St | 15529        | Franklin St &amp; Chicago Ave    | 13017 | 41.89859 | -87.62192 | 41.89675 | -87.63567 | member | 2021-04-17 | 04 | 17 | 2021 | Saturday  |  272 |\n",
       "| 3742165 | 3C2574F0015DD790 | classic_bike  | 2021-04-03 19:20:59 | 2021-04-03 19:43:15 | Canal St &amp; Harrison St              | 13326        | Milwaukee Ave &amp; Wabansia Ave | 13243 | 41.87425 | -87.63957 | 41.91262 | -87.68139 | casual | 2021-04-03 | 04 | 03 | 2021 | Saturday  | 1336 |\n",
       "| 3742166 | 52FA297D1E84EF10 | classic_bike  | 2021-04-23 11:03:35 | 2021-04-23 11:10:57 | McClurg Ct &amp; Erie St                | KA1503000041 | Streeter Dr &amp; Grand Ave      | 13022 | 41.89450 | -87.61785 | 41.89228 | -87.61204 | casual | 2021-04-23 | 04 | 23 | 2021 | Friday    |  442 |\n",
       "| 3742168 | 51DA3C644DD4EE46 | classic_bike  | 2021-04-27 18:40:31 | 2021-04-27 18:50:46 | Mies van der Rohe Way &amp; Chestnut St | 15529        | Streeter Dr &amp; Grand Ave      | 13022 | 41.89859 | -87.62192 | 41.89228 | -87.61204 | casual | 2021-04-27 | 04 | 27 | 2021 | Tuesday   |  615 |\n",
       "| 3742172 | AE2140982CE74E3D | classic_bike  | 2021-04-16 10:32:08 | 2021-04-16 10:40:23 | Kedzie Ave &amp; Palmer Ct              | 13292        | Milwaukee Ave &amp; Wabansia Ave | 13243 | 41.92153 | -87.70732 | 41.91262 | -87.68139 | member | 2021-04-16 | 04 | 16 | 2021 | Friday    |  495 |\n",
       "| 3742173 | 52DB1F82E1EB416D | classic_bike  | 2021-04-27 17:31:52 | 2021-04-27 17:35:32 | McClurg Ct &amp; Erie St                | KA1503000041 | Streeter Dr &amp; Grand Ave      | 13022 | 41.89450 | -87.61785 | 41.89228 | -87.61204 | member | 2021-04-27 | 04 | 27 | 2021 | Tuesday   |  220 |\n",
       "| 3742174 | 32D8D5039D8F1B7F | classic_bike  | 2021-04-27 18:40:30 | 2021-04-27 18:51:02 | Mies van der Rohe Way &amp; Chestnut St | 15529        | Streeter Dr &amp; Grand Ave      | 13022 | 41.89859 | -87.62192 | 41.89228 | -87.61204 | casual | 2021-04-27 | 04 | 27 | 2021 | Tuesday   |  632 |\n",
       "| 3742180 | EDA860C3F01EAE26 | classic_bike  | 2021-04-25 09:39:42 | 2021-04-25 09:45:17 | Mies van der Rohe Way &amp; Chestnut St | 15529        | Franklin St &amp; Chicago Ave    | 13017 | 41.89859 | -87.62192 | 41.89675 | -87.63567 | member | 2021-04-25 | 04 | 25 | 2021 | Sunday    |  335 |\n",
       "| 3742181 | 40EA4B911FE5D163 | classic_bike  | 2021-04-05 05:39:50 | 2021-04-05 05:46:02 | Mies van der Rohe Way &amp; Chestnut St | 15529        | Franklin St &amp; Chicago Ave    | 13017 | 41.89859 | -87.62192 | 41.89675 | -87.63567 | member | 2021-04-05 | 04 | 05 | 2021 | Monday    |  372 |\n",
       "| 3742182 | A0E4CA8CD7D1E38F | classic_bike  | 2021-04-26 12:42:37 | 2021-04-26 12:53:40 | Kedzie Ave &amp; Palmer Ct              | 13292        | Milwaukee Ave &amp; Wabansia Ave | 13243 | 41.92153 | -87.70732 | 41.91262 | -87.68139 | member | 2021-04-26 | 04 | 26 | 2021 | Monday    |  663 |\n",
       "| 3742183 | 4523935C75DDF947 | classic_bike  | 2021-04-07 18:00:02 | 2021-04-07 18:20:36 | McClurg Ct &amp; Erie St                | KA1503000041 | Franklin St &amp; Chicago Ave    | 13017 | 41.89450 | -87.61785 | 41.89675 | -87.63567 | member | 2021-04-07 | 04 | 07 | 2021 | Wednesday | 1234 |\n",
       "| 3742184 | 39574A2BA8CE532F | classic_bike  | 2021-04-24 17:26:22 | 2021-04-24 17:35:29 | McClurg Ct &amp; Erie St                | KA1503000041 | Franklin St &amp; Chicago Ave    | 13017 | 41.89450 | -87.61785 | 41.89675 | -87.63567 | member | 2021-04-24 | 04 | 24 | 2021 | Saturday  |  547 |\n",
       "| 3742185 | C31D60B5E01BFF7F | classic_bike  | 2021-04-05 17:20:11 | 2021-04-05 17:27:23 | McClurg Ct &amp; Erie St                | KA1503000041 | Franklin St &amp; Chicago Ave    | 13017 | 41.89450 | -87.61785 | 41.89675 | -87.63567 | member | 2021-04-05 | 04 | 05 | 2021 | Monday    |  432 |\n",
       "| 3742186 | 2E9CDE6E1E1572EC | classic_bike  | 2021-04-29 09:08:26 | 2021-04-29 09:12:05 | McClurg Ct &amp; Erie St                | KA1503000041 | Streeter Dr &amp; Grand Ave      | 13022 | 41.89450 | -87.61785 | 41.89228 | -87.61204 | member | 2021-04-29 | 04 | 29 | 2021 | Thursday  |  219 |\n",
       "| 3742187 | FA7F756FB241DE0E | classic_bike  | 2021-04-26 17:39:25 | 2021-04-26 17:57:58 | Mies van der Rohe Way &amp; Chestnut St | 15529        | Streeter Dr &amp; Grand Ave      | 13022 | 41.89859 | -87.62192 | 41.89228 | -87.61204 | member | 2021-04-26 | 04 | 26 | 2021 | Monday    | 1113 |\n",
       "| 3742188 | 7D719C0F3E57A424 | classic_bike  | 2021-04-24 17:26:12 | 2021-04-24 17:35:27 | McClurg Ct &amp; Erie St                | KA1503000041 | Franklin St &amp; Chicago Ave    | 13017 | 41.89450 | -87.61785 | 41.89675 | -87.63567 | member | 2021-04-24 | 04 | 24 | 2021 | Saturday  |  555 |\n",
       "| 3742193 | 2114BC419A45B819 | classic_bike  | 2021-04-26 14:17:20 | 2021-04-26 14:31:57 | McClurg Ct &amp; Erie St                | KA1503000041 | Streeter Dr &amp; Grand Ave      | 13022 | 41.89450 | -87.61785 | 41.89228 | -87.61204 | casual | 2021-04-26 | 04 | 26 | 2021 | Monday    |  877 |\n",
       "| 3742194 | 577225A6C793E626 | classic_bike  | 2021-04-11 12:47:53 | 2021-04-11 12:52:32 | Mies van der Rohe Way &amp; Chestnut St | 15529        | Franklin St &amp; Chicago Ave    | 13017 | 41.89859 | -87.62192 | 41.89675 | -87.63567 | casual | 2021-04-11 | 04 | 11 | 2021 | Sunday    |  279 |\n",
       "| 3742195 | 8CA4B7844F3AC34C | classic_bike  | 2021-04-10 07:48:20 | 2021-04-10 07:53:29 | Mies van der Rohe Way &amp; Chestnut St | 15529        | Franklin St &amp; Chicago Ave    | 13017 | 41.89859 | -87.62192 | 41.89675 | -87.63567 | casual | 2021-04-10 | 04 | 10 | 2021 | Saturday  |  309 |\n",
       "| 3742196 | BA66A9F187C80966 | classic_bike  | 2021-04-08 05:40:04 | 2021-04-08 05:46:01 | Mies van der Rohe Way &amp; Chestnut St | 15529        | Franklin St &amp; Chicago Ave    | 13017 | 41.89859 | -87.62192 | 41.89675 | -87.63567 | member | 2021-04-08 | 04 | 08 | 2021 | Thursday  |  357 |\n",
       "| 3742197 | 6B0D434599FACBF4 | classic_bike  | 2021-04-23 05:42:14 | 2021-04-23 05:48:27 | Mies van der Rohe Way &amp; Chestnut St | 15529        | Franklin St &amp; Chicago Ave    | 13017 | 41.89859 | -87.62192 | 41.89675 | -87.63567 | member | 2021-04-23 | 04 | 23 | 2021 | Friday    |  373 |\n",
       "| 3742198 | 461A6B0728E063DB | classic_bike  | 2021-04-09 17:09:03 | 2021-04-09 17:16:16 | Mies van der Rohe Way &amp; Chestnut St | 15529        | Franklin St &amp; Chicago Ave    | 13017 | 41.89859 | -87.62192 | 41.89675 | -87.63567 | member | 2021-04-09 | 04 | 09 | 2021 | Friday    |  433 |\n",
       "| 3742201 | 04DFB53077A17DA2 | electric_bike | 2021-04-18 11:40:37 | 2021-04-18 11:46:03 | Mies van der Rohe Way &amp; Chestnut St | 15529        | Franklin St &amp; Chicago Ave    | 13017 | 41.89826 | -87.62242 | 41.89494 | -87.63044 | member | 2021-04-18 | 04 | 18 | 2021 | Sunday    |  326 |\n",
       "| 3742202 | DB6F78ABBECA378C | classic_bike  | 2021-04-23 19:22:16 | 2021-04-23 19:41:07 | Kedzie Ave &amp; Palmer Ct              | 13292        | Milwaukee Ave &amp; Wabansia Ave | 13243 | 41.92153 | -87.70732 | 41.91262 | -87.68139 | member | 2021-04-23 | 04 | 23 | 2021 | Friday    | 1131 |\n",
       "\n"
      ],
      "text/plain": [
       "        ride_id          rideable_type started_at          ended_at           \n",
       "1       02668AD35674B983 docked_bike   2020-05-27 10:03:52 2020-05-27 10:16:49\n",
       "2       7A50CCAF1EDDB28F docked_bike   2020-05-25 10:47:11 2020-05-25 11:05:40\n",
       "4       58991CF1DB75BA84 docked_bike   2020-05-02 16:25:36 2020-05-02 16:39:28\n",
       "9       23AFBD962F9C8F14 docked_bike   2020-05-30 17:00:58 2020-05-30 17:19:52\n",
       "11      DF3BE94DF2CB082E docked_bike   2020-05-28 14:29:23 2020-05-28 14:43:46\n",
       "12      6AA701EBA46EAF9A docked_bike   2020-05-24 08:39:50 2020-05-24 08:58:22\n",
       "16      9D3F29466533D0A9 docked_bike   2020-05-02 20:48:54 2020-05-02 21:06:30\n",
       "18      CDAEA6AC2DEDF077 docked_bike   2020-05-25 16:23:49 2020-05-25 16:46:57\n",
       "21      73FB492713920CD8 docked_bike   2020-05-10 00:11:22 2020-05-10 00:19:48\n",
       "29      CFD32C903045E9B9 docked_bike   2020-05-30 13:56:57 2020-05-30 14:08:34\n",
       "30      15E9545916C0A70D docked_bike   2020-05-01 15:32:53 2020-05-01 15:45:12\n",
       "32      D96371F35A485696 docked_bike   2020-05-01 15:47:39 2020-05-01 16:02:52\n",
       "34      4862102063FCE165 docked_bike   2020-05-20 18:19:20 2020-05-20 18:43:08\n",
       "35      B803FBA7A77D41A3 docked_bike   2020-05-27 20:34:20 2020-05-27 20:57:23\n",
       "36      A80F390E173B72EA docked_bike   2020-05-20 20:18:29 2020-05-20 20:19:20\n",
       "37      4267A0BB80680713 docked_bike   2020-05-28 19:02:53 2020-05-28 19:08:40\n",
       "38      1B8CF206CF4A3731 docked_bike   2020-05-02 18:09:27 2020-05-02 18:18:11\n",
       "39      578742018FA77B2A docked_bike   2020-05-08 20:03:15 2020-05-08 20:12:56\n",
       "40      9E5E4A56B7191D32 docked_bike   2020-05-08 17:56:56 2020-05-08 18:02:21\n",
       "41      697B81BD60E138A2 docked_bike   2020-05-08 17:47:45 2020-05-08 17:53:48\n",
       "42      D494B0B04EEC3D77 docked_bike   2020-05-03 13:44:59 2020-05-03 13:50:44\n",
       "43      0A082D5DB3C57404 docked_bike   2020-05-01 17:55:45 2020-05-01 18:04:57\n",
       "44      985344F66F90A1D3 docked_bike   2020-05-02 06:46:40 2020-05-02 06:55:12\n",
       "46      453FCC9C56899771 docked_bike   2020-05-03 11:37:01 2020-05-03 11:58:34\n",
       "47      28F3C48900B69E85 docked_bike   2020-05-16 19:29:06 2020-05-16 19:31:03\n",
       "48      75C885AC4407F508 docked_bike   2020-05-10 14:44:33 2020-05-10 14:56:02\n",
       "49      54C18CE7236AF98F docked_bike   2020-05-28 14:28:59 2020-05-28 14:31:54\n",
       "50      A6C7E13D585593BE docked_bike   2020-05-03 14:02:59 2020-05-03 14:08:28\n",
       "51      E9966544A04F4055 docked_bike   2020-05-27 18:57:30 2020-05-27 19:14:47\n",
       "52      BD2AE7EDEEC0C1D7 docked_bike   2020-05-04 12:35:01 2020-05-04 12:37:01\n",
       "⋮       ⋮                ⋮             ⋮                   ⋮                  \n",
       "3742151 90B9B230F90A3F0F classic_bike  2021-04-03 14:50:12 2021-04-03 15:00:12\n",
       "3742152 7B6981560E0F5D78 electric_bike 2021-04-04 17:09:40 2021-04-04 17:22:16\n",
       "3742154 DE21332FE11242C0 classic_bike  2021-04-10 08:01:23 2021-04-10 08:10:22\n",
       "3742157 100EB567A4DA859F classic_bike  2021-04-21 06:47:10 2021-04-21 06:53:07\n",
       "3742159 3CE8708D3CE3324C classic_bike  2021-04-06 17:23:52 2021-04-06 17:29:15\n",
       "3742160 4798863804F83C4D classic_bike  2021-04-26 08:03:29 2021-04-26 08:10:25\n",
       "3742164 DE89853ACA56DC58 classic_bike  2021-04-17 07:01:27 2021-04-17 07:05:59\n",
       "3742165 3C2574F0015DD790 classic_bike  2021-04-03 19:20:59 2021-04-03 19:43:15\n",
       "3742166 52FA297D1E84EF10 classic_bike  2021-04-23 11:03:35 2021-04-23 11:10:57\n",
       "3742168 51DA3C644DD4EE46 classic_bike  2021-04-27 18:40:31 2021-04-27 18:50:46\n",
       "3742172 AE2140982CE74E3D classic_bike  2021-04-16 10:32:08 2021-04-16 10:40:23\n",
       "3742173 52DB1F82E1EB416D classic_bike  2021-04-27 17:31:52 2021-04-27 17:35:32\n",
       "3742174 32D8D5039D8F1B7F classic_bike  2021-04-27 18:40:30 2021-04-27 18:51:02\n",
       "3742180 EDA860C3F01EAE26 classic_bike  2021-04-25 09:39:42 2021-04-25 09:45:17\n",
       "3742181 40EA4B911FE5D163 classic_bike  2021-04-05 05:39:50 2021-04-05 05:46:02\n",
       "3742182 A0E4CA8CD7D1E38F classic_bike  2021-04-26 12:42:37 2021-04-26 12:53:40\n",
       "3742183 4523935C75DDF947 classic_bike  2021-04-07 18:00:02 2021-04-07 18:20:36\n",
       "3742184 39574A2BA8CE532F classic_bike  2021-04-24 17:26:22 2021-04-24 17:35:29\n",
       "3742185 C31D60B5E01BFF7F classic_bike  2021-04-05 17:20:11 2021-04-05 17:27:23\n",
       "3742186 2E9CDE6E1E1572EC classic_bike  2021-04-29 09:08:26 2021-04-29 09:12:05\n",
       "3742187 FA7F756FB241DE0E classic_bike  2021-04-26 17:39:25 2021-04-26 17:57:58\n",
       "3742188 7D719C0F3E57A424 classic_bike  2021-04-24 17:26:12 2021-04-24 17:35:27\n",
       "3742193 2114BC419A45B819 classic_bike  2021-04-26 14:17:20 2021-04-26 14:31:57\n",
       "3742194 577225A6C793E626 classic_bike  2021-04-11 12:47:53 2021-04-11 12:52:32\n",
       "3742195 8CA4B7844F3AC34C classic_bike  2021-04-10 07:48:20 2021-04-10 07:53:29\n",
       "3742196 BA66A9F187C80966 classic_bike  2021-04-08 05:40:04 2021-04-08 05:46:01\n",
       "3742197 6B0D434599FACBF4 classic_bike  2021-04-23 05:42:14 2021-04-23 05:48:27\n",
       "3742198 461A6B0728E063DB classic_bike  2021-04-09 17:09:03 2021-04-09 17:16:16\n",
       "3742201 04DFB53077A17DA2 electric_bike 2021-04-18 11:40:37 2021-04-18 11:46:03\n",
       "3742202 DB6F78ABBECA378C classic_bike  2021-04-23 19:22:16 2021-04-23 19:41:07\n",
       "        start_station_name                  start_station_id\n",
       "1       Franklin St & Jackson Blvd          36              \n",
       "2       Clark St & Wrightwood Ave           340             \n",
       "4       Clarendon Ave & Leland Ave          251             \n",
       "9       Halsted St & Clybourn Ave           331             \n",
       "11      Fairbanks Ct & Grand Ave            24              \n",
       "12      Canal St & Adams St                 192             \n",
       "16      Sheffield Ave & Fullerton Ave       67              \n",
       "18      Western Ave & Division St           305             \n",
       "21      Michigan Ave & 18th St              273             \n",
       "29      Lincoln Ave & Belle Plaine Ave      298             \n",
       "30      Lincolnwood Dr & Central St         663             \n",
       "32      Central St & Girard Ave             602             \n",
       "34      Sheffield Ave & Wellington Ave      115             \n",
       "35      Damen Ave & Pierce Ave              69              \n",
       "36      Damen Ave & Pierce Ave              69              \n",
       "37      Sheffield Ave & Wellington Ave      115             \n",
       "38      Morgan St & 18th St                 14              \n",
       "39      Morgan St & 18th St                 14              \n",
       "40      May St & Taylor St                  22              \n",
       "41      Racine Ave & 18th St                15              \n",
       "42      Throop (Loomis) St & Taylor St      19              \n",
       "43      Morgan St & 18th St                 14              \n",
       "44      Morgan St & 18th St                 14              \n",
       "46      Lake Shore Dr & Wellington Ave      157             \n",
       "47      LaSalle St & Illinois St            181             \n",
       "48      Sheffield Ave & Wellington Ave      115             \n",
       "49      LaSalle St & Illinois St            181             \n",
       "50      Dearborn Pkwy & Delaware Pl         140             \n",
       "51      Sheffield Ave & Wellington Ave      115             \n",
       "52      LaSalle St & Illinois St            181             \n",
       "⋮       ⋮                                   ⋮               \n",
       "3742151 McClurg Ct & Erie St                KA1503000041    \n",
       "3742152 Kedzie Ave & Palmer Ct              13292           \n",
       "3742154 McClurg Ct & Erie St                KA1503000041    \n",
       "3742157 Mies van der Rohe Way & Chestnut St 15529           \n",
       "3742159 McClurg Ct & Erie St                KA1503000041    \n",
       "3742160 Mies van der Rohe Way & Chestnut St 15529           \n",
       "3742164 Mies van der Rohe Way & Chestnut St 15529           \n",
       "3742165 Canal St & Harrison St              13326           \n",
       "3742166 McClurg Ct & Erie St                KA1503000041    \n",
       "3742168 Mies van der Rohe Way & Chestnut St 15529           \n",
       "3742172 Kedzie Ave & Palmer Ct              13292           \n",
       "3742173 McClurg Ct & Erie St                KA1503000041    \n",
       "3742174 Mies van der Rohe Way & Chestnut St 15529           \n",
       "3742180 Mies van der Rohe Way & Chestnut St 15529           \n",
       "3742181 Mies van der Rohe Way & Chestnut St 15529           \n",
       "3742182 Kedzie Ave & Palmer Ct              13292           \n",
       "3742183 McClurg Ct & Erie St                KA1503000041    \n",
       "3742184 McClurg Ct & Erie St                KA1503000041    \n",
       "3742185 McClurg Ct & Erie St                KA1503000041    \n",
       "3742186 McClurg Ct & Erie St                KA1503000041    \n",
       "3742187 Mies van der Rohe Way & Chestnut St 15529           \n",
       "3742188 McClurg Ct & Erie St                KA1503000041    \n",
       "3742193 McClurg Ct & Erie St                KA1503000041    \n",
       "3742194 Mies van der Rohe Way & Chestnut St 15529           \n",
       "3742195 Mies van der Rohe Way & Chestnut St 15529           \n",
       "3742196 Mies van der Rohe Way & Chestnut St 15529           \n",
       "3742197 Mies van der Rohe Way & Chestnut St 15529           \n",
       "3742198 Mies van der Rohe Way & Chestnut St 15529           \n",
       "3742201 Mies van der Rohe Way & Chestnut St 15529           \n",
       "3742202 Kedzie Ave & Palmer Ct              13292           \n",
       "        end_station_name                     end_station_id start_lat start_lng\n",
       "1       Wabash Ave & Grand Ave               199            41.8777   -87.6353 \n",
       "2       Clark St & Leland Ave                326            41.9295   -87.6431 \n",
       "4       Lake Shore Dr & Wellington Ave       157            41.9680   -87.6500 \n",
       "9       Broadway & Barry Ave                 300            41.9097   -87.6481 \n",
       "11      Mies van der Rohe Way & Chestnut St  145            41.8918   -87.6206 \n",
       "12      Indiana Ave & Roosevelt Rd           255            41.8793   -87.6399 \n",
       "16      Orleans St & Chestnut St (NEXT Apts) 620            41.9256   -87.6537 \n",
       "18      McClurg Ct & Illinois St             26             41.9029   -87.6873 \n",
       "21      Wabash Ave & 9th St                  321            41.8578   -87.6246 \n",
       "29      Washtenaw Ave & Lawrence Ave         475            41.9560   -87.6803 \n",
       "30      Central St & Girard Ave              602            42.0649   -87.7153 \n",
       "32      Chicago Ave & Sheridan Rd            603            42.0643   -87.6862 \n",
       "34      Damen Ave & Pierce Ave               69             41.9363   -87.6527 \n",
       "35      Sheffield Ave & Wellington Ave       115            41.9094   -87.6777 \n",
       "36      Damen Ave & Pierce Ave               69             41.9094   -87.6777 \n",
       "37      Ashland Ave & Wellington Ave         250            41.9363   -87.6527 \n",
       "38      Emerald Ave & 31st St                339            41.8581   -87.6511 \n",
       "39      Emerald Ave & 31st St                339            41.8581   -87.6511 \n",
       "40      Racine Ave & 18th St                 15             41.8695   -87.6555 \n",
       "41      May St & Taylor St                   22             41.8582   -87.6565 \n",
       "42      Racine Ave & 18th St                 15             41.8690   -87.6591 \n",
       "43      Emerald Ave & 31st St                339            41.8581   -87.6511 \n",
       "44      Emerald Ave & 31st St                339            41.8581   -87.6511 \n",
       "46      Rush St & Cedar St                   172            41.9367   -87.6368 \n",
       "47      Dearborn St & Erie St                110            41.8908   -87.6317 \n",
       "48      Sheffield Ave & Wellington Ave       115            41.9363   -87.6527 \n",
       "49      Dearborn St & Erie St                110            41.8908   -87.6317 \n",
       "50      LaSalle St & Illinois St             181            41.8990   -87.6299 \n",
       "51      Damen Ave & Pierce Ave               69             41.9363   -87.6527 \n",
       "52      Dearborn St & Erie St                110            41.8908   -87.6317 \n",
       "⋮       ⋮                                    ⋮              ⋮         ⋮        \n",
       "3742151 Streeter Dr & Grand Ave              13022          41.89450  -87.61785\n",
       "3742152 Milwaukee Ave & Wabansia Ave         13243          41.92153  -87.70734\n",
       "3742154 Franklin St & Chicago Ave            13017          41.89450  -87.61785\n",
       "3742157 Franklin St & Chicago Ave            13017          41.89859  -87.62192\n",
       "3742159 Streeter Dr & Grand Ave              13022          41.89450  -87.61785\n",
       "3742160 Franklin St & Chicago Ave            13017          41.89859  -87.62192\n",
       "3742164 Franklin St & Chicago Ave            13017          41.89859  -87.62192\n",
       "3742165 Milwaukee Ave & Wabansia Ave         13243          41.87425  -87.63957\n",
       "3742166 Streeter Dr & Grand Ave              13022          41.89450  -87.61785\n",
       "3742168 Streeter Dr & Grand Ave              13022          41.89859  -87.62192\n",
       "3742172 Milwaukee Ave & Wabansia Ave         13243          41.92153  -87.70732\n",
       "3742173 Streeter Dr & Grand Ave              13022          41.89450  -87.61785\n",
       "3742174 Streeter Dr & Grand Ave              13022          41.89859  -87.62192\n",
       "3742180 Franklin St & Chicago Ave            13017          41.89859  -87.62192\n",
       "3742181 Franklin St & Chicago Ave            13017          41.89859  -87.62192\n",
       "3742182 Milwaukee Ave & Wabansia Ave         13243          41.92153  -87.70732\n",
       "3742183 Franklin St & Chicago Ave            13017          41.89450  -87.61785\n",
       "3742184 Franklin St & Chicago Ave            13017          41.89450  -87.61785\n",
       "3742185 Franklin St & Chicago Ave            13017          41.89450  -87.61785\n",
       "3742186 Streeter Dr & Grand Ave              13022          41.89450  -87.61785\n",
       "3742187 Streeter Dr & Grand Ave              13022          41.89859  -87.62192\n",
       "3742188 Franklin St & Chicago Ave            13017          41.89450  -87.61785\n",
       "3742193 Streeter Dr & Grand Ave              13022          41.89450  -87.61785\n",
       "3742194 Franklin St & Chicago Ave            13017          41.89859  -87.62192\n",
       "3742195 Franklin St & Chicago Ave            13017          41.89859  -87.62192\n",
       "3742196 Franklin St & Chicago Ave            13017          41.89859  -87.62192\n",
       "3742197 Franklin St & Chicago Ave            13017          41.89859  -87.62192\n",
       "3742198 Franklin St & Chicago Ave            13017          41.89859  -87.62192\n",
       "3742201 Franklin St & Chicago Ave            13017          41.89826  -87.62242\n",
       "3742202 Milwaukee Ave & Wabansia Ave         13243          41.92153  -87.70732\n",
       "        end_lat  end_lng   member_casual date       month day year day_of_week\n",
       "1       41.8915  -87.6268  member        2020-05-27 05    27  2020 Wednesday  \n",
       "2       41.9671  -87.6674  casual        2020-05-25 05    25  2020 Monday     \n",
       "4       41.9367  -87.6368  casual        2020-05-02 05    02  2020 Saturday   \n",
       "9       41.9377  -87.6441  casual        2020-05-30 05    30  2020 Saturday   \n",
       "11      41.8986  -87.6219  casual        2020-05-28 05    28  2020 Thursday   \n",
       "12      41.8679  -87.6230  member        2020-05-24 05    24  2020 Sunday     \n",
       "16      41.8982  -87.6375  casual        2020-05-02 05    02  2020 Saturday   \n",
       "18      41.8904  -87.6175  member        2020-05-25 05    25  2020 Monday     \n",
       "21      41.8708  -87.6257  casual        2020-05-10 05    10  2020 Sunday     \n",
       "29      41.9690  -87.6960  casual        2020-05-30 05    30  2020 Saturday   \n",
       "30      42.0643  -87.6862  member        2020-05-01 05    01  2020 Friday     \n",
       "32      42.0505  -87.6778  member        2020-05-01 05    01  2020 Friday     \n",
       "34      41.9094  -87.6777  member        2020-05-20 05    20  2020 Wednesday  \n",
       "35      41.9363  -87.6527  member        2020-05-27 05    27  2020 Wednesday  \n",
       "36      41.9094  -87.6777  member        2020-05-20 05    20  2020 Wednesday  \n",
       "37      41.9361  -87.6698  member        2020-05-28 05    28  2020 Thursday   \n",
       "38      41.8382  -87.6451  member        2020-05-02 05    02  2020 Saturday   \n",
       "39      41.8382  -87.6451  member        2020-05-08 05    08  2020 Friday     \n",
       "40      41.8582  -87.6565  member        2020-05-08 05    08  2020 Friday     \n",
       "41      41.8695  -87.6555  member        2020-05-08 05    08  2020 Friday     \n",
       "42      41.8582  -87.6565  member        2020-05-03 05    03  2020 Sunday     \n",
       "43      41.8382  -87.6451  member        2020-05-01 05    01  2020 Friday     \n",
       "44      41.8382  -87.6451  member        2020-05-02 05    02  2020 Saturday   \n",
       "46      41.9023  -87.6277  member        2020-05-03 05    03  2020 Sunday     \n",
       "47      41.8940  -87.6293  member        2020-05-16 05    16  2020 Saturday   \n",
       "48      41.9363  -87.6527  member        2020-05-10 05    10  2020 Sunday     \n",
       "49      41.8940  -87.6293  member        2020-05-28 05    28  2020 Thursday   \n",
       "50      41.8908  -87.6317  member        2020-05-03 05    03  2020 Sunday     \n",
       "51      41.9094  -87.6777  member        2020-05-27 05    27  2020 Wednesday  \n",
       "52      41.8940  -87.6293  member        2020-05-04 05    04  2020 Monday     \n",
       "⋮       ⋮        ⋮         ⋮             ⋮          ⋮     ⋮   ⋮    ⋮          \n",
       "3742151 41.89228 -87.61204 casual        2021-04-03 04    03  2021 Saturday   \n",
       "3742152 41.91264 -87.68144 casual        2021-04-04 04    04  2021 Sunday     \n",
       "3742154 41.89675 -87.63567 casual        2021-04-10 04    10  2021 Saturday   \n",
       "3742157 41.89675 -87.63567 member        2021-04-21 04    21  2021 Wednesday  \n",
       "3742159 41.89228 -87.61204 member        2021-04-06 04    06  2021 Tuesday    \n",
       "3742160 41.89675 -87.63567 member        2021-04-26 04    26  2021 Monday     \n",
       "3742164 41.89675 -87.63567 member        2021-04-17 04    17  2021 Saturday   \n",
       "3742165 41.91262 -87.68139 casual        2021-04-03 04    03  2021 Saturday   \n",
       "3742166 41.89228 -87.61204 casual        2021-04-23 04    23  2021 Friday     \n",
       "3742168 41.89228 -87.61204 casual        2021-04-27 04    27  2021 Tuesday    \n",
       "3742172 41.91262 -87.68139 member        2021-04-16 04    16  2021 Friday     \n",
       "3742173 41.89228 -87.61204 member        2021-04-27 04    27  2021 Tuesday    \n",
       "3742174 41.89228 -87.61204 casual        2021-04-27 04    27  2021 Tuesday    \n",
       "3742180 41.89675 -87.63567 member        2021-04-25 04    25  2021 Sunday     \n",
       "3742181 41.89675 -87.63567 member        2021-04-05 04    05  2021 Monday     \n",
       "3742182 41.91262 -87.68139 member        2021-04-26 04    26  2021 Monday     \n",
       "3742183 41.89675 -87.63567 member        2021-04-07 04    07  2021 Wednesday  \n",
       "3742184 41.89675 -87.63567 member        2021-04-24 04    24  2021 Saturday   \n",
       "3742185 41.89675 -87.63567 member        2021-04-05 04    05  2021 Monday     \n",
       "3742186 41.89228 -87.61204 member        2021-04-29 04    29  2021 Thursday   \n",
       "3742187 41.89228 -87.61204 member        2021-04-26 04    26  2021 Monday     \n",
       "3742188 41.89675 -87.63567 member        2021-04-24 04    24  2021 Saturday   \n",
       "3742193 41.89228 -87.61204 casual        2021-04-26 04    26  2021 Monday     \n",
       "3742194 41.89675 -87.63567 casual        2021-04-11 04    11  2021 Sunday     \n",
       "3742195 41.89675 -87.63567 casual        2021-04-10 04    10  2021 Saturday   \n",
       "3742196 41.89675 -87.63567 member        2021-04-08 04    08  2021 Thursday   \n",
       "3742197 41.89675 -87.63567 member        2021-04-23 04    23  2021 Friday     \n",
       "3742198 41.89675 -87.63567 member        2021-04-09 04    09  2021 Friday     \n",
       "3742201 41.89494 -87.63044 member        2021-04-18 04    18  2021 Sunday     \n",
       "3742202 41.91262 -87.68139 member        2021-04-23 04    23  2021 Friday     \n",
       "        ride_length\n",
       "1        777       \n",
       "2       1109       \n",
       "4        832       \n",
       "9       1134       \n",
       "11       863       \n",
       "12      1112       \n",
       "16      1056       \n",
       "18      1388       \n",
       "21       506       \n",
       "29       697       \n",
       "30       739       \n",
       "32       913       \n",
       "34      1428       \n",
       "35      1383       \n",
       "36        51       \n",
       "37       347       \n",
       "38       524       \n",
       "39       581       \n",
       "40       325       \n",
       "41       363       \n",
       "42       345       \n",
       "43       552       \n",
       "44       512       \n",
       "46      1293       \n",
       "47       117       \n",
       "48       689       \n",
       "49       175       \n",
       "50       329       \n",
       "51      1037       \n",
       "52       120       \n",
       "⋮       ⋮          \n",
       "3742151  600       \n",
       "3742152  756       \n",
       "3742154  539       \n",
       "3742157  357       \n",
       "3742159  323       \n",
       "3742160  416       \n",
       "3742164  272       \n",
       "3742165 1336       \n",
       "3742166  442       \n",
       "3742168  615       \n",
       "3742172  495       \n",
       "3742173  220       \n",
       "3742174  632       \n",
       "3742180  335       \n",
       "3742181  372       \n",
       "3742182  663       \n",
       "3742183 1234       \n",
       "3742184  547       \n",
       "3742185  432       \n",
       "3742186  219       \n",
       "3742187 1113       \n",
       "3742188  555       \n",
       "3742193  877       \n",
       "3742194  279       \n",
       "3742195  309       \n",
       "3742196  357       \n",
       "3742197  373       \n",
       "3742198  433       \n",
       "3742201  326       \n",
       "3742202 1131       "
      ]
     },
     "metadata": {},
     "output_type": "display_data"
    },
    {
     "data": {
      "text/plain": [
       "   ride_id          rideable_type       started_at          ended_at        \n",
       " Length:2664700     Length:2664700     Length:2664700     Length:2664700    \n",
       " Class :character   Class :character   Class :character   Class :character  \n",
       " Mode  :character   Mode  :character   Mode  :character   Mode  :character  \n",
       "                                                                            \n",
       "                                                                            \n",
       "                                                                            \n",
       "                                                                            \n",
       " start_station_name start_station_id   end_station_name   end_station_id    \n",
       " Length:2664700     Length:2664700     Length:2664700     Length:2664700    \n",
       " Class :character   Class :character   Class :character   Class :character  \n",
       " Mode  :character   Mode  :character   Mode  :character   Mode  :character  \n",
       "                                                                            \n",
       "                                                                            \n",
       "                                                                            \n",
       "                                                                            \n",
       "   start_lat       start_lng         end_lat         end_lng      \n",
       " Min.   :41.64   Min.   :-87.81   Min.   :41.64   Min.   :-87.88  \n",
       " 1st Qu.:41.88   1st Qu.:-87.66   1st Qu.:41.88   1st Qu.:-87.66  \n",
       " Median :41.90   Median :-87.64   Median :41.90   Median :-87.64  \n",
       " Mean   :41.90   Mean   :-87.65   Mean   :41.90   Mean   :-87.65  \n",
       " 3rd Qu.:41.93   3rd Qu.:-87.63   3rd Qu.:41.93   3rd Qu.:-87.63  \n",
       " Max.   :42.08   Max.   :-87.52   Max.   :42.08   Max.   :-87.51  \n",
       "                                  NA's   :1235    NA's   :1235    \n",
       " member_casual           date               month               day           \n",
       " Length:2664700     Min.   :2020-05-01   Length:2664700     Length:2664700    \n",
       " Class :character   1st Qu.:2020-07-30   Class :character   Class :character  \n",
       " Mode  :character   Median :2020-09-19   Mode  :character   Mode  :character  \n",
       "                    Mean   :2020-10-10                                        \n",
       "                    3rd Qu.:2020-11-30                                        \n",
       "                    Max.   :2021-04-30                                        \n",
       "                                                                              \n",
       "     year           day_of_week         ride_length    \n",
       " Length:2664700     Length:2664700     Min.   :   1.0  \n",
       " Class :character   Class :character   1st Qu.: 378.0  \n",
       " Mode  :character   Mode  :character   Median : 620.0  \n",
       "                                       Mean   : 666.4  \n",
       "                                       3rd Qu.: 934.0  \n",
       "                                       Max.   :1440.0  \n",
       "                                                       "
      ]
     },
     "metadata": {},
     "output_type": "display_data"
    }
   ],
   "source": [
    "#Check the new data frame\n",
    "dim(all_trips_v2) \n",
    "View(all_trips_v2)\n",
    "summary(all_trips_v2)\n",
    "#Confirmed the total number of rows is 2,664,700 (down from 3,850,936 - decreased by 30% - significant but necessary removals.\n",
    "#1,241 NAs Remains in end_lat and end_long "
   ]
  },
  {
   "cell_type": "markdown",
   "id": "0fd51085",
   "metadata": {
    "papermill": {
     "duration": 0.019829,
     "end_time": "2022-09-02T22:41:25.396138",
     "exception": false,
     "start_time": "2022-09-02T22:41:25.376309",
     "status": "completed"
    },
    "tags": []
   },
   "source": [
    "2. Remove NA data from the all_trips_v2 to get accurate data."
   ]
  },
  {
   "cell_type": "code",
   "execution_count": 20,
   "id": "39e670dd",
   "metadata": {
    "execution": {
     "iopub.execute_input": "2022-09-02T22:41:25.439096Z",
     "iopub.status.busy": "2022-09-02T22:41:25.437575Z",
     "iopub.status.idle": "2022-09-02T22:41:28.125829Z",
     "shell.execute_reply": "2022-09-02T22:41:28.124148Z"
    },
    "papermill": {
     "duration": 2.71126,
     "end_time": "2022-09-02T22:41:28.128059",
     "exception": false,
     "start_time": "2022-09-02T22:41:25.416799",
     "status": "completed"
    },
    "tags": [],
    "vscode": {
     "languageId": "r"
    }
   },
   "outputs": [
    {
     "data": {
      "text/html": [
       "<style>\n",
       ".list-inline {list-style: none; margin:0; padding: 0}\n",
       ".list-inline>li {display: inline-block}\n",
       ".list-inline>li:not(:last-child)::after {content: \"\\00b7\"; padding: 0 .5ex}\n",
       "</style>\n",
       "<ol class=list-inline><li>2563234</li><li>19</li></ol>\n"
      ],
      "text/latex": [
       "\\begin{enumerate*}\n",
       "\\item 2563234\n",
       "\\item 19\n",
       "\\end{enumerate*}\n"
      ],
      "text/markdown": [
       "1. 2563234\n",
       "2. 19\n",
       "\n",
       "\n"
      ],
      "text/plain": [
       "[1] 2563234      19"
      ]
     },
     "metadata": {},
     "output_type": "display_data"
    },
    {
     "data": {
      "text/plain": [
       "   ride_id          rideable_type       started_at          ended_at        \n",
       " Length:2563234     Length:2563234     Length:2563234     Length:2563234    \n",
       " Class :character   Class :character   Class :character   Class :character  \n",
       " Mode  :character   Mode  :character   Mode  :character   Mode  :character  \n",
       "                                                                            \n",
       "                                                                            \n",
       "                                                                            \n",
       " start_station_name start_station_id   end_station_name   end_station_id    \n",
       " Length:2563234     Length:2563234     Length:2563234     Length:2563234    \n",
       " Class :character   Class :character   Class :character   Class :character  \n",
       " Mode  :character   Mode  :character   Mode  :character   Mode  :character  \n",
       "                                                                            \n",
       "                                                                            \n",
       "                                                                            \n",
       "   start_lat       start_lng         end_lat         end_lng      \n",
       " Min.   :41.65   Min.   :-87.78   Min.   :41.64   Min.   :-87.80  \n",
       " 1st Qu.:41.88   1st Qu.:-87.66   1st Qu.:41.88   1st Qu.:-87.66  \n",
       " Median :41.90   Median :-87.64   Median :41.90   Median :-87.64  \n",
       " Mean   :41.91   Mean   :-87.65   Mean   :41.91   Mean   :-87.65  \n",
       " 3rd Qu.:41.93   3rd Qu.:-87.63   3rd Qu.:41.93   3rd Qu.:-87.63  \n",
       " Max.   :42.07   Max.   :-87.52   Max.   :42.07   Max.   :-87.51  \n",
       " member_casual           date               month               day           \n",
       " Length:2563234     Min.   :2020-05-01   Length:2563234     Length:2563234    \n",
       " Class :character   1st Qu.:2020-07-28   Class :character   Class :character  \n",
       " Mode  :character   Median :2020-09-17   Mode  :character   Mode  :character  \n",
       "                    Mean   :2020-10-10                                        \n",
       "                    3rd Qu.:2020-12-06                                        \n",
       "                    Max.   :2021-04-30                                        \n",
       "     year           day_of_week         ride_length    \n",
       " Length:2563234     Length:2563234     Min.   :   1.0  \n",
       " Class :character   Class :character   1st Qu.: 381.0  \n",
       " Mode  :character   Mode  :character   Median : 623.0  \n",
       "                                       Mean   : 669.3  \n",
       "                                       3rd Qu.: 937.0  \n",
       "                                       Max.   :1440.0  "
      ]
     },
     "metadata": {},
     "output_type": "display_data"
    }
   ],
   "source": [
    "#Drop all NAs\n",
    "all_trips_v2 <- drop_na(all_trips_v2)\n",
    "dim(all_trips_v2) \n",
    "summary(all_trips_v2)\n",
    "# Confirmed all the NA is gone."
   ]
  },
  {
   "cell_type": "markdown",
   "id": "ec87fab6",
   "metadata": {
    "papermill": {
     "duration": 0.018745,
     "end_time": "2022-09-02T22:41:28.165134",
     "exception": false,
     "start_time": "2022-09-02T22:41:28.146389",
     "status": "completed"
    },
    "tags": []
   },
   "source": [
    "3. Remove duplicated ID as I confirmed ride ID is associated with each ride, not riders."
   ]
  },
  {
   "cell_type": "code",
   "execution_count": 21,
   "id": "9a0e26ae",
   "metadata": {
    "execution": {
     "iopub.execute_input": "2022-09-02T22:41:28.244206Z",
     "iopub.status.busy": "2022-09-02T22:41:28.242522Z",
     "iopub.status.idle": "2022-09-02T22:41:31.265097Z",
     "shell.execute_reply": "2022-09-02T22:41:31.263422Z"
    },
    "papermill": {
     "duration": 3.083731,
     "end_time": "2022-09-02T22:41:31.267574",
     "exception": false,
     "start_time": "2022-09-02T22:41:28.183843",
     "status": "completed"
    },
    "tags": [],
    "vscode": {
     "languageId": "r"
    }
   },
   "outputs": [
    {
     "data": {
      "text/html": [
       "<style>\n",
       ".list-inline {list-style: none; margin:0; padding: 0}\n",
       ".list-inline>li {display: inline-block}\n",
       ".list-inline>li:not(:last-child)::after {content: \"\\00b7\"; padding: 0 .5ex}\n",
       "</style>\n",
       "<ol class=list-inline><li>2563234</li><li>19</li></ol>\n"
      ],
      "text/latex": [
       "\\begin{enumerate*}\n",
       "\\item 2563234\n",
       "\\item 19\n",
       "\\end{enumerate*}\n"
      ],
      "text/markdown": [
       "1. 2563234\n",
       "2. 19\n",
       "\n",
       "\n"
      ],
      "text/plain": [
       "[1] 2563234      19"
      ]
     },
     "metadata": {},
     "output_type": "display_data"
    }
   ],
   "source": [
    "#Remove duplicated ID (confirmed different ride_id is assigned for every rides even if same rider uses this service):\n",
    "all_trips_v3 <- all_trips_v2[!duplicated(all_trips_v2$ride_id),]\n",
    "dim(all_trips_v3) \n",
    "# Confirmed 2,563,234 remained (Original data has 3,850,936 >>> Valid)"
   ]
  },
  {
   "cell_type": "markdown",
   "id": "401ddf37",
   "metadata": {
    "papermill": {
     "duration": 0.019268,
     "end_time": "2022-09-02T22:41:31.305771",
     "exception": false,
     "start_time": "2022-09-02T22:41:31.286503",
     "status": "completed"
    },
    "tags": []
   },
   "source": [
    "Data Cleaning/Validation process has been completed at this point.\n",
    "\n",
    "Next, I am going to create additional columns for further analysis."
   ]
  },
  {
   "cell_type": "code",
   "execution_count": 22,
   "id": "6c5d301b",
   "metadata": {
    "execution": {
     "iopub.execute_input": "2022-09-02T22:41:31.347296Z",
     "iopub.status.busy": "2022-09-02T22:41:31.345740Z",
     "iopub.status.idle": "2022-09-02T22:41:38.950308Z",
     "shell.execute_reply": "2022-09-02T22:41:38.948410Z"
    },
    "papermill": {
     "duration": 7.628359,
     "end_time": "2022-09-02T22:41:38.953624",
     "exception": false,
     "start_time": "2022-09-02T22:41:31.325265",
     "status": "completed"
    },
    "tags": [],
    "vscode": {
     "languageId": "r"
    }
   },
   "outputs": [
    {
     "data": {
      "text/html": [
       "<table class=\"dataframe\">\n",
       "<caption>A data.frame: 2563234 × 20</caption>\n",
       "<thead>\n",
       "\t<tr><th></th><th scope=col>ride_id</th><th scope=col>rideable_type</th><th scope=col>started_at</th><th scope=col>ended_at</th><th scope=col>start_station_name</th><th scope=col>start_station_id</th><th scope=col>end_station_name</th><th scope=col>end_station_id</th><th scope=col>start_lat</th><th scope=col>start_lng</th><th scope=col>end_lat</th><th scope=col>end_lng</th><th scope=col>member_casual</th><th scope=col>date</th><th scope=col>month</th><th scope=col>day</th><th scope=col>year</th><th scope=col>day_of_week</th><th scope=col>ride_length</th><th scope=col>ride_distance</th></tr>\n",
       "\t<tr><th></th><th scope=col>&lt;chr&gt;</th><th scope=col>&lt;chr&gt;</th><th scope=col>&lt;chr&gt;</th><th scope=col>&lt;chr&gt;</th><th scope=col>&lt;chr&gt;</th><th scope=col>&lt;chr&gt;</th><th scope=col>&lt;chr&gt;</th><th scope=col>&lt;chr&gt;</th><th scope=col>&lt;dbl&gt;</th><th scope=col>&lt;dbl&gt;</th><th scope=col>&lt;dbl&gt;</th><th scope=col>&lt;dbl&gt;</th><th scope=col>&lt;chr&gt;</th><th scope=col>&lt;date&gt;</th><th scope=col>&lt;chr&gt;</th><th scope=col>&lt;chr&gt;</th><th scope=col>&lt;chr&gt;</th><th scope=col>&lt;chr&gt;</th><th scope=col>&lt;dbl&gt;</th><th scope=col>&lt;dbl&gt;</th></tr>\n",
       "</thead>\n",
       "<tbody>\n",
       "\t<tr><th scope=row>1</th><td>02668AD35674B983</td><td>docked_bike</td><td>2020-05-27 10:03:52</td><td>2020-05-27 10:16:49</td><td><span style=white-space:pre-wrap>Franklin St &amp; Jackson Blvd    </span></td><td>36 </td><td><span style=white-space:pre-wrap>Wabash Ave &amp; Grand Ave              </span></td><td>199</td><td>41.8777</td><td>-87.6353</td><td>41.8915</td><td>-87.6268</td><td>member</td><td>2020-05-27</td><td>05</td><td>27</td><td>2020</td><td>Wednesday</td><td> 777</td><td>1687.3498</td></tr>\n",
       "\t<tr><th scope=row>2</th><td>7A50CCAF1EDDB28F</td><td>docked_bike</td><td>2020-05-25 10:47:11</td><td>2020-05-25 11:05:40</td><td><span style=white-space:pre-wrap>Clark St &amp; Wrightwood Ave     </span></td><td>340</td><td><span style=white-space:pre-wrap>Clark St &amp; Leland Ave               </span></td><td>326</td><td>41.9295</td><td>-87.6431</td><td>41.9671</td><td>-87.6674</td><td>casual</td><td>2020-05-25</td><td>05</td><td>25</td><td>2020</td><td><span style=white-space:pre-wrap>Monday   </span></td><td>1109</td><td>4636.9667</td></tr>\n",
       "\t<tr><th scope=row>3</th><td>58991CF1DB75BA84</td><td>docked_bike</td><td>2020-05-02 16:25:36</td><td>2020-05-02 16:39:28</td><td><span style=white-space:pre-wrap>Clarendon Ave &amp; Leland Ave    </span></td><td>251</td><td><span style=white-space:pre-wrap>Lake Shore Dr &amp; Wellington Ave      </span></td><td>157</td><td>41.9680</td><td>-87.6500</td><td>41.9367</td><td>-87.6368</td><td>casual</td><td>2020-05-02</td><td>05</td><td>02</td><td>2020</td><td>Saturday </td><td> 832</td><td>3644.7653</td></tr>\n",
       "\t<tr><th scope=row>4</th><td>23AFBD962F9C8F14</td><td>docked_bike</td><td>2020-05-30 17:00:58</td><td>2020-05-30 17:19:52</td><td><span style=white-space:pre-wrap>Halsted St &amp; Clybourn Ave     </span></td><td>331</td><td><span style=white-space:pre-wrap>Broadway &amp; Barry Ave                </span></td><td>300</td><td>41.9097</td><td>-87.6481</td><td>41.9377</td><td>-87.6441</td><td>casual</td><td>2020-05-30</td><td>05</td><td>30</td><td>2020</td><td>Saturday </td><td>1134</td><td>3127.6597</td></tr>\n",
       "\t<tr><th scope=row>5</th><td>DF3BE94DF2CB082E</td><td>docked_bike</td><td>2020-05-28 14:29:23</td><td>2020-05-28 14:43:46</td><td><span style=white-space:pre-wrap>Fairbanks Ct &amp; Grand Ave      </span></td><td>24 </td><td>Mies van der Rohe Way &amp; Chestnut St </td><td>145</td><td>41.8918</td><td>-87.6206</td><td>41.8986</td><td>-87.6219</td><td>casual</td><td>2020-05-28</td><td>05</td><td>28</td><td>2020</td><td>Thursday </td><td> 863</td><td> 762.9504</td></tr>\n",
       "\t<tr><th scope=row>6</th><td>6AA701EBA46EAF9A</td><td>docked_bike</td><td>2020-05-24 08:39:50</td><td>2020-05-24 08:58:22</td><td><span style=white-space:pre-wrap>Canal St &amp; Adams St           </span></td><td>192</td><td><span style=white-space:pre-wrap>Indiana Ave &amp; Roosevelt Rd          </span></td><td>255</td><td>41.8793</td><td>-87.6399</td><td>41.8679</td><td>-87.6230</td><td>member</td><td>2020-05-24</td><td>05</td><td>24</td><td>2020</td><td><span style=white-space:pre-wrap>Sunday   </span></td><td>1112</td><td>1889.8511</td></tr>\n",
       "\t<tr><th scope=row>7</th><td>9D3F29466533D0A9</td><td>docked_bike</td><td>2020-05-02 20:48:54</td><td>2020-05-02 21:06:30</td><td>Sheffield Ave &amp; Fullerton Ave </td><td>67 </td><td>Orleans St &amp; Chestnut St (NEXT Apts)</td><td>620</td><td>41.9256</td><td>-87.6537</td><td>41.8982</td><td>-87.6375</td><td>casual</td><td>2020-05-02</td><td>05</td><td>02</td><td>2020</td><td>Saturday </td><td>1056</td><td>3326.9309</td></tr>\n",
       "\t<tr><th scope=row>8</th><td>CDAEA6AC2DEDF077</td><td>docked_bike</td><td>2020-05-25 16:23:49</td><td>2020-05-25 16:46:57</td><td><span style=white-space:pre-wrap>Western Ave &amp; Division St     </span></td><td>305</td><td><span style=white-space:pre-wrap>McClurg Ct &amp; Illinois St            </span></td><td>26 </td><td>41.9029</td><td>-87.6873</td><td>41.8904</td><td>-87.6175</td><td>member</td><td>2020-05-25</td><td>05</td><td>25</td><td>2020</td><td><span style=white-space:pre-wrap>Monday   </span></td><td>1388</td><td>5956.4023</td></tr>\n",
       "\t<tr><th scope=row>9</th><td>73FB492713920CD8</td><td>docked_bike</td><td>2020-05-10 00:11:22</td><td>2020-05-10 00:19:48</td><td><span style=white-space:pre-wrap>Michigan Ave &amp; 18th St        </span></td><td>273</td><td><span style=white-space:pre-wrap>Wabash Ave &amp; 9th St                 </span></td><td>321</td><td>41.8578</td><td>-87.6246</td><td>41.8708</td><td>-87.6257</td><td>casual</td><td>2020-05-10</td><td>05</td><td>10</td><td>2020</td><td><span style=white-space:pre-wrap>Sunday   </span></td><td> 506</td><td>1446.8039</td></tr>\n",
       "\t<tr><th scope=row>10</th><td>CFD32C903045E9B9</td><td>docked_bike</td><td>2020-05-30 13:56:57</td><td>2020-05-30 14:08:34</td><td>Lincoln Ave &amp; Belle Plaine Ave</td><td>298</td><td><span style=white-space:pre-wrap>Washtenaw Ave &amp; Lawrence Ave        </span></td><td>475</td><td>41.9560</td><td>-87.6803</td><td>41.9690</td><td>-87.6960</td><td>casual</td><td>2020-05-30</td><td>05</td><td>30</td><td>2020</td><td>Saturday </td><td> 697</td><td>1943.9463</td></tr>\n",
       "\t<tr><th scope=row>11</th><td>15E9545916C0A70D</td><td>docked_bike</td><td>2020-05-01 15:32:53</td><td>2020-05-01 15:45:12</td><td><span style=white-space:pre-wrap>Lincolnwood Dr &amp; Central St   </span></td><td>663</td><td><span style=white-space:pre-wrap>Central St &amp; Girard Ave             </span></td><td>602</td><td>42.0649</td><td>-87.7153</td><td>42.0643</td><td>-87.6862</td><td>member</td><td>2020-05-01</td><td>05</td><td>01</td><td>2020</td><td><span style=white-space:pre-wrap>Friday   </span></td><td> 739</td><td>2409.4390</td></tr>\n",
       "\t<tr><th scope=row>12</th><td>D96371F35A485696</td><td>docked_bike</td><td>2020-05-01 15:47:39</td><td>2020-05-01 16:02:52</td><td><span style=white-space:pre-wrap>Central St &amp; Girard Ave       </span></td><td>602</td><td><span style=white-space:pre-wrap>Chicago Ave &amp; Sheridan Rd           </span></td><td>603</td><td>42.0643</td><td>-87.6862</td><td>42.0505</td><td>-87.6778</td><td>member</td><td>2020-05-01</td><td>05</td><td>01</td><td>2020</td><td><span style=white-space:pre-wrap>Friday   </span></td><td> 913</td><td>1683.1602</td></tr>\n",
       "\t<tr><th scope=row>13</th><td>4862102063FCE165</td><td>docked_bike</td><td>2020-05-20 18:19:20</td><td>2020-05-20 18:43:08</td><td>Sheffield Ave &amp; Wellington Ave</td><td>115</td><td><span style=white-space:pre-wrap>Damen Ave &amp; Pierce Ave              </span></td><td>69 </td><td>41.9363</td><td>-87.6527</td><td>41.9094</td><td>-87.6777</td><td>member</td><td>2020-05-20</td><td>05</td><td>20</td><td>2020</td><td>Wednesday</td><td>1428</td><td>3636.9839</td></tr>\n",
       "\t<tr><th scope=row>14</th><td>B803FBA7A77D41A3</td><td>docked_bike</td><td>2020-05-27 20:34:20</td><td>2020-05-27 20:57:23</td><td><span style=white-space:pre-wrap>Damen Ave &amp; Pierce Ave        </span></td><td>69 </td><td><span style=white-space:pre-wrap>Sheffield Ave &amp; Wellington Ave      </span></td><td>115</td><td>41.9094</td><td>-87.6777</td><td>41.9363</td><td>-87.6527</td><td>member</td><td>2020-05-27</td><td>05</td><td>27</td><td>2020</td><td>Wednesday</td><td>1383</td><td>3636.9839</td></tr>\n",
       "\t<tr><th scope=row>15</th><td>A80F390E173B72EA</td><td>docked_bike</td><td>2020-05-20 20:18:29</td><td>2020-05-20 20:19:20</td><td><span style=white-space:pre-wrap>Damen Ave &amp; Pierce Ave        </span></td><td>69 </td><td><span style=white-space:pre-wrap>Damen Ave &amp; Pierce Ave              </span></td><td>69 </td><td>41.9094</td><td>-87.6777</td><td>41.9094</td><td>-87.6777</td><td>member</td><td>2020-05-20</td><td>05</td><td>20</td><td>2020</td><td>Wednesday</td><td><span style=white-space:pre-wrap>  51</span></td><td><span style=white-space:pre-wrap>   0.0000</span></td></tr>\n",
       "\t<tr><th scope=row>16</th><td>4267A0BB80680713</td><td>docked_bike</td><td>2020-05-28 19:02:53</td><td>2020-05-28 19:08:40</td><td>Sheffield Ave &amp; Wellington Ave</td><td>115</td><td><span style=white-space:pre-wrap>Ashland Ave &amp; Wellington Ave        </span></td><td>250</td><td>41.9363</td><td>-87.6527</td><td>41.9361</td><td>-87.6698</td><td>member</td><td>2020-05-28</td><td>05</td><td>28</td><td>2020</td><td>Thursday </td><td> 347</td><td>1418.3363</td></tr>\n",
       "\t<tr><th scope=row>17</th><td>1B8CF206CF4A3731</td><td>docked_bike</td><td>2020-05-02 18:09:27</td><td>2020-05-02 18:18:11</td><td><span style=white-space:pre-wrap>Morgan St &amp; 18th St           </span></td><td>14 </td><td><span style=white-space:pre-wrap>Emerald Ave &amp; 31st St               </span></td><td>339</td><td>41.8581</td><td>-87.6511</td><td>41.8382</td><td>-87.6451</td><td>member</td><td>2020-05-02</td><td>05</td><td>02</td><td>2020</td><td>Saturday </td><td> 524</td><td>2265.7697</td></tr>\n",
       "\t<tr><th scope=row>18</th><td>578742018FA77B2A</td><td>docked_bike</td><td>2020-05-08 20:03:15</td><td>2020-05-08 20:12:56</td><td><span style=white-space:pre-wrap>Morgan St &amp; 18th St           </span></td><td>14 </td><td><span style=white-space:pre-wrap>Emerald Ave &amp; 31st St               </span></td><td>339</td><td>41.8581</td><td>-87.6511</td><td>41.8382</td><td>-87.6451</td><td>member</td><td>2020-05-08</td><td>05</td><td>08</td><td>2020</td><td><span style=white-space:pre-wrap>Friday   </span></td><td> 581</td><td>2265.7697</td></tr>\n",
       "\t<tr><th scope=row>19</th><td>9E5E4A56B7191D32</td><td>docked_bike</td><td>2020-05-08 17:56:56</td><td>2020-05-08 18:02:21</td><td><span style=white-space:pre-wrap>May St &amp; Taylor St            </span></td><td>22 </td><td><span style=white-space:pre-wrap>Racine Ave &amp; 18th St                </span></td><td>15 </td><td>41.8695</td><td>-87.6555</td><td>41.8582</td><td>-87.6565</td><td>member</td><td>2020-05-08</td><td>05</td><td>08</td><td>2020</td><td><span style=white-space:pre-wrap>Friday   </span></td><td> 325</td><td>1257.8414</td></tr>\n",
       "\t<tr><th scope=row>20</th><td>697B81BD60E138A2</td><td>docked_bike</td><td>2020-05-08 17:47:45</td><td>2020-05-08 17:53:48</td><td><span style=white-space:pre-wrap>Racine Ave &amp; 18th St          </span></td><td>15 </td><td><span style=white-space:pre-wrap>May St &amp; Taylor St                  </span></td><td>22 </td><td>41.8582</td><td>-87.6565</td><td>41.8695</td><td>-87.6555</td><td>member</td><td>2020-05-08</td><td>05</td><td>08</td><td>2020</td><td><span style=white-space:pre-wrap>Friday   </span></td><td> 363</td><td>1257.8414</td></tr>\n",
       "\t<tr><th scope=row>21</th><td>D494B0B04EEC3D77</td><td>docked_bike</td><td>2020-05-03 13:44:59</td><td>2020-05-03 13:50:44</td><td>Throop (Loomis) St &amp; Taylor St</td><td>19 </td><td><span style=white-space:pre-wrap>Racine Ave &amp; 18th St                </span></td><td>15 </td><td>41.8690</td><td>-87.6591</td><td>41.8582</td><td>-87.6565</td><td>member</td><td>2020-05-03</td><td>05</td><td>03</td><td>2020</td><td><span style=white-space:pre-wrap>Sunday   </span></td><td> 345</td><td>1218.8320</td></tr>\n",
       "\t<tr><th scope=row>22</th><td>0A082D5DB3C57404</td><td>docked_bike</td><td>2020-05-01 17:55:45</td><td>2020-05-01 18:04:57</td><td><span style=white-space:pre-wrap>Morgan St &amp; 18th St           </span></td><td>14 </td><td><span style=white-space:pre-wrap>Emerald Ave &amp; 31st St               </span></td><td>339</td><td>41.8581</td><td>-87.6511</td><td>41.8382</td><td>-87.6451</td><td>member</td><td>2020-05-01</td><td>05</td><td>01</td><td>2020</td><td><span style=white-space:pre-wrap>Friday   </span></td><td> 552</td><td>2265.7697</td></tr>\n",
       "\t<tr><th scope=row>23</th><td>985344F66F90A1D3</td><td>docked_bike</td><td>2020-05-02 06:46:40</td><td>2020-05-02 06:55:12</td><td><span style=white-space:pre-wrap>Morgan St &amp; 18th St           </span></td><td>14 </td><td><span style=white-space:pre-wrap>Emerald Ave &amp; 31st St               </span></td><td>339</td><td>41.8581</td><td>-87.6511</td><td>41.8382</td><td>-87.6451</td><td>member</td><td>2020-05-02</td><td>05</td><td>02</td><td>2020</td><td>Saturday </td><td> 512</td><td>2265.7697</td></tr>\n",
       "\t<tr><th scope=row>24</th><td>453FCC9C56899771</td><td>docked_bike</td><td>2020-05-03 11:37:01</td><td>2020-05-03 11:58:34</td><td>Lake Shore Dr &amp; Wellington Ave</td><td>157</td><td><span style=white-space:pre-wrap>Rush St &amp; Cedar St                  </span></td><td>172</td><td>41.9367</td><td>-87.6368</td><td>41.9023</td><td>-87.6277</td><td>member</td><td>2020-05-03</td><td>05</td><td>03</td><td>2020</td><td><span style=white-space:pre-wrap>Sunday   </span></td><td>1293</td><td>3894.7255</td></tr>\n",
       "\t<tr><th scope=row>25</th><td>28F3C48900B69E85</td><td>docked_bike</td><td>2020-05-16 19:29:06</td><td>2020-05-16 19:31:03</td><td><span style=white-space:pre-wrap>LaSalle St &amp; Illinois St      </span></td><td>181</td><td><span style=white-space:pre-wrap>Dearborn St &amp; Erie St               </span></td><td>110</td><td>41.8908</td><td>-87.6317</td><td>41.8940</td><td>-87.6293</td><td>member</td><td>2020-05-16</td><td>05</td><td>16</td><td>2020</td><td>Saturday </td><td> 117</td><td> 407.4312</td></tr>\n",
       "\t<tr><th scope=row>26</th><td>75C885AC4407F508</td><td>docked_bike</td><td>2020-05-10 14:44:33</td><td>2020-05-10 14:56:02</td><td>Sheffield Ave &amp; Wellington Ave</td><td>115</td><td><span style=white-space:pre-wrap>Sheffield Ave &amp; Wellington Ave      </span></td><td>115</td><td>41.9363</td><td>-87.6527</td><td>41.9363</td><td>-87.6527</td><td>member</td><td>2020-05-10</td><td>05</td><td>10</td><td>2020</td><td><span style=white-space:pre-wrap>Sunday   </span></td><td> 689</td><td><span style=white-space:pre-wrap>   0.0000</span></td></tr>\n",
       "\t<tr><th scope=row>27</th><td>54C18CE7236AF98F</td><td>docked_bike</td><td>2020-05-28 14:28:59</td><td>2020-05-28 14:31:54</td><td><span style=white-space:pre-wrap>LaSalle St &amp; Illinois St      </span></td><td>181</td><td><span style=white-space:pre-wrap>Dearborn St &amp; Erie St               </span></td><td>110</td><td>41.8908</td><td>-87.6317</td><td>41.8940</td><td>-87.6293</td><td>member</td><td>2020-05-28</td><td>05</td><td>28</td><td>2020</td><td>Thursday </td><td> 175</td><td> 407.4312</td></tr>\n",
       "\t<tr><th scope=row>28</th><td>A6C7E13D585593BE</td><td>docked_bike</td><td>2020-05-03 14:02:59</td><td>2020-05-03 14:08:28</td><td><span style=white-space:pre-wrap>Dearborn Pkwy &amp; Delaware Pl   </span></td><td>140</td><td><span style=white-space:pre-wrap>LaSalle St &amp; Illinois St            </span></td><td>181</td><td>41.8990</td><td>-87.6299</td><td>41.8908</td><td>-87.6317</td><td>member</td><td>2020-05-03</td><td>05</td><td>03</td><td>2020</td><td><span style=white-space:pre-wrap>Sunday   </span></td><td> 329</td><td> 922.9524</td></tr>\n",
       "\t<tr><th scope=row>29</th><td>E9966544A04F4055</td><td>docked_bike</td><td>2020-05-27 18:57:30</td><td>2020-05-27 19:14:47</td><td>Sheffield Ave &amp; Wellington Ave</td><td>115</td><td><span style=white-space:pre-wrap>Damen Ave &amp; Pierce Ave              </span></td><td>69 </td><td>41.9363</td><td>-87.6527</td><td>41.9094</td><td>-87.6777</td><td>member</td><td>2020-05-27</td><td>05</td><td>27</td><td>2020</td><td>Wednesday</td><td>1037</td><td>3636.9839</td></tr>\n",
       "\t<tr><th scope=row>30</th><td>BD2AE7EDEEC0C1D7</td><td>docked_bike</td><td>2020-05-04 12:35:01</td><td>2020-05-04 12:37:01</td><td><span style=white-space:pre-wrap>LaSalle St &amp; Illinois St      </span></td><td>181</td><td><span style=white-space:pre-wrap>Dearborn St &amp; Erie St               </span></td><td>110</td><td>41.8908</td><td>-87.6317</td><td>41.8940</td><td>-87.6293</td><td>member</td><td>2020-05-04</td><td>05</td><td>04</td><td>2020</td><td><span style=white-space:pre-wrap>Monday   </span></td><td> 120</td><td> 407.4312</td></tr>\n",
       "\t<tr><th scope=row>⋮</th><td>⋮</td><td>⋮</td><td>⋮</td><td>⋮</td><td>⋮</td><td>⋮</td><td>⋮</td><td>⋮</td><td>⋮</td><td>⋮</td><td>⋮</td><td>⋮</td><td>⋮</td><td>⋮</td><td>⋮</td><td>⋮</td><td>⋮</td><td>⋮</td><td>⋮</td><td>⋮</td></tr>\n",
       "\t<tr><th scope=row>2563205</th><td>90B9B230F90A3F0F</td><td>classic_bike </td><td>2021-04-03 14:50:12</td><td>2021-04-03 15:00:12</td><td><span style=white-space:pre-wrap>McClurg Ct &amp; Erie St               </span></td><td>KA1503000041</td><td><span style=white-space:pre-wrap>Streeter Dr &amp; Grand Ave     </span></td><td>13022</td><td>41.89450</td><td>-87.61785</td><td>41.89228</td><td>-87.61204</td><td>casual</td><td>2021-04-03</td><td>04</td><td>03</td><td>2021</td><td>Saturday </td><td> 600</td><td> 541.8843</td></tr>\n",
       "\t<tr><th scope=row>2563206</th><td>7B6981560E0F5D78</td><td>electric_bike</td><td>2021-04-04 17:09:40</td><td>2021-04-04 17:22:16</td><td><span style=white-space:pre-wrap>Kedzie Ave &amp; Palmer Ct             </span></td><td><span style=white-space:pre-wrap>13292       </span></td><td>Milwaukee Ave &amp; Wabansia Ave</td><td>13243</td><td>41.92153</td><td>-87.70734</td><td>41.91264</td><td>-87.68144</td><td>casual</td><td>2021-04-04</td><td>04</td><td>04</td><td>2021</td><td><span style=white-space:pre-wrap>Sunday   </span></td><td> 756</td><td>2364.6652</td></tr>\n",
       "\t<tr><th scope=row>2563207</th><td>DE21332FE11242C0</td><td>classic_bike </td><td>2021-04-10 08:01:23</td><td>2021-04-10 08:10:22</td><td><span style=white-space:pre-wrap>McClurg Ct &amp; Erie St               </span></td><td>KA1503000041</td><td><span style=white-space:pre-wrap>Franklin St &amp; Chicago Ave   </span></td><td>13017</td><td>41.89450</td><td>-87.61785</td><td>41.89675</td><td>-87.63567</td><td>casual</td><td>2021-04-10</td><td>04</td><td>10</td><td>2021</td><td>Saturday </td><td> 539</td><td>1499.1455</td></tr>\n",
       "\t<tr><th scope=row>2563208</th><td>100EB567A4DA859F</td><td>classic_bike </td><td>2021-04-21 06:47:10</td><td>2021-04-21 06:53:07</td><td>Mies van der Rohe Way &amp; Chestnut St</td><td><span style=white-space:pre-wrap>15529       </span></td><td><span style=white-space:pre-wrap>Franklin St &amp; Chicago Ave   </span></td><td>13017</td><td>41.89859</td><td>-87.62192</td><td>41.89675</td><td>-87.63567</td><td>member</td><td>2021-04-21</td><td>04</td><td>21</td><td>2021</td><td>Wednesday</td><td> 357</td><td>1159.3690</td></tr>\n",
       "\t<tr><th scope=row>2563209</th><td>3CE8708D3CE3324C</td><td>classic_bike </td><td>2021-04-06 17:23:52</td><td>2021-04-06 17:29:15</td><td><span style=white-space:pre-wrap>McClurg Ct &amp; Erie St               </span></td><td>KA1503000041</td><td><span style=white-space:pre-wrap>Streeter Dr &amp; Grand Ave     </span></td><td>13022</td><td>41.89450</td><td>-87.61785</td><td>41.89228</td><td>-87.61204</td><td>member</td><td>2021-04-06</td><td>04</td><td>06</td><td>2021</td><td><span style=white-space:pre-wrap>Tuesday  </span></td><td> 323</td><td> 541.8843</td></tr>\n",
       "\t<tr><th scope=row>2563210</th><td>4798863804F83C4D</td><td>classic_bike </td><td>2021-04-26 08:03:29</td><td>2021-04-26 08:10:25</td><td>Mies van der Rohe Way &amp; Chestnut St</td><td><span style=white-space:pre-wrap>15529       </span></td><td><span style=white-space:pre-wrap>Franklin St &amp; Chicago Ave   </span></td><td>13017</td><td>41.89859</td><td>-87.62192</td><td>41.89675</td><td>-87.63567</td><td>member</td><td>2021-04-26</td><td>04</td><td>26</td><td>2021</td><td><span style=white-space:pre-wrap>Monday   </span></td><td> 416</td><td>1159.3690</td></tr>\n",
       "\t<tr><th scope=row>2563211</th><td>DE89853ACA56DC58</td><td>classic_bike </td><td>2021-04-17 07:01:27</td><td>2021-04-17 07:05:59</td><td>Mies van der Rohe Way &amp; Chestnut St</td><td><span style=white-space:pre-wrap>15529       </span></td><td><span style=white-space:pre-wrap>Franklin St &amp; Chicago Ave   </span></td><td>13017</td><td>41.89859</td><td>-87.62192</td><td>41.89675</td><td>-87.63567</td><td>member</td><td>2021-04-17</td><td>04</td><td>17</td><td>2021</td><td>Saturday </td><td> 272</td><td>1159.3690</td></tr>\n",
       "\t<tr><th scope=row>2563212</th><td>3C2574F0015DD790</td><td>classic_bike </td><td>2021-04-03 19:20:59</td><td>2021-04-03 19:43:15</td><td><span style=white-space:pre-wrap>Canal St &amp; Harrison St             </span></td><td><span style=white-space:pre-wrap>13326       </span></td><td>Milwaukee Ave &amp; Wabansia Ave</td><td>13243</td><td>41.87425</td><td>-87.63957</td><td>41.91262</td><td>-87.68139</td><td>casual</td><td>2021-04-03</td><td>04</td><td>03</td><td>2021</td><td>Saturday </td><td>1336</td><td>5495.2987</td></tr>\n",
       "\t<tr><th scope=row>2563213</th><td>52FA297D1E84EF10</td><td>classic_bike </td><td>2021-04-23 11:03:35</td><td>2021-04-23 11:10:57</td><td><span style=white-space:pre-wrap>McClurg Ct &amp; Erie St               </span></td><td>KA1503000041</td><td><span style=white-space:pre-wrap>Streeter Dr &amp; Grand Ave     </span></td><td>13022</td><td>41.89450</td><td>-87.61785</td><td>41.89228</td><td>-87.61204</td><td>casual</td><td>2021-04-23</td><td>04</td><td>23</td><td>2021</td><td><span style=white-space:pre-wrap>Friday   </span></td><td> 442</td><td> 541.8843</td></tr>\n",
       "\t<tr><th scope=row>2563214</th><td>51DA3C644DD4EE46</td><td>classic_bike </td><td>2021-04-27 18:40:31</td><td>2021-04-27 18:50:46</td><td>Mies van der Rohe Way &amp; Chestnut St</td><td><span style=white-space:pre-wrap>15529       </span></td><td><span style=white-space:pre-wrap>Streeter Dr &amp; Grand Ave     </span></td><td>13022</td><td>41.89859</td><td>-87.62192</td><td>41.89228</td><td>-87.61204</td><td>casual</td><td>2021-04-27</td><td>04</td><td>27</td><td>2021</td><td><span style=white-space:pre-wrap>Tuesday  </span></td><td> 615</td><td>1078.0444</td></tr>\n",
       "\t<tr><th scope=row>2563215</th><td>AE2140982CE74E3D</td><td>classic_bike </td><td>2021-04-16 10:32:08</td><td>2021-04-16 10:40:23</td><td><span style=white-space:pre-wrap>Kedzie Ave &amp; Palmer Ct             </span></td><td><span style=white-space:pre-wrap>13292       </span></td><td>Milwaukee Ave &amp; Wabansia Ave</td><td>13243</td><td>41.92153</td><td>-87.70732</td><td>41.91262</td><td>-87.68139</td><td>member</td><td>2021-04-16</td><td>04</td><td>16</td><td>2021</td><td><span style=white-space:pre-wrap>Friday   </span></td><td> 495</td><td>2367.8692</td></tr>\n",
       "\t<tr><th scope=row>2563216</th><td>52DB1F82E1EB416D</td><td>classic_bike </td><td>2021-04-27 17:31:52</td><td>2021-04-27 17:35:32</td><td><span style=white-space:pre-wrap>McClurg Ct &amp; Erie St               </span></td><td>KA1503000041</td><td><span style=white-space:pre-wrap>Streeter Dr &amp; Grand Ave     </span></td><td>13022</td><td>41.89450</td><td>-87.61785</td><td>41.89228</td><td>-87.61204</td><td>member</td><td>2021-04-27</td><td>04</td><td>27</td><td>2021</td><td><span style=white-space:pre-wrap>Tuesday  </span></td><td> 220</td><td> 541.8843</td></tr>\n",
       "\t<tr><th scope=row>2563217</th><td>32D8D5039D8F1B7F</td><td>classic_bike </td><td>2021-04-27 18:40:30</td><td>2021-04-27 18:51:02</td><td>Mies van der Rohe Way &amp; Chestnut St</td><td><span style=white-space:pre-wrap>15529       </span></td><td><span style=white-space:pre-wrap>Streeter Dr &amp; Grand Ave     </span></td><td>13022</td><td>41.89859</td><td>-87.62192</td><td>41.89228</td><td>-87.61204</td><td>casual</td><td>2021-04-27</td><td>04</td><td>27</td><td>2021</td><td><span style=white-space:pre-wrap>Tuesday  </span></td><td> 632</td><td>1078.0444</td></tr>\n",
       "\t<tr><th scope=row>2563218</th><td>EDA860C3F01EAE26</td><td>classic_bike </td><td>2021-04-25 09:39:42</td><td>2021-04-25 09:45:17</td><td>Mies van der Rohe Way &amp; Chestnut St</td><td><span style=white-space:pre-wrap>15529       </span></td><td><span style=white-space:pre-wrap>Franklin St &amp; Chicago Ave   </span></td><td>13017</td><td>41.89859</td><td>-87.62192</td><td>41.89675</td><td>-87.63567</td><td>member</td><td>2021-04-25</td><td>04</td><td>25</td><td>2021</td><td><span style=white-space:pre-wrap>Sunday   </span></td><td> 335</td><td>1159.3690</td></tr>\n",
       "\t<tr><th scope=row>2563219</th><td>40EA4B911FE5D163</td><td>classic_bike </td><td>2021-04-05 05:39:50</td><td>2021-04-05 05:46:02</td><td>Mies van der Rohe Way &amp; Chestnut St</td><td><span style=white-space:pre-wrap>15529       </span></td><td><span style=white-space:pre-wrap>Franklin St &amp; Chicago Ave   </span></td><td>13017</td><td>41.89859</td><td>-87.62192</td><td>41.89675</td><td>-87.63567</td><td>member</td><td>2021-04-05</td><td>04</td><td>05</td><td>2021</td><td><span style=white-space:pre-wrap>Monday   </span></td><td> 372</td><td>1159.3690</td></tr>\n",
       "\t<tr><th scope=row>2563220</th><td>A0E4CA8CD7D1E38F</td><td>classic_bike </td><td>2021-04-26 12:42:37</td><td>2021-04-26 12:53:40</td><td><span style=white-space:pre-wrap>Kedzie Ave &amp; Palmer Ct             </span></td><td><span style=white-space:pre-wrap>13292       </span></td><td>Milwaukee Ave &amp; Wabansia Ave</td><td>13243</td><td>41.92153</td><td>-87.70732</td><td>41.91262</td><td>-87.68139</td><td>member</td><td>2021-04-26</td><td>04</td><td>26</td><td>2021</td><td><span style=white-space:pre-wrap>Monday   </span></td><td> 663</td><td>2367.8692</td></tr>\n",
       "\t<tr><th scope=row>2563221</th><td>4523935C75DDF947</td><td>classic_bike </td><td>2021-04-07 18:00:02</td><td>2021-04-07 18:20:36</td><td><span style=white-space:pre-wrap>McClurg Ct &amp; Erie St               </span></td><td>KA1503000041</td><td><span style=white-space:pre-wrap>Franklin St &amp; Chicago Ave   </span></td><td>13017</td><td>41.89450</td><td>-87.61785</td><td>41.89675</td><td>-87.63567</td><td>member</td><td>2021-04-07</td><td>04</td><td>07</td><td>2021</td><td>Wednesday</td><td>1234</td><td>1499.1455</td></tr>\n",
       "\t<tr><th scope=row>2563222</th><td>39574A2BA8CE532F</td><td>classic_bike </td><td>2021-04-24 17:26:22</td><td>2021-04-24 17:35:29</td><td><span style=white-space:pre-wrap>McClurg Ct &amp; Erie St               </span></td><td>KA1503000041</td><td><span style=white-space:pre-wrap>Franklin St &amp; Chicago Ave   </span></td><td>13017</td><td>41.89450</td><td>-87.61785</td><td>41.89675</td><td>-87.63567</td><td>member</td><td>2021-04-24</td><td>04</td><td>24</td><td>2021</td><td>Saturday </td><td> 547</td><td>1499.1455</td></tr>\n",
       "\t<tr><th scope=row>2563223</th><td>C31D60B5E01BFF7F</td><td>classic_bike </td><td>2021-04-05 17:20:11</td><td>2021-04-05 17:27:23</td><td><span style=white-space:pre-wrap>McClurg Ct &amp; Erie St               </span></td><td>KA1503000041</td><td><span style=white-space:pre-wrap>Franklin St &amp; Chicago Ave   </span></td><td>13017</td><td>41.89450</td><td>-87.61785</td><td>41.89675</td><td>-87.63567</td><td>member</td><td>2021-04-05</td><td>04</td><td>05</td><td>2021</td><td><span style=white-space:pre-wrap>Monday   </span></td><td> 432</td><td>1499.1455</td></tr>\n",
       "\t<tr><th scope=row>2563224</th><td>2E9CDE6E1E1572EC</td><td>classic_bike </td><td>2021-04-29 09:08:26</td><td>2021-04-29 09:12:05</td><td><span style=white-space:pre-wrap>McClurg Ct &amp; Erie St               </span></td><td>KA1503000041</td><td><span style=white-space:pre-wrap>Streeter Dr &amp; Grand Ave     </span></td><td>13022</td><td>41.89450</td><td>-87.61785</td><td>41.89228</td><td>-87.61204</td><td>member</td><td>2021-04-29</td><td>04</td><td>29</td><td>2021</td><td>Thursday </td><td> 219</td><td> 541.8843</td></tr>\n",
       "\t<tr><th scope=row>2563225</th><td>FA7F756FB241DE0E</td><td>classic_bike </td><td>2021-04-26 17:39:25</td><td>2021-04-26 17:57:58</td><td>Mies van der Rohe Way &amp; Chestnut St</td><td><span style=white-space:pre-wrap>15529       </span></td><td><span style=white-space:pre-wrap>Streeter Dr &amp; Grand Ave     </span></td><td>13022</td><td>41.89859</td><td>-87.62192</td><td>41.89228</td><td>-87.61204</td><td>member</td><td>2021-04-26</td><td>04</td><td>26</td><td>2021</td><td><span style=white-space:pre-wrap>Monday   </span></td><td>1113</td><td>1078.0444</td></tr>\n",
       "\t<tr><th scope=row>2563226</th><td>7D719C0F3E57A424</td><td>classic_bike </td><td>2021-04-24 17:26:12</td><td>2021-04-24 17:35:27</td><td><span style=white-space:pre-wrap>McClurg Ct &amp; Erie St               </span></td><td>KA1503000041</td><td><span style=white-space:pre-wrap>Franklin St &amp; Chicago Ave   </span></td><td>13017</td><td>41.89450</td><td>-87.61785</td><td>41.89675</td><td>-87.63567</td><td>member</td><td>2021-04-24</td><td>04</td><td>24</td><td>2021</td><td>Saturday </td><td> 555</td><td>1499.1455</td></tr>\n",
       "\t<tr><th scope=row>2563227</th><td>2114BC419A45B819</td><td>classic_bike </td><td>2021-04-26 14:17:20</td><td>2021-04-26 14:31:57</td><td><span style=white-space:pre-wrap>McClurg Ct &amp; Erie St               </span></td><td>KA1503000041</td><td><span style=white-space:pre-wrap>Streeter Dr &amp; Grand Ave     </span></td><td>13022</td><td>41.89450</td><td>-87.61785</td><td>41.89228</td><td>-87.61204</td><td>casual</td><td>2021-04-26</td><td>04</td><td>26</td><td>2021</td><td><span style=white-space:pre-wrap>Monday   </span></td><td> 877</td><td> 541.8843</td></tr>\n",
       "\t<tr><th scope=row>2563228</th><td>577225A6C793E626</td><td>classic_bike </td><td>2021-04-11 12:47:53</td><td>2021-04-11 12:52:32</td><td>Mies van der Rohe Way &amp; Chestnut St</td><td><span style=white-space:pre-wrap>15529       </span></td><td><span style=white-space:pre-wrap>Franklin St &amp; Chicago Ave   </span></td><td>13017</td><td>41.89859</td><td>-87.62192</td><td>41.89675</td><td>-87.63567</td><td>casual</td><td>2021-04-11</td><td>04</td><td>11</td><td>2021</td><td><span style=white-space:pre-wrap>Sunday   </span></td><td> 279</td><td>1159.3690</td></tr>\n",
       "\t<tr><th scope=row>2563229</th><td>8CA4B7844F3AC34C</td><td>classic_bike </td><td>2021-04-10 07:48:20</td><td>2021-04-10 07:53:29</td><td>Mies van der Rohe Way &amp; Chestnut St</td><td><span style=white-space:pre-wrap>15529       </span></td><td><span style=white-space:pre-wrap>Franklin St &amp; Chicago Ave   </span></td><td>13017</td><td>41.89859</td><td>-87.62192</td><td>41.89675</td><td>-87.63567</td><td>casual</td><td>2021-04-10</td><td>04</td><td>10</td><td>2021</td><td>Saturday </td><td> 309</td><td>1159.3690</td></tr>\n",
       "\t<tr><th scope=row>2563230</th><td>BA66A9F187C80966</td><td>classic_bike </td><td>2021-04-08 05:40:04</td><td>2021-04-08 05:46:01</td><td>Mies van der Rohe Way &amp; Chestnut St</td><td><span style=white-space:pre-wrap>15529       </span></td><td><span style=white-space:pre-wrap>Franklin St &amp; Chicago Ave   </span></td><td>13017</td><td>41.89859</td><td>-87.62192</td><td>41.89675</td><td>-87.63567</td><td>member</td><td>2021-04-08</td><td>04</td><td>08</td><td>2021</td><td>Thursday </td><td> 357</td><td>1159.3690</td></tr>\n",
       "\t<tr><th scope=row>2563231</th><td>6B0D434599FACBF4</td><td>classic_bike </td><td>2021-04-23 05:42:14</td><td>2021-04-23 05:48:27</td><td>Mies van der Rohe Way &amp; Chestnut St</td><td><span style=white-space:pre-wrap>15529       </span></td><td><span style=white-space:pre-wrap>Franklin St &amp; Chicago Ave   </span></td><td>13017</td><td>41.89859</td><td>-87.62192</td><td>41.89675</td><td>-87.63567</td><td>member</td><td>2021-04-23</td><td>04</td><td>23</td><td>2021</td><td><span style=white-space:pre-wrap>Friday   </span></td><td> 373</td><td>1159.3690</td></tr>\n",
       "\t<tr><th scope=row>2563232</th><td>461A6B0728E063DB</td><td>classic_bike </td><td>2021-04-09 17:09:03</td><td>2021-04-09 17:16:16</td><td>Mies van der Rohe Way &amp; Chestnut St</td><td><span style=white-space:pre-wrap>15529       </span></td><td><span style=white-space:pre-wrap>Franklin St &amp; Chicago Ave   </span></td><td>13017</td><td>41.89859</td><td>-87.62192</td><td>41.89675</td><td>-87.63567</td><td>member</td><td>2021-04-09</td><td>04</td><td>09</td><td>2021</td><td><span style=white-space:pre-wrap>Friday   </span></td><td> 433</td><td>1159.3690</td></tr>\n",
       "\t<tr><th scope=row>2563233</th><td>04DFB53077A17DA2</td><td>electric_bike</td><td>2021-04-18 11:40:37</td><td>2021-04-18 11:46:03</td><td>Mies van der Rohe Way &amp; Chestnut St</td><td><span style=white-space:pre-wrap>15529       </span></td><td><span style=white-space:pre-wrap>Franklin St &amp; Chicago Ave   </span></td><td>13017</td><td>41.89826</td><td>-87.62242</td><td>41.89494</td><td>-87.63044</td><td>member</td><td>2021-04-18</td><td>04</td><td>18</td><td>2021</td><td><span style=white-space:pre-wrap>Sunday   </span></td><td> 326</td><td> 761.0413</td></tr>\n",
       "\t<tr><th scope=row>2563234</th><td>DB6F78ABBECA378C</td><td>classic_bike </td><td>2021-04-23 19:22:16</td><td>2021-04-23 19:41:07</td><td><span style=white-space:pre-wrap>Kedzie Ave &amp; Palmer Ct             </span></td><td><span style=white-space:pre-wrap>13292       </span></td><td>Milwaukee Ave &amp; Wabansia Ave</td><td>13243</td><td>41.92153</td><td>-87.70732</td><td>41.91262</td><td>-87.68139</td><td>member</td><td>2021-04-23</td><td>04</td><td>23</td><td>2021</td><td><span style=white-space:pre-wrap>Friday   </span></td><td>1131</td><td>2367.8692</td></tr>\n",
       "</tbody>\n",
       "</table>\n"
      ],
      "text/latex": [
       "A data.frame: 2563234 × 20\n",
       "\\begin{tabular}{r|llllllllllllllllllll}\n",
       "  & ride\\_id & rideable\\_type & started\\_at & ended\\_at & start\\_station\\_name & start\\_station\\_id & end\\_station\\_name & end\\_station\\_id & start\\_lat & start\\_lng & end\\_lat & end\\_lng & member\\_casual & date & month & day & year & day\\_of\\_week & ride\\_length & ride\\_distance\\\\\n",
       "  & <chr> & <chr> & <chr> & <chr> & <chr> & <chr> & <chr> & <chr> & <dbl> & <dbl> & <dbl> & <dbl> & <chr> & <date> & <chr> & <chr> & <chr> & <chr> & <dbl> & <dbl>\\\\\n",
       "\\hline\n",
       "\t1 & 02668AD35674B983 & docked\\_bike & 2020-05-27 10:03:52 & 2020-05-27 10:16:49 & Franklin St \\& Jackson Blvd     & 36  & Wabash Ave \\& Grand Ave               & 199 & 41.8777 & -87.6353 & 41.8915 & -87.6268 & member & 2020-05-27 & 05 & 27 & 2020 & Wednesday &  777 & 1687.3498\\\\\n",
       "\t2 & 7A50CCAF1EDDB28F & docked\\_bike & 2020-05-25 10:47:11 & 2020-05-25 11:05:40 & Clark St \\& Wrightwood Ave      & 340 & Clark St \\& Leland Ave                & 326 & 41.9295 & -87.6431 & 41.9671 & -87.6674 & casual & 2020-05-25 & 05 & 25 & 2020 & Monday    & 1109 & 4636.9667\\\\\n",
       "\t3 & 58991CF1DB75BA84 & docked\\_bike & 2020-05-02 16:25:36 & 2020-05-02 16:39:28 & Clarendon Ave \\& Leland Ave     & 251 & Lake Shore Dr \\& Wellington Ave       & 157 & 41.9680 & -87.6500 & 41.9367 & -87.6368 & casual & 2020-05-02 & 05 & 02 & 2020 & Saturday  &  832 & 3644.7653\\\\\n",
       "\t4 & 23AFBD962F9C8F14 & docked\\_bike & 2020-05-30 17:00:58 & 2020-05-30 17:19:52 & Halsted St \\& Clybourn Ave      & 331 & Broadway \\& Barry Ave                 & 300 & 41.9097 & -87.6481 & 41.9377 & -87.6441 & casual & 2020-05-30 & 05 & 30 & 2020 & Saturday  & 1134 & 3127.6597\\\\\n",
       "\t5 & DF3BE94DF2CB082E & docked\\_bike & 2020-05-28 14:29:23 & 2020-05-28 14:43:46 & Fairbanks Ct \\& Grand Ave       & 24  & Mies van der Rohe Way \\& Chestnut St  & 145 & 41.8918 & -87.6206 & 41.8986 & -87.6219 & casual & 2020-05-28 & 05 & 28 & 2020 & Thursday  &  863 &  762.9504\\\\\n",
       "\t6 & 6AA701EBA46EAF9A & docked\\_bike & 2020-05-24 08:39:50 & 2020-05-24 08:58:22 & Canal St \\& Adams St            & 192 & Indiana Ave \\& Roosevelt Rd           & 255 & 41.8793 & -87.6399 & 41.8679 & -87.6230 & member & 2020-05-24 & 05 & 24 & 2020 & Sunday    & 1112 & 1889.8511\\\\\n",
       "\t7 & 9D3F29466533D0A9 & docked\\_bike & 2020-05-02 20:48:54 & 2020-05-02 21:06:30 & Sheffield Ave \\& Fullerton Ave  & 67  & Orleans St \\& Chestnut St (NEXT Apts) & 620 & 41.9256 & -87.6537 & 41.8982 & -87.6375 & casual & 2020-05-02 & 05 & 02 & 2020 & Saturday  & 1056 & 3326.9309\\\\\n",
       "\t8 & CDAEA6AC2DEDF077 & docked\\_bike & 2020-05-25 16:23:49 & 2020-05-25 16:46:57 & Western Ave \\& Division St      & 305 & McClurg Ct \\& Illinois St             & 26  & 41.9029 & -87.6873 & 41.8904 & -87.6175 & member & 2020-05-25 & 05 & 25 & 2020 & Monday    & 1388 & 5956.4023\\\\\n",
       "\t9 & 73FB492713920CD8 & docked\\_bike & 2020-05-10 00:11:22 & 2020-05-10 00:19:48 & Michigan Ave \\& 18th St         & 273 & Wabash Ave \\& 9th St                  & 321 & 41.8578 & -87.6246 & 41.8708 & -87.6257 & casual & 2020-05-10 & 05 & 10 & 2020 & Sunday    &  506 & 1446.8039\\\\\n",
       "\t10 & CFD32C903045E9B9 & docked\\_bike & 2020-05-30 13:56:57 & 2020-05-30 14:08:34 & Lincoln Ave \\& Belle Plaine Ave & 298 & Washtenaw Ave \\& Lawrence Ave         & 475 & 41.9560 & -87.6803 & 41.9690 & -87.6960 & casual & 2020-05-30 & 05 & 30 & 2020 & Saturday  &  697 & 1943.9463\\\\\n",
       "\t11 & 15E9545916C0A70D & docked\\_bike & 2020-05-01 15:32:53 & 2020-05-01 15:45:12 & Lincolnwood Dr \\& Central St    & 663 & Central St \\& Girard Ave              & 602 & 42.0649 & -87.7153 & 42.0643 & -87.6862 & member & 2020-05-01 & 05 & 01 & 2020 & Friday    &  739 & 2409.4390\\\\\n",
       "\t12 & D96371F35A485696 & docked\\_bike & 2020-05-01 15:47:39 & 2020-05-01 16:02:52 & Central St \\& Girard Ave        & 602 & Chicago Ave \\& Sheridan Rd            & 603 & 42.0643 & -87.6862 & 42.0505 & -87.6778 & member & 2020-05-01 & 05 & 01 & 2020 & Friday    &  913 & 1683.1602\\\\\n",
       "\t13 & 4862102063FCE165 & docked\\_bike & 2020-05-20 18:19:20 & 2020-05-20 18:43:08 & Sheffield Ave \\& Wellington Ave & 115 & Damen Ave \\& Pierce Ave               & 69  & 41.9363 & -87.6527 & 41.9094 & -87.6777 & member & 2020-05-20 & 05 & 20 & 2020 & Wednesday & 1428 & 3636.9839\\\\\n",
       "\t14 & B803FBA7A77D41A3 & docked\\_bike & 2020-05-27 20:34:20 & 2020-05-27 20:57:23 & Damen Ave \\& Pierce Ave         & 69  & Sheffield Ave \\& Wellington Ave       & 115 & 41.9094 & -87.6777 & 41.9363 & -87.6527 & member & 2020-05-27 & 05 & 27 & 2020 & Wednesday & 1383 & 3636.9839\\\\\n",
       "\t15 & A80F390E173B72EA & docked\\_bike & 2020-05-20 20:18:29 & 2020-05-20 20:19:20 & Damen Ave \\& Pierce Ave         & 69  & Damen Ave \\& Pierce Ave               & 69  & 41.9094 & -87.6777 & 41.9094 & -87.6777 & member & 2020-05-20 & 05 & 20 & 2020 & Wednesday &   51 &    0.0000\\\\\n",
       "\t16 & 4267A0BB80680713 & docked\\_bike & 2020-05-28 19:02:53 & 2020-05-28 19:08:40 & Sheffield Ave \\& Wellington Ave & 115 & Ashland Ave \\& Wellington Ave         & 250 & 41.9363 & -87.6527 & 41.9361 & -87.6698 & member & 2020-05-28 & 05 & 28 & 2020 & Thursday  &  347 & 1418.3363\\\\\n",
       "\t17 & 1B8CF206CF4A3731 & docked\\_bike & 2020-05-02 18:09:27 & 2020-05-02 18:18:11 & Morgan St \\& 18th St            & 14  & Emerald Ave \\& 31st St                & 339 & 41.8581 & -87.6511 & 41.8382 & -87.6451 & member & 2020-05-02 & 05 & 02 & 2020 & Saturday  &  524 & 2265.7697\\\\\n",
       "\t18 & 578742018FA77B2A & docked\\_bike & 2020-05-08 20:03:15 & 2020-05-08 20:12:56 & Morgan St \\& 18th St            & 14  & Emerald Ave \\& 31st St                & 339 & 41.8581 & -87.6511 & 41.8382 & -87.6451 & member & 2020-05-08 & 05 & 08 & 2020 & Friday    &  581 & 2265.7697\\\\\n",
       "\t19 & 9E5E4A56B7191D32 & docked\\_bike & 2020-05-08 17:56:56 & 2020-05-08 18:02:21 & May St \\& Taylor St             & 22  & Racine Ave \\& 18th St                 & 15  & 41.8695 & -87.6555 & 41.8582 & -87.6565 & member & 2020-05-08 & 05 & 08 & 2020 & Friday    &  325 & 1257.8414\\\\\n",
       "\t20 & 697B81BD60E138A2 & docked\\_bike & 2020-05-08 17:47:45 & 2020-05-08 17:53:48 & Racine Ave \\& 18th St           & 15  & May St \\& Taylor St                   & 22  & 41.8582 & -87.6565 & 41.8695 & -87.6555 & member & 2020-05-08 & 05 & 08 & 2020 & Friday    &  363 & 1257.8414\\\\\n",
       "\t21 & D494B0B04EEC3D77 & docked\\_bike & 2020-05-03 13:44:59 & 2020-05-03 13:50:44 & Throop (Loomis) St \\& Taylor St & 19  & Racine Ave \\& 18th St                 & 15  & 41.8690 & -87.6591 & 41.8582 & -87.6565 & member & 2020-05-03 & 05 & 03 & 2020 & Sunday    &  345 & 1218.8320\\\\\n",
       "\t22 & 0A082D5DB3C57404 & docked\\_bike & 2020-05-01 17:55:45 & 2020-05-01 18:04:57 & Morgan St \\& 18th St            & 14  & Emerald Ave \\& 31st St                & 339 & 41.8581 & -87.6511 & 41.8382 & -87.6451 & member & 2020-05-01 & 05 & 01 & 2020 & Friday    &  552 & 2265.7697\\\\\n",
       "\t23 & 985344F66F90A1D3 & docked\\_bike & 2020-05-02 06:46:40 & 2020-05-02 06:55:12 & Morgan St \\& 18th St            & 14  & Emerald Ave \\& 31st St                & 339 & 41.8581 & -87.6511 & 41.8382 & -87.6451 & member & 2020-05-02 & 05 & 02 & 2020 & Saturday  &  512 & 2265.7697\\\\\n",
       "\t24 & 453FCC9C56899771 & docked\\_bike & 2020-05-03 11:37:01 & 2020-05-03 11:58:34 & Lake Shore Dr \\& Wellington Ave & 157 & Rush St \\& Cedar St                   & 172 & 41.9367 & -87.6368 & 41.9023 & -87.6277 & member & 2020-05-03 & 05 & 03 & 2020 & Sunday    & 1293 & 3894.7255\\\\\n",
       "\t25 & 28F3C48900B69E85 & docked\\_bike & 2020-05-16 19:29:06 & 2020-05-16 19:31:03 & LaSalle St \\& Illinois St       & 181 & Dearborn St \\& Erie St                & 110 & 41.8908 & -87.6317 & 41.8940 & -87.6293 & member & 2020-05-16 & 05 & 16 & 2020 & Saturday  &  117 &  407.4312\\\\\n",
       "\t26 & 75C885AC4407F508 & docked\\_bike & 2020-05-10 14:44:33 & 2020-05-10 14:56:02 & Sheffield Ave \\& Wellington Ave & 115 & Sheffield Ave \\& Wellington Ave       & 115 & 41.9363 & -87.6527 & 41.9363 & -87.6527 & member & 2020-05-10 & 05 & 10 & 2020 & Sunday    &  689 &    0.0000\\\\\n",
       "\t27 & 54C18CE7236AF98F & docked\\_bike & 2020-05-28 14:28:59 & 2020-05-28 14:31:54 & LaSalle St \\& Illinois St       & 181 & Dearborn St \\& Erie St                & 110 & 41.8908 & -87.6317 & 41.8940 & -87.6293 & member & 2020-05-28 & 05 & 28 & 2020 & Thursday  &  175 &  407.4312\\\\\n",
       "\t28 & A6C7E13D585593BE & docked\\_bike & 2020-05-03 14:02:59 & 2020-05-03 14:08:28 & Dearborn Pkwy \\& Delaware Pl    & 140 & LaSalle St \\& Illinois St             & 181 & 41.8990 & -87.6299 & 41.8908 & -87.6317 & member & 2020-05-03 & 05 & 03 & 2020 & Sunday    &  329 &  922.9524\\\\\n",
       "\t29 & E9966544A04F4055 & docked\\_bike & 2020-05-27 18:57:30 & 2020-05-27 19:14:47 & Sheffield Ave \\& Wellington Ave & 115 & Damen Ave \\& Pierce Ave               & 69  & 41.9363 & -87.6527 & 41.9094 & -87.6777 & member & 2020-05-27 & 05 & 27 & 2020 & Wednesday & 1037 & 3636.9839\\\\\n",
       "\t30 & BD2AE7EDEEC0C1D7 & docked\\_bike & 2020-05-04 12:35:01 & 2020-05-04 12:37:01 & LaSalle St \\& Illinois St       & 181 & Dearborn St \\& Erie St                & 110 & 41.8908 & -87.6317 & 41.8940 & -87.6293 & member & 2020-05-04 & 05 & 04 & 2020 & Monday    &  120 &  407.4312\\\\\n",
       "\t⋮ & ⋮ & ⋮ & ⋮ & ⋮ & ⋮ & ⋮ & ⋮ & ⋮ & ⋮ & ⋮ & ⋮ & ⋮ & ⋮ & ⋮ & ⋮ & ⋮ & ⋮ & ⋮ & ⋮ & ⋮\\\\\n",
       "\t2563205 & 90B9B230F90A3F0F & classic\\_bike  & 2021-04-03 14:50:12 & 2021-04-03 15:00:12 & McClurg Ct \\& Erie St                & KA1503000041 & Streeter Dr \\& Grand Ave      & 13022 & 41.89450 & -87.61785 & 41.89228 & -87.61204 & casual & 2021-04-03 & 04 & 03 & 2021 & Saturday  &  600 &  541.8843\\\\\n",
       "\t2563206 & 7B6981560E0F5D78 & electric\\_bike & 2021-04-04 17:09:40 & 2021-04-04 17:22:16 & Kedzie Ave \\& Palmer Ct              & 13292        & Milwaukee Ave \\& Wabansia Ave & 13243 & 41.92153 & -87.70734 & 41.91264 & -87.68144 & casual & 2021-04-04 & 04 & 04 & 2021 & Sunday    &  756 & 2364.6652\\\\\n",
       "\t2563207 & DE21332FE11242C0 & classic\\_bike  & 2021-04-10 08:01:23 & 2021-04-10 08:10:22 & McClurg Ct \\& Erie St                & KA1503000041 & Franklin St \\& Chicago Ave    & 13017 & 41.89450 & -87.61785 & 41.89675 & -87.63567 & casual & 2021-04-10 & 04 & 10 & 2021 & Saturday  &  539 & 1499.1455\\\\\n",
       "\t2563208 & 100EB567A4DA859F & classic\\_bike  & 2021-04-21 06:47:10 & 2021-04-21 06:53:07 & Mies van der Rohe Way \\& Chestnut St & 15529        & Franklin St \\& Chicago Ave    & 13017 & 41.89859 & -87.62192 & 41.89675 & -87.63567 & member & 2021-04-21 & 04 & 21 & 2021 & Wednesday &  357 & 1159.3690\\\\\n",
       "\t2563209 & 3CE8708D3CE3324C & classic\\_bike  & 2021-04-06 17:23:52 & 2021-04-06 17:29:15 & McClurg Ct \\& Erie St                & KA1503000041 & Streeter Dr \\& Grand Ave      & 13022 & 41.89450 & -87.61785 & 41.89228 & -87.61204 & member & 2021-04-06 & 04 & 06 & 2021 & Tuesday   &  323 &  541.8843\\\\\n",
       "\t2563210 & 4798863804F83C4D & classic\\_bike  & 2021-04-26 08:03:29 & 2021-04-26 08:10:25 & Mies van der Rohe Way \\& Chestnut St & 15529        & Franklin St \\& Chicago Ave    & 13017 & 41.89859 & -87.62192 & 41.89675 & -87.63567 & member & 2021-04-26 & 04 & 26 & 2021 & Monday    &  416 & 1159.3690\\\\\n",
       "\t2563211 & DE89853ACA56DC58 & classic\\_bike  & 2021-04-17 07:01:27 & 2021-04-17 07:05:59 & Mies van der Rohe Way \\& Chestnut St & 15529        & Franklin St \\& Chicago Ave    & 13017 & 41.89859 & -87.62192 & 41.89675 & -87.63567 & member & 2021-04-17 & 04 & 17 & 2021 & Saturday  &  272 & 1159.3690\\\\\n",
       "\t2563212 & 3C2574F0015DD790 & classic\\_bike  & 2021-04-03 19:20:59 & 2021-04-03 19:43:15 & Canal St \\& Harrison St              & 13326        & Milwaukee Ave \\& Wabansia Ave & 13243 & 41.87425 & -87.63957 & 41.91262 & -87.68139 & casual & 2021-04-03 & 04 & 03 & 2021 & Saturday  & 1336 & 5495.2987\\\\\n",
       "\t2563213 & 52FA297D1E84EF10 & classic\\_bike  & 2021-04-23 11:03:35 & 2021-04-23 11:10:57 & McClurg Ct \\& Erie St                & KA1503000041 & Streeter Dr \\& Grand Ave      & 13022 & 41.89450 & -87.61785 & 41.89228 & -87.61204 & casual & 2021-04-23 & 04 & 23 & 2021 & Friday    &  442 &  541.8843\\\\\n",
       "\t2563214 & 51DA3C644DD4EE46 & classic\\_bike  & 2021-04-27 18:40:31 & 2021-04-27 18:50:46 & Mies van der Rohe Way \\& Chestnut St & 15529        & Streeter Dr \\& Grand Ave      & 13022 & 41.89859 & -87.62192 & 41.89228 & -87.61204 & casual & 2021-04-27 & 04 & 27 & 2021 & Tuesday   &  615 & 1078.0444\\\\\n",
       "\t2563215 & AE2140982CE74E3D & classic\\_bike  & 2021-04-16 10:32:08 & 2021-04-16 10:40:23 & Kedzie Ave \\& Palmer Ct              & 13292        & Milwaukee Ave \\& Wabansia Ave & 13243 & 41.92153 & -87.70732 & 41.91262 & -87.68139 & member & 2021-04-16 & 04 & 16 & 2021 & Friday    &  495 & 2367.8692\\\\\n",
       "\t2563216 & 52DB1F82E1EB416D & classic\\_bike  & 2021-04-27 17:31:52 & 2021-04-27 17:35:32 & McClurg Ct \\& Erie St                & KA1503000041 & Streeter Dr \\& Grand Ave      & 13022 & 41.89450 & -87.61785 & 41.89228 & -87.61204 & member & 2021-04-27 & 04 & 27 & 2021 & Tuesday   &  220 &  541.8843\\\\\n",
       "\t2563217 & 32D8D5039D8F1B7F & classic\\_bike  & 2021-04-27 18:40:30 & 2021-04-27 18:51:02 & Mies van der Rohe Way \\& Chestnut St & 15529        & Streeter Dr \\& Grand Ave      & 13022 & 41.89859 & -87.62192 & 41.89228 & -87.61204 & casual & 2021-04-27 & 04 & 27 & 2021 & Tuesday   &  632 & 1078.0444\\\\\n",
       "\t2563218 & EDA860C3F01EAE26 & classic\\_bike  & 2021-04-25 09:39:42 & 2021-04-25 09:45:17 & Mies van der Rohe Way \\& Chestnut St & 15529        & Franklin St \\& Chicago Ave    & 13017 & 41.89859 & -87.62192 & 41.89675 & -87.63567 & member & 2021-04-25 & 04 & 25 & 2021 & Sunday    &  335 & 1159.3690\\\\\n",
       "\t2563219 & 40EA4B911FE5D163 & classic\\_bike  & 2021-04-05 05:39:50 & 2021-04-05 05:46:02 & Mies van der Rohe Way \\& Chestnut St & 15529        & Franklin St \\& Chicago Ave    & 13017 & 41.89859 & -87.62192 & 41.89675 & -87.63567 & member & 2021-04-05 & 04 & 05 & 2021 & Monday    &  372 & 1159.3690\\\\\n",
       "\t2563220 & A0E4CA8CD7D1E38F & classic\\_bike  & 2021-04-26 12:42:37 & 2021-04-26 12:53:40 & Kedzie Ave \\& Palmer Ct              & 13292        & Milwaukee Ave \\& Wabansia Ave & 13243 & 41.92153 & -87.70732 & 41.91262 & -87.68139 & member & 2021-04-26 & 04 & 26 & 2021 & Monday    &  663 & 2367.8692\\\\\n",
       "\t2563221 & 4523935C75DDF947 & classic\\_bike  & 2021-04-07 18:00:02 & 2021-04-07 18:20:36 & McClurg Ct \\& Erie St                & KA1503000041 & Franklin St \\& Chicago Ave    & 13017 & 41.89450 & -87.61785 & 41.89675 & -87.63567 & member & 2021-04-07 & 04 & 07 & 2021 & Wednesday & 1234 & 1499.1455\\\\\n",
       "\t2563222 & 39574A2BA8CE532F & classic\\_bike  & 2021-04-24 17:26:22 & 2021-04-24 17:35:29 & McClurg Ct \\& Erie St                & KA1503000041 & Franklin St \\& Chicago Ave    & 13017 & 41.89450 & -87.61785 & 41.89675 & -87.63567 & member & 2021-04-24 & 04 & 24 & 2021 & Saturday  &  547 & 1499.1455\\\\\n",
       "\t2563223 & C31D60B5E01BFF7F & classic\\_bike  & 2021-04-05 17:20:11 & 2021-04-05 17:27:23 & McClurg Ct \\& Erie St                & KA1503000041 & Franklin St \\& Chicago Ave    & 13017 & 41.89450 & -87.61785 & 41.89675 & -87.63567 & member & 2021-04-05 & 04 & 05 & 2021 & Monday    &  432 & 1499.1455\\\\\n",
       "\t2563224 & 2E9CDE6E1E1572EC & classic\\_bike  & 2021-04-29 09:08:26 & 2021-04-29 09:12:05 & McClurg Ct \\& Erie St                & KA1503000041 & Streeter Dr \\& Grand Ave      & 13022 & 41.89450 & -87.61785 & 41.89228 & -87.61204 & member & 2021-04-29 & 04 & 29 & 2021 & Thursday  &  219 &  541.8843\\\\\n",
       "\t2563225 & FA7F756FB241DE0E & classic\\_bike  & 2021-04-26 17:39:25 & 2021-04-26 17:57:58 & Mies van der Rohe Way \\& Chestnut St & 15529        & Streeter Dr \\& Grand Ave      & 13022 & 41.89859 & -87.62192 & 41.89228 & -87.61204 & member & 2021-04-26 & 04 & 26 & 2021 & Monday    & 1113 & 1078.0444\\\\\n",
       "\t2563226 & 7D719C0F3E57A424 & classic\\_bike  & 2021-04-24 17:26:12 & 2021-04-24 17:35:27 & McClurg Ct \\& Erie St                & KA1503000041 & Franklin St \\& Chicago Ave    & 13017 & 41.89450 & -87.61785 & 41.89675 & -87.63567 & member & 2021-04-24 & 04 & 24 & 2021 & Saturday  &  555 & 1499.1455\\\\\n",
       "\t2563227 & 2114BC419A45B819 & classic\\_bike  & 2021-04-26 14:17:20 & 2021-04-26 14:31:57 & McClurg Ct \\& Erie St                & KA1503000041 & Streeter Dr \\& Grand Ave      & 13022 & 41.89450 & -87.61785 & 41.89228 & -87.61204 & casual & 2021-04-26 & 04 & 26 & 2021 & Monday    &  877 &  541.8843\\\\\n",
       "\t2563228 & 577225A6C793E626 & classic\\_bike  & 2021-04-11 12:47:53 & 2021-04-11 12:52:32 & Mies van der Rohe Way \\& Chestnut St & 15529        & Franklin St \\& Chicago Ave    & 13017 & 41.89859 & -87.62192 & 41.89675 & -87.63567 & casual & 2021-04-11 & 04 & 11 & 2021 & Sunday    &  279 & 1159.3690\\\\\n",
       "\t2563229 & 8CA4B7844F3AC34C & classic\\_bike  & 2021-04-10 07:48:20 & 2021-04-10 07:53:29 & Mies van der Rohe Way \\& Chestnut St & 15529        & Franklin St \\& Chicago Ave    & 13017 & 41.89859 & -87.62192 & 41.89675 & -87.63567 & casual & 2021-04-10 & 04 & 10 & 2021 & Saturday  &  309 & 1159.3690\\\\\n",
       "\t2563230 & BA66A9F187C80966 & classic\\_bike  & 2021-04-08 05:40:04 & 2021-04-08 05:46:01 & Mies van der Rohe Way \\& Chestnut St & 15529        & Franklin St \\& Chicago Ave    & 13017 & 41.89859 & -87.62192 & 41.89675 & -87.63567 & member & 2021-04-08 & 04 & 08 & 2021 & Thursday  &  357 & 1159.3690\\\\\n",
       "\t2563231 & 6B0D434599FACBF4 & classic\\_bike  & 2021-04-23 05:42:14 & 2021-04-23 05:48:27 & Mies van der Rohe Way \\& Chestnut St & 15529        & Franklin St \\& Chicago Ave    & 13017 & 41.89859 & -87.62192 & 41.89675 & -87.63567 & member & 2021-04-23 & 04 & 23 & 2021 & Friday    &  373 & 1159.3690\\\\\n",
       "\t2563232 & 461A6B0728E063DB & classic\\_bike  & 2021-04-09 17:09:03 & 2021-04-09 17:16:16 & Mies van der Rohe Way \\& Chestnut St & 15529        & Franklin St \\& Chicago Ave    & 13017 & 41.89859 & -87.62192 & 41.89675 & -87.63567 & member & 2021-04-09 & 04 & 09 & 2021 & Friday    &  433 & 1159.3690\\\\\n",
       "\t2563233 & 04DFB53077A17DA2 & electric\\_bike & 2021-04-18 11:40:37 & 2021-04-18 11:46:03 & Mies van der Rohe Way \\& Chestnut St & 15529        & Franklin St \\& Chicago Ave    & 13017 & 41.89826 & -87.62242 & 41.89494 & -87.63044 & member & 2021-04-18 & 04 & 18 & 2021 & Sunday    &  326 &  761.0413\\\\\n",
       "\t2563234 & DB6F78ABBECA378C & classic\\_bike  & 2021-04-23 19:22:16 & 2021-04-23 19:41:07 & Kedzie Ave \\& Palmer Ct              & 13292        & Milwaukee Ave \\& Wabansia Ave & 13243 & 41.92153 & -87.70732 & 41.91262 & -87.68139 & member & 2021-04-23 & 04 & 23 & 2021 & Friday    & 1131 & 2367.8692\\\\\n",
       "\\end{tabular}\n"
      ],
      "text/markdown": [
       "\n",
       "A data.frame: 2563234 × 20\n",
       "\n",
       "| <!--/--> | ride_id &lt;chr&gt; | rideable_type &lt;chr&gt; | started_at &lt;chr&gt; | ended_at &lt;chr&gt; | start_station_name &lt;chr&gt; | start_station_id &lt;chr&gt; | end_station_name &lt;chr&gt; | end_station_id &lt;chr&gt; | start_lat &lt;dbl&gt; | start_lng &lt;dbl&gt; | end_lat &lt;dbl&gt; | end_lng &lt;dbl&gt; | member_casual &lt;chr&gt; | date &lt;date&gt; | month &lt;chr&gt; | day &lt;chr&gt; | year &lt;chr&gt; | day_of_week &lt;chr&gt; | ride_length &lt;dbl&gt; | ride_distance &lt;dbl&gt; |\n",
       "|---|---|---|---|---|---|---|---|---|---|---|---|---|---|---|---|---|---|---|---|---|\n",
       "| 1 | 02668AD35674B983 | docked_bike | 2020-05-27 10:03:52 | 2020-05-27 10:16:49 | Franklin St &amp; Jackson Blvd     | 36  | Wabash Ave &amp; Grand Ave               | 199 | 41.8777 | -87.6353 | 41.8915 | -87.6268 | member | 2020-05-27 | 05 | 27 | 2020 | Wednesday |  777 | 1687.3498 |\n",
       "| 2 | 7A50CCAF1EDDB28F | docked_bike | 2020-05-25 10:47:11 | 2020-05-25 11:05:40 | Clark St &amp; Wrightwood Ave      | 340 | Clark St &amp; Leland Ave                | 326 | 41.9295 | -87.6431 | 41.9671 | -87.6674 | casual | 2020-05-25 | 05 | 25 | 2020 | Monday    | 1109 | 4636.9667 |\n",
       "| 3 | 58991CF1DB75BA84 | docked_bike | 2020-05-02 16:25:36 | 2020-05-02 16:39:28 | Clarendon Ave &amp; Leland Ave     | 251 | Lake Shore Dr &amp; Wellington Ave       | 157 | 41.9680 | -87.6500 | 41.9367 | -87.6368 | casual | 2020-05-02 | 05 | 02 | 2020 | Saturday  |  832 | 3644.7653 |\n",
       "| 4 | 23AFBD962F9C8F14 | docked_bike | 2020-05-30 17:00:58 | 2020-05-30 17:19:52 | Halsted St &amp; Clybourn Ave      | 331 | Broadway &amp; Barry Ave                 | 300 | 41.9097 | -87.6481 | 41.9377 | -87.6441 | casual | 2020-05-30 | 05 | 30 | 2020 | Saturday  | 1134 | 3127.6597 |\n",
       "| 5 | DF3BE94DF2CB082E | docked_bike | 2020-05-28 14:29:23 | 2020-05-28 14:43:46 | Fairbanks Ct &amp; Grand Ave       | 24  | Mies van der Rohe Way &amp; Chestnut St  | 145 | 41.8918 | -87.6206 | 41.8986 | -87.6219 | casual | 2020-05-28 | 05 | 28 | 2020 | Thursday  |  863 |  762.9504 |\n",
       "| 6 | 6AA701EBA46EAF9A | docked_bike | 2020-05-24 08:39:50 | 2020-05-24 08:58:22 | Canal St &amp; Adams St            | 192 | Indiana Ave &amp; Roosevelt Rd           | 255 | 41.8793 | -87.6399 | 41.8679 | -87.6230 | member | 2020-05-24 | 05 | 24 | 2020 | Sunday    | 1112 | 1889.8511 |\n",
       "| 7 | 9D3F29466533D0A9 | docked_bike | 2020-05-02 20:48:54 | 2020-05-02 21:06:30 | Sheffield Ave &amp; Fullerton Ave  | 67  | Orleans St &amp; Chestnut St (NEXT Apts) | 620 | 41.9256 | -87.6537 | 41.8982 | -87.6375 | casual | 2020-05-02 | 05 | 02 | 2020 | Saturday  | 1056 | 3326.9309 |\n",
       "| 8 | CDAEA6AC2DEDF077 | docked_bike | 2020-05-25 16:23:49 | 2020-05-25 16:46:57 | Western Ave &amp; Division St      | 305 | McClurg Ct &amp; Illinois St             | 26  | 41.9029 | -87.6873 | 41.8904 | -87.6175 | member | 2020-05-25 | 05 | 25 | 2020 | Monday    | 1388 | 5956.4023 |\n",
       "| 9 | 73FB492713920CD8 | docked_bike | 2020-05-10 00:11:22 | 2020-05-10 00:19:48 | Michigan Ave &amp; 18th St         | 273 | Wabash Ave &amp; 9th St                  | 321 | 41.8578 | -87.6246 | 41.8708 | -87.6257 | casual | 2020-05-10 | 05 | 10 | 2020 | Sunday    |  506 | 1446.8039 |\n",
       "| 10 | CFD32C903045E9B9 | docked_bike | 2020-05-30 13:56:57 | 2020-05-30 14:08:34 | Lincoln Ave &amp; Belle Plaine Ave | 298 | Washtenaw Ave &amp; Lawrence Ave         | 475 | 41.9560 | -87.6803 | 41.9690 | -87.6960 | casual | 2020-05-30 | 05 | 30 | 2020 | Saturday  |  697 | 1943.9463 |\n",
       "| 11 | 15E9545916C0A70D | docked_bike | 2020-05-01 15:32:53 | 2020-05-01 15:45:12 | Lincolnwood Dr &amp; Central St    | 663 | Central St &amp; Girard Ave              | 602 | 42.0649 | -87.7153 | 42.0643 | -87.6862 | member | 2020-05-01 | 05 | 01 | 2020 | Friday    |  739 | 2409.4390 |\n",
       "| 12 | D96371F35A485696 | docked_bike | 2020-05-01 15:47:39 | 2020-05-01 16:02:52 | Central St &amp; Girard Ave        | 602 | Chicago Ave &amp; Sheridan Rd            | 603 | 42.0643 | -87.6862 | 42.0505 | -87.6778 | member | 2020-05-01 | 05 | 01 | 2020 | Friday    |  913 | 1683.1602 |\n",
       "| 13 | 4862102063FCE165 | docked_bike | 2020-05-20 18:19:20 | 2020-05-20 18:43:08 | Sheffield Ave &amp; Wellington Ave | 115 | Damen Ave &amp; Pierce Ave               | 69  | 41.9363 | -87.6527 | 41.9094 | -87.6777 | member | 2020-05-20 | 05 | 20 | 2020 | Wednesday | 1428 | 3636.9839 |\n",
       "| 14 | B803FBA7A77D41A3 | docked_bike | 2020-05-27 20:34:20 | 2020-05-27 20:57:23 | Damen Ave &amp; Pierce Ave         | 69  | Sheffield Ave &amp; Wellington Ave       | 115 | 41.9094 | -87.6777 | 41.9363 | -87.6527 | member | 2020-05-27 | 05 | 27 | 2020 | Wednesday | 1383 | 3636.9839 |\n",
       "| 15 | A80F390E173B72EA | docked_bike | 2020-05-20 20:18:29 | 2020-05-20 20:19:20 | Damen Ave &amp; Pierce Ave         | 69  | Damen Ave &amp; Pierce Ave               | 69  | 41.9094 | -87.6777 | 41.9094 | -87.6777 | member | 2020-05-20 | 05 | 20 | 2020 | Wednesday |   51 |    0.0000 |\n",
       "| 16 | 4267A0BB80680713 | docked_bike | 2020-05-28 19:02:53 | 2020-05-28 19:08:40 | Sheffield Ave &amp; Wellington Ave | 115 | Ashland Ave &amp; Wellington Ave         | 250 | 41.9363 | -87.6527 | 41.9361 | -87.6698 | member | 2020-05-28 | 05 | 28 | 2020 | Thursday  |  347 | 1418.3363 |\n",
       "| 17 | 1B8CF206CF4A3731 | docked_bike | 2020-05-02 18:09:27 | 2020-05-02 18:18:11 | Morgan St &amp; 18th St            | 14  | Emerald Ave &amp; 31st St                | 339 | 41.8581 | -87.6511 | 41.8382 | -87.6451 | member | 2020-05-02 | 05 | 02 | 2020 | Saturday  |  524 | 2265.7697 |\n",
       "| 18 | 578742018FA77B2A | docked_bike | 2020-05-08 20:03:15 | 2020-05-08 20:12:56 | Morgan St &amp; 18th St            | 14  | Emerald Ave &amp; 31st St                | 339 | 41.8581 | -87.6511 | 41.8382 | -87.6451 | member | 2020-05-08 | 05 | 08 | 2020 | Friday    |  581 | 2265.7697 |\n",
       "| 19 | 9E5E4A56B7191D32 | docked_bike | 2020-05-08 17:56:56 | 2020-05-08 18:02:21 | May St &amp; Taylor St             | 22  | Racine Ave &amp; 18th St                 | 15  | 41.8695 | -87.6555 | 41.8582 | -87.6565 | member | 2020-05-08 | 05 | 08 | 2020 | Friday    |  325 | 1257.8414 |\n",
       "| 20 | 697B81BD60E138A2 | docked_bike | 2020-05-08 17:47:45 | 2020-05-08 17:53:48 | Racine Ave &amp; 18th St           | 15  | May St &amp; Taylor St                   | 22  | 41.8582 | -87.6565 | 41.8695 | -87.6555 | member | 2020-05-08 | 05 | 08 | 2020 | Friday    |  363 | 1257.8414 |\n",
       "| 21 | D494B0B04EEC3D77 | docked_bike | 2020-05-03 13:44:59 | 2020-05-03 13:50:44 | Throop (Loomis) St &amp; Taylor St | 19  | Racine Ave &amp; 18th St                 | 15  | 41.8690 | -87.6591 | 41.8582 | -87.6565 | member | 2020-05-03 | 05 | 03 | 2020 | Sunday    |  345 | 1218.8320 |\n",
       "| 22 | 0A082D5DB3C57404 | docked_bike | 2020-05-01 17:55:45 | 2020-05-01 18:04:57 | Morgan St &amp; 18th St            | 14  | Emerald Ave &amp; 31st St                | 339 | 41.8581 | -87.6511 | 41.8382 | -87.6451 | member | 2020-05-01 | 05 | 01 | 2020 | Friday    |  552 | 2265.7697 |\n",
       "| 23 | 985344F66F90A1D3 | docked_bike | 2020-05-02 06:46:40 | 2020-05-02 06:55:12 | Morgan St &amp; 18th St            | 14  | Emerald Ave &amp; 31st St                | 339 | 41.8581 | -87.6511 | 41.8382 | -87.6451 | member | 2020-05-02 | 05 | 02 | 2020 | Saturday  |  512 | 2265.7697 |\n",
       "| 24 | 453FCC9C56899771 | docked_bike | 2020-05-03 11:37:01 | 2020-05-03 11:58:34 | Lake Shore Dr &amp; Wellington Ave | 157 | Rush St &amp; Cedar St                   | 172 | 41.9367 | -87.6368 | 41.9023 | -87.6277 | member | 2020-05-03 | 05 | 03 | 2020 | Sunday    | 1293 | 3894.7255 |\n",
       "| 25 | 28F3C48900B69E85 | docked_bike | 2020-05-16 19:29:06 | 2020-05-16 19:31:03 | LaSalle St &amp; Illinois St       | 181 | Dearborn St &amp; Erie St                | 110 | 41.8908 | -87.6317 | 41.8940 | -87.6293 | member | 2020-05-16 | 05 | 16 | 2020 | Saturday  |  117 |  407.4312 |\n",
       "| 26 | 75C885AC4407F508 | docked_bike | 2020-05-10 14:44:33 | 2020-05-10 14:56:02 | Sheffield Ave &amp; Wellington Ave | 115 | Sheffield Ave &amp; Wellington Ave       | 115 | 41.9363 | -87.6527 | 41.9363 | -87.6527 | member | 2020-05-10 | 05 | 10 | 2020 | Sunday    |  689 |    0.0000 |\n",
       "| 27 | 54C18CE7236AF98F | docked_bike | 2020-05-28 14:28:59 | 2020-05-28 14:31:54 | LaSalle St &amp; Illinois St       | 181 | Dearborn St &amp; Erie St                | 110 | 41.8908 | -87.6317 | 41.8940 | -87.6293 | member | 2020-05-28 | 05 | 28 | 2020 | Thursday  |  175 |  407.4312 |\n",
       "| 28 | A6C7E13D585593BE | docked_bike | 2020-05-03 14:02:59 | 2020-05-03 14:08:28 | Dearborn Pkwy &amp; Delaware Pl    | 140 | LaSalle St &amp; Illinois St             | 181 | 41.8990 | -87.6299 | 41.8908 | -87.6317 | member | 2020-05-03 | 05 | 03 | 2020 | Sunday    |  329 |  922.9524 |\n",
       "| 29 | E9966544A04F4055 | docked_bike | 2020-05-27 18:57:30 | 2020-05-27 19:14:47 | Sheffield Ave &amp; Wellington Ave | 115 | Damen Ave &amp; Pierce Ave               | 69  | 41.9363 | -87.6527 | 41.9094 | -87.6777 | member | 2020-05-27 | 05 | 27 | 2020 | Wednesday | 1037 | 3636.9839 |\n",
       "| 30 | BD2AE7EDEEC0C1D7 | docked_bike | 2020-05-04 12:35:01 | 2020-05-04 12:37:01 | LaSalle St &amp; Illinois St       | 181 | Dearborn St &amp; Erie St                | 110 | 41.8908 | -87.6317 | 41.8940 | -87.6293 | member | 2020-05-04 | 05 | 04 | 2020 | Monday    |  120 |  407.4312 |\n",
       "| ⋮ | ⋮ | ⋮ | ⋮ | ⋮ | ⋮ | ⋮ | ⋮ | ⋮ | ⋮ | ⋮ | ⋮ | ⋮ | ⋮ | ⋮ | ⋮ | ⋮ | ⋮ | ⋮ | ⋮ | ⋮ |\n",
       "| 2563205 | 90B9B230F90A3F0F | classic_bike  | 2021-04-03 14:50:12 | 2021-04-03 15:00:12 | McClurg Ct &amp; Erie St                | KA1503000041 | Streeter Dr &amp; Grand Ave      | 13022 | 41.89450 | -87.61785 | 41.89228 | -87.61204 | casual | 2021-04-03 | 04 | 03 | 2021 | Saturday  |  600 |  541.8843 |\n",
       "| 2563206 | 7B6981560E0F5D78 | electric_bike | 2021-04-04 17:09:40 | 2021-04-04 17:22:16 | Kedzie Ave &amp; Palmer Ct              | 13292        | Milwaukee Ave &amp; Wabansia Ave | 13243 | 41.92153 | -87.70734 | 41.91264 | -87.68144 | casual | 2021-04-04 | 04 | 04 | 2021 | Sunday    |  756 | 2364.6652 |\n",
       "| 2563207 | DE21332FE11242C0 | classic_bike  | 2021-04-10 08:01:23 | 2021-04-10 08:10:22 | McClurg Ct &amp; Erie St                | KA1503000041 | Franklin St &amp; Chicago Ave    | 13017 | 41.89450 | -87.61785 | 41.89675 | -87.63567 | casual | 2021-04-10 | 04 | 10 | 2021 | Saturday  |  539 | 1499.1455 |\n",
       "| 2563208 | 100EB567A4DA859F | classic_bike  | 2021-04-21 06:47:10 | 2021-04-21 06:53:07 | Mies van der Rohe Way &amp; Chestnut St | 15529        | Franklin St &amp; Chicago Ave    | 13017 | 41.89859 | -87.62192 | 41.89675 | -87.63567 | member | 2021-04-21 | 04 | 21 | 2021 | Wednesday |  357 | 1159.3690 |\n",
       "| 2563209 | 3CE8708D3CE3324C | classic_bike  | 2021-04-06 17:23:52 | 2021-04-06 17:29:15 | McClurg Ct &amp; Erie St                | KA1503000041 | Streeter Dr &amp; Grand Ave      | 13022 | 41.89450 | -87.61785 | 41.89228 | -87.61204 | member | 2021-04-06 | 04 | 06 | 2021 | Tuesday   |  323 |  541.8843 |\n",
       "| 2563210 | 4798863804F83C4D | classic_bike  | 2021-04-26 08:03:29 | 2021-04-26 08:10:25 | Mies van der Rohe Way &amp; Chestnut St | 15529        | Franklin St &amp; Chicago Ave    | 13017 | 41.89859 | -87.62192 | 41.89675 | -87.63567 | member | 2021-04-26 | 04 | 26 | 2021 | Monday    |  416 | 1159.3690 |\n",
       "| 2563211 | DE89853ACA56DC58 | classic_bike  | 2021-04-17 07:01:27 | 2021-04-17 07:05:59 | Mies van der Rohe Way &amp; Chestnut St | 15529        | Franklin St &amp; Chicago Ave    | 13017 | 41.89859 | -87.62192 | 41.89675 | -87.63567 | member | 2021-04-17 | 04 | 17 | 2021 | Saturday  |  272 | 1159.3690 |\n",
       "| 2563212 | 3C2574F0015DD790 | classic_bike  | 2021-04-03 19:20:59 | 2021-04-03 19:43:15 | Canal St &amp; Harrison St              | 13326        | Milwaukee Ave &amp; Wabansia Ave | 13243 | 41.87425 | -87.63957 | 41.91262 | -87.68139 | casual | 2021-04-03 | 04 | 03 | 2021 | Saturday  | 1336 | 5495.2987 |\n",
       "| 2563213 | 52FA297D1E84EF10 | classic_bike  | 2021-04-23 11:03:35 | 2021-04-23 11:10:57 | McClurg Ct &amp; Erie St                | KA1503000041 | Streeter Dr &amp; Grand Ave      | 13022 | 41.89450 | -87.61785 | 41.89228 | -87.61204 | casual | 2021-04-23 | 04 | 23 | 2021 | Friday    |  442 |  541.8843 |\n",
       "| 2563214 | 51DA3C644DD4EE46 | classic_bike  | 2021-04-27 18:40:31 | 2021-04-27 18:50:46 | Mies van der Rohe Way &amp; Chestnut St | 15529        | Streeter Dr &amp; Grand Ave      | 13022 | 41.89859 | -87.62192 | 41.89228 | -87.61204 | casual | 2021-04-27 | 04 | 27 | 2021 | Tuesday   |  615 | 1078.0444 |\n",
       "| 2563215 | AE2140982CE74E3D | classic_bike  | 2021-04-16 10:32:08 | 2021-04-16 10:40:23 | Kedzie Ave &amp; Palmer Ct              | 13292        | Milwaukee Ave &amp; Wabansia Ave | 13243 | 41.92153 | -87.70732 | 41.91262 | -87.68139 | member | 2021-04-16 | 04 | 16 | 2021 | Friday    |  495 | 2367.8692 |\n",
       "| 2563216 | 52DB1F82E1EB416D | classic_bike  | 2021-04-27 17:31:52 | 2021-04-27 17:35:32 | McClurg Ct &amp; Erie St                | KA1503000041 | Streeter Dr &amp; Grand Ave      | 13022 | 41.89450 | -87.61785 | 41.89228 | -87.61204 | member | 2021-04-27 | 04 | 27 | 2021 | Tuesday   |  220 |  541.8843 |\n",
       "| 2563217 | 32D8D5039D8F1B7F | classic_bike  | 2021-04-27 18:40:30 | 2021-04-27 18:51:02 | Mies van der Rohe Way &amp; Chestnut St | 15529        | Streeter Dr &amp; Grand Ave      | 13022 | 41.89859 | -87.62192 | 41.89228 | -87.61204 | casual | 2021-04-27 | 04 | 27 | 2021 | Tuesday   |  632 | 1078.0444 |\n",
       "| 2563218 | EDA860C3F01EAE26 | classic_bike  | 2021-04-25 09:39:42 | 2021-04-25 09:45:17 | Mies van der Rohe Way &amp; Chestnut St | 15529        | Franklin St &amp; Chicago Ave    | 13017 | 41.89859 | -87.62192 | 41.89675 | -87.63567 | member | 2021-04-25 | 04 | 25 | 2021 | Sunday    |  335 | 1159.3690 |\n",
       "| 2563219 | 40EA4B911FE5D163 | classic_bike  | 2021-04-05 05:39:50 | 2021-04-05 05:46:02 | Mies van der Rohe Way &amp; Chestnut St | 15529        | Franklin St &amp; Chicago Ave    | 13017 | 41.89859 | -87.62192 | 41.89675 | -87.63567 | member | 2021-04-05 | 04 | 05 | 2021 | Monday    |  372 | 1159.3690 |\n",
       "| 2563220 | A0E4CA8CD7D1E38F | classic_bike  | 2021-04-26 12:42:37 | 2021-04-26 12:53:40 | Kedzie Ave &amp; Palmer Ct              | 13292        | Milwaukee Ave &amp; Wabansia Ave | 13243 | 41.92153 | -87.70732 | 41.91262 | -87.68139 | member | 2021-04-26 | 04 | 26 | 2021 | Monday    |  663 | 2367.8692 |\n",
       "| 2563221 | 4523935C75DDF947 | classic_bike  | 2021-04-07 18:00:02 | 2021-04-07 18:20:36 | McClurg Ct &amp; Erie St                | KA1503000041 | Franklin St &amp; Chicago Ave    | 13017 | 41.89450 | -87.61785 | 41.89675 | -87.63567 | member | 2021-04-07 | 04 | 07 | 2021 | Wednesday | 1234 | 1499.1455 |\n",
       "| 2563222 | 39574A2BA8CE532F | classic_bike  | 2021-04-24 17:26:22 | 2021-04-24 17:35:29 | McClurg Ct &amp; Erie St                | KA1503000041 | Franklin St &amp; Chicago Ave    | 13017 | 41.89450 | -87.61785 | 41.89675 | -87.63567 | member | 2021-04-24 | 04 | 24 | 2021 | Saturday  |  547 | 1499.1455 |\n",
       "| 2563223 | C31D60B5E01BFF7F | classic_bike  | 2021-04-05 17:20:11 | 2021-04-05 17:27:23 | McClurg Ct &amp; Erie St                | KA1503000041 | Franklin St &amp; Chicago Ave    | 13017 | 41.89450 | -87.61785 | 41.89675 | -87.63567 | member | 2021-04-05 | 04 | 05 | 2021 | Monday    |  432 | 1499.1455 |\n",
       "| 2563224 | 2E9CDE6E1E1572EC | classic_bike  | 2021-04-29 09:08:26 | 2021-04-29 09:12:05 | McClurg Ct &amp; Erie St                | KA1503000041 | Streeter Dr &amp; Grand Ave      | 13022 | 41.89450 | -87.61785 | 41.89228 | -87.61204 | member | 2021-04-29 | 04 | 29 | 2021 | Thursday  |  219 |  541.8843 |\n",
       "| 2563225 | FA7F756FB241DE0E | classic_bike  | 2021-04-26 17:39:25 | 2021-04-26 17:57:58 | Mies van der Rohe Way &amp; Chestnut St | 15529        | Streeter Dr &amp; Grand Ave      | 13022 | 41.89859 | -87.62192 | 41.89228 | -87.61204 | member | 2021-04-26 | 04 | 26 | 2021 | Monday    | 1113 | 1078.0444 |\n",
       "| 2563226 | 7D719C0F3E57A424 | classic_bike  | 2021-04-24 17:26:12 | 2021-04-24 17:35:27 | McClurg Ct &amp; Erie St                | KA1503000041 | Franklin St &amp; Chicago Ave    | 13017 | 41.89450 | -87.61785 | 41.89675 | -87.63567 | member | 2021-04-24 | 04 | 24 | 2021 | Saturday  |  555 | 1499.1455 |\n",
       "| 2563227 | 2114BC419A45B819 | classic_bike  | 2021-04-26 14:17:20 | 2021-04-26 14:31:57 | McClurg Ct &amp; Erie St                | KA1503000041 | Streeter Dr &amp; Grand Ave      | 13022 | 41.89450 | -87.61785 | 41.89228 | -87.61204 | casual | 2021-04-26 | 04 | 26 | 2021 | Monday    |  877 |  541.8843 |\n",
       "| 2563228 | 577225A6C793E626 | classic_bike  | 2021-04-11 12:47:53 | 2021-04-11 12:52:32 | Mies van der Rohe Way &amp; Chestnut St | 15529        | Franklin St &amp; Chicago Ave    | 13017 | 41.89859 | -87.62192 | 41.89675 | -87.63567 | casual | 2021-04-11 | 04 | 11 | 2021 | Sunday    |  279 | 1159.3690 |\n",
       "| 2563229 | 8CA4B7844F3AC34C | classic_bike  | 2021-04-10 07:48:20 | 2021-04-10 07:53:29 | Mies van der Rohe Way &amp; Chestnut St | 15529        | Franklin St &amp; Chicago Ave    | 13017 | 41.89859 | -87.62192 | 41.89675 | -87.63567 | casual | 2021-04-10 | 04 | 10 | 2021 | Saturday  |  309 | 1159.3690 |\n",
       "| 2563230 | BA66A9F187C80966 | classic_bike  | 2021-04-08 05:40:04 | 2021-04-08 05:46:01 | Mies van der Rohe Way &amp; Chestnut St | 15529        | Franklin St &amp; Chicago Ave    | 13017 | 41.89859 | -87.62192 | 41.89675 | -87.63567 | member | 2021-04-08 | 04 | 08 | 2021 | Thursday  |  357 | 1159.3690 |\n",
       "| 2563231 | 6B0D434599FACBF4 | classic_bike  | 2021-04-23 05:42:14 | 2021-04-23 05:48:27 | Mies van der Rohe Way &amp; Chestnut St | 15529        | Franklin St &amp; Chicago Ave    | 13017 | 41.89859 | -87.62192 | 41.89675 | -87.63567 | member | 2021-04-23 | 04 | 23 | 2021 | Friday    |  373 | 1159.3690 |\n",
       "| 2563232 | 461A6B0728E063DB | classic_bike  | 2021-04-09 17:09:03 | 2021-04-09 17:16:16 | Mies van der Rohe Way &amp; Chestnut St | 15529        | Franklin St &amp; Chicago Ave    | 13017 | 41.89859 | -87.62192 | 41.89675 | -87.63567 | member | 2021-04-09 | 04 | 09 | 2021 | Friday    |  433 | 1159.3690 |\n",
       "| 2563233 | 04DFB53077A17DA2 | electric_bike | 2021-04-18 11:40:37 | 2021-04-18 11:46:03 | Mies van der Rohe Way &amp; Chestnut St | 15529        | Franklin St &amp; Chicago Ave    | 13017 | 41.89826 | -87.62242 | 41.89494 | -87.63044 | member | 2021-04-18 | 04 | 18 | 2021 | Sunday    |  326 |  761.0413 |\n",
       "| 2563234 | DB6F78ABBECA378C | classic_bike  | 2021-04-23 19:22:16 | 2021-04-23 19:41:07 | Kedzie Ave &amp; Palmer Ct              | 13292        | Milwaukee Ave &amp; Wabansia Ave | 13243 | 41.92153 | -87.70732 | 41.91262 | -87.68139 | member | 2021-04-23 | 04 | 23 | 2021 | Friday    | 1131 | 2367.8692 |\n",
       "\n"
      ],
      "text/plain": [
       "        ride_id          rideable_type started_at          ended_at           \n",
       "1       02668AD35674B983 docked_bike   2020-05-27 10:03:52 2020-05-27 10:16:49\n",
       "2       7A50CCAF1EDDB28F docked_bike   2020-05-25 10:47:11 2020-05-25 11:05:40\n",
       "3       58991CF1DB75BA84 docked_bike   2020-05-02 16:25:36 2020-05-02 16:39:28\n",
       "4       23AFBD962F9C8F14 docked_bike   2020-05-30 17:00:58 2020-05-30 17:19:52\n",
       "5       DF3BE94DF2CB082E docked_bike   2020-05-28 14:29:23 2020-05-28 14:43:46\n",
       "6       6AA701EBA46EAF9A docked_bike   2020-05-24 08:39:50 2020-05-24 08:58:22\n",
       "7       9D3F29466533D0A9 docked_bike   2020-05-02 20:48:54 2020-05-02 21:06:30\n",
       "8       CDAEA6AC2DEDF077 docked_bike   2020-05-25 16:23:49 2020-05-25 16:46:57\n",
       "9       73FB492713920CD8 docked_bike   2020-05-10 00:11:22 2020-05-10 00:19:48\n",
       "10      CFD32C903045E9B9 docked_bike   2020-05-30 13:56:57 2020-05-30 14:08:34\n",
       "11      15E9545916C0A70D docked_bike   2020-05-01 15:32:53 2020-05-01 15:45:12\n",
       "12      D96371F35A485696 docked_bike   2020-05-01 15:47:39 2020-05-01 16:02:52\n",
       "13      4862102063FCE165 docked_bike   2020-05-20 18:19:20 2020-05-20 18:43:08\n",
       "14      B803FBA7A77D41A3 docked_bike   2020-05-27 20:34:20 2020-05-27 20:57:23\n",
       "15      A80F390E173B72EA docked_bike   2020-05-20 20:18:29 2020-05-20 20:19:20\n",
       "16      4267A0BB80680713 docked_bike   2020-05-28 19:02:53 2020-05-28 19:08:40\n",
       "17      1B8CF206CF4A3731 docked_bike   2020-05-02 18:09:27 2020-05-02 18:18:11\n",
       "18      578742018FA77B2A docked_bike   2020-05-08 20:03:15 2020-05-08 20:12:56\n",
       "19      9E5E4A56B7191D32 docked_bike   2020-05-08 17:56:56 2020-05-08 18:02:21\n",
       "20      697B81BD60E138A2 docked_bike   2020-05-08 17:47:45 2020-05-08 17:53:48\n",
       "21      D494B0B04EEC3D77 docked_bike   2020-05-03 13:44:59 2020-05-03 13:50:44\n",
       "22      0A082D5DB3C57404 docked_bike   2020-05-01 17:55:45 2020-05-01 18:04:57\n",
       "23      985344F66F90A1D3 docked_bike   2020-05-02 06:46:40 2020-05-02 06:55:12\n",
       "24      453FCC9C56899771 docked_bike   2020-05-03 11:37:01 2020-05-03 11:58:34\n",
       "25      28F3C48900B69E85 docked_bike   2020-05-16 19:29:06 2020-05-16 19:31:03\n",
       "26      75C885AC4407F508 docked_bike   2020-05-10 14:44:33 2020-05-10 14:56:02\n",
       "27      54C18CE7236AF98F docked_bike   2020-05-28 14:28:59 2020-05-28 14:31:54\n",
       "28      A6C7E13D585593BE docked_bike   2020-05-03 14:02:59 2020-05-03 14:08:28\n",
       "29      E9966544A04F4055 docked_bike   2020-05-27 18:57:30 2020-05-27 19:14:47\n",
       "30      BD2AE7EDEEC0C1D7 docked_bike   2020-05-04 12:35:01 2020-05-04 12:37:01\n",
       "⋮       ⋮                ⋮             ⋮                   ⋮                  \n",
       "2563205 90B9B230F90A3F0F classic_bike  2021-04-03 14:50:12 2021-04-03 15:00:12\n",
       "2563206 7B6981560E0F5D78 electric_bike 2021-04-04 17:09:40 2021-04-04 17:22:16\n",
       "2563207 DE21332FE11242C0 classic_bike  2021-04-10 08:01:23 2021-04-10 08:10:22\n",
       "2563208 100EB567A4DA859F classic_bike  2021-04-21 06:47:10 2021-04-21 06:53:07\n",
       "2563209 3CE8708D3CE3324C classic_bike  2021-04-06 17:23:52 2021-04-06 17:29:15\n",
       "2563210 4798863804F83C4D classic_bike  2021-04-26 08:03:29 2021-04-26 08:10:25\n",
       "2563211 DE89853ACA56DC58 classic_bike  2021-04-17 07:01:27 2021-04-17 07:05:59\n",
       "2563212 3C2574F0015DD790 classic_bike  2021-04-03 19:20:59 2021-04-03 19:43:15\n",
       "2563213 52FA297D1E84EF10 classic_bike  2021-04-23 11:03:35 2021-04-23 11:10:57\n",
       "2563214 51DA3C644DD4EE46 classic_bike  2021-04-27 18:40:31 2021-04-27 18:50:46\n",
       "2563215 AE2140982CE74E3D classic_bike  2021-04-16 10:32:08 2021-04-16 10:40:23\n",
       "2563216 52DB1F82E1EB416D classic_bike  2021-04-27 17:31:52 2021-04-27 17:35:32\n",
       "2563217 32D8D5039D8F1B7F classic_bike  2021-04-27 18:40:30 2021-04-27 18:51:02\n",
       "2563218 EDA860C3F01EAE26 classic_bike  2021-04-25 09:39:42 2021-04-25 09:45:17\n",
       "2563219 40EA4B911FE5D163 classic_bike  2021-04-05 05:39:50 2021-04-05 05:46:02\n",
       "2563220 A0E4CA8CD7D1E38F classic_bike  2021-04-26 12:42:37 2021-04-26 12:53:40\n",
       "2563221 4523935C75DDF947 classic_bike  2021-04-07 18:00:02 2021-04-07 18:20:36\n",
       "2563222 39574A2BA8CE532F classic_bike  2021-04-24 17:26:22 2021-04-24 17:35:29\n",
       "2563223 C31D60B5E01BFF7F classic_bike  2021-04-05 17:20:11 2021-04-05 17:27:23\n",
       "2563224 2E9CDE6E1E1572EC classic_bike  2021-04-29 09:08:26 2021-04-29 09:12:05\n",
       "2563225 FA7F756FB241DE0E classic_bike  2021-04-26 17:39:25 2021-04-26 17:57:58\n",
       "2563226 7D719C0F3E57A424 classic_bike  2021-04-24 17:26:12 2021-04-24 17:35:27\n",
       "2563227 2114BC419A45B819 classic_bike  2021-04-26 14:17:20 2021-04-26 14:31:57\n",
       "2563228 577225A6C793E626 classic_bike  2021-04-11 12:47:53 2021-04-11 12:52:32\n",
       "2563229 8CA4B7844F3AC34C classic_bike  2021-04-10 07:48:20 2021-04-10 07:53:29\n",
       "2563230 BA66A9F187C80966 classic_bike  2021-04-08 05:40:04 2021-04-08 05:46:01\n",
       "2563231 6B0D434599FACBF4 classic_bike  2021-04-23 05:42:14 2021-04-23 05:48:27\n",
       "2563232 461A6B0728E063DB classic_bike  2021-04-09 17:09:03 2021-04-09 17:16:16\n",
       "2563233 04DFB53077A17DA2 electric_bike 2021-04-18 11:40:37 2021-04-18 11:46:03\n",
       "2563234 DB6F78ABBECA378C classic_bike  2021-04-23 19:22:16 2021-04-23 19:41:07\n",
       "        start_station_name                  start_station_id\n",
       "1       Franklin St & Jackson Blvd          36              \n",
       "2       Clark St & Wrightwood Ave           340             \n",
       "3       Clarendon Ave & Leland Ave          251             \n",
       "4       Halsted St & Clybourn Ave           331             \n",
       "5       Fairbanks Ct & Grand Ave            24              \n",
       "6       Canal St & Adams St                 192             \n",
       "7       Sheffield Ave & Fullerton Ave       67              \n",
       "8       Western Ave & Division St           305             \n",
       "9       Michigan Ave & 18th St              273             \n",
       "10      Lincoln Ave & Belle Plaine Ave      298             \n",
       "11      Lincolnwood Dr & Central St         663             \n",
       "12      Central St & Girard Ave             602             \n",
       "13      Sheffield Ave & Wellington Ave      115             \n",
       "14      Damen Ave & Pierce Ave              69              \n",
       "15      Damen Ave & Pierce Ave              69              \n",
       "16      Sheffield Ave & Wellington Ave      115             \n",
       "17      Morgan St & 18th St                 14              \n",
       "18      Morgan St & 18th St                 14              \n",
       "19      May St & Taylor St                  22              \n",
       "20      Racine Ave & 18th St                15              \n",
       "21      Throop (Loomis) St & Taylor St      19              \n",
       "22      Morgan St & 18th St                 14              \n",
       "23      Morgan St & 18th St                 14              \n",
       "24      Lake Shore Dr & Wellington Ave      157             \n",
       "25      LaSalle St & Illinois St            181             \n",
       "26      Sheffield Ave & Wellington Ave      115             \n",
       "27      LaSalle St & Illinois St            181             \n",
       "28      Dearborn Pkwy & Delaware Pl         140             \n",
       "29      Sheffield Ave & Wellington Ave      115             \n",
       "30      LaSalle St & Illinois St            181             \n",
       "⋮       ⋮                                   ⋮               \n",
       "2563205 McClurg Ct & Erie St                KA1503000041    \n",
       "2563206 Kedzie Ave & Palmer Ct              13292           \n",
       "2563207 McClurg Ct & Erie St                KA1503000041    \n",
       "2563208 Mies van der Rohe Way & Chestnut St 15529           \n",
       "2563209 McClurg Ct & Erie St                KA1503000041    \n",
       "2563210 Mies van der Rohe Way & Chestnut St 15529           \n",
       "2563211 Mies van der Rohe Way & Chestnut St 15529           \n",
       "2563212 Canal St & Harrison St              13326           \n",
       "2563213 McClurg Ct & Erie St                KA1503000041    \n",
       "2563214 Mies van der Rohe Way & Chestnut St 15529           \n",
       "2563215 Kedzie Ave & Palmer Ct              13292           \n",
       "2563216 McClurg Ct & Erie St                KA1503000041    \n",
       "2563217 Mies van der Rohe Way & Chestnut St 15529           \n",
       "2563218 Mies van der Rohe Way & Chestnut St 15529           \n",
       "2563219 Mies van der Rohe Way & Chestnut St 15529           \n",
       "2563220 Kedzie Ave & Palmer Ct              13292           \n",
       "2563221 McClurg Ct & Erie St                KA1503000041    \n",
       "2563222 McClurg Ct & Erie St                KA1503000041    \n",
       "2563223 McClurg Ct & Erie St                KA1503000041    \n",
       "2563224 McClurg Ct & Erie St                KA1503000041    \n",
       "2563225 Mies van der Rohe Way & Chestnut St 15529           \n",
       "2563226 McClurg Ct & Erie St                KA1503000041    \n",
       "2563227 McClurg Ct & Erie St                KA1503000041    \n",
       "2563228 Mies van der Rohe Way & Chestnut St 15529           \n",
       "2563229 Mies van der Rohe Way & Chestnut St 15529           \n",
       "2563230 Mies van der Rohe Way & Chestnut St 15529           \n",
       "2563231 Mies van der Rohe Way & Chestnut St 15529           \n",
       "2563232 Mies van der Rohe Way & Chestnut St 15529           \n",
       "2563233 Mies van der Rohe Way & Chestnut St 15529           \n",
       "2563234 Kedzie Ave & Palmer Ct              13292           \n",
       "        end_station_name                     end_station_id start_lat start_lng\n",
       "1       Wabash Ave & Grand Ave               199            41.8777   -87.6353 \n",
       "2       Clark St & Leland Ave                326            41.9295   -87.6431 \n",
       "3       Lake Shore Dr & Wellington Ave       157            41.9680   -87.6500 \n",
       "4       Broadway & Barry Ave                 300            41.9097   -87.6481 \n",
       "5       Mies van der Rohe Way & Chestnut St  145            41.8918   -87.6206 \n",
       "6       Indiana Ave & Roosevelt Rd           255            41.8793   -87.6399 \n",
       "7       Orleans St & Chestnut St (NEXT Apts) 620            41.9256   -87.6537 \n",
       "8       McClurg Ct & Illinois St             26             41.9029   -87.6873 \n",
       "9       Wabash Ave & 9th St                  321            41.8578   -87.6246 \n",
       "10      Washtenaw Ave & Lawrence Ave         475            41.9560   -87.6803 \n",
       "11      Central St & Girard Ave              602            42.0649   -87.7153 \n",
       "12      Chicago Ave & Sheridan Rd            603            42.0643   -87.6862 \n",
       "13      Damen Ave & Pierce Ave               69             41.9363   -87.6527 \n",
       "14      Sheffield Ave & Wellington Ave       115            41.9094   -87.6777 \n",
       "15      Damen Ave & Pierce Ave               69             41.9094   -87.6777 \n",
       "16      Ashland Ave & Wellington Ave         250            41.9363   -87.6527 \n",
       "17      Emerald Ave & 31st St                339            41.8581   -87.6511 \n",
       "18      Emerald Ave & 31st St                339            41.8581   -87.6511 \n",
       "19      Racine Ave & 18th St                 15             41.8695   -87.6555 \n",
       "20      May St & Taylor St                   22             41.8582   -87.6565 \n",
       "21      Racine Ave & 18th St                 15             41.8690   -87.6591 \n",
       "22      Emerald Ave & 31st St                339            41.8581   -87.6511 \n",
       "23      Emerald Ave & 31st St                339            41.8581   -87.6511 \n",
       "24      Rush St & Cedar St                   172            41.9367   -87.6368 \n",
       "25      Dearborn St & Erie St                110            41.8908   -87.6317 \n",
       "26      Sheffield Ave & Wellington Ave       115            41.9363   -87.6527 \n",
       "27      Dearborn St & Erie St                110            41.8908   -87.6317 \n",
       "28      LaSalle St & Illinois St             181            41.8990   -87.6299 \n",
       "29      Damen Ave & Pierce Ave               69             41.9363   -87.6527 \n",
       "30      Dearborn St & Erie St                110            41.8908   -87.6317 \n",
       "⋮       ⋮                                    ⋮              ⋮         ⋮        \n",
       "2563205 Streeter Dr & Grand Ave              13022          41.89450  -87.61785\n",
       "2563206 Milwaukee Ave & Wabansia Ave         13243          41.92153  -87.70734\n",
       "2563207 Franklin St & Chicago Ave            13017          41.89450  -87.61785\n",
       "2563208 Franklin St & Chicago Ave            13017          41.89859  -87.62192\n",
       "2563209 Streeter Dr & Grand Ave              13022          41.89450  -87.61785\n",
       "2563210 Franklin St & Chicago Ave            13017          41.89859  -87.62192\n",
       "2563211 Franklin St & Chicago Ave            13017          41.89859  -87.62192\n",
       "2563212 Milwaukee Ave & Wabansia Ave         13243          41.87425  -87.63957\n",
       "2563213 Streeter Dr & Grand Ave              13022          41.89450  -87.61785\n",
       "2563214 Streeter Dr & Grand Ave              13022          41.89859  -87.62192\n",
       "2563215 Milwaukee Ave & Wabansia Ave         13243          41.92153  -87.70732\n",
       "2563216 Streeter Dr & Grand Ave              13022          41.89450  -87.61785\n",
       "2563217 Streeter Dr & Grand Ave              13022          41.89859  -87.62192\n",
       "2563218 Franklin St & Chicago Ave            13017          41.89859  -87.62192\n",
       "2563219 Franklin St & Chicago Ave            13017          41.89859  -87.62192\n",
       "2563220 Milwaukee Ave & Wabansia Ave         13243          41.92153  -87.70732\n",
       "2563221 Franklin St & Chicago Ave            13017          41.89450  -87.61785\n",
       "2563222 Franklin St & Chicago Ave            13017          41.89450  -87.61785\n",
       "2563223 Franklin St & Chicago Ave            13017          41.89450  -87.61785\n",
       "2563224 Streeter Dr & Grand Ave              13022          41.89450  -87.61785\n",
       "2563225 Streeter Dr & Grand Ave              13022          41.89859  -87.62192\n",
       "2563226 Franklin St & Chicago Ave            13017          41.89450  -87.61785\n",
       "2563227 Streeter Dr & Grand Ave              13022          41.89450  -87.61785\n",
       "2563228 Franklin St & Chicago Ave            13017          41.89859  -87.62192\n",
       "2563229 Franklin St & Chicago Ave            13017          41.89859  -87.62192\n",
       "2563230 Franklin St & Chicago Ave            13017          41.89859  -87.62192\n",
       "2563231 Franklin St & Chicago Ave            13017          41.89859  -87.62192\n",
       "2563232 Franklin St & Chicago Ave            13017          41.89859  -87.62192\n",
       "2563233 Franklin St & Chicago Ave            13017          41.89826  -87.62242\n",
       "2563234 Milwaukee Ave & Wabansia Ave         13243          41.92153  -87.70732\n",
       "        end_lat  end_lng   member_casual date       month day year day_of_week\n",
       "1       41.8915  -87.6268  member        2020-05-27 05    27  2020 Wednesday  \n",
       "2       41.9671  -87.6674  casual        2020-05-25 05    25  2020 Monday     \n",
       "3       41.9367  -87.6368  casual        2020-05-02 05    02  2020 Saturday   \n",
       "4       41.9377  -87.6441  casual        2020-05-30 05    30  2020 Saturday   \n",
       "5       41.8986  -87.6219  casual        2020-05-28 05    28  2020 Thursday   \n",
       "6       41.8679  -87.6230  member        2020-05-24 05    24  2020 Sunday     \n",
       "7       41.8982  -87.6375  casual        2020-05-02 05    02  2020 Saturday   \n",
       "8       41.8904  -87.6175  member        2020-05-25 05    25  2020 Monday     \n",
       "9       41.8708  -87.6257  casual        2020-05-10 05    10  2020 Sunday     \n",
       "10      41.9690  -87.6960  casual        2020-05-30 05    30  2020 Saturday   \n",
       "11      42.0643  -87.6862  member        2020-05-01 05    01  2020 Friday     \n",
       "12      42.0505  -87.6778  member        2020-05-01 05    01  2020 Friday     \n",
       "13      41.9094  -87.6777  member        2020-05-20 05    20  2020 Wednesday  \n",
       "14      41.9363  -87.6527  member        2020-05-27 05    27  2020 Wednesday  \n",
       "15      41.9094  -87.6777  member        2020-05-20 05    20  2020 Wednesday  \n",
       "16      41.9361  -87.6698  member        2020-05-28 05    28  2020 Thursday   \n",
       "17      41.8382  -87.6451  member        2020-05-02 05    02  2020 Saturday   \n",
       "18      41.8382  -87.6451  member        2020-05-08 05    08  2020 Friday     \n",
       "19      41.8582  -87.6565  member        2020-05-08 05    08  2020 Friday     \n",
       "20      41.8695  -87.6555  member        2020-05-08 05    08  2020 Friday     \n",
       "21      41.8582  -87.6565  member        2020-05-03 05    03  2020 Sunday     \n",
       "22      41.8382  -87.6451  member        2020-05-01 05    01  2020 Friday     \n",
       "23      41.8382  -87.6451  member        2020-05-02 05    02  2020 Saturday   \n",
       "24      41.9023  -87.6277  member        2020-05-03 05    03  2020 Sunday     \n",
       "25      41.8940  -87.6293  member        2020-05-16 05    16  2020 Saturday   \n",
       "26      41.9363  -87.6527  member        2020-05-10 05    10  2020 Sunday     \n",
       "27      41.8940  -87.6293  member        2020-05-28 05    28  2020 Thursday   \n",
       "28      41.8908  -87.6317  member        2020-05-03 05    03  2020 Sunday     \n",
       "29      41.9094  -87.6777  member        2020-05-27 05    27  2020 Wednesday  \n",
       "30      41.8940  -87.6293  member        2020-05-04 05    04  2020 Monday     \n",
       "⋮       ⋮        ⋮         ⋮             ⋮          ⋮     ⋮   ⋮    ⋮          \n",
       "2563205 41.89228 -87.61204 casual        2021-04-03 04    03  2021 Saturday   \n",
       "2563206 41.91264 -87.68144 casual        2021-04-04 04    04  2021 Sunday     \n",
       "2563207 41.89675 -87.63567 casual        2021-04-10 04    10  2021 Saturday   \n",
       "2563208 41.89675 -87.63567 member        2021-04-21 04    21  2021 Wednesday  \n",
       "2563209 41.89228 -87.61204 member        2021-04-06 04    06  2021 Tuesday    \n",
       "2563210 41.89675 -87.63567 member        2021-04-26 04    26  2021 Monday     \n",
       "2563211 41.89675 -87.63567 member        2021-04-17 04    17  2021 Saturday   \n",
       "2563212 41.91262 -87.68139 casual        2021-04-03 04    03  2021 Saturday   \n",
       "2563213 41.89228 -87.61204 casual        2021-04-23 04    23  2021 Friday     \n",
       "2563214 41.89228 -87.61204 casual        2021-04-27 04    27  2021 Tuesday    \n",
       "2563215 41.91262 -87.68139 member        2021-04-16 04    16  2021 Friday     \n",
       "2563216 41.89228 -87.61204 member        2021-04-27 04    27  2021 Tuesday    \n",
       "2563217 41.89228 -87.61204 casual        2021-04-27 04    27  2021 Tuesday    \n",
       "2563218 41.89675 -87.63567 member        2021-04-25 04    25  2021 Sunday     \n",
       "2563219 41.89675 -87.63567 member        2021-04-05 04    05  2021 Monday     \n",
       "2563220 41.91262 -87.68139 member        2021-04-26 04    26  2021 Monday     \n",
       "2563221 41.89675 -87.63567 member        2021-04-07 04    07  2021 Wednesday  \n",
       "2563222 41.89675 -87.63567 member        2021-04-24 04    24  2021 Saturday   \n",
       "2563223 41.89675 -87.63567 member        2021-04-05 04    05  2021 Monday     \n",
       "2563224 41.89228 -87.61204 member        2021-04-29 04    29  2021 Thursday   \n",
       "2563225 41.89228 -87.61204 member        2021-04-26 04    26  2021 Monday     \n",
       "2563226 41.89675 -87.63567 member        2021-04-24 04    24  2021 Saturday   \n",
       "2563227 41.89228 -87.61204 casual        2021-04-26 04    26  2021 Monday     \n",
       "2563228 41.89675 -87.63567 casual        2021-04-11 04    11  2021 Sunday     \n",
       "2563229 41.89675 -87.63567 casual        2021-04-10 04    10  2021 Saturday   \n",
       "2563230 41.89675 -87.63567 member        2021-04-08 04    08  2021 Thursday   \n",
       "2563231 41.89675 -87.63567 member        2021-04-23 04    23  2021 Friday     \n",
       "2563232 41.89675 -87.63567 member        2021-04-09 04    09  2021 Friday     \n",
       "2563233 41.89494 -87.63044 member        2021-04-18 04    18  2021 Sunday     \n",
       "2563234 41.91262 -87.68139 member        2021-04-23 04    23  2021 Friday     \n",
       "        ride_length ride_distance\n",
       "1        777        1687.3498    \n",
       "2       1109        4636.9667    \n",
       "3        832        3644.7653    \n",
       "4       1134        3127.6597    \n",
       "5        863         762.9504    \n",
       "6       1112        1889.8511    \n",
       "7       1056        3326.9309    \n",
       "8       1388        5956.4023    \n",
       "9        506        1446.8039    \n",
       "10       697        1943.9463    \n",
       "11       739        2409.4390    \n",
       "12       913        1683.1602    \n",
       "13      1428        3636.9839    \n",
       "14      1383        3636.9839    \n",
       "15        51           0.0000    \n",
       "16       347        1418.3363    \n",
       "17       524        2265.7697    \n",
       "18       581        2265.7697    \n",
       "19       325        1257.8414    \n",
       "20       363        1257.8414    \n",
       "21       345        1218.8320    \n",
       "22       552        2265.7697    \n",
       "23       512        2265.7697    \n",
       "24      1293        3894.7255    \n",
       "25       117         407.4312    \n",
       "26       689           0.0000    \n",
       "27       175         407.4312    \n",
       "28       329         922.9524    \n",
       "29      1037        3636.9839    \n",
       "30       120         407.4312    \n",
       "⋮       ⋮           ⋮            \n",
       "2563205  600         541.8843    \n",
       "2563206  756        2364.6652    \n",
       "2563207  539        1499.1455    \n",
       "2563208  357        1159.3690    \n",
       "2563209  323         541.8843    \n",
       "2563210  416        1159.3690    \n",
       "2563211  272        1159.3690    \n",
       "2563212 1336        5495.2987    \n",
       "2563213  442         541.8843    \n",
       "2563214  615        1078.0444    \n",
       "2563215  495        2367.8692    \n",
       "2563216  220         541.8843    \n",
       "2563217  632        1078.0444    \n",
       "2563218  335        1159.3690    \n",
       "2563219  372        1159.3690    \n",
       "2563220  663        2367.8692    \n",
       "2563221 1234        1499.1455    \n",
       "2563222  547        1499.1455    \n",
       "2563223  432        1499.1455    \n",
       "2563224  219         541.8843    \n",
       "2563225 1113        1078.0444    \n",
       "2563226  555        1499.1455    \n",
       "2563227  877         541.8843    \n",
       "2563228  279        1159.3690    \n",
       "2563229  309        1159.3690    \n",
       "2563230  357        1159.3690    \n",
       "2563231  373        1159.3690    \n",
       "2563232  433        1159.3690    \n",
       "2563233  326         761.0413    \n",
       "2563234 1131        2367.8692    "
      ]
     },
     "metadata": {},
     "output_type": "display_data"
    }
   ],
   "source": [
    "#Find out the distance for each ride:\n",
    "all_trips_v3$ride_distance <- distGeo(matrix(c(all_trips_v3$start_lng, all_trips_v3$start_lat), ncol = 2), matrix(c(all_trips_v3$end_lng, all_trips_v3$end_lat), ncol = 2))\n",
    "View(all_trips_v3)"
   ]
  },
  {
   "cell_type": "code",
   "execution_count": 23,
   "id": "77f22006",
   "metadata": {
    "execution": {
     "iopub.execute_input": "2022-09-02T22:41:39.000080Z",
     "iopub.status.busy": "2022-09-02T22:41:38.998336Z",
     "iopub.status.idle": "2022-09-02T22:41:40.982649Z",
     "shell.execute_reply": "2022-09-02T22:41:40.980933Z"
    },
    "papermill": {
     "duration": 2.009979,
     "end_time": "2022-09-02T22:41:40.985001",
     "exception": false,
     "start_time": "2022-09-02T22:41:38.975022",
     "status": "completed"
    },
    "tags": [],
    "vscode": {
     "languageId": "r"
    }
   },
   "outputs": [
    {
     "data": {
      "text/plain": [
       "   ride_id          rideable_type       started_at          ended_at        \n",
       " Length:2563234     Length:2563234     Length:2563234     Length:2563234    \n",
       " Class :character   Class :character   Class :character   Class :character  \n",
       " Mode  :character   Mode  :character   Mode  :character   Mode  :character  \n",
       "                                                                            \n",
       "                                                                            \n",
       "                                                                            \n",
       " start_station_name start_station_id   end_station_name   end_station_id    \n",
       " Length:2563234     Length:2563234     Length:2563234     Length:2563234    \n",
       " Class :character   Class :character   Class :character   Class :character  \n",
       " Mode  :character   Mode  :character   Mode  :character   Mode  :character  \n",
       "                                                                            \n",
       "                                                                            \n",
       "                                                                            \n",
       "   start_lat       start_lng         end_lat         end_lng      \n",
       " Min.   :41.65   Min.   :-87.78   Min.   :41.64   Min.   :-87.80  \n",
       " 1st Qu.:41.88   1st Qu.:-87.66   1st Qu.:41.88   1st Qu.:-87.66  \n",
       " Median :41.90   Median :-87.64   Median :41.90   Median :-87.64  \n",
       " Mean   :41.91   Mean   :-87.65   Mean   :41.91   Mean   :-87.65  \n",
       " 3rd Qu.:41.93   3rd Qu.:-87.63   3rd Qu.:41.93   3rd Qu.:-87.63  \n",
       " Max.   :42.07   Max.   :-87.52   Max.   :42.07   Max.   :-87.51  \n",
       " member_casual           date               month               day           \n",
       " Length:2563234     Min.   :2020-05-01   Length:2563234     Length:2563234    \n",
       " Class :character   1st Qu.:2020-07-28   Class :character   Class :character  \n",
       " Mode  :character   Median :2020-09-17   Mode  :character   Mode  :character  \n",
       "                    Mean   :2020-10-10                                        \n",
       "                    3rd Qu.:2020-12-06                                        \n",
       "                    Max.   :2021-04-30                                        \n",
       "     year           day_of_week         ride_length     ride_distance    \n",
       " Length:2563234     Length:2563234     Min.   :   1.0   Min.   :    0.0  \n",
       " Class :character   Class :character   1st Qu.: 381.0   1st Qu.:  953.3  \n",
       " Mode  :character   Mode  :character   Median : 623.0   Median : 1606.3  \n",
       "                                       Mean   : 669.3   Mean   : 1855.0  \n",
       "                                       3rd Qu.: 937.0   3rd Qu.: 2557.1  \n",
       "                                       Max.   :1440.0   Max.   :25218.9  "
      ]
     },
     "metadata": {},
     "output_type": "display_data"
    }
   ],
   "source": [
    "summary(all_trips_v3)"
   ]
  },
  {
   "cell_type": "markdown",
   "id": "64985a03",
   "metadata": {
    "papermill": {
     "duration": 0.021554,
     "end_time": "2022-09-02T22:41:41.027722",
     "exception": false,
     "start_time": "2022-09-02T22:41:41.006168",
     "status": "completed"
    },
    "tags": []
   },
   "source": [
    "# **Analyze**"
   ]
  },
  {
   "cell_type": "markdown",
   "id": "7ffd85e7",
   "metadata": {
    "papermill": {
     "duration": 0.021408,
     "end_time": "2022-09-02T22:41:41.070754",
     "exception": false,
     "start_time": "2022-09-02T22:41:41.049346",
     "status": "completed"
    },
    "tags": []
   },
   "source": [
    "Firstly, let's find out the number of ride by type of rider."
   ]
  },
  {
   "cell_type": "code",
   "execution_count": 24,
   "id": "536efd71",
   "metadata": {
    "execution": {
     "iopub.execute_input": "2022-09-02T22:41:41.116809Z",
     "iopub.status.busy": "2022-09-02T22:41:41.115080Z",
     "iopub.status.idle": "2022-09-02T22:41:41.169600Z",
     "shell.execute_reply": "2022-09-02T22:41:41.167702Z"
    },
    "papermill": {
     "duration": 0.080181,
     "end_time": "2022-09-02T22:41:41.172071",
     "exception": false,
     "start_time": "2022-09-02T22:41:41.091890",
     "status": "completed"
    },
    "tags": [],
    "vscode": {
     "languageId": "r"
    }
   },
   "outputs": [],
   "source": [
    "#Assign the correct order to each day of the week\n",
    "all_trips_v3$day_of_week <- \n",
    "    ordered(all_trips_v3$day_of_week, levels = c('Monday', 'Tuesday', 'Wednesday', 'Thursday', 'Friday', 'Saturday', 'Sunday'))"
   ]
  },
  {
   "cell_type": "code",
   "execution_count": 25,
   "id": "6f416ce9",
   "metadata": {
    "execution": {
     "iopub.execute_input": "2022-09-02T22:41:41.217020Z",
     "iopub.status.busy": "2022-09-02T22:41:41.215536Z",
     "iopub.status.idle": "2022-09-02T22:41:41.353764Z",
     "shell.execute_reply": "2022-09-02T22:41:41.351957Z"
    },
    "papermill": {
     "duration": 0.163308,
     "end_time": "2022-09-02T22:41:41.356305",
     "exception": false,
     "start_time": "2022-09-02T22:41:41.192997",
     "status": "completed"
    },
    "tags": [],
    "vscode": {
     "languageId": "r"
    }
   },
   "outputs": [
    {
     "data": {
      "text/html": [
       "<table class=\"dataframe\">\n",
       "<caption>A tibble: 14 × 3</caption>\n",
       "<thead>\n",
       "\t<tr><th scope=col>member_casual</th><th scope=col>day_of_week</th><th scope=col>number_of_ride</th></tr>\n",
       "\t<tr><th scope=col>&lt;chr&gt;</th><th scope=col>&lt;ord&gt;</th><th scope=col>&lt;int&gt;</th></tr>\n",
       "</thead>\n",
       "<tbody>\n",
       "\t<tr><td>casual</td><td>Monday   </td><td> 88572</td></tr>\n",
       "\t<tr><td>member</td><td>Monday   </td><td>231921</td></tr>\n",
       "\t<tr><td>casual</td><td>Tuesday  </td><td> 92296</td></tr>\n",
       "\t<tr><td>member</td><td>Tuesday  </td><td>250047</td></tr>\n",
       "\t<tr><td>casual</td><td>Wednesday</td><td> 98815</td></tr>\n",
       "\t<tr><td>member</td><td>Wednesday</td><td>263679</td></tr>\n",
       "\t<tr><td>casual</td><td>Thursday </td><td>103132</td></tr>\n",
       "\t<tr><td>member</td><td>Thursday </td><td>259795</td></tr>\n",
       "\t<tr><td>casual</td><td>Friday   </td><td>129456</td></tr>\n",
       "\t<tr><td>member</td><td>Friday   </td><td>269493</td></tr>\n",
       "\t<tr><td>casual</td><td>Saturday </td><td>177162</td></tr>\n",
       "\t<tr><td>member</td><td>Saturday </td><td>256572</td></tr>\n",
       "\t<tr><td>casual</td><td>Sunday   </td><td>133533</td></tr>\n",
       "\t<tr><td>member</td><td>Sunday   </td><td>208761</td></tr>\n",
       "</tbody>\n",
       "</table>\n"
      ],
      "text/latex": [
       "A tibble: 14 × 3\n",
       "\\begin{tabular}{lll}\n",
       " member\\_casual & day\\_of\\_week & number\\_of\\_ride\\\\\n",
       " <chr> & <ord> & <int>\\\\\n",
       "\\hline\n",
       "\t casual & Monday    &  88572\\\\\n",
       "\t member & Monday    & 231921\\\\\n",
       "\t casual & Tuesday   &  92296\\\\\n",
       "\t member & Tuesday   & 250047\\\\\n",
       "\t casual & Wednesday &  98815\\\\\n",
       "\t member & Wednesday & 263679\\\\\n",
       "\t casual & Thursday  & 103132\\\\\n",
       "\t member & Thursday  & 259795\\\\\n",
       "\t casual & Friday    & 129456\\\\\n",
       "\t member & Friday    & 269493\\\\\n",
       "\t casual & Saturday  & 177162\\\\\n",
       "\t member & Saturday  & 256572\\\\\n",
       "\t casual & Sunday    & 133533\\\\\n",
       "\t member & Sunday    & 208761\\\\\n",
       "\\end{tabular}\n"
      ],
      "text/markdown": [
       "\n",
       "A tibble: 14 × 3\n",
       "\n",
       "| member_casual &lt;chr&gt; | day_of_week &lt;ord&gt; | number_of_ride &lt;int&gt; |\n",
       "|---|---|---|\n",
       "| casual | Monday    |  88572 |\n",
       "| member | Monday    | 231921 |\n",
       "| casual | Tuesday   |  92296 |\n",
       "| member | Tuesday   | 250047 |\n",
       "| casual | Wednesday |  98815 |\n",
       "| member | Wednesday | 263679 |\n",
       "| casual | Thursday  | 103132 |\n",
       "| member | Thursday  | 259795 |\n",
       "| casual | Friday    | 129456 |\n",
       "| member | Friday    | 269493 |\n",
       "| casual | Saturday  | 177162 |\n",
       "| member | Saturday  | 256572 |\n",
       "| casual | Sunday    | 133533 |\n",
       "| member | Sunday    | 208761 |\n",
       "\n"
      ],
      "text/plain": [
       "   member_casual day_of_week number_of_ride\n",
       "1  casual        Monday       88572        \n",
       "2  member        Monday      231921        \n",
       "3  casual        Tuesday      92296        \n",
       "4  member        Tuesday     250047        \n",
       "5  casual        Wednesday    98815        \n",
       "6  member        Wednesday   263679        \n",
       "7  casual        Thursday    103132        \n",
       "8  member        Thursday    259795        \n",
       "9  casual        Friday      129456        \n",
       "10 member        Friday      269493        \n",
       "11 casual        Saturday    177162        \n",
       "12 member        Saturday    256572        \n",
       "13 casual        Sunday      133533        \n",
       "14 member        Sunday      208761        "
      ]
     },
     "metadata": {},
     "output_type": "display_data"
    }
   ],
   "source": [
    "all_trips_v3 %>%\n",
    "    group_by(member_casual, day_of_week) %>%\n",
    "    summarise(number_of_ride = n(), .groups = 'drop') %>%\n",
    "    arrange(day_of_week)"
   ]
  },
  {
   "cell_type": "code",
   "execution_count": 26,
   "id": "95d2bd13",
   "metadata": {
    "execution": {
     "iopub.execute_input": "2022-09-02T22:41:41.403758Z",
     "iopub.status.busy": "2022-09-02T22:41:41.402143Z",
     "iopub.status.idle": "2022-09-02T22:41:41.443323Z",
     "shell.execute_reply": "2022-09-02T22:41:41.441387Z"
    },
    "papermill": {
     "duration": 0.067664,
     "end_time": "2022-09-02T22:41:41.445969",
     "exception": false,
     "start_time": "2022-09-02T22:41:41.378305",
     "status": "completed"
    },
    "tags": [],
    "vscode": {
     "languageId": "r"
    }
   },
   "outputs": [],
   "source": [
    "#Assign the correct order to each month of the year\n",
    "all_trips_v3$month <-\n",
    "    ordered(all_trips_v3$month, levels = c('05', '06', '07', '08', '09', '10', '11', '12', '01', '02', '03', '04'))"
   ]
  },
  {
   "cell_type": "code",
   "execution_count": 27,
   "id": "977d778d",
   "metadata": {
    "execution": {
     "iopub.execute_input": "2022-09-02T22:41:41.492404Z",
     "iopub.status.busy": "2022-09-02T22:41:41.490816Z",
     "iopub.status.idle": "2022-09-02T22:41:41.618160Z",
     "shell.execute_reply": "2022-09-02T22:41:41.616351Z"
    },
    "papermill": {
     "duration": 0.152903,
     "end_time": "2022-09-02T22:41:41.620476",
     "exception": false,
     "start_time": "2022-09-02T22:41:41.467573",
     "status": "completed"
    },
    "tags": [],
    "vscode": {
     "languageId": "r"
    }
   },
   "outputs": [
    {
     "data": {
      "text/html": [
       "<table class=\"dataframe\">\n",
       "<caption>A tibble: 24 × 3</caption>\n",
       "<thead>\n",
       "\t<tr><th scope=col>member_casual</th><th scope=col>month</th><th scope=col>number_of_ride</th></tr>\n",
       "\t<tr><th scope=col>&lt;chr&gt;</th><th scope=col>&lt;ord&gt;</th><th scope=col>&lt;int&gt;</th></tr>\n",
       "</thead>\n",
       "<tbody>\n",
       "\t<tr><td>casual</td><td>05</td><td> 38338</td></tr>\n",
       "\t<tr><td>member</td><td>05</td><td> 81473</td></tr>\n",
       "\t<tr><td>casual</td><td>06</td><td> 75219</td></tr>\n",
       "\t<tr><td>member</td><td>06</td><td>141811</td></tr>\n",
       "\t<tr><td>casual</td><td>07</td><td>127215</td></tr>\n",
       "\t<tr><td>member</td><td>07</td><td>218495</td></tr>\n",
       "\t<tr><td>casual</td><td>08</td><td>151319</td></tr>\n",
       "\t<tr><td>member</td><td>08</td><td>259497</td></tr>\n",
       "\t<tr><td>casual</td><td>09</td><td>127284</td></tr>\n",
       "\t<tr><td>member</td><td>09</td><td>236318</td></tr>\n",
       "\t<tr><td>casual</td><td>10</td><td> 80448</td></tr>\n",
       "\t<tr><td>member</td><td>10</td><td>186035</td></tr>\n",
       "\t<tr><td>casual</td><td>11</td><td> 46196</td></tr>\n",
       "\t<tr><td>member</td><td>11</td><td>128608</td></tr>\n",
       "\t<tr><td>casual</td><td>12</td><td> 22068</td></tr>\n",
       "\t<tr><td>member</td><td>12</td><td> 89716</td></tr>\n",
       "\t<tr><td>casual</td><td>01</td><td> 13955</td></tr>\n",
       "\t<tr><td>member</td><td>01</td><td> 70361</td></tr>\n",
       "\t<tr><td>casual</td><td>02</td><td>  6724</td></tr>\n",
       "\t<tr><td>member</td><td>02</td><td> 33651</td></tr>\n",
       "\t<tr><td>casual</td><td>03</td><td> 50422</td></tr>\n",
       "\t<tr><td>member</td><td>03</td><td>123872</td></tr>\n",
       "\t<tr><td>casual</td><td>04</td><td> 83778</td></tr>\n",
       "\t<tr><td>member</td><td>04</td><td>170431</td></tr>\n",
       "</tbody>\n",
       "</table>\n"
      ],
      "text/latex": [
       "A tibble: 24 × 3\n",
       "\\begin{tabular}{lll}\n",
       " member\\_casual & month & number\\_of\\_ride\\\\\n",
       " <chr> & <ord> & <int>\\\\\n",
       "\\hline\n",
       "\t casual & 05 &  38338\\\\\n",
       "\t member & 05 &  81473\\\\\n",
       "\t casual & 06 &  75219\\\\\n",
       "\t member & 06 & 141811\\\\\n",
       "\t casual & 07 & 127215\\\\\n",
       "\t member & 07 & 218495\\\\\n",
       "\t casual & 08 & 151319\\\\\n",
       "\t member & 08 & 259497\\\\\n",
       "\t casual & 09 & 127284\\\\\n",
       "\t member & 09 & 236318\\\\\n",
       "\t casual & 10 &  80448\\\\\n",
       "\t member & 10 & 186035\\\\\n",
       "\t casual & 11 &  46196\\\\\n",
       "\t member & 11 & 128608\\\\\n",
       "\t casual & 12 &  22068\\\\\n",
       "\t member & 12 &  89716\\\\\n",
       "\t casual & 01 &  13955\\\\\n",
       "\t member & 01 &  70361\\\\\n",
       "\t casual & 02 &   6724\\\\\n",
       "\t member & 02 &  33651\\\\\n",
       "\t casual & 03 &  50422\\\\\n",
       "\t member & 03 & 123872\\\\\n",
       "\t casual & 04 &  83778\\\\\n",
       "\t member & 04 & 170431\\\\\n",
       "\\end{tabular}\n"
      ],
      "text/markdown": [
       "\n",
       "A tibble: 24 × 3\n",
       "\n",
       "| member_casual &lt;chr&gt; | month &lt;ord&gt; | number_of_ride &lt;int&gt; |\n",
       "|---|---|---|\n",
       "| casual | 05 |  38338 |\n",
       "| member | 05 |  81473 |\n",
       "| casual | 06 |  75219 |\n",
       "| member | 06 | 141811 |\n",
       "| casual | 07 | 127215 |\n",
       "| member | 07 | 218495 |\n",
       "| casual | 08 | 151319 |\n",
       "| member | 08 | 259497 |\n",
       "| casual | 09 | 127284 |\n",
       "| member | 09 | 236318 |\n",
       "| casual | 10 |  80448 |\n",
       "| member | 10 | 186035 |\n",
       "| casual | 11 |  46196 |\n",
       "| member | 11 | 128608 |\n",
       "| casual | 12 |  22068 |\n",
       "| member | 12 |  89716 |\n",
       "| casual | 01 |  13955 |\n",
       "| member | 01 |  70361 |\n",
       "| casual | 02 |   6724 |\n",
       "| member | 02 |  33651 |\n",
       "| casual | 03 |  50422 |\n",
       "| member | 03 | 123872 |\n",
       "| casual | 04 |  83778 |\n",
       "| member | 04 | 170431 |\n",
       "\n"
      ],
      "text/plain": [
       "   member_casual month number_of_ride\n",
       "1  casual        05     38338        \n",
       "2  member        05     81473        \n",
       "3  casual        06     75219        \n",
       "4  member        06    141811        \n",
       "5  casual        07    127215        \n",
       "6  member        07    218495        \n",
       "7  casual        08    151319        \n",
       "8  member        08    259497        \n",
       "9  casual        09    127284        \n",
       "10 member        09    236318        \n",
       "11 casual        10     80448        \n",
       "12 member        10    186035        \n",
       "13 casual        11     46196        \n",
       "14 member        11    128608        \n",
       "15 casual        12     22068        \n",
       "16 member        12     89716        \n",
       "17 casual        01     13955        \n",
       "18 member        01     70361        \n",
       "19 casual        02      6724        \n",
       "20 member        02     33651        \n",
       "21 casual        03     50422        \n",
       "22 member        03    123872        \n",
       "23 casual        04     83778        \n",
       "24 member        04    170431        "
      ]
     },
     "metadata": {},
     "output_type": "display_data"
    }
   ],
   "source": [
    "all_trips_v3 %>%\n",
    "    group_by(member_casual, month) %>%\n",
    "    summarise(number_of_ride = n(), .groups = 'drop') %>%\n",
    "    arrange(month)"
   ]
  },
  {
   "cell_type": "markdown",
   "id": "97e4e3df",
   "metadata": {
    "papermill": {
     "duration": 0.022373,
     "end_time": "2022-09-02T22:41:41.668049",
     "exception": false,
     "start_time": "2022-09-02T22:41:41.645676",
     "status": "completed"
    },
    "tags": []
   },
   "source": [
    "**Findings:** \n",
    "1. Casual riders are more likely to take a ride on weekend while membership riders use on weekday more often.\n",
    "2. Summer is the peak season for both rider types"
   ]
  },
  {
   "cell_type": "markdown",
   "id": "15858f36",
   "metadata": {
    "papermill": {
     "duration": 0.021962,
     "end_time": "2022-09-02T22:41:41.711321",
     "exception": false,
     "start_time": "2022-09-02T22:41:41.689359",
     "status": "completed"
    },
    "tags": []
   },
   "source": [
    "Now, I would like to find out whether ride_length can be different depends on rider type."
   ]
  },
  {
   "cell_type": "code",
   "execution_count": 28,
   "id": "7cf283f9",
   "metadata": {
    "execution": {
     "iopub.execute_input": "2022-09-02T22:41:41.758435Z",
     "iopub.status.busy": "2022-09-02T22:41:41.756462Z",
     "iopub.status.idle": "2022-09-02T22:41:44.035602Z",
     "shell.execute_reply": "2022-09-02T22:41:44.032852Z"
    },
    "papermill": {
     "duration": 2.306438,
     "end_time": "2022-09-02T22:41:44.039108",
     "exception": false,
     "start_time": "2022-09-02T22:41:41.732670",
     "status": "completed"
    },
    "tags": [],
    "vscode": {
     "languageId": "r"
    }
   },
   "outputs": [
    {
     "data": {
      "text/html": [
       "<table class=\"dataframe\">\n",
       "<caption>A data.frame: 14 × 3</caption>\n",
       "<thead>\n",
       "\t<tr><th scope=col>all_trips_v3$member_casual</th><th scope=col>all_trips_v3$day_of_week</th><th scope=col>all_trips_v3$ride_length</th></tr>\n",
       "\t<tr><th scope=col>&lt;chr&gt;</th><th scope=col>&lt;ord&gt;</th><th scope=col>&lt;dbl&gt;</th></tr>\n",
       "</thead>\n",
       "<tbody>\n",
       "\t<tr><td>casual</td><td>Monday   </td><td>742.9120</td></tr>\n",
       "\t<tr><td>member</td><td>Monday   </td><td>609.9813</td></tr>\n",
       "\t<tr><td>casual</td><td>Tuesday  </td><td>736.7501</td></tr>\n",
       "\t<tr><td>member</td><td>Tuesday  </td><td>612.7068</td></tr>\n",
       "\t<tr><td>casual</td><td>Wednesday</td><td>740.2803</td></tr>\n",
       "\t<tr><td>member</td><td>Wednesday</td><td>614.7010</td></tr>\n",
       "\t<tr><td>casual</td><td>Thursday </td><td>737.5044</td></tr>\n",
       "\t<tr><td>member</td><td>Thursday </td><td>614.8445</td></tr>\n",
       "\t<tr><td>casual</td><td>Friday   </td><td>753.6000</td></tr>\n",
       "\t<tr><td>member</td><td>Friday   </td><td>622.9500</td></tr>\n",
       "\t<tr><td>casual</td><td>Saturday </td><td>794.9824</td></tr>\n",
       "\t<tr><td>member</td><td>Saturday </td><td>656.3731</td></tr>\n",
       "\t<tr><td>casual</td><td>Sunday   </td><td>788.0025</td></tr>\n",
       "\t<tr><td>member</td><td>Sunday   </td><td>652.5522</td></tr>\n",
       "</tbody>\n",
       "</table>\n"
      ],
      "text/latex": [
       "A data.frame: 14 × 3\n",
       "\\begin{tabular}{lll}\n",
       " all\\_trips\\_v3\\$member\\_casual & all\\_trips\\_v3\\$day\\_of\\_week & all\\_trips\\_v3\\$ride\\_length\\\\\n",
       " <chr> & <ord> & <dbl>\\\\\n",
       "\\hline\n",
       "\t casual & Monday    & 742.9120\\\\\n",
       "\t member & Monday    & 609.9813\\\\\n",
       "\t casual & Tuesday   & 736.7501\\\\\n",
       "\t member & Tuesday   & 612.7068\\\\\n",
       "\t casual & Wednesday & 740.2803\\\\\n",
       "\t member & Wednesday & 614.7010\\\\\n",
       "\t casual & Thursday  & 737.5044\\\\\n",
       "\t member & Thursday  & 614.8445\\\\\n",
       "\t casual & Friday    & 753.6000\\\\\n",
       "\t member & Friday    & 622.9500\\\\\n",
       "\t casual & Saturday  & 794.9824\\\\\n",
       "\t member & Saturday  & 656.3731\\\\\n",
       "\t casual & Sunday    & 788.0025\\\\\n",
       "\t member & Sunday    & 652.5522\\\\\n",
       "\\end{tabular}\n"
      ],
      "text/markdown": [
       "\n",
       "A data.frame: 14 × 3\n",
       "\n",
       "| all_trips_v3$member_casual &lt;chr&gt; | all_trips_v3$day_of_week &lt;ord&gt; | all_trips_v3$ride_length &lt;dbl&gt; |\n",
       "|---|---|---|\n",
       "| casual | Monday    | 742.9120 |\n",
       "| member | Monday    | 609.9813 |\n",
       "| casual | Tuesday   | 736.7501 |\n",
       "| member | Tuesday   | 612.7068 |\n",
       "| casual | Wednesday | 740.2803 |\n",
       "| member | Wednesday | 614.7010 |\n",
       "| casual | Thursday  | 737.5044 |\n",
       "| member | Thursday  | 614.8445 |\n",
       "| casual | Friday    | 753.6000 |\n",
       "| member | Friday    | 622.9500 |\n",
       "| casual | Saturday  | 794.9824 |\n",
       "| member | Saturday  | 656.3731 |\n",
       "| casual | Sunday    | 788.0025 |\n",
       "| member | Sunday    | 652.5522 |\n",
       "\n"
      ],
      "text/plain": [
       "   all_trips_v3$member_casual all_trips_v3$day_of_week all_trips_v3$ride_length\n",
       "1  casual                     Monday                   742.9120                \n",
       "2  member                     Monday                   609.9813                \n",
       "3  casual                     Tuesday                  736.7501                \n",
       "4  member                     Tuesday                  612.7068                \n",
       "5  casual                     Wednesday                740.2803                \n",
       "6  member                     Wednesday                614.7010                \n",
       "7  casual                     Thursday                 737.5044                \n",
       "8  member                     Thursday                 614.8445                \n",
       "9  casual                     Friday                   753.6000                \n",
       "10 member                     Friday                   622.9500                \n",
       "11 casual                     Saturday                 794.9824                \n",
       "12 member                     Saturday                 656.3731                \n",
       "13 casual                     Sunday                   788.0025                \n",
       "14 member                     Sunday                   652.5522                "
      ]
     },
     "metadata": {},
     "output_type": "display_data"
    }
   ],
   "source": [
    "aggregate(all_trips_v3$ride_length ~ all_trips_v3$member_casual + all_trips_v3$day_of_week, FUN=mean)"
   ]
  },
  {
   "cell_type": "code",
   "execution_count": 29,
   "id": "2b78d895",
   "metadata": {
    "execution": {
     "iopub.execute_input": "2022-09-02T22:41:44.088851Z",
     "iopub.status.busy": "2022-09-02T22:41:44.086740Z",
     "iopub.status.idle": "2022-09-02T22:41:44.233899Z",
     "shell.execute_reply": "2022-09-02T22:41:44.232005Z"
    },
    "papermill": {
     "duration": 0.174737,
     "end_time": "2022-09-02T22:41:44.236347",
     "exception": false,
     "start_time": "2022-09-02T22:41:44.061610",
     "status": "completed"
    },
    "tags": [],
    "vscode": {
     "languageId": "r"
    }
   },
   "outputs": [
    {
     "data": {
      "text/html": [
       "<table class=\"dataframe\">\n",
       "<caption>A tibble: 24 × 3</caption>\n",
       "<thead>\n",
       "\t<tr><th scope=col>member_casual</th><th scope=col>month</th><th scope=col>average_ride_length</th></tr>\n",
       "\t<tr><th scope=col>&lt;chr&gt;</th><th scope=col>&lt;ord&gt;</th><th scope=col>&lt;dbl&gt;</th></tr>\n",
       "</thead>\n",
       "<tbody>\n",
       "\t<tr><td>casual</td><td>05</td><td>834.5905</td></tr>\n",
       "\t<tr><td>member</td><td>05</td><td>702.9041</td></tr>\n",
       "\t<tr><td>casual</td><td>06</td><td>829.4752</td></tr>\n",
       "\t<tr><td>member</td><td>06</td><td>702.5155</td></tr>\n",
       "\t<tr><td>casual</td><td>07</td><td>815.8336</td></tr>\n",
       "\t<tr><td>member</td><td>07</td><td>683.9441</td></tr>\n",
       "\t<tr><td>casual</td><td>08</td><td>782.0655</td></tr>\n",
       "\t<tr><td>member</td><td>08</td><td>650.5190</td></tr>\n",
       "\t<tr><td>casual</td><td>09</td><td>752.9538</td></tr>\n",
       "\t<tr><td>member</td><td>09</td><td>620.8732</td></tr>\n",
       "\t<tr><td>casual</td><td>10</td><td>711.8993</td></tr>\n",
       "\t<tr><td>member</td><td>10</td><td>589.8388</td></tr>\n",
       "\t<tr><td>casual</td><td>11</td><td>704.9117</td></tr>\n",
       "\t<tr><td>member</td><td>11</td><td>578.5990</td></tr>\n",
       "\t<tr><td>casual</td><td>12</td><td>661.7381</td></tr>\n",
       "\t<tr><td>member</td><td>12</td><td>557.5467</td></tr>\n",
       "\t<tr><td>casual</td><td>01</td><td>641.7025</td></tr>\n",
       "\t<tr><td>member</td><td>01</td><td>548.7184</td></tr>\n",
       "\t<tr><td>casual</td><td>02</td><td>698.4010</td></tr>\n",
       "\t<tr><td>member</td><td>02</td><td>588.5412</td></tr>\n",
       "\t<tr><td>casual</td><td>03</td><td>720.8427</td></tr>\n",
       "\t<tr><td>member</td><td>03</td><td>586.2971</td></tr>\n",
       "\t<tr><td>casual</td><td>04</td><td>714.3100</td></tr>\n",
       "\t<tr><td>member</td><td>04</td><td>598.1330</td></tr>\n",
       "</tbody>\n",
       "</table>\n"
      ],
      "text/latex": [
       "A tibble: 24 × 3\n",
       "\\begin{tabular}{lll}\n",
       " member\\_casual & month & average\\_ride\\_length\\\\\n",
       " <chr> & <ord> & <dbl>\\\\\n",
       "\\hline\n",
       "\t casual & 05 & 834.5905\\\\\n",
       "\t member & 05 & 702.9041\\\\\n",
       "\t casual & 06 & 829.4752\\\\\n",
       "\t member & 06 & 702.5155\\\\\n",
       "\t casual & 07 & 815.8336\\\\\n",
       "\t member & 07 & 683.9441\\\\\n",
       "\t casual & 08 & 782.0655\\\\\n",
       "\t member & 08 & 650.5190\\\\\n",
       "\t casual & 09 & 752.9538\\\\\n",
       "\t member & 09 & 620.8732\\\\\n",
       "\t casual & 10 & 711.8993\\\\\n",
       "\t member & 10 & 589.8388\\\\\n",
       "\t casual & 11 & 704.9117\\\\\n",
       "\t member & 11 & 578.5990\\\\\n",
       "\t casual & 12 & 661.7381\\\\\n",
       "\t member & 12 & 557.5467\\\\\n",
       "\t casual & 01 & 641.7025\\\\\n",
       "\t member & 01 & 548.7184\\\\\n",
       "\t casual & 02 & 698.4010\\\\\n",
       "\t member & 02 & 588.5412\\\\\n",
       "\t casual & 03 & 720.8427\\\\\n",
       "\t member & 03 & 586.2971\\\\\n",
       "\t casual & 04 & 714.3100\\\\\n",
       "\t member & 04 & 598.1330\\\\\n",
       "\\end{tabular}\n"
      ],
      "text/markdown": [
       "\n",
       "A tibble: 24 × 3\n",
       "\n",
       "| member_casual &lt;chr&gt; | month &lt;ord&gt; | average_ride_length &lt;dbl&gt; |\n",
       "|---|---|---|\n",
       "| casual | 05 | 834.5905 |\n",
       "| member | 05 | 702.9041 |\n",
       "| casual | 06 | 829.4752 |\n",
       "| member | 06 | 702.5155 |\n",
       "| casual | 07 | 815.8336 |\n",
       "| member | 07 | 683.9441 |\n",
       "| casual | 08 | 782.0655 |\n",
       "| member | 08 | 650.5190 |\n",
       "| casual | 09 | 752.9538 |\n",
       "| member | 09 | 620.8732 |\n",
       "| casual | 10 | 711.8993 |\n",
       "| member | 10 | 589.8388 |\n",
       "| casual | 11 | 704.9117 |\n",
       "| member | 11 | 578.5990 |\n",
       "| casual | 12 | 661.7381 |\n",
       "| member | 12 | 557.5467 |\n",
       "| casual | 01 | 641.7025 |\n",
       "| member | 01 | 548.7184 |\n",
       "| casual | 02 | 698.4010 |\n",
       "| member | 02 | 588.5412 |\n",
       "| casual | 03 | 720.8427 |\n",
       "| member | 03 | 586.2971 |\n",
       "| casual | 04 | 714.3100 |\n",
       "| member | 04 | 598.1330 |\n",
       "\n"
      ],
      "text/plain": [
       "   member_casual month average_ride_length\n",
       "1  casual        05    834.5905           \n",
       "2  member        05    702.9041           \n",
       "3  casual        06    829.4752           \n",
       "4  member        06    702.5155           \n",
       "5  casual        07    815.8336           \n",
       "6  member        07    683.9441           \n",
       "7  casual        08    782.0655           \n",
       "8  member        08    650.5190           \n",
       "9  casual        09    752.9538           \n",
       "10 member        09    620.8732           \n",
       "11 casual        10    711.8993           \n",
       "12 member        10    589.8388           \n",
       "13 casual        11    704.9117           \n",
       "14 member        11    578.5990           \n",
       "15 casual        12    661.7381           \n",
       "16 member        12    557.5467           \n",
       "17 casual        01    641.7025           \n",
       "18 member        01    548.7184           \n",
       "19 casual        02    698.4010           \n",
       "20 member        02    588.5412           \n",
       "21 casual        03    720.8427           \n",
       "22 member        03    586.2971           \n",
       "23 casual        04    714.3100           \n",
       "24 member        04    598.1330           "
      ]
     },
     "metadata": {},
     "output_type": "display_data"
    }
   ],
   "source": [
    "all_trips_v3 %>%\n",
    "    group_by(member_casual, month) %>%\n",
    "    summarise(average_ride_length = mean(ride_length), .groups = 'drop') %>%\n",
    "    arrange(month)"
   ]
  },
  {
   "cell_type": "markdown",
   "id": "c1ac4fa0",
   "metadata": {
    "papermill": {
     "duration": 0.022179,
     "end_time": "2022-09-02T22:41:44.281128",
     "exception": false,
     "start_time": "2022-09-02T22:41:44.258949",
     "status": "completed"
    },
    "tags": []
   },
   "source": [
    "**Findings:**\n",
    "1. Membership rider's trip is longer than casual ones regardless of the season or day\n",
    "2. All users take longer trips over weekend and summer"
   ]
  },
  {
   "cell_type": "markdown",
   "id": "e7080d29",
   "metadata": {
    "papermill": {
     "duration": 0.023638,
     "end_time": "2022-09-02T22:41:44.327296",
     "exception": false,
     "start_time": "2022-09-02T22:41:44.303658",
     "status": "completed"
    },
    "tags": []
   },
   "source": [
    "Next, check whether how each type of rider use the bike by looking at ride distance.\n"
   ]
  },
  {
   "cell_type": "code",
   "execution_count": 30,
   "id": "35d5a8dd",
   "metadata": {
    "execution": {
     "iopub.execute_input": "2022-09-02T22:41:44.375705Z",
     "iopub.status.busy": "2022-09-02T22:41:44.374081Z",
     "iopub.status.idle": "2022-09-02T22:41:44.529615Z",
     "shell.execute_reply": "2022-09-02T22:41:44.527264Z"
    },
    "papermill": {
     "duration": 0.182754,
     "end_time": "2022-09-02T22:41:44.532871",
     "exception": false,
     "start_time": "2022-09-02T22:41:44.350117",
     "status": "completed"
    },
    "tags": [],
    "vscode": {
     "languageId": "r"
    }
   },
   "outputs": [
    {
     "data": {
      "text/html": [
       "<table class=\"dataframe\">\n",
       "<caption>A tibble: 14 × 3</caption>\n",
       "<thead>\n",
       "\t<tr><th scope=col>member_casual</th><th scope=col>day_of_week</th><th scope=col>distance_of_ride</th></tr>\n",
       "\t<tr><th scope=col>&lt;chr&gt;</th><th scope=col>&lt;ord&gt;</th><th scope=col>&lt;dbl&gt;</th></tr>\n",
       "</thead>\n",
       "<tbody>\n",
       "\t<tr><td>casual</td><td>Monday   </td><td>1863.994</td></tr>\n",
       "\t<tr><td>member</td><td>Monday   </td><td>1812.882</td></tr>\n",
       "\t<tr><td>casual</td><td>Tuesday  </td><td>1913.062</td></tr>\n",
       "\t<tr><td>member</td><td>Tuesday  </td><td>1830.566</td></tr>\n",
       "\t<tr><td>casual</td><td>Wednesday</td><td>1940.004</td></tr>\n",
       "\t<tr><td>member</td><td>Wednesday</td><td>1836.210</td></tr>\n",
       "\t<tr><td>casual</td><td>Thursday </td><td>1934.997</td></tr>\n",
       "\t<tr><td>member</td><td>Thursday </td><td>1835.670</td></tr>\n",
       "\t<tr><td>casual</td><td>Friday   </td><td>1895.011</td></tr>\n",
       "\t<tr><td>member</td><td>Friday   </td><td>1823.985</td></tr>\n",
       "\t<tr><td>casual</td><td>Saturday </td><td>1893.003</td></tr>\n",
       "\t<tr><td>member</td><td>Saturday </td><td>1852.557</td></tr>\n",
       "\t<tr><td>casual</td><td>Sunday   </td><td>1874.976</td></tr>\n",
       "\t<tr><td>member</td><td>Sunday   </td><td>1843.319</td></tr>\n",
       "</tbody>\n",
       "</table>\n"
      ],
      "text/latex": [
       "A tibble: 14 × 3\n",
       "\\begin{tabular}{lll}\n",
       " member\\_casual & day\\_of\\_week & distance\\_of\\_ride\\\\\n",
       " <chr> & <ord> & <dbl>\\\\\n",
       "\\hline\n",
       "\t casual & Monday    & 1863.994\\\\\n",
       "\t member & Monday    & 1812.882\\\\\n",
       "\t casual & Tuesday   & 1913.062\\\\\n",
       "\t member & Tuesday   & 1830.566\\\\\n",
       "\t casual & Wednesday & 1940.004\\\\\n",
       "\t member & Wednesday & 1836.210\\\\\n",
       "\t casual & Thursday  & 1934.997\\\\\n",
       "\t member & Thursday  & 1835.670\\\\\n",
       "\t casual & Friday    & 1895.011\\\\\n",
       "\t member & Friday    & 1823.985\\\\\n",
       "\t casual & Saturday  & 1893.003\\\\\n",
       "\t member & Saturday  & 1852.557\\\\\n",
       "\t casual & Sunday    & 1874.976\\\\\n",
       "\t member & Sunday    & 1843.319\\\\\n",
       "\\end{tabular}\n"
      ],
      "text/markdown": [
       "\n",
       "A tibble: 14 × 3\n",
       "\n",
       "| member_casual &lt;chr&gt; | day_of_week &lt;ord&gt; | distance_of_ride &lt;dbl&gt; |\n",
       "|---|---|---|\n",
       "| casual | Monday    | 1863.994 |\n",
       "| member | Monday    | 1812.882 |\n",
       "| casual | Tuesday   | 1913.062 |\n",
       "| member | Tuesday   | 1830.566 |\n",
       "| casual | Wednesday | 1940.004 |\n",
       "| member | Wednesday | 1836.210 |\n",
       "| casual | Thursday  | 1934.997 |\n",
       "| member | Thursday  | 1835.670 |\n",
       "| casual | Friday    | 1895.011 |\n",
       "| member | Friday    | 1823.985 |\n",
       "| casual | Saturday  | 1893.003 |\n",
       "| member | Saturday  | 1852.557 |\n",
       "| casual | Sunday    | 1874.976 |\n",
       "| member | Sunday    | 1843.319 |\n",
       "\n"
      ],
      "text/plain": [
       "   member_casual day_of_week distance_of_ride\n",
       "1  casual        Monday      1863.994        \n",
       "2  member        Monday      1812.882        \n",
       "3  casual        Tuesday     1913.062        \n",
       "4  member        Tuesday     1830.566        \n",
       "5  casual        Wednesday   1940.004        \n",
       "6  member        Wednesday   1836.210        \n",
       "7  casual        Thursday    1934.997        \n",
       "8  member        Thursday    1835.670        \n",
       "9  casual        Friday      1895.011        \n",
       "10 member        Friday      1823.985        \n",
       "11 casual        Saturday    1893.003        \n",
       "12 member        Saturday    1852.557        \n",
       "13 casual        Sunday      1874.976        \n",
       "14 member        Sunday      1843.319        "
      ]
     },
     "metadata": {},
     "output_type": "display_data"
    }
   ],
   "source": [
    "all_trips_v3 %>%\n",
    "    group_by(member_casual, day_of_week) %>%\n",
    "    summarise(distance_of_ride = mean(ride_distance), .groups = 'drop') %>%\n",
    "    arrange(day_of_week)"
   ]
  },
  {
   "cell_type": "code",
   "execution_count": 31,
   "id": "0c43f7ca",
   "metadata": {
    "execution": {
     "iopub.execute_input": "2022-09-02T22:41:44.581091Z",
     "iopub.status.busy": "2022-09-02T22:41:44.579475Z",
     "iopub.status.idle": "2022-09-02T22:41:44.727074Z",
     "shell.execute_reply": "2022-09-02T22:41:44.724987Z"
    },
    "papermill": {
     "duration": 0.174525,
     "end_time": "2022-09-02T22:41:44.729803",
     "exception": false,
     "start_time": "2022-09-02T22:41:44.555278",
     "status": "completed"
    },
    "tags": [],
    "vscode": {
     "languageId": "r"
    }
   },
   "outputs": [
    {
     "data": {
      "text/html": [
       "<table class=\"dataframe\">\n",
       "<caption>A tibble: 24 × 3</caption>\n",
       "<thead>\n",
       "\t<tr><th scope=col>member_casual</th><th scope=col>month</th><th scope=col>distance_of_ride</th></tr>\n",
       "\t<tr><th scope=col>&lt;chr&gt;</th><th scope=col>&lt;ord&gt;</th><th scope=col>&lt;dbl&gt;</th></tr>\n",
       "</thead>\n",
       "<tbody>\n",
       "\t<tr><td>casual</td><td>05</td><td>1930.300</td></tr>\n",
       "\t<tr><td>member</td><td>05</td><td>1869.286</td></tr>\n",
       "\t<tr><td>casual</td><td>06</td><td>1995.919</td></tr>\n",
       "\t<tr><td>member</td><td>06</td><td>1917.247</td></tr>\n",
       "\t<tr><td>casual</td><td>07</td><td>1910.681</td></tr>\n",
       "\t<tr><td>member</td><td>07</td><td>1912.749</td></tr>\n",
       "\t<tr><td>casual</td><td>08</td><td>1912.236</td></tr>\n",
       "\t<tr><td>member</td><td>08</td><td>1881.013</td></tr>\n",
       "\t<tr><td>casual</td><td>09</td><td>1943.037</td></tr>\n",
       "\t<tr><td>member</td><td>09</td><td>1879.018</td></tr>\n",
       "\t<tr><td>casual</td><td>10</td><td>1934.795</td></tr>\n",
       "\t<tr><td>member</td><td>10</td><td>1848.309</td></tr>\n",
       "\t<tr><td>casual</td><td>11</td><td>1924.609</td></tr>\n",
       "\t<tr><td>member</td><td>11</td><td>1800.398</td></tr>\n",
       "\t<tr><td>casual</td><td>12</td><td>1780.144</td></tr>\n",
       "\t<tr><td>member</td><td>12</td><td>1677.993</td></tr>\n",
       "\t<tr><td>casual</td><td>01</td><td>1727.419</td></tr>\n",
       "\t<tr><td>member</td><td>01</td><td>1638.949</td></tr>\n",
       "\t<tr><td>casual</td><td>02</td><td>1714.845</td></tr>\n",
       "\t<tr><td>member</td><td>02</td><td>1603.740</td></tr>\n",
       "\t<tr><td>casual</td><td>03</td><td>1773.048</td></tr>\n",
       "\t<tr><td>member</td><td>03</td><td>1754.462</td></tr>\n",
       "\t<tr><td>casual</td><td>04</td><td>1805.112</td></tr>\n",
       "\t<tr><td>member</td><td>04</td><td>1784.267</td></tr>\n",
       "</tbody>\n",
       "</table>\n"
      ],
      "text/latex": [
       "A tibble: 24 × 3\n",
       "\\begin{tabular}{lll}\n",
       " member\\_casual & month & distance\\_of\\_ride\\\\\n",
       " <chr> & <ord> & <dbl>\\\\\n",
       "\\hline\n",
       "\t casual & 05 & 1930.300\\\\\n",
       "\t member & 05 & 1869.286\\\\\n",
       "\t casual & 06 & 1995.919\\\\\n",
       "\t member & 06 & 1917.247\\\\\n",
       "\t casual & 07 & 1910.681\\\\\n",
       "\t member & 07 & 1912.749\\\\\n",
       "\t casual & 08 & 1912.236\\\\\n",
       "\t member & 08 & 1881.013\\\\\n",
       "\t casual & 09 & 1943.037\\\\\n",
       "\t member & 09 & 1879.018\\\\\n",
       "\t casual & 10 & 1934.795\\\\\n",
       "\t member & 10 & 1848.309\\\\\n",
       "\t casual & 11 & 1924.609\\\\\n",
       "\t member & 11 & 1800.398\\\\\n",
       "\t casual & 12 & 1780.144\\\\\n",
       "\t member & 12 & 1677.993\\\\\n",
       "\t casual & 01 & 1727.419\\\\\n",
       "\t member & 01 & 1638.949\\\\\n",
       "\t casual & 02 & 1714.845\\\\\n",
       "\t member & 02 & 1603.740\\\\\n",
       "\t casual & 03 & 1773.048\\\\\n",
       "\t member & 03 & 1754.462\\\\\n",
       "\t casual & 04 & 1805.112\\\\\n",
       "\t member & 04 & 1784.267\\\\\n",
       "\\end{tabular}\n"
      ],
      "text/markdown": [
       "\n",
       "A tibble: 24 × 3\n",
       "\n",
       "| member_casual &lt;chr&gt; | month &lt;ord&gt; | distance_of_ride &lt;dbl&gt; |\n",
       "|---|---|---|\n",
       "| casual | 05 | 1930.300 |\n",
       "| member | 05 | 1869.286 |\n",
       "| casual | 06 | 1995.919 |\n",
       "| member | 06 | 1917.247 |\n",
       "| casual | 07 | 1910.681 |\n",
       "| member | 07 | 1912.749 |\n",
       "| casual | 08 | 1912.236 |\n",
       "| member | 08 | 1881.013 |\n",
       "| casual | 09 | 1943.037 |\n",
       "| member | 09 | 1879.018 |\n",
       "| casual | 10 | 1934.795 |\n",
       "| member | 10 | 1848.309 |\n",
       "| casual | 11 | 1924.609 |\n",
       "| member | 11 | 1800.398 |\n",
       "| casual | 12 | 1780.144 |\n",
       "| member | 12 | 1677.993 |\n",
       "| casual | 01 | 1727.419 |\n",
       "| member | 01 | 1638.949 |\n",
       "| casual | 02 | 1714.845 |\n",
       "| member | 02 | 1603.740 |\n",
       "| casual | 03 | 1773.048 |\n",
       "| member | 03 | 1754.462 |\n",
       "| casual | 04 | 1805.112 |\n",
       "| member | 04 | 1784.267 |\n",
       "\n"
      ],
      "text/plain": [
       "   member_casual month distance_of_ride\n",
       "1  casual        05    1930.300        \n",
       "2  member        05    1869.286        \n",
       "3  casual        06    1995.919        \n",
       "4  member        06    1917.247        \n",
       "5  casual        07    1910.681        \n",
       "6  member        07    1912.749        \n",
       "7  casual        08    1912.236        \n",
       "8  member        08    1881.013        \n",
       "9  casual        09    1943.037        \n",
       "10 member        09    1879.018        \n",
       "11 casual        10    1934.795        \n",
       "12 member        10    1848.309        \n",
       "13 casual        11    1924.609        \n",
       "14 member        11    1800.398        \n",
       "15 casual        12    1780.144        \n",
       "16 member        12    1677.993        \n",
       "17 casual        01    1727.419        \n",
       "18 member        01    1638.949        \n",
       "19 casual        02    1714.845        \n",
       "20 member        02    1603.740        \n",
       "21 casual        03    1773.048        \n",
       "22 member        03    1754.462        \n",
       "23 casual        04    1805.112        \n",
       "24 member        04    1784.267        "
      ]
     },
     "metadata": {},
     "output_type": "display_data"
    }
   ],
   "source": [
    "all_trips_v3 %>%\n",
    "    group_by(member_casual, month) %>%\n",
    "    summarise(distance_of_ride = mean(ride_distance), .groups = 'drop') %>%\n",
    "    arrange(month)"
   ]
  },
  {
   "cell_type": "markdown",
   "id": "83c42d32",
   "metadata": {
    "papermill": {
     "duration": 0.024648,
     "end_time": "2022-09-02T22:41:44.777655",
     "exception": false,
     "start_time": "2022-09-02T22:41:44.753007",
     "status": "completed"
    },
    "tags": []
   },
   "source": [
    "**Findings:**\n",
    "1. While Casual rider has slightly longer distance trip on weekday, membership ride's slighly longer over weekend.\n",
    "2. All users take slightly longer distance trip in Spring"
   ]
  },
  {
   "cell_type": "markdown",
   "id": "2b166001",
   "metadata": {
    "papermill": {
     "duration": 0.023214,
     "end_time": "2022-09-02T22:41:44.825016",
     "exception": false,
     "start_time": "2022-09-02T22:41:44.801802",
     "status": "completed"
    },
    "tags": []
   },
   "source": [
    "Finaly, in order to support my assumption, let's find out how many riders use the same bike station for start point and end point (ride_distance = 0).  "
   ]
  },
  {
   "cell_type": "code",
   "execution_count": 32,
   "id": "8c77e473",
   "metadata": {
    "execution": {
     "iopub.execute_input": "2022-09-02T22:41:44.874690Z",
     "iopub.status.busy": "2022-09-02T22:41:44.873029Z",
     "iopub.status.idle": "2022-09-02T22:41:44.962716Z",
     "shell.execute_reply": "2022-09-02T22:41:44.960896Z"
    },
    "papermill": {
     "duration": 0.11717,
     "end_time": "2022-09-02T22:41:44.965073",
     "exception": false,
     "start_time": "2022-09-02T22:41:44.847903",
     "status": "completed"
    },
    "tags": [],
    "vscode": {
     "languageId": "r"
    }
   },
   "outputs": [
    {
     "data": {
      "text/html": [
       "<table class=\"dataframe\">\n",
       "<caption>A tibble: 2 × 2</caption>\n",
       "<thead>\n",
       "\t<tr><th scope=col>member_casual</th><th scope=col>number_of_rides</th></tr>\n",
       "\t<tr><th scope=col>&lt;chr&gt;</th><th scope=col>&lt;int&gt;</th></tr>\n",
       "</thead>\n",
       "<tbody>\n",
       "\t<tr><td>casual</td><td> 822966</td></tr>\n",
       "\t<tr><td>member</td><td>1740268</td></tr>\n",
       "</tbody>\n",
       "</table>\n"
      ],
      "text/latex": [
       "A tibble: 2 × 2\n",
       "\\begin{tabular}{ll}\n",
       " member\\_casual & number\\_of\\_rides\\\\\n",
       " <chr> & <int>\\\\\n",
       "\\hline\n",
       "\t casual &  822966\\\\\n",
       "\t member & 1740268\\\\\n",
       "\\end{tabular}\n"
      ],
      "text/markdown": [
       "\n",
       "A tibble: 2 × 2\n",
       "\n",
       "| member_casual &lt;chr&gt; | number_of_rides &lt;int&gt; |\n",
       "|---|---|\n",
       "| casual |  822966 |\n",
       "| member | 1740268 |\n",
       "\n"
      ],
      "text/plain": [
       "  member_casual number_of_rides\n",
       "1 casual         822966        \n",
       "2 member        1740268        "
      ]
     },
     "metadata": {},
     "output_type": "display_data"
    }
   ],
   "source": [
    "all_trips_v3 %>%\n",
    "    group_by(member_casual) %>%\n",
    "    summarize(number_of_rides = n() , .groups = 'drop')"
   ]
  },
  {
   "cell_type": "code",
   "execution_count": 33,
   "id": "dc8b8bf2",
   "metadata": {
    "execution": {
     "iopub.execute_input": "2022-09-02T22:41:45.014536Z",
     "iopub.status.busy": "2022-09-02T22:41:45.012965Z",
     "iopub.status.idle": "2022-09-02T22:41:45.245856Z",
     "shell.execute_reply": "2022-09-02T22:41:45.243908Z"
    },
    "papermill": {
     "duration": 0.260498,
     "end_time": "2022-09-02T22:41:45.248371",
     "exception": false,
     "start_time": "2022-09-02T22:41:44.987873",
     "status": "completed"
    },
    "tags": [],
    "vscode": {
     "languageId": "r"
    }
   },
   "outputs": [
    {
     "data": {
      "text/html": [
       "<table class=\"dataframe\">\n",
       "<caption>A tibble: 2 × 2</caption>\n",
       "<thead>\n",
       "\t<tr><th scope=col>member_casual</th><th scope=col>number_of_rides</th></tr>\n",
       "\t<tr><th scope=col>&lt;chr&gt;</th><th scope=col>&lt;int&gt;</th></tr>\n",
       "</thead>\n",
       "<tbody>\n",
       "\t<tr><td>casual</td><td>58284</td></tr>\n",
       "\t<tr><td>member</td><td>72786</td></tr>\n",
       "</tbody>\n",
       "</table>\n"
      ],
      "text/latex": [
       "A tibble: 2 × 2\n",
       "\\begin{tabular}{ll}\n",
       " member\\_casual & number\\_of\\_rides\\\\\n",
       " <chr> & <int>\\\\\n",
       "\\hline\n",
       "\t casual & 58284\\\\\n",
       "\t member & 72786\\\\\n",
       "\\end{tabular}\n"
      ],
      "text/markdown": [
       "\n",
       "A tibble: 2 × 2\n",
       "\n",
       "| member_casual &lt;chr&gt; | number_of_rides &lt;int&gt; |\n",
       "|---|---|\n",
       "| casual | 58284 |\n",
       "| member | 72786 |\n",
       "\n"
      ],
      "text/plain": [
       "  member_casual number_of_rides\n",
       "1 casual        58284          \n",
       "2 member        72786          "
      ]
     },
     "metadata": {},
     "output_type": "display_data"
    }
   ],
   "source": [
    "all_trips_v3 %>%\n",
    "    group_by(member_casual) %>%\n",
    "    filter(ride_distance < 1) %>%\n",
    "    summarize(number_of_rides = n() , .groups = 'drop')"
   ]
  },
  {
   "cell_type": "markdown",
   "id": "aea72ce6",
   "metadata": {
    "papermill": {
     "duration": 0.023487,
     "end_time": "2022-09-02T22:41:45.295723",
     "exception": false,
     "start_time": "2022-09-02T22:41:45.272236",
     "status": "completed"
    },
    "tags": []
   },
   "source": [
    "**Finding:**\n",
    "\n",
    "While 6% of casual riders return their bike to their start point station, 4% of membership rider returns at their start point station. "
   ]
  },
  {
   "cell_type": "markdown",
   "id": "e64f8087",
   "metadata": {
    "papermill": {
     "duration": 0.023837,
     "end_time": "2022-09-02T22:41:45.343667",
     "exception": false,
     "start_time": "2022-09-02T22:41:45.319830",
     "status": "completed"
    },
    "tags": []
   },
   "source": [
    "# Share"
   ]
  },
  {
   "cell_type": "markdown",
   "id": "58c4961e",
   "metadata": {
    "papermill": {
     "duration": 0.024081,
     "end_time": "2022-09-02T22:41:45.390862",
     "exception": false,
     "start_time": "2022-09-02T22:41:45.366781",
     "status": "completed"
    },
    "tags": []
   },
   "source": [
    "Here, I would like to share visualizations which would allow executives to understand my conclusion easily."
   ]
  },
  {
   "cell_type": "code",
   "execution_count": 34,
   "id": "3b7d2c24",
   "metadata": {
    "execution": {
     "iopub.execute_input": "2022-09-02T22:41:45.442786Z",
     "iopub.status.busy": "2022-09-02T22:41:45.441079Z",
     "iopub.status.idle": "2022-09-02T22:41:46.519554Z",
     "shell.execute_reply": "2022-09-02T22:41:46.516155Z"
    },
    "papermill": {
     "duration": 1.109178,
     "end_time": "2022-09-02T22:41:46.522971",
     "exception": false,
     "start_time": "2022-09-02T22:41:45.413793",
     "status": "completed"
    },
    "tags": [],
    "vscode": {
     "languageId": "r"
    }
   },
   "outputs": [
    {
     "data": {
      "image/png": "[encoded data removed]"
     },
     "metadata": {
      "image/png": {
       "height": 420,
       "width": 420
      }
     },
     "output_type": "display_data"
    },
    {
     "data": {
      "image/png": "[encoded data removed]"
     },
     "metadata": {
      "image/png": {
       "height": 420,
       "width": 420
      }
     },
     "output_type": "display_data"
    }
   ],
   "source": [
    "all_trips_v3 %>%\n",
    "    group_by(member_casual, day_of_week) %>%\n",
    "    summarise(number_of_rides = n(), .groups = 'drop') %>%\n",
    "    ggplot(aes(x = day_of_week, y = number_of_rides, fill = member_casual)) + \n",
    "    geom_bar(position = \"dodge\", stat = \"identity\")\n",
    "\n",
    "all_trips_v3 %>%\n",
    "    group_by(member_casual, month) %>%\n",
    "    summarise(number_of_rides = n(), .groups = 'drop') %>%\n",
    "    ggplot(aes(x = month, y = number_of_rides, fill = member_casual)) + \n",
    "    geom_bar(position = \"dodge\", stat = \"identity\")"
   ]
  },
  {
   "cell_type": "code",
   "execution_count": 35,
   "id": "5ea06207",
   "metadata": {
    "execution": {
     "iopub.execute_input": "2022-09-02T22:41:46.576823Z",
     "iopub.status.busy": "2022-09-02T22:41:46.575059Z",
     "iopub.status.idle": "2022-09-02T22:41:47.340618Z",
     "shell.execute_reply": "2022-09-02T22:41:47.337610Z"
    },
    "papermill": {
     "duration": 0.795611,
     "end_time": "2022-09-02T22:41:47.343666",
     "exception": false,
     "start_time": "2022-09-02T22:41:46.548055",
     "status": "completed"
    },
    "tags": [],
    "vscode": {
     "languageId": "r"
    }
   },
   "outputs": [
    {
     "data": {
      "image/png": "[encoded data removed]"
     },
     "metadata": {
      "image/png": {
       "height": 420,
       "width": 420
      }
     },
     "output_type": "display_data"
    },
    {
     "data": {
      "image/png": "[encoded data removed]"
     },
     "metadata": {
      "image/png": {
       "height": 420,
       "width": 420
      }
     },
     "output_type": "display_data"
    }
   ],
   "source": [
    "all_trips_v3 %>%\n",
    "    group_by(member_casual, day_of_week) %>%\n",
    "    summarise(average_ride_length = mean(ride_length), .groups = 'drop') %>%\n",
    "    ggplot(aes(x = day_of_week, y = average_ride_length, fill = member_casual)) + \n",
    "    geom_bar(position = \"dodge\", stat = \"identity\")\n",
    "\n",
    "all_trips_v3 %>%\n",
    "    group_by(member_casual, month) %>%\n",
    "    summarise(average_ride_length = mean(ride_length), .groups = 'drop') %>%\n",
    "    ggplot(aes(x = month, y = average_ride_length, fill = member_casual)) + \n",
    "    geom_bar(position = \"dodge\", stat = \"identity\")"
   ]
  },
  {
   "cell_type": "code",
   "execution_count": 36,
   "id": "076ce7aa",
   "metadata": {
    "execution": {
     "iopub.execute_input": "2022-09-02T22:41:47.402713Z",
     "iopub.status.busy": "2022-09-02T22:41:47.400871Z",
     "iopub.status.idle": "2022-09-02T22:41:52.626124Z",
     "shell.execute_reply": "2022-09-02T22:41:52.623959Z"
    },
    "papermill": {
     "duration": 5.257341,
     "end_time": "2022-09-02T22:41:52.628819",
     "exception": false,
     "start_time": "2022-09-02T22:41:47.371478",
     "status": "completed"
    },
    "tags": [],
    "vscode": {
     "languageId": "r"
    }
   },
   "outputs": [
    {
     "name": "stderr",
     "output_type": "stream",
     "text": [
      "`stat_bin()` using `bins = 30`. Pick better value with `binwidth`.\n",
      "\n"
     ]
    },
    {
     "data": {
      "image/png": "[encoded data removed]"
     },
     "metadata": {
      "image/png": {
       "height": 420,
       "width": 420
      }
     },
     "output_type": "display_data"
    }
   ],
   "source": [
    "all_trips_v3 %>%\n",
    "    group_by(member_casual) %>%\n",
    "    filter(ride_distance < 10000) %>% #Remove outliner\n",
    "    ggplot(aes(x = ride_distance, fill = member_casual)) + \n",
    "    geom_histogram() #Disregard binwidth "
   ]
  },
  {
   "cell_type": "code",
   "execution_count": 37,
   "id": "ec70fcc7",
   "metadata": {
    "execution": {
     "iopub.execute_input": "2022-09-02T22:41:52.689209Z",
     "iopub.status.busy": "2022-09-02T22:41:52.687596Z",
     "iopub.status.idle": "2022-09-02T22:41:53.467900Z",
     "shell.execute_reply": "2022-09-02T22:41:53.465045Z"
    },
    "papermill": {
     "duration": 0.812478,
     "end_time": "2022-09-02T22:41:53.471116",
     "exception": false,
     "start_time": "2022-09-02T22:41:52.658638",
     "status": "completed"
    },
    "tags": [],
    "vscode": {
     "languageId": "r"
    }
   },
   "outputs": [
    {
     "data": {
      "image/png": "[encoded data removed]"
     },
     "metadata": {
      "image/png": {
       "height": 420,
       "width": 420
      }
     },
     "output_type": "display_data"
    },
    {
     "data": {
      "image/png": "[encoded data removed]"
     },
     "metadata": {
      "image/png": {
       "height": 420,
       "width": 420
      }
     },
     "output_type": "display_data"
    }
   ],
   "source": [
    "all_trips_v3 %>%\n",
    "    group_by(member_casual, day_of_week) %>%\n",
    "    summarise(average_ride_distance = mean(ride_distance), .groups = 'drop') %>%\n",
    "    ggplot(aes(x = day_of_week, y = average_ride_distance, fill = member_casual)) + \n",
    "    geom_bar(position = \"dodge\", stat = \"identity\")\n",
    "\n",
    "all_trips_v3 %>%\n",
    "    group_by(member_casual, month) %>%\n",
    "    summarise(average_ride_distance = mean(ride_distance), .groups = 'drop') %>%\n",
    "    ggplot(aes(x = month, y = average_ride_distance, fill = member_casual)) + \n",
    "    geom_bar(position = \"dodge\", stat = \"identity\")"
   ]
  },
  {
   "cell_type": "markdown",
   "id": "95ab9157",
   "metadata": {
    "papermill": {
     "duration": 0.026631,
     "end_time": "2022-09-02T22:41:53.524938",
     "exception": false,
     "start_time": "2022-09-02T22:41:53.498307",
     "status": "completed"
    },
    "tags": []
   },
   "source": [
    "**Analysis:**\n",
    "1. It seems that the casual users travel the same average distance than the member users, but they have relatively longer rides, that would indicate a more leisure oriented usage vs a more \"public transport\" or pragmatic use of the bikes by the annual members.\n",
    "2. Casual riders are more likely to return their bikes at the same station.\n",
    "3. Additionaly, while that membership riders are more active on weekday, casual riders use the service more often over weekend. It lead me to conclude that membership riders use this service for their commute while casual rider use it for fun. "
   ]
  },
  {
   "cell_type": "markdown",
   "id": "c21b47bc",
   "metadata": {
    "papermill": {
     "duration": 0.026625,
     "end_time": "2022-09-02T22:41:53.578601",
     "exception": false,
     "start_time": "2022-09-02T22:41:53.551976",
     "status": "completed"
    },
    "tags": []
   },
   "source": [
    "**Conclusion:**\n",
    "\n",
    "1)The Casual users have leisure, and tourism rides mostly on weekends.\n",
    "\n",
    "2)The Annual users have commute or pragmatic rides during weekdays."
   ]
  }
 ],
 "metadata": {
  "kernelspec": {
   "display_name": "R",
   "language": "R",
   "name": "ir"
  },
  "language_info": {
   "codemirror_mode": "r",
   "file_extension": ".r",
   "mimetype": "text/x-r-source",
   "name": "R",
   "pygments_lexer": "r",
   "version": "4.0.5"
  },
  "papermill": {
   "default_parameters": {},
   "duration": 176.364329,
   "end_time": "2022-09-02T22:41:54.028477",
   "environment_variables": {},
   "exception": null,
   "input_path": "__notebook__.ipynb",
   "output_path": "__notebook__.ipynb",
   "parameters": {},
   "start_time": "2022-09-02T22:38:57.664148",
   "version": "2.3.4"
  }
 },
 "nbformat": 4,
 "nbformat_minor": 5
}
